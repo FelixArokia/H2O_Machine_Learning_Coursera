{
 "cells": [
  {
   "cell_type": "markdown",
   "metadata": {},
   "source": [
    "# Week 1 - Getting a hold of installation, init, deep learning and Auto ML"
   ]
  },
  {
   "cell_type": "code",
   "execution_count": 3,
   "metadata": {},
   "outputs": [],
   "source": [
    "import pandas as pd\n",
    "import numpy as np\n",
    "import os"
   ]
  },
  {
   "cell_type": "code",
   "execution_count": 4,
   "metadata": {},
   "outputs": [
    {
     "data": {
      "text/plain": [
       "'/Users/felix/Documents/felix/Learning/H2O/Coursera_Practical_Machine_Learning'"
      ]
     },
     "execution_count": 4,
     "metadata": {},
     "output_type": "execute_result"
    }
   ],
   "source": [
    "os.getcwd()"
   ]
  },
  {
   "cell_type": "code",
   "execution_count": 5,
   "metadata": {},
   "outputs": [
    {
     "data": {
      "text/plain": [
       "['Untitled.ipynb', '.ipynb_checkpoints']"
      ]
     },
     "execution_count": 5,
     "metadata": {},
     "output_type": "execute_result"
    }
   ],
   "source": [
    "os.listdir()"
   ]
  },
  {
   "cell_type": "code",
   "execution_count": 6,
   "metadata": {},
   "outputs": [
    {
     "name": "stdout",
     "output_type": "stream",
     "text": [
      "Requirement already satisfied: h2o in /Library/Frameworks/Python.framework/Versions/3.6/lib/python3.6/site-packages (3.26.0.8)\n",
      "Requirement already satisfied: future in /Library/Frameworks/Python.framework/Versions/3.6/lib/python3.6/site-packages (from h2o) (0.18.1)\n",
      "Requirement already satisfied: tabulate in /Library/Frameworks/Python.framework/Versions/3.6/lib/python3.6/site-packages (from h2o) (0.8.5)\n",
      "Requirement already satisfied: colorama>=0.3.8 in /Library/Frameworks/Python.framework/Versions/3.6/lib/python3.6/site-packages (from h2o) (0.4.1)\n",
      "Requirement already satisfied: requests in /Library/Frameworks/Python.framework/Versions/3.6/lib/python3.6/site-packages (from h2o) (2.22.0)\n",
      "Requirement already satisfied: chardet<3.1.0,>=3.0.2 in /Library/Frameworks/Python.framework/Versions/3.6/lib/python3.6/site-packages (from requests->h2o) (3.0.4)\n",
      "Requirement already satisfied: idna<2.9,>=2.5 in /Library/Frameworks/Python.framework/Versions/3.6/lib/python3.6/site-packages (from requests->h2o) (2.8)\n",
      "Requirement already satisfied: certifi>=2017.4.17 in /Library/Frameworks/Python.framework/Versions/3.6/lib/python3.6/site-packages (from requests->h2o) (2019.9.11)\n",
      "Requirement already satisfied: urllib3!=1.25.0,!=1.25.1,<1.26,>=1.21.1 in /Library/Frameworks/Python.framework/Versions/3.6/lib/python3.6/site-packages (from requests->h2o) (1.25.6)\n",
      "Note: you may need to restart the kernel to use updated packages.\n"
     ]
    }
   ],
   "source": [
    "# pip install h2o"
   ]
  },
  {
   "cell_type": "code",
   "execution_count": 2,
   "metadata": {},
   "outputs": [
    {
     "name": "stdout",
     "output_type": "stream",
     "text": [
      "Checking whether there is an H2O instance running at http://localhost:54321 ..... not found.\n",
      "Attempting to start a local H2O server...\n",
      "  Java Version: openjdk version \"1.8.0_232\"; OpenJDK Runtime Environment (AdoptOpenJDK)(build 1.8.0_232-b09); OpenJDK 64-Bit Server VM (AdoptOpenJDK)(build 25.232-b09, mixed mode)\n",
      "  Starting server from /Library/Frameworks/Python.framework/Versions/3.6/lib/python3.6/site-packages/h2o/backend/bin/h2o.jar\n",
      "  Ice root: /var/folders/1c/jl2kk0093xl1b1_cvk9bvp5w0000gn/T/tmplub36jn8\n",
      "  JVM stdout: /var/folders/1c/jl2kk0093xl1b1_cvk9bvp5w0000gn/T/tmplub36jn8/h2o_felix_started_from_python.out\n",
      "  JVM stderr: /var/folders/1c/jl2kk0093xl1b1_cvk9bvp5w0000gn/T/tmplub36jn8/h2o_felix_started_from_python.err\n",
      "  Server is running at http://127.0.0.1:54321\n",
      "Connecting to H2O server at http://127.0.0.1:54321 ... successful.\n"
     ]
    },
    {
     "data": {
      "text/html": [
       "<div style=\"overflow:auto\"><table style=\"width:50%\"><tr><td>H2O cluster uptime:</td>\n",
       "<td>01 secs</td></tr>\n",
       "<tr><td>H2O cluster timezone:</td>\n",
       "<td>Asia/Kolkata</td></tr>\n",
       "<tr><td>H2O data parsing timezone:</td>\n",
       "<td>UTC</td></tr>\n",
       "<tr><td>H2O cluster version:</td>\n",
       "<td>3.26.0.8</td></tr>\n",
       "<tr><td>H2O cluster version age:</td>\n",
       "<td>1 month and 5 days </td></tr>\n",
       "<tr><td>H2O cluster name:</td>\n",
       "<td>H2O_from_python_felix_nh59a7</td></tr>\n",
       "<tr><td>H2O cluster total nodes:</td>\n",
       "<td>1</td></tr>\n",
       "<tr><td>H2O cluster free memory:</td>\n",
       "<td>3.556 Gb</td></tr>\n",
       "<tr><td>H2O cluster total cores:</td>\n",
       "<td>16</td></tr>\n",
       "<tr><td>H2O cluster allowed cores:</td>\n",
       "<td>16</td></tr>\n",
       "<tr><td>H2O cluster status:</td>\n",
       "<td>accepting new members, healthy</td></tr>\n",
       "<tr><td>H2O connection url:</td>\n",
       "<td>http://127.0.0.1:54321</td></tr>\n",
       "<tr><td>H2O connection proxy:</td>\n",
       "<td>{'http': None, 'https': None}</td></tr>\n",
       "<tr><td>H2O internal security:</td>\n",
       "<td>False</td></tr>\n",
       "<tr><td>H2O API Extensions:</td>\n",
       "<td>Amazon S3, XGBoost, Algos, AutoML, Core V3, TargetEncoder, Core V4</td></tr>\n",
       "<tr><td>Python version:</td>\n",
       "<td>3.6.0 final</td></tr></table></div>"
      ],
      "text/plain": [
       "--------------------------  ------------------------------------------------------------------\n",
       "H2O cluster uptime:         01 secs\n",
       "H2O cluster timezone:       Asia/Kolkata\n",
       "H2O data parsing timezone:  UTC\n",
       "H2O cluster version:        3.26.0.8\n",
       "H2O cluster version age:    1 month and 5 days\n",
       "H2O cluster name:           H2O_from_python_felix_nh59a7\n",
       "H2O cluster total nodes:    1\n",
       "H2O cluster free memory:    3.556 Gb\n",
       "H2O cluster total cores:    16\n",
       "H2O cluster allowed cores:  16\n",
       "H2O cluster status:         accepting new members, healthy\n",
       "H2O connection url:         http://127.0.0.1:54321\n",
       "H2O connection proxy:       {'http': None, 'https': None}\n",
       "H2O internal security:      False\n",
       "H2O API Extensions:         Amazon S3, XGBoost, Algos, AutoML, Core V3, TargetEncoder, Core V4\n",
       "Python version:             3.6.0 final\n",
       "--------------------------  ------------------------------------------------------------------"
      ]
     },
     "metadata": {},
     "output_type": "display_data"
    }
   ],
   "source": [
    "import h2o\n",
    "h2o.init()"
   ]
  },
  {
   "cell_type": "code",
   "execution_count": 3,
   "metadata": {},
   "outputs": [
    {
     "name": "stdout",
     "output_type": "stream",
     "text": [
      "Checking whether there is an H2O instance running at http://localhost:54321 . connected.\n"
     ]
    },
    {
     "data": {
      "text/html": [
       "<div style=\"overflow:auto\"><table style=\"width:50%\"><tr><td>H2O cluster uptime:</td>\n",
       "<td>24 mins 45 secs</td></tr>\n",
       "<tr><td>H2O cluster timezone:</td>\n",
       "<td>Asia/Kolkata</td></tr>\n",
       "<tr><td>H2O data parsing timezone:</td>\n",
       "<td>UTC</td></tr>\n",
       "<tr><td>H2O cluster version:</td>\n",
       "<td>3.26.0.8</td></tr>\n",
       "<tr><td>H2O cluster version age:</td>\n",
       "<td>1 month and 5 days </td></tr>\n",
       "<tr><td>H2O cluster name:</td>\n",
       "<td>H2O_from_python_felix_nh59a7</td></tr>\n",
       "<tr><td>H2O cluster total nodes:</td>\n",
       "<td>1</td></tr>\n",
       "<tr><td>H2O cluster free memory:</td>\n",
       "<td>3.135 Gb</td></tr>\n",
       "<tr><td>H2O cluster total cores:</td>\n",
       "<td>16</td></tr>\n",
       "<tr><td>H2O cluster allowed cores:</td>\n",
       "<td>16</td></tr>\n",
       "<tr><td>H2O cluster status:</td>\n",
       "<td>locked, healthy</td></tr>\n",
       "<tr><td>H2O connection url:</td>\n",
       "<td>http://localhost:54321</td></tr>\n",
       "<tr><td>H2O connection proxy:</td>\n",
       "<td>{'http': None, 'https': None}</td></tr>\n",
       "<tr><td>H2O internal security:</td>\n",
       "<td>False</td></tr>\n",
       "<tr><td>H2O API Extensions:</td>\n",
       "<td>Amazon S3, XGBoost, Algos, AutoML, Core V3, TargetEncoder, Core V4</td></tr>\n",
       "<tr><td>Python version:</td>\n",
       "<td>3.6.0 final</td></tr></table></div>"
      ],
      "text/plain": [
       "--------------------------  ------------------------------------------------------------------\n",
       "H2O cluster uptime:         24 mins 45 secs\n",
       "H2O cluster timezone:       Asia/Kolkata\n",
       "H2O data parsing timezone:  UTC\n",
       "H2O cluster version:        3.26.0.8\n",
       "H2O cluster version age:    1 month and 5 days\n",
       "H2O cluster name:           H2O_from_python_felix_nh59a7\n",
       "H2O cluster total nodes:    1\n",
       "H2O cluster free memory:    3.135 Gb\n",
       "H2O cluster total cores:    16\n",
       "H2O cluster allowed cores:  16\n",
       "H2O cluster status:         locked, healthy\n",
       "H2O connection url:         http://localhost:54321\n",
       "H2O connection proxy:       {'http': None, 'https': None}\n",
       "H2O internal security:      False\n",
       "H2O API Extensions:         Amazon S3, XGBoost, Algos, AutoML, Core V3, TargetEncoder, Core V4\n",
       "Python version:             3.6.0 final\n",
       "--------------------------  ------------------------------------------------------------------"
      ]
     },
     "metadata": {},
     "output_type": "display_data"
    }
   ],
   "source": [
    "h2o.init()"
   ]
  },
  {
   "cell_type": "code",
   "execution_count": 4,
   "metadata": {},
   "outputs": [],
   "source": [
    "url = \"http://h2o-public-test-data.s3.amazonaws.com/smalldata/iris/iris_wheader.csv\""
   ]
  },
  {
   "cell_type": "code",
   "execution_count": 5,
   "metadata": {},
   "outputs": [
    {
     "name": "stdout",
     "output_type": "stream",
     "text": [
      "Parse progress: |█████████████████████████████████████████████████████████| 100%\n"
     ]
    }
   ],
   "source": [
    "iris = h2o.import_file(url)"
   ]
  },
  {
   "cell_type": "code",
   "execution_count": 6,
   "metadata": {},
   "outputs": [
    {
     "data": {
      "text/plain": [
       "h2o.frame.H2OFrame"
      ]
     },
     "execution_count": 6,
     "metadata": {},
     "output_type": "execute_result"
    }
   ],
   "source": [
    "type(iris)"
   ]
  },
  {
   "cell_type": "code",
   "execution_count": 7,
   "metadata": {},
   "outputs": [],
   "source": [
    "train, test = iris.split_frame([0.8])"
   ]
  },
  {
   "cell_type": "code",
   "execution_count": 18,
   "metadata": {},
   "outputs": [
    {
     "name": "stdout",
     "output_type": "stream",
     "text": [
      "type of train object is  <class 'h2o.frame.H2OFrame'>\n",
      "training data dimensions  (110, 5)\n"
     ]
    }
   ],
   "source": [
    "#felix\n",
    "print(\"type of train object is \", type(train))\n",
    "print(\"training data dimensions \", train.shape)"
   ]
  },
  {
   "cell_type": "code",
   "execution_count": 19,
   "metadata": {},
   "outputs": [
    {
     "name": "stdout",
     "output_type": "stream",
     "text": [
      "type of test object is  <class 'h2o.frame.H2OFrame'>\n",
      "test data dimensions  (40, 5)\n"
     ]
    }
   ],
   "source": [
    "#felix\n",
    "print(\"type of test object is \", type(test))\n",
    "print(\"test data dimensions \", test.shape)"
   ]
  },
  {
   "cell_type": "code",
   "execution_count": 20,
   "metadata": {},
   "outputs": [
    {
     "data": {
      "text/html": [
       "<table>\n",
       "<thead>\n",
       "<tr><th>       </th><th>sepal_len         </th><th>sepal_wid          </th><th>petal_len         </th><th>petal_wid         </th><th>class      </th></tr>\n",
       "</thead>\n",
       "<tbody>\n",
       "<tr><td>type   </td><td>real              </td><td>real               </td><td>real              </td><td>real              </td><td>enum       </td></tr>\n",
       "<tr><td>mins   </td><td>4.3               </td><td>2.0                </td><td>1.0               </td><td>0.1               </td><td>           </td></tr>\n",
       "<tr><td>mean   </td><td>5.884545454545453 </td><td>3.040909090909091  </td><td>3.8590909090909085</td><td>1.2354545454545456</td><td>           </td></tr>\n",
       "<tr><td>maxs   </td><td>7.7               </td><td>4.0                </td><td>6.7               </td><td>2.5               </td><td>           </td></tr>\n",
       "<tr><td>sigma  </td><td>0.8138915875370343</td><td>0.38937622535373895</td><td>1.7398879777577512</td><td>0.7588724571176699</td><td>           </td></tr>\n",
       "<tr><td>zeros  </td><td>0                 </td><td>0                  </td><td>0                 </td><td>0                 </td><td>           </td></tr>\n",
       "<tr><td>missing</td><td>0                 </td><td>0                  </td><td>0                 </td><td>0                 </td><td>0          </td></tr>\n",
       "<tr><td>0      </td><td>5.1               </td><td>3.5                </td><td>1.4               </td><td>0.2               </td><td>Iris-setosa</td></tr>\n",
       "<tr><td>1      </td><td>4.9               </td><td>3.0                </td><td>1.4               </td><td>0.2               </td><td>Iris-setosa</td></tr>\n",
       "<tr><td>2      </td><td>5.4               </td><td>3.9                </td><td>1.7               </td><td>0.4               </td><td>Iris-setosa</td></tr>\n",
       "<tr><td>3      </td><td>4.6               </td><td>3.4                </td><td>1.4               </td><td>0.3               </td><td>Iris-setosa</td></tr>\n",
       "<tr><td>4      </td><td>4.4               </td><td>2.9                </td><td>1.4               </td><td>0.2               </td><td>Iris-setosa</td></tr>\n",
       "<tr><td>5      </td><td>4.8               </td><td>3.4                </td><td>1.6               </td><td>0.2               </td><td>Iris-setosa</td></tr>\n",
       "<tr><td>6      </td><td>4.8               </td><td>3.0                </td><td>1.4               </td><td>0.1               </td><td>Iris-setosa</td></tr>\n",
       "<tr><td>7      </td><td>4.3               </td><td>3.0                </td><td>1.1               </td><td>0.1               </td><td>Iris-setosa</td></tr>\n",
       "<tr><td>8      </td><td>5.8               </td><td>4.0                </td><td>1.2               </td><td>0.2               </td><td>Iris-setosa</td></tr>\n",
       "<tr><td>9      </td><td>5.4               </td><td>3.9                </td><td>1.3               </td><td>0.4               </td><td>Iris-setosa</td></tr>\n",
       "</tbody>\n",
       "</table>"
      ]
     },
     "metadata": {},
     "output_type": "display_data"
    }
   ],
   "source": [
    "train.summary()"
   ]
  },
  {
   "cell_type": "markdown",
   "metadata": {},
   "source": [
    "### data is in sorted order which is not recommended for deep learning - Darren Cook"
   ]
  },
  {
   "cell_type": "code",
   "execution_count": 22,
   "metadata": {},
   "outputs": [
    {
     "data": {
      "text/plain": [
       "110"
      ]
     },
     "execution_count": 22,
     "metadata": {},
     "output_type": "execute_result"
    }
   ],
   "source": [
    "train.nrows"
   ]
  },
  {
   "cell_type": "code",
   "execution_count": 23,
   "metadata": {},
   "outputs": [
    {
     "data": {
      "text/plain": [
       "40"
      ]
     },
     "execution_count": 23,
     "metadata": {},
     "output_type": "execute_result"
    }
   ],
   "source": [
    "test.nrows"
   ]
  },
  {
   "cell_type": "markdown",
   "metadata": {},
   "source": [
    "### go to flow and click on \"get frames\""
   ]
  },
  {
   "cell_type": "markdown",
   "metadata": {},
   "source": [
    "## Deep Learning Model\n",
    "### Python follows a scikit format"
   ]
  },
  {
   "cell_type": "code",
   "execution_count": 24,
   "metadata": {},
   "outputs": [],
   "source": [
    "from h2o.estimators.deeplearning import H2ODeepLearningEstimator"
   ]
  },
  {
   "cell_type": "code",
   "execution_count": 25,
   "metadata": {},
   "outputs": [],
   "source": [
    "mDL = H2ODeepLearningEstimator()"
   ]
  },
  {
   "cell_type": "code",
   "execution_count": 26,
   "metadata": {},
   "outputs": [
    {
     "name": "stdout",
     "output_type": "stream",
     "text": [
      "deeplearning Model Build progress: |██████████████████████████████████████| 100%\n"
     ]
    }
   ],
   "source": [
    "mDL.train([\"sepal_len\", \"sepal_wid\",  \"petal_len\", \"petal_wid\"], \"class\", train)"
   ]
  },
  {
   "cell_type": "code",
   "execution_count": 27,
   "metadata": {},
   "outputs": [
    {
     "name": "stdout",
     "output_type": "stream",
     "text": [
      "Model Details\n",
      "=============\n",
      "H2ODeepLearningEstimator :  Deep Learning\n",
      "Model Key:  DeepLearning_model_python_1574528694601_2\n",
      "\n",
      "\n",
      "Status of Neuron Layers: predicting class, 3-class classification, multinomial distribution, CrossEntropy loss, 41,803 weights/biases, 498.2 KB, 1,100 training samples, mini-batch size 1\n"
     ]
    },
    {
     "data": {
      "text/html": [
       "<div>\n",
       "<style scoped>\n",
       "    .dataframe tbody tr th:only-of-type {\n",
       "        vertical-align: middle;\n",
       "    }\n",
       "\n",
       "    .dataframe tbody tr th {\n",
       "        vertical-align: top;\n",
       "    }\n",
       "\n",
       "    .dataframe thead th {\n",
       "        text-align: right;\n",
       "    }\n",
       "</style>\n",
       "<table border=\"1\" class=\"dataframe\">\n",
       "  <thead>\n",
       "    <tr style=\"text-align: right;\">\n",
       "      <th></th>\n",
       "      <th></th>\n",
       "      <th>layer</th>\n",
       "      <th>units</th>\n",
       "      <th>type</th>\n",
       "      <th>dropout</th>\n",
       "      <th>l1</th>\n",
       "      <th>l2</th>\n",
       "      <th>mean_rate</th>\n",
       "      <th>rate_rms</th>\n",
       "      <th>momentum</th>\n",
       "      <th>mean_weight</th>\n",
       "      <th>weight_rms</th>\n",
       "      <th>mean_bias</th>\n",
       "      <th>bias_rms</th>\n",
       "    </tr>\n",
       "  </thead>\n",
       "  <tbody>\n",
       "    <tr>\n",
       "      <th>0</th>\n",
       "      <td></td>\n",
       "      <td>1</td>\n",
       "      <td>4</td>\n",
       "      <td>Input</td>\n",
       "      <td>0</td>\n",
       "      <td></td>\n",
       "      <td></td>\n",
       "      <td></td>\n",
       "      <td></td>\n",
       "      <td></td>\n",
       "      <td></td>\n",
       "      <td></td>\n",
       "      <td></td>\n",
       "      <td></td>\n",
       "    </tr>\n",
       "    <tr>\n",
       "      <th>1</th>\n",
       "      <td></td>\n",
       "      <td>2</td>\n",
       "      <td>200</td>\n",
       "      <td>Rectifier</td>\n",
       "      <td>0</td>\n",
       "      <td>0</td>\n",
       "      <td>0</td>\n",
       "      <td>0.0033731</td>\n",
       "      <td>0.00192557</td>\n",
       "      <td>0</td>\n",
       "      <td>-6.19391e-05</td>\n",
       "      <td>0.104427</td>\n",
       "      <td>0.498663</td>\n",
       "      <td>0.00741788</td>\n",
       "    </tr>\n",
       "    <tr>\n",
       "      <th>2</th>\n",
       "      <td></td>\n",
       "      <td>3</td>\n",
       "      <td>200</td>\n",
       "      <td>Rectifier</td>\n",
       "      <td>0</td>\n",
       "      <td>0</td>\n",
       "      <td>0</td>\n",
       "      <td>0.0109928</td>\n",
       "      <td>0.069555</td>\n",
       "      <td>0</td>\n",
       "      <td>-0.000877662</td>\n",
       "      <td>0.0698406</td>\n",
       "      <td>0.998316</td>\n",
       "      <td>0.00521495</td>\n",
       "    </tr>\n",
       "    <tr>\n",
       "      <th>3</th>\n",
       "      <td></td>\n",
       "      <td>4</td>\n",
       "      <td>3</td>\n",
       "      <td>Softmax</td>\n",
       "      <td></td>\n",
       "      <td>0</td>\n",
       "      <td>0</td>\n",
       "      <td>0.00643236</td>\n",
       "      <td>0.0694745</td>\n",
       "      <td>0</td>\n",
       "      <td>-0.00900586</td>\n",
       "      <td>0.405338</td>\n",
       "      <td>-0.000201182</td>\n",
       "      <td>0.000651962</td>\n",
       "    </tr>\n",
       "  </tbody>\n",
       "</table>\n",
       "</div>"
      ],
      "text/plain": [
       "     layer  units       type dropout l1 l2   mean_rate    rate_rms momentum  \\\n",
       "0        1      4      Input       0                                          \n",
       "1        2    200  Rectifier       0  0  0   0.0033731  0.00192557        0   \n",
       "2        3    200  Rectifier       0  0  0   0.0109928    0.069555        0   \n",
       "3        4      3    Softmax          0  0  0.00643236   0.0694745        0   \n",
       "\n",
       "   mean_weight weight_rms    mean_bias     bias_rms  \n",
       "0                                                    \n",
       "1 -6.19391e-05   0.104427     0.498663   0.00741788  \n",
       "2 -0.000877662  0.0698406     0.998316   0.00521495  \n",
       "3  -0.00900586   0.405338 -0.000201182  0.000651962  "
      ]
     },
     "metadata": {},
     "output_type": "display_data"
    },
    {
     "name": "stdout",
     "output_type": "stream",
     "text": [
      "\n",
      "\n",
      "ModelMetricsMultinomial: deeplearning\n",
      "** Reported on train data. **\n",
      "\n",
      "MSE: 0.10340459772906352\n",
      "RMSE: 0.3215658528654178\n",
      "LogLoss: 0.3629650578801803\n",
      "Mean Per-Class Error: 0.12612612612612614\n",
      "\n",
      "Confusion Matrix: Row labels: Actual class; Column labels: Predicted class\n"
     ]
    },
    {
     "data": {
      "text/html": [
       "<div>\n",
       "<style scoped>\n",
       "    .dataframe tbody tr th:only-of-type {\n",
       "        vertical-align: middle;\n",
       "    }\n",
       "\n",
       "    .dataframe tbody tr th {\n",
       "        vertical-align: top;\n",
       "    }\n",
       "\n",
       "    .dataframe thead th {\n",
       "        text-align: right;\n",
       "    }\n",
       "</style>\n",
       "<table border=\"1\" class=\"dataframe\">\n",
       "  <thead>\n",
       "    <tr style=\"text-align: right;\">\n",
       "      <th></th>\n",
       "      <th>Iris-setosa</th>\n",
       "      <th>Iris-versicolor</th>\n",
       "      <th>Iris-virginica</th>\n",
       "      <th>Error</th>\n",
       "      <th>Rate</th>\n",
       "    </tr>\n",
       "  </thead>\n",
       "  <tbody>\n",
       "    <tr>\n",
       "      <th>0</th>\n",
       "      <td>34.0</td>\n",
       "      <td>0.0</td>\n",
       "      <td>0.0</td>\n",
       "      <td>0.000000</td>\n",
       "      <td>0 / 34</td>\n",
       "    </tr>\n",
       "    <tr>\n",
       "      <th>1</th>\n",
       "      <td>0.0</td>\n",
       "      <td>23.0</td>\n",
       "      <td>14.0</td>\n",
       "      <td>0.378378</td>\n",
       "      <td>14 / 37</td>\n",
       "    </tr>\n",
       "    <tr>\n",
       "      <th>2</th>\n",
       "      <td>0.0</td>\n",
       "      <td>0.0</td>\n",
       "      <td>39.0</td>\n",
       "      <td>0.000000</td>\n",
       "      <td>0 / 39</td>\n",
       "    </tr>\n",
       "    <tr>\n",
       "      <th>3</th>\n",
       "      <td>34.0</td>\n",
       "      <td>23.0</td>\n",
       "      <td>53.0</td>\n",
       "      <td>0.127273</td>\n",
       "      <td>14 / 110</td>\n",
       "    </tr>\n",
       "  </tbody>\n",
       "</table>\n",
       "</div>"
      ],
      "text/plain": [
       "   Iris-setosa  Iris-versicolor  Iris-virginica     Error      Rate\n",
       "0         34.0              0.0             0.0  0.000000    0 / 34\n",
       "1          0.0             23.0            14.0  0.378378   14 / 37\n",
       "2          0.0              0.0            39.0  0.000000    0 / 39\n",
       "3         34.0             23.0            53.0  0.127273  14 / 110"
      ]
     },
     "metadata": {},
     "output_type": "display_data"
    },
    {
     "name": "stdout",
     "output_type": "stream",
     "text": [
      "\n",
      "Top-3 Hit Ratios: \n"
     ]
    },
    {
     "data": {
      "text/html": [
       "<div>\n",
       "<style scoped>\n",
       "    .dataframe tbody tr th:only-of-type {\n",
       "        vertical-align: middle;\n",
       "    }\n",
       "\n",
       "    .dataframe tbody tr th {\n",
       "        vertical-align: top;\n",
       "    }\n",
       "\n",
       "    .dataframe thead th {\n",
       "        text-align: right;\n",
       "    }\n",
       "</style>\n",
       "<table border=\"1\" class=\"dataframe\">\n",
       "  <thead>\n",
       "    <tr style=\"text-align: right;\">\n",
       "      <th></th>\n",
       "      <th>k</th>\n",
       "      <th>hit_ratio</th>\n",
       "    </tr>\n",
       "  </thead>\n",
       "  <tbody>\n",
       "    <tr>\n",
       "      <th>0</th>\n",
       "      <td>1</td>\n",
       "      <td>0.872727</td>\n",
       "    </tr>\n",
       "    <tr>\n",
       "      <th>1</th>\n",
       "      <td>2</td>\n",
       "      <td>1.000000</td>\n",
       "    </tr>\n",
       "    <tr>\n",
       "      <th>2</th>\n",
       "      <td>3</td>\n",
       "      <td>1.000000</td>\n",
       "    </tr>\n",
       "  </tbody>\n",
       "</table>\n",
       "</div>"
      ],
      "text/plain": [
       "   k  hit_ratio\n",
       "0  1   0.872727\n",
       "1  2   1.000000\n",
       "2  3   1.000000"
      ]
     },
     "metadata": {},
     "output_type": "display_data"
    },
    {
     "name": "stdout",
     "output_type": "stream",
     "text": [
      "\n",
      "Scoring History: \n"
     ]
    },
    {
     "data": {
      "text/html": [
       "<div>\n",
       "<style scoped>\n",
       "    .dataframe tbody tr th:only-of-type {\n",
       "        vertical-align: middle;\n",
       "    }\n",
       "\n",
       "    .dataframe tbody tr th {\n",
       "        vertical-align: top;\n",
       "    }\n",
       "\n",
       "    .dataframe thead th {\n",
       "        text-align: right;\n",
       "    }\n",
       "</style>\n",
       "<table border=\"1\" class=\"dataframe\">\n",
       "  <thead>\n",
       "    <tr style=\"text-align: right;\">\n",
       "      <th></th>\n",
       "      <th></th>\n",
       "      <th>timestamp</th>\n",
       "      <th>duration</th>\n",
       "      <th>training_speed</th>\n",
       "      <th>epochs</th>\n",
       "      <th>iterations</th>\n",
       "      <th>samples</th>\n",
       "      <th>training_rmse</th>\n",
       "      <th>training_logloss</th>\n",
       "      <th>training_r2</th>\n",
       "      <th>training_classification_error</th>\n",
       "    </tr>\n",
       "  </thead>\n",
       "  <tbody>\n",
       "    <tr>\n",
       "      <th>0</th>\n",
       "      <td></td>\n",
       "      <td>2019-11-23 23:44:01</td>\n",
       "      <td>0.000 sec</td>\n",
       "      <td>None</td>\n",
       "      <td>0.0</td>\n",
       "      <td>0</td>\n",
       "      <td>0.0</td>\n",
       "      <td>NaN</td>\n",
       "      <td>NaN</td>\n",
       "      <td>NaN</td>\n",
       "      <td>NaN</td>\n",
       "    </tr>\n",
       "    <tr>\n",
       "      <th>1</th>\n",
       "      <td></td>\n",
       "      <td>2019-11-23 23:44:01</td>\n",
       "      <td>0.038 sec</td>\n",
       "      <td>7333 obs/sec</td>\n",
       "      <td>1.0</td>\n",
       "      <td>1</td>\n",
       "      <td>110.0</td>\n",
       "      <td>0.321566</td>\n",
       "      <td>0.362965</td>\n",
       "      <td>0.843698</td>\n",
       "      <td>0.127273</td>\n",
       "    </tr>\n",
       "    <tr>\n",
       "      <th>2</th>\n",
       "      <td></td>\n",
       "      <td>2019-11-23 23:44:02</td>\n",
       "      <td>0.127 sec</td>\n",
       "      <td>10891 obs/sec</td>\n",
       "      <td>10.0</td>\n",
       "      <td>10</td>\n",
       "      <td>1100.0</td>\n",
       "      <td>0.428525</td>\n",
       "      <td>1.195561</td>\n",
       "      <td>0.722427</td>\n",
       "      <td>0.190909</td>\n",
       "    </tr>\n",
       "    <tr>\n",
       "      <th>3</th>\n",
       "      <td></td>\n",
       "      <td>2019-11-23 23:44:02</td>\n",
       "      <td>0.134 sec</td>\n",
       "      <td>10476 obs/sec</td>\n",
       "      <td>10.0</td>\n",
       "      <td>10</td>\n",
       "      <td>1100.0</td>\n",
       "      <td>0.321566</td>\n",
       "      <td>0.362965</td>\n",
       "      <td>0.843698</td>\n",
       "      <td>0.127273</td>\n",
       "    </tr>\n",
       "  </tbody>\n",
       "</table>\n",
       "</div>"
      ],
      "text/plain": [
       "               timestamp    duration training_speed  epochs  iterations  \\\n",
       "0    2019-11-23 23:44:01   0.000 sec           None     0.0           0   \n",
       "1    2019-11-23 23:44:01   0.038 sec   7333 obs/sec     1.0           1   \n",
       "2    2019-11-23 23:44:02   0.127 sec  10891 obs/sec    10.0          10   \n",
       "3    2019-11-23 23:44:02   0.134 sec  10476 obs/sec    10.0          10   \n",
       "\n",
       "   samples  training_rmse  training_logloss  training_r2  \\\n",
       "0      0.0            NaN               NaN          NaN   \n",
       "1    110.0       0.321566          0.362965     0.843698   \n",
       "2   1100.0       0.428525          1.195561     0.722427   \n",
       "3   1100.0       0.321566          0.362965     0.843698   \n",
       "\n",
       "   training_classification_error  \n",
       "0                            NaN  \n",
       "1                       0.127273  \n",
       "2                       0.190909  \n",
       "3                       0.127273  "
      ]
     },
     "metadata": {},
     "output_type": "display_data"
    },
    {
     "name": "stdout",
     "output_type": "stream",
     "text": [
      "\n",
      "Variable Importances: \n"
     ]
    },
    {
     "data": {
      "text/html": [
       "<div>\n",
       "<style scoped>\n",
       "    .dataframe tbody tr th:only-of-type {\n",
       "        vertical-align: middle;\n",
       "    }\n",
       "\n",
       "    .dataframe tbody tr th {\n",
       "        vertical-align: top;\n",
       "    }\n",
       "\n",
       "    .dataframe thead th {\n",
       "        text-align: right;\n",
       "    }\n",
       "</style>\n",
       "<table border=\"1\" class=\"dataframe\">\n",
       "  <thead>\n",
       "    <tr style=\"text-align: right;\">\n",
       "      <th></th>\n",
       "      <th>variable</th>\n",
       "      <th>relative_importance</th>\n",
       "      <th>scaled_importance</th>\n",
       "      <th>percentage</th>\n",
       "    </tr>\n",
       "  </thead>\n",
       "  <tbody>\n",
       "    <tr>\n",
       "      <th>0</th>\n",
       "      <td>sepal_len</td>\n",
       "      <td>1.000000</td>\n",
       "      <td>1.000000</td>\n",
       "      <td>0.263956</td>\n",
       "    </tr>\n",
       "    <tr>\n",
       "      <th>1</th>\n",
       "      <td>petal_wid</td>\n",
       "      <td>0.992963</td>\n",
       "      <td>0.992963</td>\n",
       "      <td>0.262098</td>\n",
       "    </tr>\n",
       "    <tr>\n",
       "      <th>2</th>\n",
       "      <td>petal_len</td>\n",
       "      <td>0.924426</td>\n",
       "      <td>0.924426</td>\n",
       "      <td>0.244007</td>\n",
       "    </tr>\n",
       "    <tr>\n",
       "      <th>3</th>\n",
       "      <td>sepal_wid</td>\n",
       "      <td>0.871126</td>\n",
       "      <td>0.871126</td>\n",
       "      <td>0.229939</td>\n",
       "    </tr>\n",
       "  </tbody>\n",
       "</table>\n",
       "</div>"
      ],
      "text/plain": [
       "    variable  relative_importance  scaled_importance  percentage\n",
       "0  sepal_len             1.000000           1.000000    0.263956\n",
       "1  petal_wid             0.992963           0.992963    0.262098\n",
       "2  petal_len             0.924426           0.924426    0.244007\n",
       "3  sepal_wid             0.871126           0.871126    0.229939"
      ]
     },
     "metadata": {},
     "output_type": "display_data"
    },
    {
     "data": {
      "text/plain": []
     },
     "execution_count": 27,
     "metadata": {},
     "output_type": "execute_result"
    }
   ],
   "source": [
    "mDL"
   ]
  },
  {
   "cell_type": "code",
   "execution_count": 32,
   "metadata": {},
   "outputs": [
    {
     "name": "stdout",
     "output_type": "stream",
     "text": [
      "['sepal_len', 'sepal_wid', 'petal_len', 'petal_wid', 'class']\n"
     ]
    }
   ],
   "source": [
    "all_cols = train.col_names\n",
    "print(all_cols)\n"
   ]
  },
  {
   "cell_type": "code",
   "execution_count": 34,
   "metadata": {},
   "outputs": [
    {
     "name": "stdout",
     "output_type": "stream",
     "text": [
      "['sepal_len', 'sepal_wid', 'petal_len', 'petal_wid']\n"
     ]
    }
   ],
   "source": [
    "x_cols = all_cols[:-1]\n",
    "print(x_cols)"
   ]
  },
  {
   "cell_type": "code",
   "execution_count": 37,
   "metadata": {},
   "outputs": [
    {
     "name": "stdout",
     "output_type": "stream",
     "text": [
      "class\n"
     ]
    }
   ],
   "source": [
    "y_col = all_cols[len(all_cols)-1]\n",
    "print(y_col)"
   ]
  },
  {
   "cell_type": "code",
   "execution_count": 39,
   "metadata": {},
   "outputs": [
    {
     "name": "stdout",
     "output_type": "stream",
     "text": [
      "deeplearning Model Build progress: |██████████████████████████████████████| 100%\n"
     ]
    }
   ],
   "source": [
    "### Another way to give the x and y columns\n",
    "mDL.train(x_cols, y_col, train)"
   ]
  },
  {
   "cell_type": "code",
   "execution_count": 29,
   "metadata": {},
   "outputs": [
    {
     "name": "stdout",
     "output_type": "stream",
     "text": [
      "Model Details\n",
      "=============\n",
      "H2ODeepLearningEstimator :  Deep Learning\n",
      "Model Key:  DeepLearning_model_python_1574528694601_2\n",
      "\n",
      "\n",
      "Status of Neuron Layers: predicting class, 3-class classification, multinomial distribution, CrossEntropy loss, 41,803 weights/biases, 498.2 KB, 1,100 training samples, mini-batch size 1\n"
     ]
    },
    {
     "data": {
      "text/html": [
       "<div>\n",
       "<style scoped>\n",
       "    .dataframe tbody tr th:only-of-type {\n",
       "        vertical-align: middle;\n",
       "    }\n",
       "\n",
       "    .dataframe tbody tr th {\n",
       "        vertical-align: top;\n",
       "    }\n",
       "\n",
       "    .dataframe thead th {\n",
       "        text-align: right;\n",
       "    }\n",
       "</style>\n",
       "<table border=\"1\" class=\"dataframe\">\n",
       "  <thead>\n",
       "    <tr style=\"text-align: right;\">\n",
       "      <th></th>\n",
       "      <th></th>\n",
       "      <th>layer</th>\n",
       "      <th>units</th>\n",
       "      <th>type</th>\n",
       "      <th>dropout</th>\n",
       "      <th>l1</th>\n",
       "      <th>l2</th>\n",
       "      <th>mean_rate</th>\n",
       "      <th>rate_rms</th>\n",
       "      <th>momentum</th>\n",
       "      <th>mean_weight</th>\n",
       "      <th>weight_rms</th>\n",
       "      <th>mean_bias</th>\n",
       "      <th>bias_rms</th>\n",
       "    </tr>\n",
       "  </thead>\n",
       "  <tbody>\n",
       "    <tr>\n",
       "      <th>0</th>\n",
       "      <td></td>\n",
       "      <td>1</td>\n",
       "      <td>4</td>\n",
       "      <td>Input</td>\n",
       "      <td>0</td>\n",
       "      <td></td>\n",
       "      <td></td>\n",
       "      <td></td>\n",
       "      <td></td>\n",
       "      <td></td>\n",
       "      <td></td>\n",
       "      <td></td>\n",
       "      <td></td>\n",
       "      <td></td>\n",
       "    </tr>\n",
       "    <tr>\n",
       "      <th>1</th>\n",
       "      <td></td>\n",
       "      <td>2</td>\n",
       "      <td>200</td>\n",
       "      <td>Rectifier</td>\n",
       "      <td>0</td>\n",
       "      <td>0</td>\n",
       "      <td>0</td>\n",
       "      <td>0.0033731</td>\n",
       "      <td>0.00192557</td>\n",
       "      <td>0</td>\n",
       "      <td>-6.19391e-05</td>\n",
       "      <td>0.104427</td>\n",
       "      <td>0.498663</td>\n",
       "      <td>0.00741788</td>\n",
       "    </tr>\n",
       "    <tr>\n",
       "      <th>2</th>\n",
       "      <td></td>\n",
       "      <td>3</td>\n",
       "      <td>200</td>\n",
       "      <td>Rectifier</td>\n",
       "      <td>0</td>\n",
       "      <td>0</td>\n",
       "      <td>0</td>\n",
       "      <td>0.0109928</td>\n",
       "      <td>0.069555</td>\n",
       "      <td>0</td>\n",
       "      <td>-0.000877662</td>\n",
       "      <td>0.0698406</td>\n",
       "      <td>0.998316</td>\n",
       "      <td>0.00521495</td>\n",
       "    </tr>\n",
       "    <tr>\n",
       "      <th>3</th>\n",
       "      <td></td>\n",
       "      <td>4</td>\n",
       "      <td>3</td>\n",
       "      <td>Softmax</td>\n",
       "      <td></td>\n",
       "      <td>0</td>\n",
       "      <td>0</td>\n",
       "      <td>0.00643236</td>\n",
       "      <td>0.0694745</td>\n",
       "      <td>0</td>\n",
       "      <td>-0.00900586</td>\n",
       "      <td>0.405338</td>\n",
       "      <td>-0.000201182</td>\n",
       "      <td>0.000651962</td>\n",
       "    </tr>\n",
       "  </tbody>\n",
       "</table>\n",
       "</div>"
      ],
      "text/plain": [
       "     layer  units       type dropout l1 l2   mean_rate    rate_rms momentum  \\\n",
       "0        1      4      Input       0                                          \n",
       "1        2    200  Rectifier       0  0  0   0.0033731  0.00192557        0   \n",
       "2        3    200  Rectifier       0  0  0   0.0109928    0.069555        0   \n",
       "3        4      3    Softmax          0  0  0.00643236   0.0694745        0   \n",
       "\n",
       "   mean_weight weight_rms    mean_bias     bias_rms  \n",
       "0                                                    \n",
       "1 -6.19391e-05   0.104427     0.498663   0.00741788  \n",
       "2 -0.000877662  0.0698406     0.998316   0.00521495  \n",
       "3  -0.00900586   0.405338 -0.000201182  0.000651962  "
      ]
     },
     "metadata": {},
     "output_type": "display_data"
    },
    {
     "name": "stdout",
     "output_type": "stream",
     "text": [
      "\n",
      "\n",
      "ModelMetricsMultinomial: deeplearning\n",
      "** Reported on train data. **\n",
      "\n",
      "MSE: 0.10340459772906352\n",
      "RMSE: 0.3215658528654178\n",
      "LogLoss: 0.3629650578801803\n",
      "Mean Per-Class Error: 0.12612612612612614\n",
      "\n",
      "Confusion Matrix: Row labels: Actual class; Column labels: Predicted class\n"
     ]
    },
    {
     "data": {
      "text/html": [
       "<div>\n",
       "<style scoped>\n",
       "    .dataframe tbody tr th:only-of-type {\n",
       "        vertical-align: middle;\n",
       "    }\n",
       "\n",
       "    .dataframe tbody tr th {\n",
       "        vertical-align: top;\n",
       "    }\n",
       "\n",
       "    .dataframe thead th {\n",
       "        text-align: right;\n",
       "    }\n",
       "</style>\n",
       "<table border=\"1\" class=\"dataframe\">\n",
       "  <thead>\n",
       "    <tr style=\"text-align: right;\">\n",
       "      <th></th>\n",
       "      <th>Iris-setosa</th>\n",
       "      <th>Iris-versicolor</th>\n",
       "      <th>Iris-virginica</th>\n",
       "      <th>Error</th>\n",
       "      <th>Rate</th>\n",
       "    </tr>\n",
       "  </thead>\n",
       "  <tbody>\n",
       "    <tr>\n",
       "      <th>0</th>\n",
       "      <td>34.0</td>\n",
       "      <td>0.0</td>\n",
       "      <td>0.0</td>\n",
       "      <td>0.000000</td>\n",
       "      <td>0 / 34</td>\n",
       "    </tr>\n",
       "    <tr>\n",
       "      <th>1</th>\n",
       "      <td>0.0</td>\n",
       "      <td>23.0</td>\n",
       "      <td>14.0</td>\n",
       "      <td>0.378378</td>\n",
       "      <td>14 / 37</td>\n",
       "    </tr>\n",
       "    <tr>\n",
       "      <th>2</th>\n",
       "      <td>0.0</td>\n",
       "      <td>0.0</td>\n",
       "      <td>39.0</td>\n",
       "      <td>0.000000</td>\n",
       "      <td>0 / 39</td>\n",
       "    </tr>\n",
       "    <tr>\n",
       "      <th>3</th>\n",
       "      <td>34.0</td>\n",
       "      <td>23.0</td>\n",
       "      <td>53.0</td>\n",
       "      <td>0.127273</td>\n",
       "      <td>14 / 110</td>\n",
       "    </tr>\n",
       "  </tbody>\n",
       "</table>\n",
       "</div>"
      ],
      "text/plain": [
       "   Iris-setosa  Iris-versicolor  Iris-virginica     Error      Rate\n",
       "0         34.0              0.0             0.0  0.000000    0 / 34\n",
       "1          0.0             23.0            14.0  0.378378   14 / 37\n",
       "2          0.0              0.0            39.0  0.000000    0 / 39\n",
       "3         34.0             23.0            53.0  0.127273  14 / 110"
      ]
     },
     "metadata": {},
     "output_type": "display_data"
    },
    {
     "name": "stdout",
     "output_type": "stream",
     "text": [
      "\n",
      "Top-3 Hit Ratios: \n"
     ]
    },
    {
     "data": {
      "text/html": [
       "<div>\n",
       "<style scoped>\n",
       "    .dataframe tbody tr th:only-of-type {\n",
       "        vertical-align: middle;\n",
       "    }\n",
       "\n",
       "    .dataframe tbody tr th {\n",
       "        vertical-align: top;\n",
       "    }\n",
       "\n",
       "    .dataframe thead th {\n",
       "        text-align: right;\n",
       "    }\n",
       "</style>\n",
       "<table border=\"1\" class=\"dataframe\">\n",
       "  <thead>\n",
       "    <tr style=\"text-align: right;\">\n",
       "      <th></th>\n",
       "      <th>k</th>\n",
       "      <th>hit_ratio</th>\n",
       "    </tr>\n",
       "  </thead>\n",
       "  <tbody>\n",
       "    <tr>\n",
       "      <th>0</th>\n",
       "      <td>1</td>\n",
       "      <td>0.872727</td>\n",
       "    </tr>\n",
       "    <tr>\n",
       "      <th>1</th>\n",
       "      <td>2</td>\n",
       "      <td>1.000000</td>\n",
       "    </tr>\n",
       "    <tr>\n",
       "      <th>2</th>\n",
       "      <td>3</td>\n",
       "      <td>1.000000</td>\n",
       "    </tr>\n",
       "  </tbody>\n",
       "</table>\n",
       "</div>"
      ],
      "text/plain": [
       "   k  hit_ratio\n",
       "0  1   0.872727\n",
       "1  2   1.000000\n",
       "2  3   1.000000"
      ]
     },
     "metadata": {},
     "output_type": "display_data"
    },
    {
     "name": "stdout",
     "output_type": "stream",
     "text": [
      "\n",
      "Scoring History: \n"
     ]
    },
    {
     "data": {
      "text/html": [
       "<div>\n",
       "<style scoped>\n",
       "    .dataframe tbody tr th:only-of-type {\n",
       "        vertical-align: middle;\n",
       "    }\n",
       "\n",
       "    .dataframe tbody tr th {\n",
       "        vertical-align: top;\n",
       "    }\n",
       "\n",
       "    .dataframe thead th {\n",
       "        text-align: right;\n",
       "    }\n",
       "</style>\n",
       "<table border=\"1\" class=\"dataframe\">\n",
       "  <thead>\n",
       "    <tr style=\"text-align: right;\">\n",
       "      <th></th>\n",
       "      <th></th>\n",
       "      <th>timestamp</th>\n",
       "      <th>duration</th>\n",
       "      <th>training_speed</th>\n",
       "      <th>epochs</th>\n",
       "      <th>iterations</th>\n",
       "      <th>samples</th>\n",
       "      <th>training_rmse</th>\n",
       "      <th>training_logloss</th>\n",
       "      <th>training_r2</th>\n",
       "      <th>training_classification_error</th>\n",
       "    </tr>\n",
       "  </thead>\n",
       "  <tbody>\n",
       "    <tr>\n",
       "      <th>0</th>\n",
       "      <td></td>\n",
       "      <td>2019-11-23 23:44:01</td>\n",
       "      <td>0.000 sec</td>\n",
       "      <td>None</td>\n",
       "      <td>0.0</td>\n",
       "      <td>0</td>\n",
       "      <td>0.0</td>\n",
       "      <td>NaN</td>\n",
       "      <td>NaN</td>\n",
       "      <td>NaN</td>\n",
       "      <td>NaN</td>\n",
       "    </tr>\n",
       "    <tr>\n",
       "      <th>1</th>\n",
       "      <td></td>\n",
       "      <td>2019-11-23 23:44:01</td>\n",
       "      <td>0.038 sec</td>\n",
       "      <td>7333 obs/sec</td>\n",
       "      <td>1.0</td>\n",
       "      <td>1</td>\n",
       "      <td>110.0</td>\n",
       "      <td>0.321566</td>\n",
       "      <td>0.362965</td>\n",
       "      <td>0.843698</td>\n",
       "      <td>0.127273</td>\n",
       "    </tr>\n",
       "    <tr>\n",
       "      <th>2</th>\n",
       "      <td></td>\n",
       "      <td>2019-11-23 23:44:02</td>\n",
       "      <td>0.127 sec</td>\n",
       "      <td>10891 obs/sec</td>\n",
       "      <td>10.0</td>\n",
       "      <td>10</td>\n",
       "      <td>1100.0</td>\n",
       "      <td>0.428525</td>\n",
       "      <td>1.195561</td>\n",
       "      <td>0.722427</td>\n",
       "      <td>0.190909</td>\n",
       "    </tr>\n",
       "    <tr>\n",
       "      <th>3</th>\n",
       "      <td></td>\n",
       "      <td>2019-11-23 23:44:02</td>\n",
       "      <td>0.134 sec</td>\n",
       "      <td>10476 obs/sec</td>\n",
       "      <td>10.0</td>\n",
       "      <td>10</td>\n",
       "      <td>1100.0</td>\n",
       "      <td>0.321566</td>\n",
       "      <td>0.362965</td>\n",
       "      <td>0.843698</td>\n",
       "      <td>0.127273</td>\n",
       "    </tr>\n",
       "  </tbody>\n",
       "</table>\n",
       "</div>"
      ],
      "text/plain": [
       "               timestamp    duration training_speed  epochs  iterations  \\\n",
       "0    2019-11-23 23:44:01   0.000 sec           None     0.0           0   \n",
       "1    2019-11-23 23:44:01   0.038 sec   7333 obs/sec     1.0           1   \n",
       "2    2019-11-23 23:44:02   0.127 sec  10891 obs/sec    10.0          10   \n",
       "3    2019-11-23 23:44:02   0.134 sec  10476 obs/sec    10.0          10   \n",
       "\n",
       "   samples  training_rmse  training_logloss  training_r2  \\\n",
       "0      0.0            NaN               NaN          NaN   \n",
       "1    110.0       0.321566          0.362965     0.843698   \n",
       "2   1100.0       0.428525          1.195561     0.722427   \n",
       "3   1100.0       0.321566          0.362965     0.843698   \n",
       "\n",
       "   training_classification_error  \n",
       "0                            NaN  \n",
       "1                       0.127273  \n",
       "2                       0.190909  \n",
       "3                       0.127273  "
      ]
     },
     "metadata": {},
     "output_type": "display_data"
    },
    {
     "name": "stdout",
     "output_type": "stream",
     "text": [
      "\n",
      "Variable Importances: \n"
     ]
    },
    {
     "data": {
      "text/html": [
       "<div>\n",
       "<style scoped>\n",
       "    .dataframe tbody tr th:only-of-type {\n",
       "        vertical-align: middle;\n",
       "    }\n",
       "\n",
       "    .dataframe tbody tr th {\n",
       "        vertical-align: top;\n",
       "    }\n",
       "\n",
       "    .dataframe thead th {\n",
       "        text-align: right;\n",
       "    }\n",
       "</style>\n",
       "<table border=\"1\" class=\"dataframe\">\n",
       "  <thead>\n",
       "    <tr style=\"text-align: right;\">\n",
       "      <th></th>\n",
       "      <th>variable</th>\n",
       "      <th>relative_importance</th>\n",
       "      <th>scaled_importance</th>\n",
       "      <th>percentage</th>\n",
       "    </tr>\n",
       "  </thead>\n",
       "  <tbody>\n",
       "    <tr>\n",
       "      <th>0</th>\n",
       "      <td>sepal_len</td>\n",
       "      <td>1.000000</td>\n",
       "      <td>1.000000</td>\n",
       "      <td>0.263956</td>\n",
       "    </tr>\n",
       "    <tr>\n",
       "      <th>1</th>\n",
       "      <td>petal_wid</td>\n",
       "      <td>0.992963</td>\n",
       "      <td>0.992963</td>\n",
       "      <td>0.262098</td>\n",
       "    </tr>\n",
       "    <tr>\n",
       "      <th>2</th>\n",
       "      <td>petal_len</td>\n",
       "      <td>0.924426</td>\n",
       "      <td>0.924426</td>\n",
       "      <td>0.244007</td>\n",
       "    </tr>\n",
       "    <tr>\n",
       "      <th>3</th>\n",
       "      <td>sepal_wid</td>\n",
       "      <td>0.871126</td>\n",
       "      <td>0.871126</td>\n",
       "      <td>0.229939</td>\n",
       "    </tr>\n",
       "  </tbody>\n",
       "</table>\n",
       "</div>"
      ],
      "text/plain": [
       "    variable  relative_importance  scaled_importance  percentage\n",
       "0  sepal_len             1.000000           1.000000    0.263956\n",
       "1  petal_wid             0.992963           0.992963    0.262098\n",
       "2  petal_len             0.924426           0.924426    0.244007\n",
       "3  sepal_wid             0.871126           0.871126    0.229939"
      ]
     },
     "metadata": {},
     "output_type": "display_data"
    }
   ],
   "source": [
    "??mDL.train"
   ]
  },
  {
   "cell_type": "code",
   "execution_count": 43,
   "metadata": {},
   "outputs": [
    {
     "name": "stdout",
     "output_type": "stream",
     "text": [
      "deeplearning prediction progress: |███████████████████████████████████████| 100%\n"
     ]
    },
    {
     "data": {
      "text/html": [
       "<table>\n",
       "<thead>\n",
       "<tr><th>predict    </th><th style=\"text-align: right;\">  Iris-setosa</th><th style=\"text-align: right;\">  Iris-versicolor</th><th style=\"text-align: right;\">  Iris-virginica</th></tr>\n",
       "</thead>\n",
       "<tbody>\n",
       "<tr><td>Iris-setosa</td><td style=\"text-align: right;\">     0.999988</td><td style=\"text-align: right;\">      1.2061e-05 </td><td style=\"text-align: right;\">     7.24139e-36</td></tr>\n",
       "<tr><td>Iris-setosa</td><td style=\"text-align: right;\">     0.999952</td><td style=\"text-align: right;\">      4.80611e-05</td><td style=\"text-align: right;\">     5.84671e-35</td></tr>\n",
       "<tr><td>Iris-setosa</td><td style=\"text-align: right;\">     0.999999</td><td style=\"text-align: right;\">      8.32369e-07</td><td style=\"text-align: right;\">     2.48511e-36</td></tr>\n",
       "<tr><td>Iris-setosa</td><td style=\"text-align: right;\">     0.999992</td><td style=\"text-align: right;\">      7.50969e-06</td><td style=\"text-align: right;\">     2.75774e-35</td></tr>\n",
       "<tr><td>Iris-setosa</td><td style=\"text-align: right;\">     0.999889</td><td style=\"text-align: right;\">      0.000110761</td><td style=\"text-align: right;\">     5.14079e-35</td></tr>\n",
       "<tr><td>Iris-setosa</td><td style=\"text-align: right;\">     0.999998</td><td style=\"text-align: right;\">      1.7081e-06 </td><td style=\"text-align: right;\">     2.67233e-35</td></tr>\n",
       "<tr><td>Iris-setosa</td><td style=\"text-align: right;\">     1       </td><td style=\"text-align: right;\">      3.42256e-08</td><td style=\"text-align: right;\">     1.72983e-34</td></tr>\n",
       "<tr><td>Iris-setosa</td><td style=\"text-align: right;\">     1       </td><td style=\"text-align: right;\">      2.95625e-07</td><td style=\"text-align: right;\">     1.40845e-35</td></tr>\n",
       "<tr><td>Iris-setosa</td><td style=\"text-align: right;\">     0.999999</td><td style=\"text-align: right;\">      8.54446e-07</td><td style=\"text-align: right;\">     1.75194e-34</td></tr>\n",
       "<tr><td>Iris-setosa</td><td style=\"text-align: right;\">     0.999984</td><td style=\"text-align: right;\">      1.62011e-05</td><td style=\"text-align: right;\">     3.03461e-33</td></tr>\n",
       "</tbody>\n",
       "</table>"
      ]
     },
     "metadata": {},
     "output_type": "display_data"
    },
    {
     "data": {
      "text/plain": []
     },
     "execution_count": 43,
     "metadata": {},
     "output_type": "execute_result"
    }
   ],
   "source": [
    "mDL.predict(test)"
   ]
  },
  {
   "cell_type": "code",
   "execution_count": 44,
   "metadata": {},
   "outputs": [
    {
     "name": "stdout",
     "output_type": "stream",
     "text": [
      "\n",
      "ModelMetricsMultinomial: deeplearning\n",
      "** Reported on test data. **\n",
      "\n",
      "MSE: 0.08080371041215524\n",
      "RMSE: 0.2842599345883187\n",
      "LogLoss: 0.5212586408655975\n",
      "Mean Per-Class Error: 0.1373834498834499\n",
      "\n",
      "Confusion Matrix: Row labels: Actual class; Column labels: Predicted class\n"
     ]
    },
    {
     "data": {
      "text/html": [
       "<div>\n",
       "<style scoped>\n",
       "    .dataframe tbody tr th:only-of-type {\n",
       "        vertical-align: middle;\n",
       "    }\n",
       "\n",
       "    .dataframe tbody tr th {\n",
       "        vertical-align: top;\n",
       "    }\n",
       "\n",
       "    .dataframe thead th {\n",
       "        text-align: right;\n",
       "    }\n",
       "</style>\n",
       "<table border=\"1\" class=\"dataframe\">\n",
       "  <thead>\n",
       "    <tr style=\"text-align: right;\">\n",
       "      <th></th>\n",
       "      <th>Iris-setosa</th>\n",
       "      <th>Iris-versicolor</th>\n",
       "      <th>Iris-virginica</th>\n",
       "      <th>Error</th>\n",
       "      <th>Rate</th>\n",
       "    </tr>\n",
       "  </thead>\n",
       "  <tbody>\n",
       "    <tr>\n",
       "      <th>0</th>\n",
       "      <td>15.0</td>\n",
       "      <td>1.0</td>\n",
       "      <td>0.0</td>\n",
       "      <td>0.062500</td>\n",
       "      <td>1 / 16</td>\n",
       "    </tr>\n",
       "    <tr>\n",
       "      <th>1</th>\n",
       "      <td>0.0</td>\n",
       "      <td>12.0</td>\n",
       "      <td>1.0</td>\n",
       "      <td>0.076923</td>\n",
       "      <td>1 / 13</td>\n",
       "    </tr>\n",
       "    <tr>\n",
       "      <th>2</th>\n",
       "      <td>0.0</td>\n",
       "      <td>3.0</td>\n",
       "      <td>8.0</td>\n",
       "      <td>0.272727</td>\n",
       "      <td>3 / 11</td>\n",
       "    </tr>\n",
       "    <tr>\n",
       "      <th>3</th>\n",
       "      <td>15.0</td>\n",
       "      <td>16.0</td>\n",
       "      <td>9.0</td>\n",
       "      <td>0.125000</td>\n",
       "      <td>5 / 40</td>\n",
       "    </tr>\n",
       "  </tbody>\n",
       "</table>\n",
       "</div>"
      ],
      "text/plain": [
       "   Iris-setosa  Iris-versicolor  Iris-virginica     Error    Rate\n",
       "0         15.0              1.0             0.0  0.062500  1 / 16\n",
       "1          0.0             12.0             1.0  0.076923  1 / 13\n",
       "2          0.0              3.0             8.0  0.272727  3 / 11\n",
       "3         15.0             16.0             9.0  0.125000  5 / 40"
      ]
     },
     "metadata": {},
     "output_type": "display_data"
    },
    {
     "name": "stdout",
     "output_type": "stream",
     "text": [
      "\n",
      "Top-3 Hit Ratios: \n"
     ]
    },
    {
     "data": {
      "text/html": [
       "<div>\n",
       "<style scoped>\n",
       "    .dataframe tbody tr th:only-of-type {\n",
       "        vertical-align: middle;\n",
       "    }\n",
       "\n",
       "    .dataframe tbody tr th {\n",
       "        vertical-align: top;\n",
       "    }\n",
       "\n",
       "    .dataframe thead th {\n",
       "        text-align: right;\n",
       "    }\n",
       "</style>\n",
       "<table border=\"1\" class=\"dataframe\">\n",
       "  <thead>\n",
       "    <tr style=\"text-align: right;\">\n",
       "      <th></th>\n",
       "      <th>k</th>\n",
       "      <th>hit_ratio</th>\n",
       "    </tr>\n",
       "  </thead>\n",
       "  <tbody>\n",
       "    <tr>\n",
       "      <th>0</th>\n",
       "      <td>1</td>\n",
       "      <td>0.875</td>\n",
       "    </tr>\n",
       "    <tr>\n",
       "      <th>1</th>\n",
       "      <td>2</td>\n",
       "      <td>1.000</td>\n",
       "    </tr>\n",
       "    <tr>\n",
       "      <th>2</th>\n",
       "      <td>3</td>\n",
       "      <td>1.000</td>\n",
       "    </tr>\n",
       "  </tbody>\n",
       "</table>\n",
       "</div>"
      ],
      "text/plain": [
       "   k  hit_ratio\n",
       "0  1      0.875\n",
       "1  2      1.000\n",
       "2  3      1.000"
      ]
     },
     "metadata": {},
     "output_type": "display_data"
    },
    {
     "data": {
      "text/plain": []
     },
     "execution_count": 44,
     "metadata": {},
     "output_type": "execute_result"
    }
   ],
   "source": [
    "mDL.model_performance(test)"
   ]
  },
  {
   "cell_type": "markdown",
   "metadata": {},
   "source": [
    "## Now go to flow, look at \"models\" and click on a model to see the performance metrics\n",
    "\n",
    "## These update in real time as the model is building. So when models are running for 10 hours it is good to know that there is some work going on in the background"
   ]
  },
  {
   "cell_type": "markdown",
   "metadata": {},
   "source": [
    "## AUTO ML"
   ]
  },
  {
   "cell_type": "code",
   "execution_count": 46,
   "metadata": {},
   "outputs": [],
   "source": [
    "from h2o.automl import H2OAutoML"
   ]
  },
  {
   "cell_type": "code",
   "execution_count": 47,
   "metadata": {},
   "outputs": [],
   "source": [
    "mA = H2OAutoML(max_runtime_secs=30)"
   ]
  },
  {
   "cell_type": "code",
   "execution_count": 48,
   "metadata": {},
   "outputs": [
    {
     "name": "stdout",
     "output_type": "stream",
     "text": [
      "AutoML progress: |████████████████████████████████████████████████████████| 100%\n"
     ]
    }
   ],
   "source": [
    "mA.train(x_cols, y_col, train)"
   ]
  },
  {
   "cell_type": "code",
   "execution_count": 50,
   "metadata": {},
   "outputs": [
    {
     "data": {
      "text/html": [
       "<table>\n",
       "<thead>\n",
       "<tr><th>model_id                                      </th><th style=\"text-align: right;\">  mean_per_class_error</th><th style=\"text-align: right;\">  logloss</th><th style=\"text-align: right;\">    rmse</th><th style=\"text-align: right;\">      mse</th></tr>\n",
       "</thead>\n",
       "<tbody>\n",
       "<tr><td>GLM_grid_1_AutoML_20191124_091754_model_1     </td><td style=\"text-align: right;\">              0.017556</td><td style=\"text-align: right;\"> 0.058011</td><td style=\"text-align: right;\">0.13756 </td><td style=\"text-align: right;\">0.0189229</td></tr>\n",
       "<tr><td>GBM_grid_1_AutoML_20191124_091754_model_16    </td><td style=\"text-align: right;\">              0.026103</td><td style=\"text-align: right;\"> 0.121388</td><td style=\"text-align: right;\">0.151686</td><td style=\"text-align: right;\">0.0230086</td></tr>\n",
       "<tr><td>GBM_grid_1_AutoML_20191124_091754_model_57    </td><td style=\"text-align: right;\">              0.026565</td><td style=\"text-align: right;\"> 0.795666</td><td style=\"text-align: right;\">0.548332</td><td style=\"text-align: right;\">0.300668 </td></tr>\n",
       "<tr><td>XGBoost_grid_1_AutoML_20191124_091754_model_23</td><td style=\"text-align: right;\">              0.026565</td><td style=\"text-align: right;\"> 0.146771</td><td style=\"text-align: right;\">0.175931</td><td style=\"text-align: right;\">0.0309516</td></tr>\n",
       "<tr><td>XGBoost_grid_1_AutoML_20191124_091754_model_5 </td><td style=\"text-align: right;\">              0.026565</td><td style=\"text-align: right;\"> 0.232733</td><td style=\"text-align: right;\">0.225438</td><td style=\"text-align: right;\">0.0508224</td></tr>\n",
       "<tr><td>XGBoost_grid_1_AutoML_20191124_091754_model_30</td><td style=\"text-align: right;\">              0.026565</td><td style=\"text-align: right;\"> 0.14968 </td><td style=\"text-align: right;\">0.175753</td><td style=\"text-align: right;\">0.030889 </td></tr>\n",
       "<tr><td>GBM_grid_1_AutoML_20191124_091754_model_25    </td><td style=\"text-align: right;\">              0.026565</td><td style=\"text-align: right;\"> 0.13478 </td><td style=\"text-align: right;\">0.181856</td><td style=\"text-align: right;\">0.0330715</td></tr>\n",
       "<tr><td>XGBoost_grid_1_AutoML_20191124_091754_model_34</td><td style=\"text-align: right;\">              0.026565</td><td style=\"text-align: right;\"> 0.144713</td><td style=\"text-align: right;\">0.173263</td><td style=\"text-align: right;\">0.03002  </td></tr>\n",
       "<tr><td>XGBoost_3_AutoML_20191124_091754              </td><td style=\"text-align: right;\">              0.026565</td><td style=\"text-align: right;\"> 0.1784  </td><td style=\"text-align: right;\">0.192278</td><td style=\"text-align: right;\">0.036971 </td></tr>\n",
       "<tr><td>XGBoost_grid_1_AutoML_20191124_091754_model_20</td><td style=\"text-align: right;\">              0.026565</td><td style=\"text-align: right;\"> 0.251014</td><td style=\"text-align: right;\">0.23619 </td><td style=\"text-align: right;\">0.0557857</td></tr>\n",
       "</tbody>\n",
       "</table>"
      ]
     },
     "metadata": {},
     "output_type": "display_data"
    },
    {
     "data": {
      "text/plain": []
     },
     "execution_count": 50,
     "metadata": {},
     "output_type": "execute_result"
    }
   ],
   "source": [
    "mA.leaderboard"
   ]
  },
  {
   "cell_type": "code",
   "execution_count": 61,
   "metadata": {},
   "outputs": [
    {
     "name": "stdout",
     "output_type": "stream",
     "text": [
      "glm prediction progress: |████████████████████████████████████████████████| 100%\n"
     ]
    }
   ],
   "source": [
    "pred_aML = mA.predict(test) ## dont know what model it is using to predicting"
   ]
  },
  {
   "cell_type": "code",
   "execution_count": 62,
   "metadata": {},
   "outputs": [
    {
     "name": "stdout",
     "output_type": "stream",
     "text": [
      "glm prediction progress: |████████████████████████████████████████████████| 100%\n"
     ]
    }
   ],
   "source": [
    "pred_aML_leader = mA.leader.predict(test)"
   ]
  },
  {
   "cell_type": "code",
   "execution_count": 63,
   "metadata": {},
   "outputs": [
    {
     "name": "stdout",
     "output_type": "stream",
     "text": [
      "pred_aML is  "
     ]
    },
    {
     "data": {
      "text/html": [
       "<table>\n",
       "<thead>\n",
       "<tr><th>predict    </th><th style=\"text-align: right;\">  Iris-setosa</th><th style=\"text-align: right;\">  Iris-versicolor</th><th style=\"text-align: right;\">  Iris-virginica</th></tr>\n",
       "</thead>\n",
       "<tbody>\n",
       "<tr><td>Iris-setosa</td><td style=\"text-align: right;\">     0.999636</td><td style=\"text-align: right;\">      0.000364028</td><td style=\"text-align: right;\">     2.41971e-24</td></tr>\n",
       "<tr><td>Iris-setosa</td><td style=\"text-align: right;\">     0.99925 </td><td style=\"text-align: right;\">      0.000750044</td><td style=\"text-align: right;\">     2.70198e-23</td></tr>\n",
       "<tr><td>Iris-setosa</td><td style=\"text-align: right;\">     0.999953</td><td style=\"text-align: right;\">      4.68764e-05</td><td style=\"text-align: right;\">     8.97751e-26</td></tr>\n",
       "<tr><td>Iris-setosa</td><td style=\"text-align: right;\">     0.999686</td><td style=\"text-align: right;\">      0.000314222</td><td style=\"text-align: right;\">     2.89045e-24</td></tr>\n",
       "<tr><td>Iris-setosa</td><td style=\"text-align: right;\">     0.997897</td><td style=\"text-align: right;\">      0.00210334 </td><td style=\"text-align: right;\">     1.75833e-23</td></tr>\n",
       "<tr><td>Iris-setosa</td><td style=\"text-align: right;\">     0.999868</td><td style=\"text-align: right;\">      0.000131606</td><td style=\"text-align: right;\">     3.09129e-25</td></tr>\n",
       "<tr><td>Iris-setosa</td><td style=\"text-align: right;\">     0.999998</td><td style=\"text-align: right;\">      1.88962e-06</td><td style=\"text-align: right;\">     3.3906e-27 </td></tr>\n",
       "<tr><td>Iris-setosa</td><td style=\"text-align: right;\">     0.999981</td><td style=\"text-align: right;\">      1.94415e-05</td><td style=\"text-align: right;\">     1.221e-25  </td></tr>\n",
       "<tr><td>Iris-setosa</td><td style=\"text-align: right;\">     0.999937</td><td style=\"text-align: right;\">      6.2931e-05 </td><td style=\"text-align: right;\">     2.88583e-24</td></tr>\n",
       "<tr><td>Iris-setosa</td><td style=\"text-align: right;\">     0.999347</td><td style=\"text-align: right;\">      0.000653224</td><td style=\"text-align: right;\">     2.28051e-22</td></tr>\n",
       "</tbody>\n",
       "</table>"
      ]
     },
     "metadata": {},
     "output_type": "display_data"
    },
    {
     "name": "stdout",
     "output_type": "stream",
     "text": [
      "\n",
      "pred_aML_leader  "
     ]
    },
    {
     "data": {
      "text/html": [
       "<table>\n",
       "<thead>\n",
       "<tr><th>predict    </th><th style=\"text-align: right;\">  Iris-setosa</th><th style=\"text-align: right;\">  Iris-versicolor</th><th style=\"text-align: right;\">  Iris-virginica</th></tr>\n",
       "</thead>\n",
       "<tbody>\n",
       "<tr><td>Iris-setosa</td><td style=\"text-align: right;\">     0.999636</td><td style=\"text-align: right;\">      0.000364028</td><td style=\"text-align: right;\">     2.41971e-24</td></tr>\n",
       "<tr><td>Iris-setosa</td><td style=\"text-align: right;\">     0.99925 </td><td style=\"text-align: right;\">      0.000750044</td><td style=\"text-align: right;\">     2.70198e-23</td></tr>\n",
       "<tr><td>Iris-setosa</td><td style=\"text-align: right;\">     0.999953</td><td style=\"text-align: right;\">      4.68764e-05</td><td style=\"text-align: right;\">     8.97751e-26</td></tr>\n",
       "<tr><td>Iris-setosa</td><td style=\"text-align: right;\">     0.999686</td><td style=\"text-align: right;\">      0.000314222</td><td style=\"text-align: right;\">     2.89045e-24</td></tr>\n",
       "<tr><td>Iris-setosa</td><td style=\"text-align: right;\">     0.997897</td><td style=\"text-align: right;\">      0.00210334 </td><td style=\"text-align: right;\">     1.75833e-23</td></tr>\n",
       "<tr><td>Iris-setosa</td><td style=\"text-align: right;\">     0.999868</td><td style=\"text-align: right;\">      0.000131606</td><td style=\"text-align: right;\">     3.09129e-25</td></tr>\n",
       "<tr><td>Iris-setosa</td><td style=\"text-align: right;\">     0.999998</td><td style=\"text-align: right;\">      1.88962e-06</td><td style=\"text-align: right;\">     3.3906e-27 </td></tr>\n",
       "<tr><td>Iris-setosa</td><td style=\"text-align: right;\">     0.999981</td><td style=\"text-align: right;\">      1.94415e-05</td><td style=\"text-align: right;\">     1.221e-25  </td></tr>\n",
       "<tr><td>Iris-setosa</td><td style=\"text-align: right;\">     0.999937</td><td style=\"text-align: right;\">      6.2931e-05 </td><td style=\"text-align: right;\">     2.88583e-24</td></tr>\n",
       "<tr><td>Iris-setosa</td><td style=\"text-align: right;\">     0.999347</td><td style=\"text-align: right;\">      0.000653224</td><td style=\"text-align: right;\">     2.28051e-22</td></tr>\n",
       "</tbody>\n",
       "</table>"
      ]
     },
     "metadata": {},
     "output_type": "display_data"
    },
    {
     "name": "stdout",
     "output_type": "stream",
     "text": [
      "\n"
     ]
    }
   ],
   "source": [
    "print(\"pred_aML is \", pred_aML)\n",
    "print(\"pred_aML_leader \", pred_aML_leader)"
   ]
  },
  {
   "cell_type": "code",
   "execution_count": 64,
   "metadata": {},
   "outputs": [
    {
     "name": "stdout",
     "output_type": "stream",
     "text": [
      "\n",
      "ModelMetricsMultinomialGLM: glm\n",
      "** Reported on test data. **\n",
      "\n",
      "MSE: 0.038880208600365354\n",
      "RMSE: 0.19718064966006515\n"
     ]
    },
    {
     "data": {
      "text/plain": []
     },
     "execution_count": 64,
     "metadata": {},
     "output_type": "execute_result"
    }
   ],
   "source": [
    "mA.leader.model_performance(test)"
   ]
  },
  {
   "cell_type": "code",
   "execution_count": 67,
   "metadata": {},
   "outputs": [
    {
     "name": "stdout",
     "output_type": "stream",
     "text": [
      "Model Details\n",
      "=============\n",
      "H2OGeneralizedLinearEstimator :  Generalized Linear Modeling\n",
      "Model Key:  GLM_grid_1_AutoML_20191124_091754_model_1\n",
      "\n",
      "\n",
      "GLM Model: summary\n"
     ]
    },
    {
     "data": {
      "text/html": [
       "<div>\n",
       "<style scoped>\n",
       "    .dataframe tbody tr th:only-of-type {\n",
       "        vertical-align: middle;\n",
       "    }\n",
       "\n",
       "    .dataframe tbody tr th {\n",
       "        vertical-align: top;\n",
       "    }\n",
       "\n",
       "    .dataframe thead th {\n",
       "        text-align: right;\n",
       "    }\n",
       "</style>\n",
       "<table border=\"1\" class=\"dataframe\">\n",
       "  <thead>\n",
       "    <tr style=\"text-align: right;\">\n",
       "      <th></th>\n",
       "      <th></th>\n",
       "      <th>family</th>\n",
       "      <th>link</th>\n",
       "      <th>regularization</th>\n",
       "      <th>lambda_search</th>\n",
       "      <th>number_of_predictors_total</th>\n",
       "      <th>number_of_active_predictors</th>\n",
       "      <th>number_of_iterations</th>\n",
       "      <th>training_frame</th>\n",
       "    </tr>\n",
       "  </thead>\n",
       "  <tbody>\n",
       "    <tr>\n",
       "      <th>0</th>\n",
       "      <td></td>\n",
       "      <td>multinomial</td>\n",
       "      <td>multinomial</td>\n",
       "      <td>Ridge ( lambda = 1.099E-4 )</td>\n",
       "      <td>nlambda = 30, lambda.max = 42.379, lambda.min = 1.099E-4, lambda.1...</td>\n",
       "      <td>15</td>\n",
       "      <td>12</td>\n",
       "      <td>180</td>\n",
       "      <td>automl_training_py_3_sid_9dd2</td>\n",
       "    </tr>\n",
       "  </tbody>\n",
       "</table>\n",
       "</div>"
      ],
      "text/plain": [
       "          family         link               regularization  \\\n",
       "0    multinomial  multinomial  Ridge ( lambda = 1.099E-4 )   \n",
       "\n",
       "                                                           lambda_search  \\\n",
       "0  nlambda = 30, lambda.max = 42.379, lambda.min = 1.099E-4, lambda.1...   \n",
       "\n",
       "   number_of_predictors_total number_of_active_predictors  \\\n",
       "0                          15                          12   \n",
       "\n",
       "   number_of_iterations                 training_frame  \n",
       "0                   180  automl_training_py_3_sid_9dd2  "
      ]
     },
     "metadata": {},
     "output_type": "display_data"
    },
    {
     "name": "stdout",
     "output_type": "stream",
     "text": [
      "\n",
      "\n",
      "ModelMetricsMultinomialGLM: glm\n",
      "** Reported on train data. **\n",
      "\n",
      "MSE: 0.009290831588550617\n",
      "RMSE: 0.09638895988934945\n",
      "\n",
      "ModelMetricsMultinomialGLM: glm\n",
      "** Reported on cross-validation data. **\n",
      "\n",
      "MSE: 0.01892285560905906\n",
      "RMSE: 0.13756037077973823\n",
      "\n",
      "Cross-Validation Metrics Summary: \n"
     ]
    },
    {
     "data": {
      "text/html": [
       "<div>\n",
       "<style scoped>\n",
       "    .dataframe tbody tr th:only-of-type {\n",
       "        vertical-align: middle;\n",
       "    }\n",
       "\n",
       "    .dataframe tbody tr th {\n",
       "        vertical-align: top;\n",
       "    }\n",
       "\n",
       "    .dataframe thead th {\n",
       "        text-align: right;\n",
       "    }\n",
       "</style>\n",
       "<table border=\"1\" class=\"dataframe\">\n",
       "  <thead>\n",
       "    <tr style=\"text-align: right;\">\n",
       "      <th></th>\n",
       "      <th></th>\n",
       "      <th>mean</th>\n",
       "      <th>sd</th>\n",
       "      <th>cv_1_valid</th>\n",
       "      <th>cv_2_valid</th>\n",
       "      <th>cv_3_valid</th>\n",
       "      <th>cv_4_valid</th>\n",
       "      <th>cv_5_valid</th>\n",
       "    </tr>\n",
       "  </thead>\n",
       "  <tbody>\n",
       "    <tr>\n",
       "      <th>0</th>\n",
       "      <td>accuracy</td>\n",
       "      <td>0.9727273</td>\n",
       "      <td>0.02489648</td>\n",
       "      <td>0.95454544</td>\n",
       "      <td>1.0</td>\n",
       "      <td>0.95454544</td>\n",
       "      <td>1.0</td>\n",
       "      <td>0.95454544</td>\n",
       "    </tr>\n",
       "    <tr>\n",
       "      <th>1</th>\n",
       "      <td>err</td>\n",
       "      <td>0.027272727</td>\n",
       "      <td>0.02489648</td>\n",
       "      <td>0.045454547</td>\n",
       "      <td>0.0</td>\n",
       "      <td>0.045454547</td>\n",
       "      <td>0.0</td>\n",
       "      <td>0.045454547</td>\n",
       "    </tr>\n",
       "    <tr>\n",
       "      <th>2</th>\n",
       "      <td>err_count</td>\n",
       "      <td>0.6</td>\n",
       "      <td>0.5477226</td>\n",
       "      <td>1.0</td>\n",
       "      <td>0.0</td>\n",
       "      <td>1.0</td>\n",
       "      <td>0.0</td>\n",
       "      <td>1.0</td>\n",
       "    </tr>\n",
       "    <tr>\n",
       "      <th>3</th>\n",
       "      <td>logloss</td>\n",
       "      <td>0.050924696</td>\n",
       "      <td>0.028030517</td>\n",
       "      <td>0.05780769</td>\n",
       "      <td>0.0074010193</td>\n",
       "      <td>0.079827145</td>\n",
       "      <td>0.041835003</td>\n",
       "      <td>0.06775263</td>\n",
       "    </tr>\n",
       "    <tr>\n",
       "      <th>4</th>\n",
       "      <td>max_per_class_error</td>\n",
       "      <td>0.08214286</td>\n",
       "      <td>0.07533937</td>\n",
       "      <td>0.14285715</td>\n",
       "      <td>0.0</td>\n",
       "      <td>0.14285715</td>\n",
       "      <td>0.0</td>\n",
       "      <td>0.125</td>\n",
       "    </tr>\n",
       "    <tr>\n",
       "      <th>5</th>\n",
       "      <td>mean_per_class_accuracy</td>\n",
       "      <td>0.97261906</td>\n",
       "      <td>0.025113123</td>\n",
       "      <td>0.95238096</td>\n",
       "      <td>1.0</td>\n",
       "      <td>0.95238096</td>\n",
       "      <td>1.0</td>\n",
       "      <td>0.9583333</td>\n",
       "    </tr>\n",
       "    <tr>\n",
       "      <th>6</th>\n",
       "      <td>mean_per_class_error</td>\n",
       "      <td>0.027380953</td>\n",
       "      <td>0.025113123</td>\n",
       "      <td>0.04761905</td>\n",
       "      <td>0.0</td>\n",
       "      <td>0.04761905</td>\n",
       "      <td>0.0</td>\n",
       "      <td>0.041666668</td>\n",
       "    </tr>\n",
       "    <tr>\n",
       "      <th>7</th>\n",
       "      <td>mse</td>\n",
       "      <td>0.015643446</td>\n",
       "      <td>0.010129402</td>\n",
       "      <td>0.017158268</td>\n",
       "      <td>5.061381E-4</td>\n",
       "      <td>0.027561355</td>\n",
       "      <td>0.0122828325</td>\n",
       "      <td>0.020708632</td>\n",
       "    </tr>\n",
       "    <tr>\n",
       "      <th>8</th>\n",
       "      <td>null_deviance</td>\n",
       "      <td>48.31231</td>\n",
       "      <td>0.09619198</td>\n",
       "      <td>48.46407</td>\n",
       "      <td>48.300545</td>\n",
       "      <td>48.300545</td>\n",
       "      <td>48.300545</td>\n",
       "      <td>48.19584</td>\n",
       "    </tr>\n",
       "    <tr>\n",
       "      <th>9</th>\n",
       "      <td>r2</td>\n",
       "      <td>0.9761413</td>\n",
       "      <td>0.015320791</td>\n",
       "      <td>0.973037</td>\n",
       "      <td>0.9992554</td>\n",
       "      <td>0.9594538</td>\n",
       "      <td>0.98193043</td>\n",
       "      <td>0.9670297</td>\n",
       "    </tr>\n",
       "    <tr>\n",
       "      <th>10</th>\n",
       "      <td>residual_deviance</td>\n",
       "      <td>2.2406867</td>\n",
       "      <td>1.2333428</td>\n",
       "      <td>2.5435383</td>\n",
       "      <td>0.32564485</td>\n",
       "      <td>3.5123942</td>\n",
       "      <td>1.8407401</td>\n",
       "      <td>2.9811158</td>\n",
       "    </tr>\n",
       "    <tr>\n",
       "      <th>11</th>\n",
       "      <td>rmse</td>\n",
       "      <td>0.11484722</td>\n",
       "      <td>0.05538007</td>\n",
       "      <td>0.13098958</td>\n",
       "      <td>0.022497512</td>\n",
       "      <td>0.16601613</td>\n",
       "      <td>0.110827945</td>\n",
       "      <td>0.14390494</td>\n",
       "    </tr>\n",
       "  </tbody>\n",
       "</table>\n",
       "</div>"
      ],
      "text/plain": [
       "                                    mean           sd   cv_1_valid  \\\n",
       "0                  accuracy    0.9727273   0.02489648   0.95454544   \n",
       "1                       err  0.027272727   0.02489648  0.045454547   \n",
       "2                 err_count          0.6    0.5477226          1.0   \n",
       "3                   logloss  0.050924696  0.028030517   0.05780769   \n",
       "4       max_per_class_error   0.08214286   0.07533937   0.14285715   \n",
       "5   mean_per_class_accuracy   0.97261906  0.025113123   0.95238096   \n",
       "6      mean_per_class_error  0.027380953  0.025113123   0.04761905   \n",
       "7                       mse  0.015643446  0.010129402  0.017158268   \n",
       "8             null_deviance     48.31231   0.09619198     48.46407   \n",
       "9                        r2    0.9761413  0.015320791     0.973037   \n",
       "10        residual_deviance    2.2406867    1.2333428    2.5435383   \n",
       "11                     rmse   0.11484722   0.05538007   0.13098958   \n",
       "\n",
       "      cv_2_valid   cv_3_valid    cv_4_valid   cv_5_valid  \n",
       "0            1.0   0.95454544           1.0   0.95454544  \n",
       "1            0.0  0.045454547           0.0  0.045454547  \n",
       "2            0.0          1.0           0.0          1.0  \n",
       "3   0.0074010193  0.079827145   0.041835003   0.06775263  \n",
       "4            0.0   0.14285715           0.0        0.125  \n",
       "5            1.0   0.95238096           1.0    0.9583333  \n",
       "6            0.0   0.04761905           0.0  0.041666668  \n",
       "7    5.061381E-4  0.027561355  0.0122828325  0.020708632  \n",
       "8      48.300545    48.300545     48.300545     48.19584  \n",
       "9      0.9992554    0.9594538    0.98193043    0.9670297  \n",
       "10    0.32564485    3.5123942     1.8407401    2.9811158  \n",
       "11   0.022497512   0.16601613   0.110827945   0.14390494  "
      ]
     },
     "metadata": {},
     "output_type": "display_data"
    },
    {
     "name": "stdout",
     "output_type": "stream",
     "text": [
      "\n",
      "Scoring History: \n"
     ]
    },
    {
     "data": {
      "text/html": [
       "<div>\n",
       "<style scoped>\n",
       "    .dataframe tbody tr th:only-of-type {\n",
       "        vertical-align: middle;\n",
       "    }\n",
       "\n",
       "    .dataframe tbody tr th {\n",
       "        vertical-align: top;\n",
       "    }\n",
       "\n",
       "    .dataframe thead th {\n",
       "        text-align: right;\n",
       "    }\n",
       "</style>\n",
       "<table border=\"1\" class=\"dataframe\">\n",
       "  <thead>\n",
       "    <tr style=\"text-align: right;\">\n",
       "      <th></th>\n",
       "      <th></th>\n",
       "      <th>timestamp</th>\n",
       "      <th>duration</th>\n",
       "      <th>iteration</th>\n",
       "      <th>lambda</th>\n",
       "      <th>predictors</th>\n",
       "      <th>deviance_train</th>\n",
       "      <th>deviance_test</th>\n",
       "      <th>deviance_xval</th>\n",
       "      <th>deviance_se</th>\n",
       "    </tr>\n",
       "  </thead>\n",
       "  <tbody>\n",
       "    <tr>\n",
       "      <th>0</th>\n",
       "      <td></td>\n",
       "      <td>2019-11-24 09:17:57</td>\n",
       "      <td>0.000 sec</td>\n",
       "      <td>2</td>\n",
       "      <td>.42E2</td>\n",
       "      <td>15</td>\n",
       "      <td>2.150873</td>\n",
       "      <td>NaN</td>\n",
       "      <td>2.161266</td>\n",
       "      <td>0.001733</td>\n",
       "    </tr>\n",
       "    <tr>\n",
       "      <th>1</th>\n",
       "      <td></td>\n",
       "      <td>2019-11-24 09:17:57</td>\n",
       "      <td>0.003 sec</td>\n",
       "      <td>4</td>\n",
       "      <td>.26E2</td>\n",
       "      <td>15</td>\n",
       "      <td>2.125813</td>\n",
       "      <td>NaN</td>\n",
       "      <td>2.141053</td>\n",
       "      <td>0.001911</td>\n",
       "    </tr>\n",
       "    <tr>\n",
       "      <th>2</th>\n",
       "      <td></td>\n",
       "      <td>2019-11-24 09:17:57</td>\n",
       "      <td>0.005 sec</td>\n",
       "      <td>6</td>\n",
       "      <td>.16E2</td>\n",
       "      <td>15</td>\n",
       "      <td>2.087399</td>\n",
       "      <td>NaN</td>\n",
       "      <td>2.109628</td>\n",
       "      <td>0.002489</td>\n",
       "    </tr>\n",
       "    <tr>\n",
       "      <th>3</th>\n",
       "      <td></td>\n",
       "      <td>2019-11-24 09:17:57</td>\n",
       "      <td>0.008 sec</td>\n",
       "      <td>8</td>\n",
       "      <td>.1E2</td>\n",
       "      <td>15</td>\n",
       "      <td>2.030155</td>\n",
       "      <td>NaN</td>\n",
       "      <td>2.062098</td>\n",
       "      <td>0.003686</td>\n",
       "    </tr>\n",
       "    <tr>\n",
       "      <th>4</th>\n",
       "      <td></td>\n",
       "      <td>2019-11-24 09:17:57</td>\n",
       "      <td>0.010 sec</td>\n",
       "      <td>10</td>\n",
       "      <td>.63E1</td>\n",
       "      <td>15</td>\n",
       "      <td>1.948336</td>\n",
       "      <td>NaN</td>\n",
       "      <td>1.992666</td>\n",
       "      <td>0.005646</td>\n",
       "    </tr>\n",
       "    <tr>\n",
       "      <th>5</th>\n",
       "      <td></td>\n",
       "      <td>2019-11-24 09:17:57</td>\n",
       "      <td>0.012 sec</td>\n",
       "      <td>12</td>\n",
       "      <td>.39E1</td>\n",
       "      <td>15</td>\n",
       "      <td>1.838271</td>\n",
       "      <td>NaN</td>\n",
       "      <td>1.896340</td>\n",
       "      <td>0.008451</td>\n",
       "    </tr>\n",
       "    <tr>\n",
       "      <th>6</th>\n",
       "      <td></td>\n",
       "      <td>2019-11-24 09:17:57</td>\n",
       "      <td>0.015 sec</td>\n",
       "      <td>15</td>\n",
       "      <td>.24E1</td>\n",
       "      <td>15</td>\n",
       "      <td>1.700726</td>\n",
       "      <td>NaN</td>\n",
       "      <td>1.771727</td>\n",
       "      <td>0.012078</td>\n",
       "    </tr>\n",
       "    <tr>\n",
       "      <th>7</th>\n",
       "      <td></td>\n",
       "      <td>2019-11-24 09:17:57</td>\n",
       "      <td>0.018 sec</td>\n",
       "      <td>18</td>\n",
       "      <td>.15E1</td>\n",
       "      <td>15</td>\n",
       "      <td>1.543765</td>\n",
       "      <td>NaN</td>\n",
       "      <td>1.622881</td>\n",
       "      <td>0.016458</td>\n",
       "    </tr>\n",
       "    <tr>\n",
       "      <th>8</th>\n",
       "      <td></td>\n",
       "      <td>2019-11-24 09:17:57</td>\n",
       "      <td>0.022 sec</td>\n",
       "      <td>21</td>\n",
       "      <td>.94E0</td>\n",
       "      <td>15</td>\n",
       "      <td>1.379544</td>\n",
       "      <td>NaN</td>\n",
       "      <td>1.461146</td>\n",
       "      <td>0.021268</td>\n",
       "    </tr>\n",
       "    <tr>\n",
       "      <th>9</th>\n",
       "      <td></td>\n",
       "      <td>2019-11-24 09:17:57</td>\n",
       "      <td>0.025 sec</td>\n",
       "      <td>24</td>\n",
       "      <td>.58E0</td>\n",
       "      <td>15</td>\n",
       "      <td>1.220133</td>\n",
       "      <td>NaN</td>\n",
       "      <td>1.299445</td>\n",
       "      <td>0.026319</td>\n",
       "    </tr>\n",
       "    <tr>\n",
       "      <th>10</th>\n",
       "      <td></td>\n",
       "      <td>2019-11-24 09:17:57</td>\n",
       "      <td>0.029 sec</td>\n",
       "      <td>27</td>\n",
       "      <td>.36E0</td>\n",
       "      <td>15</td>\n",
       "      <td>1.073906</td>\n",
       "      <td>NaN</td>\n",
       "      <td>1.148353</td>\n",
       "      <td>0.031461</td>\n",
       "    </tr>\n",
       "    <tr>\n",
       "      <th>11</th>\n",
       "      <td></td>\n",
       "      <td>2019-11-24 09:17:57</td>\n",
       "      <td>0.032 sec</td>\n",
       "      <td>30</td>\n",
       "      <td>.22E0</td>\n",
       "      <td>15</td>\n",
       "      <td>0.942315</td>\n",
       "      <td>NaN</td>\n",
       "      <td>1.012550</td>\n",
       "      <td>0.036461</td>\n",
       "    </tr>\n",
       "    <tr>\n",
       "      <th>12</th>\n",
       "      <td></td>\n",
       "      <td>2019-11-24 09:17:57</td>\n",
       "      <td>0.036 sec</td>\n",
       "      <td>33</td>\n",
       "      <td>.14E0</td>\n",
       "      <td>15</td>\n",
       "      <td>0.822466</td>\n",
       "      <td>NaN</td>\n",
       "      <td>0.891097</td>\n",
       "      <td>0.040730</td>\n",
       "    </tr>\n",
       "    <tr>\n",
       "      <th>13</th>\n",
       "      <td></td>\n",
       "      <td>2019-11-24 09:17:57</td>\n",
       "      <td>0.039 sec</td>\n",
       "      <td>36</td>\n",
       "      <td>.87E-1</td>\n",
       "      <td>15</td>\n",
       "      <td>0.708315</td>\n",
       "      <td>NaN</td>\n",
       "      <td>0.777899</td>\n",
       "      <td>0.043716</td>\n",
       "    </tr>\n",
       "    <tr>\n",
       "      <th>14</th>\n",
       "      <td></td>\n",
       "      <td>2019-11-24 09:17:57</td>\n",
       "      <td>0.042 sec</td>\n",
       "      <td>39</td>\n",
       "      <td>.54E-1</td>\n",
       "      <td>15</td>\n",
       "      <td>0.598817</td>\n",
       "      <td>NaN</td>\n",
       "      <td>0.668278</td>\n",
       "      <td>0.044355</td>\n",
       "    </tr>\n",
       "    <tr>\n",
       "      <th>15</th>\n",
       "      <td></td>\n",
       "      <td>2019-11-24 09:17:57</td>\n",
       "      <td>0.047 sec</td>\n",
       "      <td>43</td>\n",
       "      <td>.33E-1</td>\n",
       "      <td>15</td>\n",
       "      <td>0.495368</td>\n",
       "      <td>NaN</td>\n",
       "      <td>0.562390</td>\n",
       "      <td>0.042237</td>\n",
       "    </tr>\n",
       "    <tr>\n",
       "      <th>16</th>\n",
       "      <td></td>\n",
       "      <td>2019-11-24 09:17:57</td>\n",
       "      <td>0.052 sec</td>\n",
       "      <td>47</td>\n",
       "      <td>.21E-1</td>\n",
       "      <td>15</td>\n",
       "      <td>0.404727</td>\n",
       "      <td>NaN</td>\n",
       "      <td>0.464702</td>\n",
       "      <td>0.037442</td>\n",
       "    </tr>\n",
       "    <tr>\n",
       "      <th>17</th>\n",
       "      <td></td>\n",
       "      <td>2019-11-24 09:17:57</td>\n",
       "      <td>0.058 sec</td>\n",
       "      <td>52</td>\n",
       "      <td>.13E-1</td>\n",
       "      <td>15</td>\n",
       "      <td>0.328453</td>\n",
       "      <td>NaN</td>\n",
       "      <td>0.381006</td>\n",
       "      <td>0.031673</td>\n",
       "    </tr>\n",
       "    <tr>\n",
       "      <th>18</th>\n",
       "      <td></td>\n",
       "      <td>2019-11-24 09:17:57</td>\n",
       "      <td>0.070 sec</td>\n",
       "      <td>58</td>\n",
       "      <td>.8E-2</td>\n",
       "      <td>15</td>\n",
       "      <td>0.266825</td>\n",
       "      <td>NaN</td>\n",
       "      <td>0.312147</td>\n",
       "      <td>0.025720</td>\n",
       "    </tr>\n",
       "    <tr>\n",
       "      <th>19</th>\n",
       "      <td></td>\n",
       "      <td>2019-11-24 09:17:57</td>\n",
       "      <td>0.081 sec</td>\n",
       "      <td>64</td>\n",
       "      <td>.5E-2</td>\n",
       "      <td>15</td>\n",
       "      <td>0.218171</td>\n",
       "      <td>NaN</td>\n",
       "      <td>0.257870</td>\n",
       "      <td>0.020595</td>\n",
       "    </tr>\n",
       "  </tbody>\n",
       "</table>\n",
       "</div>"
      ],
      "text/plain": [
       "                timestamp    duration  iteration  lambda  predictors  \\\n",
       "0     2019-11-24 09:17:57   0.000 sec          2   .42E2          15   \n",
       "1     2019-11-24 09:17:57   0.003 sec          4   .26E2          15   \n",
       "2     2019-11-24 09:17:57   0.005 sec          6   .16E2          15   \n",
       "3     2019-11-24 09:17:57   0.008 sec          8    .1E2          15   \n",
       "4     2019-11-24 09:17:57   0.010 sec         10   .63E1          15   \n",
       "5     2019-11-24 09:17:57   0.012 sec         12   .39E1          15   \n",
       "6     2019-11-24 09:17:57   0.015 sec         15   .24E1          15   \n",
       "7     2019-11-24 09:17:57   0.018 sec         18   .15E1          15   \n",
       "8     2019-11-24 09:17:57   0.022 sec         21   .94E0          15   \n",
       "9     2019-11-24 09:17:57   0.025 sec         24   .58E0          15   \n",
       "10    2019-11-24 09:17:57   0.029 sec         27   .36E0          15   \n",
       "11    2019-11-24 09:17:57   0.032 sec         30   .22E0          15   \n",
       "12    2019-11-24 09:17:57   0.036 sec         33   .14E0          15   \n",
       "13    2019-11-24 09:17:57   0.039 sec         36  .87E-1          15   \n",
       "14    2019-11-24 09:17:57   0.042 sec         39  .54E-1          15   \n",
       "15    2019-11-24 09:17:57   0.047 sec         43  .33E-1          15   \n",
       "16    2019-11-24 09:17:57   0.052 sec         47  .21E-1          15   \n",
       "17    2019-11-24 09:17:57   0.058 sec         52  .13E-1          15   \n",
       "18    2019-11-24 09:17:57   0.070 sec         58   .8E-2          15   \n",
       "19    2019-11-24 09:17:57   0.081 sec         64   .5E-2          15   \n",
       "\n",
       "    deviance_train  deviance_test  deviance_xval  deviance_se  \n",
       "0         2.150873            NaN       2.161266     0.001733  \n",
       "1         2.125813            NaN       2.141053     0.001911  \n",
       "2         2.087399            NaN       2.109628     0.002489  \n",
       "3         2.030155            NaN       2.062098     0.003686  \n",
       "4         1.948336            NaN       1.992666     0.005646  \n",
       "5         1.838271            NaN       1.896340     0.008451  \n",
       "6         1.700726            NaN       1.771727     0.012078  \n",
       "7         1.543765            NaN       1.622881     0.016458  \n",
       "8         1.379544            NaN       1.461146     0.021268  \n",
       "9         1.220133            NaN       1.299445     0.026319  \n",
       "10        1.073906            NaN       1.148353     0.031461  \n",
       "11        0.942315            NaN       1.012550     0.036461  \n",
       "12        0.822466            NaN       0.891097     0.040730  \n",
       "13        0.708315            NaN       0.777899     0.043716  \n",
       "14        0.598817            NaN       0.668278     0.044355  \n",
       "15        0.495368            NaN       0.562390     0.042237  \n",
       "16        0.404727            NaN       0.464702     0.037442  \n",
       "17        0.328453            NaN       0.381006     0.031673  \n",
       "18        0.266825            NaN       0.312147     0.025720  \n",
       "19        0.218171            NaN       0.257870     0.020595  "
      ]
     },
     "metadata": {},
     "output_type": "display_data"
    },
    {
     "name": "stdout",
     "output_type": "stream",
     "text": [
      "\n",
      "See the whole table with table.as_data_frame()\n"
     ]
    },
    {
     "data": {
      "text/plain": [
       "<bound method H2OMultinomialModel.confusion_matrix of >"
      ]
     },
     "execution_count": 67,
     "metadata": {},
     "output_type": "execute_result"
    }
   ],
   "source": [
    "mA.leader.confusion_matrix"
   ]
  },
  {
   "cell_type": "code",
   "execution_count": null,
   "metadata": {},
   "outputs": [],
   "source": []
  },
  {
   "cell_type": "code",
   "execution_count": null,
   "metadata": {},
   "outputs": [],
   "source": []
  }
 ],
 "metadata": {
  "kernelspec": {
   "display_name": "Python 3",
   "language": "python",
   "name": "python3"
  },
  "language_info": {
   "codemirror_mode": {
    "name": "ipython",
    "version": 3
   },
   "file_extension": ".py",
   "mimetype": "text/x-python",
   "name": "python",
   "nbconvert_exporter": "python",
   "pygments_lexer": "ipython3",
   "version": "3.6.0"
  }
 },
 "nbformat": 4,
 "nbformat_minor": 2
}
