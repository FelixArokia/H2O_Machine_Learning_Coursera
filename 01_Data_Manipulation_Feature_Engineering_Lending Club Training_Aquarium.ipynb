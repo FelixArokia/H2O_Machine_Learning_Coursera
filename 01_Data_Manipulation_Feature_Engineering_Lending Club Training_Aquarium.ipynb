{
 "cells": [
  {
   "cell_type": "code",
   "execution_count": 1,
   "metadata": {},
   "outputs": [],
   "source": [
    "import h2o"
   ]
  },
  {
   "cell_type": "code",
   "execution_count": 2,
   "metadata": {},
   "outputs": [],
   "source": [
    "import numpy\n",
    "import matplotlib.pyplot as plt\n",
    "import pandas"
   ]
  },
  {
   "cell_type": "code",
   "execution_count": 3,
   "metadata": {},
   "outputs": [],
   "source": [
    "import os\n",
    "input_csv = \"/home/h2o/data/lending_club/LoanStats3a.csv\""
   ]
  },
  {
   "cell_type": "code",
   "execution_count": 4,
   "metadata": {},
   "outputs": [
    {
     "data": {
      "text/plain": [
       "False"
      ]
     },
     "execution_count": 4,
     "metadata": {},
     "output_type": "execute_result"
    }
   ],
   "source": [
    "os.path.exists(input_csv)"
   ]
  },
  {
   "cell_type": "code",
   "execution_count": 5,
   "metadata": {},
   "outputs": [],
   "source": [
    "input_csv = \"https://s3-us-west-2.amazonaws.com/h2o-tutorials/data/topics/lending/lending_club/LoanStats3a.csv\""
   ]
  },
  {
   "cell_type": "code",
   "execution_count": 7,
   "metadata": {},
   "outputs": [
    {
     "name": "stdout",
     "output_type": "stream",
     "text": [
      "Connecting to H2O server at http://localhost:54321 ... successful.\n"
     ]
    },
    {
     "data": {
      "text/html": [
       "<div style=\"overflow:auto\"><table style=\"width:50%\"><tr><td>H2O cluster uptime:</td>\n",
       "<td>8 days 21 hours 2 mins</td></tr>\n",
       "<tr><td>H2O cluster timezone:</td>\n",
       "<td>Asia/Kolkata</td></tr>\n",
       "<tr><td>H2O data parsing timezone:</td>\n",
       "<td>UTC</td></tr>\n",
       "<tr><td>H2O cluster version:</td>\n",
       "<td>3.26.0.8</td></tr>\n",
       "<tr><td>H2O cluster version age:</td>\n",
       "<td>1 month and 14 days </td></tr>\n",
       "<tr><td>H2O cluster name:</td>\n",
       "<td>H2O_from_python_felix_nh59a7</td></tr>\n",
       "<tr><td>H2O cluster total nodes:</td>\n",
       "<td>1</td></tr>\n",
       "<tr><td>H2O cluster free memory:</td>\n",
       "<td>2.517 Gb</td></tr>\n",
       "<tr><td>H2O cluster total cores:</td>\n",
       "<td>16</td></tr>\n",
       "<tr><td>H2O cluster allowed cores:</td>\n",
       "<td>16</td></tr>\n",
       "<tr><td>H2O cluster status:</td>\n",
       "<td>locked, healthy</td></tr>\n",
       "<tr><td>H2O connection url:</td>\n",
       "<td>http://localhost:54321</td></tr>\n",
       "<tr><td>H2O connection proxy:</td>\n",
       "<td>{'http': None, 'https': None}</td></tr>\n",
       "<tr><td>H2O internal security:</td>\n",
       "<td>False</td></tr>\n",
       "<tr><td>H2O API Extensions:</td>\n",
       "<td>Amazon S3, XGBoost, Algos, AutoML, Core V3, TargetEncoder, Core V4</td></tr>\n",
       "<tr><td>Python version:</td>\n",
       "<td>3.6.0 final</td></tr></table></div>"
      ],
      "text/plain": [
       "--------------------------  ------------------------------------------------------------------\n",
       "H2O cluster uptime:         8 days 21 hours 2 mins\n",
       "H2O cluster timezone:       Asia/Kolkata\n",
       "H2O data parsing timezone:  UTC\n",
       "H2O cluster version:        3.26.0.8\n",
       "H2O cluster version age:    1 month and 14 days\n",
       "H2O cluster name:           H2O_from_python_felix_nh59a7\n",
       "H2O cluster total nodes:    1\n",
       "H2O cluster free memory:    2.517 Gb\n",
       "H2O cluster total cores:    16\n",
       "H2O cluster allowed cores:  16\n",
       "H2O cluster status:         locked, healthy\n",
       "H2O connection url:         http://localhost:54321\n",
       "H2O connection proxy:       {'http': None, 'https': None}\n",
       "H2O internal security:      False\n",
       "H2O API Extensions:         Amazon S3, XGBoost, Algos, AutoML, Core V3, TargetEncoder, Core V4\n",
       "Python version:             3.6.0 final\n",
       "--------------------------  ------------------------------------------------------------------"
      ]
     },
     "metadata": {},
     "output_type": "display_data"
    },
    {
     "data": {
      "text/plain": [
       "<H2OConnection to http://localhost:54321, no session>"
      ]
     },
     "execution_count": 7,
     "metadata": {},
     "output_type": "execute_result"
    }
   ],
   "source": [
    "h2o.connect() #or"
   ]
  },
  {
   "cell_type": "code",
   "execution_count": 8,
   "metadata": {},
   "outputs": [
    {
     "name": "stdout",
     "output_type": "stream",
     "text": [
      "Checking whether there is an H2O instance running at http://localhost:54321 . connected.\n"
     ]
    },
    {
     "data": {
      "text/html": [
       "<div style=\"overflow:auto\"><table style=\"width:50%\"><tr><td>H2O cluster uptime:</td>\n",
       "<td>8 days 21 hours 2 mins</td></tr>\n",
       "<tr><td>H2O cluster timezone:</td>\n",
       "<td>Asia/Kolkata</td></tr>\n",
       "<tr><td>H2O data parsing timezone:</td>\n",
       "<td>UTC</td></tr>\n",
       "<tr><td>H2O cluster version:</td>\n",
       "<td>3.26.0.8</td></tr>\n",
       "<tr><td>H2O cluster version age:</td>\n",
       "<td>1 month and 14 days </td></tr>\n",
       "<tr><td>H2O cluster name:</td>\n",
       "<td>H2O_from_python_felix_nh59a7</td></tr>\n",
       "<tr><td>H2O cluster total nodes:</td>\n",
       "<td>1</td></tr>\n",
       "<tr><td>H2O cluster free memory:</td>\n",
       "<td>2.517 Gb</td></tr>\n",
       "<tr><td>H2O cluster total cores:</td>\n",
       "<td>16</td></tr>\n",
       "<tr><td>H2O cluster allowed cores:</td>\n",
       "<td>16</td></tr>\n",
       "<tr><td>H2O cluster status:</td>\n",
       "<td>locked, healthy</td></tr>\n",
       "<tr><td>H2O connection url:</td>\n",
       "<td>http://localhost:54321</td></tr>\n",
       "<tr><td>H2O connection proxy:</td>\n",
       "<td>{'http': None, 'https': None}</td></tr>\n",
       "<tr><td>H2O internal security:</td>\n",
       "<td>False</td></tr>\n",
       "<tr><td>H2O API Extensions:</td>\n",
       "<td>Amazon S3, XGBoost, Algos, AutoML, Core V3, TargetEncoder, Core V4</td></tr>\n",
       "<tr><td>Python version:</td>\n",
       "<td>3.6.0 final</td></tr></table></div>"
      ],
      "text/plain": [
       "--------------------------  ------------------------------------------------------------------\n",
       "H2O cluster uptime:         8 days 21 hours 2 mins\n",
       "H2O cluster timezone:       Asia/Kolkata\n",
       "H2O data parsing timezone:  UTC\n",
       "H2O cluster version:        3.26.0.8\n",
       "H2O cluster version age:    1 month and 14 days\n",
       "H2O cluster name:           H2O_from_python_felix_nh59a7\n",
       "H2O cluster total nodes:    1\n",
       "H2O cluster free memory:    2.517 Gb\n",
       "H2O cluster total cores:    16\n",
       "H2O cluster allowed cores:  16\n",
       "H2O cluster status:         locked, healthy\n",
       "H2O connection url:         http://localhost:54321\n",
       "H2O connection proxy:       {'http': None, 'https': None}\n",
       "H2O internal security:      False\n",
       "H2O API Extensions:         Amazon S3, XGBoost, Algos, AutoML, Core V3, TargetEncoder, Core V4\n",
       "Python version:             3.6.0 final\n",
       "--------------------------  ------------------------------------------------------------------"
      ]
     },
     "metadata": {},
     "output_type": "display_data"
    }
   ],
   "source": [
    "h2o.init()"
   ]
  },
  {
   "cell_type": "code",
   "execution_count": 9,
   "metadata": {},
   "outputs": [
    {
     "name": "stdout",
     "output_type": "stream",
     "text": [
      "Parse progress: |█████████████████████████████████████████████████████████| 100%\n"
     ]
    }
   ],
   "source": [
    "loans = h2o.import_file(input_csv,\n",
    "                        col_types = {\"int_rate\":\"string\", \n",
    "                                     \"revol_util\":\"string\", \n",
    "                                     \"emp_length\":\"string\", \n",
    "                                     \"verification_status\":\"string\"})"
   ]
  },
  {
   "cell_type": "code",
   "execution_count": 10,
   "metadata": {},
   "outputs": [
    {
     "data": {
      "text/plain": [
       "[42536, 52]"
      ]
     },
     "execution_count": 10,
     "metadata": {},
     "output_type": "execute_result"
    }
   ],
   "source": [
    "loans.dim"
   ]
  },
  {
   "cell_type": "code",
   "execution_count": 11,
   "metadata": {},
   "outputs": [
    {
     "data": {
      "text/html": [
       "<table>\n",
       "<thead>\n",
       "<tr><th style=\"text-align: right;\">         id</th><th style=\"text-align: right;\">  member_id</th><th style=\"text-align: right;\">  loan_amnt</th><th style=\"text-align: right;\">  funded_amnt</th><th style=\"text-align: right;\">  funded_amnt_inv</th><th>term     </th><th>int_rate  </th><th style=\"text-align: right;\">  installment</th><th>grade  </th><th>sub_grade  </th><th>emp_title                </th><th>emp_length  </th><th>home_ownership  </th><th style=\"text-align: right;\">  annual_inc</th><th>verification_status     </th><th>issue_d            </th><th>loan_status  </th><th>pymnt_plan  </th><th>url                                                                 </th><th>desc                                                                                                                                                                                                                                                                                                                                                                                                                                                                                                                                                                                                        </th><th>purpose           </th><th>title                                </th><th>zip_code  </th><th>addr_state  </th><th style=\"text-align: right;\">  dti</th><th style=\"text-align: right;\">  delinq_2yrs</th><th>earliest_cr_line   </th><th style=\"text-align: right;\">  inq_last_6mths</th><th>mths_since_last_delinq  </th><th>mths_since_last_record  </th><th style=\"text-align: right;\">  open_acc</th><th style=\"text-align: right;\">  pub_rec</th><th style=\"text-align: right;\">  revol_bal</th><th>revol_util  </th><th style=\"text-align: right;\">  total_acc</th><th>initial_list_status  </th><th style=\"text-align: right;\">  out_prncp</th><th style=\"text-align: right;\">  out_prncp_inv</th><th style=\"text-align: right;\">  total_pymnt</th><th style=\"text-align: right;\">  total_pymnt_inv</th><th style=\"text-align: right;\">  total_rec_prncp</th><th style=\"text-align: right;\">  total_rec_int</th><th style=\"text-align: right;\">  total_rec_late_fee</th><th style=\"text-align: right;\">  recoveries</th><th style=\"text-align: right;\">  collection_recovery_fee</th><th>last_pymnt_d       </th><th style=\"text-align: right;\">  last_pymnt_amnt</th><th>next_pymnt_d       </th><th>last_credit_pull_d  </th><th style=\"text-align: right;\">  collections_12_mths_ex_med</th><th>mths_since_last_major_derog  </th><th style=\"text-align: right;\">  policy_code</th></tr>\n",
       "</thead>\n",
       "<tbody>\n",
       "<tr><td style=\"text-align: right;\">1.0775e+06 </td><td style=\"text-align: right;\">1.2966e+06 </td><td style=\"text-align: right;\">       5000</td><td style=\"text-align: right;\">         5000</td><td style=\"text-align: right;\">             4975</td><td>36 months</td><td>10.65%    </td><td style=\"text-align: right;\">       162.87</td><td>B      </td><td>B2         </td><td>                         </td><td>10+ years   </td><td>RENT            </td><td style=\"text-align: right;\">       24000</td><td>VERIFIED - income       </td><td>2011-12-01 00:00:00</td><td>Fully Paid   </td><td>n           </td><td>https://www.lendingclub.com/browse/loanDetail.action?loan_id=1077501</td><td>Borrower added on 12/22/11 > I need to upgrade my business technologies.<br>                                                                                                                                                                                                                                                                                                                                                                                                                                                                                                                                </td><td>credit_card       </td><td>Computer                             </td><td>860xx     </td><td>AZ          </td><td style=\"text-align: right;\">27.65</td><td style=\"text-align: right;\">            0</td><td>1985-01-01 00:00:00</td><td style=\"text-align: right;\">               1</td><td>                        </td><td>                        </td><td style=\"text-align: right;\">         3</td><td style=\"text-align: right;\">        0</td><td style=\"text-align: right;\">      13648</td><td>83.7%       </td><td style=\"text-align: right;\">          9</td><td>f                    </td><td style=\"text-align: right;\">       0   </td><td style=\"text-align: right;\">           0   </td><td style=\"text-align: right;\">      5861.07</td><td style=\"text-align: right;\">          5831.78</td><td style=\"text-align: right;\">          5000   </td><td style=\"text-align: right;\">         861.07</td><td style=\"text-align: right;\">                0   </td><td style=\"text-align: right;\">        0   </td><td style=\"text-align: right;\">                     0   </td><td>2015-01-01 00:00:00</td><td style=\"text-align: right;\">           171.62</td><td>                   </td><td>2015-01-01 00:00:00 </td><td style=\"text-align: right;\">                           0</td><td>                             </td><td style=\"text-align: right;\">            1</td></tr>\n",
       "<tr><td style=\"text-align: right;\">1.07743e+06</td><td style=\"text-align: right;\">1.31417e+06</td><td style=\"text-align: right;\">       2500</td><td style=\"text-align: right;\">         2500</td><td style=\"text-align: right;\">             2500</td><td>60 months</td><td>15.27%    </td><td style=\"text-align: right;\">        59.83</td><td>C      </td><td>C4         </td><td>Ryder                    </td><td>< 1 year    </td><td>RENT            </td><td style=\"text-align: right;\">       30000</td><td>VERIFIED - income source</td><td>2011-12-01 00:00:00</td><td>Charged Off  </td><td>n           </td><td>https://www.lendingclub.com/browse/loanDetail.action?loan_id=1077430</td><td>Borrower added on 12/22/11 > I plan to use this money to finance the motorcycle i am looking at. I plan to have it paid off as soon as possible/when i sell my old bike. I only need this money because the deal im looking at is to good to pass up.<br><br>  Borrower added on 12/22/11 > I plan to use this money to finance the motorcycle i am looking at. I plan to have it paid off as soon as possible/when i sell my old bike.I only need this money because the deal im looking at is to good to pass up. I have finished college with an associates degree in business and its takingmeplaces<br></td><td>car               </td><td>bike                                 </td><td>309xx     </td><td>GA          </td><td style=\"text-align: right;\"> 1   </td><td style=\"text-align: right;\">            0</td><td>1999-04-01 00:00:00</td><td style=\"text-align: right;\">               5</td><td>                        </td><td>                        </td><td style=\"text-align: right;\">         3</td><td style=\"text-align: right;\">        0</td><td style=\"text-align: right;\">       1687</td><td>9.4%        </td><td style=\"text-align: right;\">          4</td><td>f                    </td><td style=\"text-align: right;\">       0   </td><td style=\"text-align: right;\">           0   </td><td style=\"text-align: right;\">      1008.71</td><td style=\"text-align: right;\">          1008.71</td><td style=\"text-align: right;\">           456.46</td><td style=\"text-align: right;\">         435.17</td><td style=\"text-align: right;\">                0   </td><td style=\"text-align: right;\">      117.08</td><td style=\"text-align: right;\">                     1.11</td><td>2013-04-01 00:00:00</td><td style=\"text-align: right;\">           119.66</td><td>                   </td><td>2013-09-01 00:00:00 </td><td style=\"text-align: right;\">                           0</td><td>                             </td><td style=\"text-align: right;\">            1</td></tr>\n",
       "<tr><td style=\"text-align: right;\">1.07718e+06</td><td style=\"text-align: right;\">1.31352e+06</td><td style=\"text-align: right;\">       2400</td><td style=\"text-align: right;\">         2400</td><td style=\"text-align: right;\">             2400</td><td>36 months</td><td>15.96%    </td><td style=\"text-align: right;\">        84.33</td><td>C      </td><td>C5         </td><td>                         </td><td>10+ years   </td><td>RENT            </td><td style=\"text-align: right;\">       12252</td><td>not verified            </td><td>2011-12-01 00:00:00</td><td>Fully Paid   </td><td>n           </td><td>https://www.lendingclub.com/browse/loanDetail.action?loan_id=1077175</td><td>                                                                                                                                                                                                                                                                                                                                                                                                                                                                                                                                                                                                            </td><td>small_business    </td><td>real estate business                 </td><td>606xx     </td><td>IL          </td><td style=\"text-align: right;\"> 8.72</td><td style=\"text-align: right;\">            0</td><td>2001-11-01 00:00:00</td><td style=\"text-align: right;\">               2</td><td>                        </td><td>                        </td><td style=\"text-align: right;\">         2</td><td style=\"text-align: right;\">        0</td><td style=\"text-align: right;\">       2956</td><td>98.5%       </td><td style=\"text-align: right;\">         10</td><td>f                    </td><td style=\"text-align: right;\">       0   </td><td style=\"text-align: right;\">           0   </td><td style=\"text-align: right;\">      3003.65</td><td style=\"text-align: right;\">          3003.65</td><td style=\"text-align: right;\">          2400   </td><td style=\"text-align: right;\">         603.65</td><td style=\"text-align: right;\">                0   </td><td style=\"text-align: right;\">        0   </td><td style=\"text-align: right;\">                     0   </td><td>2014-06-01 00:00:00</td><td style=\"text-align: right;\">           649.91</td><td>                   </td><td>2015-06-01 00:00:00 </td><td style=\"text-align: right;\">                           0</td><td>                             </td><td style=\"text-align: right;\">            1</td></tr>\n",
       "<tr><td style=\"text-align: right;\">1.07686e+06</td><td style=\"text-align: right;\">1.27718e+06</td><td style=\"text-align: right;\">      10000</td><td style=\"text-align: right;\">        10000</td><td style=\"text-align: right;\">            10000</td><td>36 months</td><td>13.49%    </td><td style=\"text-align: right;\">       339.31</td><td>C      </td><td>C1         </td><td>AIR RESOURCES BOARD      </td><td>10+ years   </td><td>RENT            </td><td style=\"text-align: right;\">       49200</td><td>VERIFIED - income source</td><td>2011-12-01 00:00:00</td><td>Fully Paid   </td><td>n           </td><td>https://www.lendingclub.com/browse/loanDetail.action?loan_id=1076863</td><td>Borrower added on 12/21/11 > to pay for property tax (borrow from friend, need to pay back) & central A/C need to be replace. I'm very sorry to let my loan expired last time.<br>                                                                                                                                                                                                                                                                                                                                                                                                                          </td><td>other             </td><td>personel                             </td><td>917xx     </td><td>CA          </td><td style=\"text-align: right;\">20   </td><td style=\"text-align: right;\">            0</td><td>1996-02-01 00:00:00</td><td style=\"text-align: right;\">               1</td><td>35                      </td><td>                        </td><td style=\"text-align: right;\">        10</td><td style=\"text-align: right;\">        0</td><td style=\"text-align: right;\">       5598</td><td>21%         </td><td style=\"text-align: right;\">         37</td><td>f                    </td><td style=\"text-align: right;\">       0   </td><td style=\"text-align: right;\">           0   </td><td style=\"text-align: right;\">     12226.3 </td><td style=\"text-align: right;\">         12226.3 </td><td style=\"text-align: right;\">         10000   </td><td style=\"text-align: right;\">        2209.33</td><td style=\"text-align: right;\">               16.97</td><td style=\"text-align: right;\">        0   </td><td style=\"text-align: right;\">                     0   </td><td>2015-01-01 00:00:00</td><td style=\"text-align: right;\">           357.48</td><td>                   </td><td>2015-01-01 00:00:00 </td><td style=\"text-align: right;\">                           0</td><td>                             </td><td style=\"text-align: right;\">            1</td></tr>\n",
       "<tr><td style=\"text-align: right;\">1.07536e+06</td><td style=\"text-align: right;\">1.31175e+06</td><td style=\"text-align: right;\">       3000</td><td style=\"text-align: right;\">         3000</td><td style=\"text-align: right;\">             3000</td><td>60 months</td><td>12.69%    </td><td style=\"text-align: right;\">        67.79</td><td>B      </td><td>B5         </td><td>University Medical Group </td><td>1 year      </td><td>RENT            </td><td style=\"text-align: right;\">       80000</td><td>VERIFIED - income source</td><td>2011-12-01 00:00:00</td><td>Current      </td><td>n           </td><td>https://www.lendingclub.com/browse/loanDetail.action?loan_id=1075358</td><td>Borrower added on 12/21/11 > I plan on combining three large interest bills together and freeing up some extra each month to pay toward other bills.  I've always been a good payor but have found myself needing to make adjustments to my budget due to a medical scare. My job is very stable, I love it.<br>                                                                                                                                                                                                                                                                                            </td><td>other             </td><td>Personal                             </td><td>972xx     </td><td>OR          </td><td style=\"text-align: right;\">17.94</td><td style=\"text-align: right;\">            0</td><td>1996-01-01 00:00:00</td><td style=\"text-align: right;\">               0</td><td>38                      </td><td>                        </td><td style=\"text-align: right;\">        15</td><td style=\"text-align: right;\">        0</td><td style=\"text-align: right;\">      27783</td><td>53.9%       </td><td style=\"text-align: right;\">         38</td><td>f                    </td><td style=\"text-align: right;\">    1168.04</td><td style=\"text-align: right;\">        1168.04</td><td style=\"text-align: right;\">      2767.64</td><td style=\"text-align: right;\">          2767.64</td><td style=\"text-align: right;\">          1831.96</td><td style=\"text-align: right;\">         935.68</td><td style=\"text-align: right;\">                0   </td><td style=\"text-align: right;\">        0   </td><td style=\"text-align: right;\">                     0   </td><td>2015-06-01 00:00:00</td><td style=\"text-align: right;\">            67.79</td><td>2015-07-01 00:00:00</td><td>2015-06-01 00:00:00 </td><td style=\"text-align: right;\">                           0</td><td>                             </td><td style=\"text-align: right;\">            1</td></tr>\n",
       "<tr><td style=\"text-align: right;\">1.07527e+06</td><td style=\"text-align: right;\">1.31144e+06</td><td style=\"text-align: right;\">       5000</td><td style=\"text-align: right;\">         5000</td><td style=\"text-align: right;\">             5000</td><td>36 months</td><td>7.90%     </td><td style=\"text-align: right;\">       156.46</td><td>A      </td><td>A4         </td><td>Veolia Transportaton     </td><td>3 years     </td><td>RENT            </td><td style=\"text-align: right;\">       36000</td><td>VERIFIED - income source</td><td>2011-12-01 00:00:00</td><td>Fully Paid   </td><td>n           </td><td>https://www.lendingclub.com/browse/loanDetail.action?loan_id=1075269</td><td>                                                                                                                                                                                                                                                                                                                                                                                                                                                                                                                                                                                                            </td><td>wedding           </td><td>My wedding loan I promise to pay back</td><td>852xx     </td><td>AZ          </td><td style=\"text-align: right;\">11.2 </td><td style=\"text-align: right;\">            0</td><td>2004-11-01 00:00:00</td><td style=\"text-align: right;\">               3</td><td>                        </td><td>                        </td><td style=\"text-align: right;\">         9</td><td style=\"text-align: right;\">        0</td><td style=\"text-align: right;\">       7963</td><td>28.3%       </td><td style=\"text-align: right;\">         12</td><td>f                    </td><td style=\"text-align: right;\">       0   </td><td style=\"text-align: right;\">           0   </td><td style=\"text-align: right;\">      5631.38</td><td style=\"text-align: right;\">          5631.38</td><td style=\"text-align: right;\">          5000   </td><td style=\"text-align: right;\">         631.38</td><td style=\"text-align: right;\">                0   </td><td style=\"text-align: right;\">        0   </td><td style=\"text-align: right;\">                     0   </td><td>2015-01-01 00:00:00</td><td style=\"text-align: right;\">           161.03</td><td>                   </td><td>2015-06-01 00:00:00 </td><td style=\"text-align: right;\">                           0</td><td>                             </td><td style=\"text-align: right;\">            1</td></tr>\n",
       "<tr><td style=\"text-align: right;\">1.06964e+06</td><td style=\"text-align: right;\">1.30474e+06</td><td style=\"text-align: right;\">       7000</td><td style=\"text-align: right;\">         7000</td><td style=\"text-align: right;\">             7000</td><td>60 months</td><td>15.96%    </td><td style=\"text-align: right;\">       170.08</td><td>C      </td><td>C5         </td><td>Southern Star Photography</td><td>8 years     </td><td>RENT            </td><td style=\"text-align: right;\">       47004</td><td>not verified            </td><td>2011-12-01 00:00:00</td><td>Current      </td><td>n           </td><td>https://www.lendingclub.com/browse/loanDetail.action?loan_id=1069639</td><td>Borrower added on 12/18/11 > I am planning on using the funds to pay off two retail credit cards with 24.99% interest rates, as well as a major bank credit card with a 18.99% rate.  I pay all my bills on time, looking for a lower combined payment and lower monthly payment.<br>                                                                                                                                                                                                                                                                                                                       </td><td>debt_consolidation</td><td>Loan                                 </td><td>280xx     </td><td>NC          </td><td style=\"text-align: right;\">23.51</td><td style=\"text-align: right;\">            0</td><td>2005-07-01 00:00:00</td><td style=\"text-align: right;\">               1</td><td>                        </td><td>                        </td><td style=\"text-align: right;\">         7</td><td style=\"text-align: right;\">        0</td><td style=\"text-align: right;\">      17726</td><td>85.6%       </td><td style=\"text-align: right;\">         11</td><td>f                    </td><td style=\"text-align: right;\">    2853.21</td><td style=\"text-align: right;\">        2853.21</td><td style=\"text-align: right;\">      6946.28</td><td style=\"text-align: right;\">          6946.28</td><td style=\"text-align: right;\">          4146.8 </td><td style=\"text-align: right;\">        2799.48</td><td style=\"text-align: right;\">                0   </td><td style=\"text-align: right;\">        0   </td><td style=\"text-align: right;\">                     0   </td><td>2015-06-01 00:00:00</td><td style=\"text-align: right;\">           170.08</td><td>2015-08-01 00:00:00</td><td>2015-06-01 00:00:00 </td><td style=\"text-align: right;\">                           0</td><td>                             </td><td style=\"text-align: right;\">            1</td></tr>\n",
       "<tr><td style=\"text-align: right;\">1.07205e+06</td><td style=\"text-align: right;\">1.28869e+06</td><td style=\"text-align: right;\">       3000</td><td style=\"text-align: right;\">         3000</td><td style=\"text-align: right;\">             3000</td><td>36 months</td><td>18.64%    </td><td style=\"text-align: right;\">       109.43</td><td>E      </td><td>E1         </td><td>MKC Accounting           </td><td>9 years     </td><td>RENT            </td><td style=\"text-align: right;\">       48000</td><td>VERIFIED - income source</td><td>2011-12-01 00:00:00</td><td>Fully Paid   </td><td>n           </td><td>https://www.lendingclub.com/browse/loanDetail.action?loan_id=1072053</td><td>Borrower added on 12/16/11 > Downpayment for a car.<br>                                                                                                                                                                                                                                                                                                                                                                                                                                                                                                                                                     </td><td>car               </td><td>Car Downpayment                      </td><td>900xx     </td><td>CA          </td><td style=\"text-align: right;\"> 5.35</td><td style=\"text-align: right;\">            0</td><td>2007-01-01 00:00:00</td><td style=\"text-align: right;\">               2</td><td>                        </td><td>                        </td><td style=\"text-align: right;\">         4</td><td style=\"text-align: right;\">        0</td><td style=\"text-align: right;\">       8221</td><td>87.5%       </td><td style=\"text-align: right;\">          4</td><td>f                    </td><td style=\"text-align: right;\">       0   </td><td style=\"text-align: right;\">           0   </td><td style=\"text-align: right;\">      3938.14</td><td style=\"text-align: right;\">          3938.14</td><td style=\"text-align: right;\">          3000   </td><td style=\"text-align: right;\">         938.14</td><td style=\"text-align: right;\">                0   </td><td style=\"text-align: right;\">        0   </td><td style=\"text-align: right;\">                     0   </td><td>2015-01-01 00:00:00</td><td style=\"text-align: right;\">           111.34</td><td>                   </td><td>2014-12-01 00:00:00 </td><td style=\"text-align: right;\">                           0</td><td>                             </td><td style=\"text-align: right;\">            1</td></tr>\n",
       "<tr><td style=\"text-align: right;\">1.0718e+06 </td><td style=\"text-align: right;\">1.30696e+06</td><td style=\"text-align: right;\">       5600</td><td style=\"text-align: right;\">         5600</td><td style=\"text-align: right;\">             5600</td><td>60 months</td><td>21.28%    </td><td style=\"text-align: right;\">       152.39</td><td>F      </td><td>F2         </td><td>                         </td><td>4 years     </td><td>OWN             </td><td style=\"text-align: right;\">       40000</td><td>VERIFIED - income source</td><td>2011-12-01 00:00:00</td><td>Charged Off  </td><td>n           </td><td>https://www.lendingclub.com/browse/loanDetail.action?loan_id=1071795</td><td>Borrower added on 12/21/11 > I own a small home-based judgment collection business. I have 5 years experience collecting debts. I am now going from a home office to a small office. I also plan to buy a small debt portfolio (eg. $10K for $1M of debt) <br>My score is not A+ because I own my home and have no mortgage.<br>                                                                                                                                                                                                                                                                            </td><td>small_business    </td><td>Expand Business & Buy Debt Portfolio </td><td>958xx     </td><td>CA          </td><td style=\"text-align: right;\"> 5.55</td><td style=\"text-align: right;\">            0</td><td>2004-04-01 00:00:00</td><td style=\"text-align: right;\">               2</td><td>                        </td><td>                        </td><td style=\"text-align: right;\">        11</td><td style=\"text-align: right;\">        0</td><td style=\"text-align: right;\">       5210</td><td>32.6%       </td><td style=\"text-align: right;\">         13</td><td>f                    </td><td style=\"text-align: right;\">       0   </td><td style=\"text-align: right;\">           0   </td><td style=\"text-align: right;\">       646.02</td><td style=\"text-align: right;\">           646.02</td><td style=\"text-align: right;\">           162.02</td><td style=\"text-align: right;\">         294.94</td><td style=\"text-align: right;\">                0   </td><td style=\"text-align: right;\">      189.06</td><td style=\"text-align: right;\">                     2.09</td><td>2012-04-01 00:00:00</td><td style=\"text-align: right;\">           152.39</td><td>                   </td><td>2012-08-01 00:00:00 </td><td style=\"text-align: right;\">                           0</td><td>                             </td><td style=\"text-align: right;\">            1</td></tr>\n",
       "<tr><td style=\"text-align: right;\">1.07157e+06</td><td style=\"text-align: right;\">1.30672e+06</td><td style=\"text-align: right;\">       5375</td><td style=\"text-align: right;\">         5375</td><td style=\"text-align: right;\">             5350</td><td>60 months</td><td>12.69%    </td><td style=\"text-align: right;\">       121.45</td><td>B      </td><td>B5         </td><td>Starbucks                </td><td>< 1 year    </td><td>RENT            </td><td style=\"text-align: right;\">       15000</td><td>VERIFIED - income       </td><td>2011-12-01 00:00:00</td><td>Charged Off  </td><td>n           </td><td>https://www.lendingclub.com/browse/loanDetail.action?loan_id=1071570</td><td>Borrower added on 12/16/11 > I'm trying to build up my credit history. I live with my brother and have no car payment or credit cards. I am in community college and work full time. Im going to use the money to make some repairs around the house and get some maintenance done on my car.<br><br>  Borrower added on 12/20/11 > $1000 down only $4375 to go. Thanks to everyone that invested so far, looking forward to surprising my brother with the fixes around the house.<br>                                                                                                                     </td><td>other             </td><td>Building my credit history.          </td><td>774xx     </td><td>TX          </td><td style=\"text-align: right;\">18.08</td><td style=\"text-align: right;\">            0</td><td>2004-09-01 00:00:00</td><td style=\"text-align: right;\">               0</td><td>                        </td><td>                        </td><td style=\"text-align: right;\">         2</td><td style=\"text-align: right;\">        0</td><td style=\"text-align: right;\">       9279</td><td>36.5%       </td><td style=\"text-align: right;\">          3</td><td>f                    </td><td style=\"text-align: right;\">       0   </td><td style=\"text-align: right;\">           0   </td><td style=\"text-align: right;\">      1476.19</td><td style=\"text-align: right;\">          1469.34</td><td style=\"text-align: right;\">           673.48</td><td style=\"text-align: right;\">         533.42</td><td style=\"text-align: right;\">                0   </td><td style=\"text-align: right;\">      269.29</td><td style=\"text-align: right;\">                     2.52</td><td>2012-11-01 00:00:00</td><td style=\"text-align: right;\">           121.45</td><td>                   </td><td>2013-03-01 00:00:00 </td><td style=\"text-align: right;\">                           0</td><td>                             </td><td style=\"text-align: right;\">            1</td></tr>\n",
       "</tbody>\n",
       "</table>"
      ]
     },
     "metadata": {},
     "output_type": "display_data"
    },
    {
     "data": {
      "text/plain": []
     },
     "execution_count": 11,
     "metadata": {},
     "output_type": "execute_result"
    }
   ],
   "source": [
    "loans.head()"
   ]
  },
  {
   "cell_type": "code",
   "execution_count": 12,
   "metadata": {},
   "outputs": [
    {
     "data": {
      "text/plain": [
       "42536"
      ]
     },
     "execution_count": 12,
     "metadata": {},
     "output_type": "execute_result"
    }
   ],
   "source": [
    "num_unfiltered_loans = loans.dim[0]\n",
    "num_unfiltered_loans"
   ]
  },
  {
   "cell_type": "code",
   "execution_count": 14,
   "metadata": {},
   "outputs": [
    {
     "data": {
      "text/html": [
       "<table>\n",
       "<thead>\n",
       "<tr><th>loan_status                                             </th><th style=\"text-align: right;\">  Count</th></tr>\n",
       "</thead>\n",
       "<tbody>\n",
       "<tr><td>Charged Off                                             </td><td style=\"text-align: right;\">   5435</td></tr>\n",
       "<tr><td>Current                                                 </td><td style=\"text-align: right;\">   3351</td></tr>\n",
       "<tr><td>Default                                                 </td><td style=\"text-align: right;\">      7</td></tr>\n",
       "<tr><td>Does not meet the credit policy.  Status:Charged Off    </td><td style=\"text-align: right;\">    761</td></tr>\n",
       "<tr><td>Does not meet the credit policy.  Status:Current        </td><td style=\"text-align: right;\">     53</td></tr>\n",
       "<tr><td>Does not meet the credit policy.  Status:Fully Paid     </td><td style=\"text-align: right;\">   1933</td></tr>\n",
       "<tr><td>Does not meet the credit policy.  Status:In Grace Period</td><td style=\"text-align: right;\">      2</td></tr>\n",
       "<tr><td>Fully Paid                                              </td><td style=\"text-align: right;\">  30843</td></tr>\n",
       "<tr><td>In Grace Period                                         </td><td style=\"text-align: right;\">     60</td></tr>\n",
       "<tr><td>Late (16-30 days)                                       </td><td style=\"text-align: right;\">     16</td></tr>\n",
       "</tbody>\n",
       "</table>"
      ]
     },
     "metadata": {},
     "output_type": "display_data"
    },
    {
     "data": {
      "text/plain": []
     },
     "execution_count": 14,
     "metadata": {},
     "output_type": "execute_result"
    }
   ],
   "source": [
    "loans[\"loan_status\"].table()"
   ]
  },
  {
   "cell_type": "code",
   "execution_count": 15,
   "metadata": {},
   "outputs": [],
   "source": [
    "ongoing_status = [\"Current\",\n",
    "                  \"In Grace Period\",\n",
    "                  \"Late (16-30 days)\",\n",
    "                  \"Late (31-120 days)\",\n",
    "                  \"Does not meet the credit policy.  Status:Current\",\n",
    "                  \"Does not meet the credit policy.  Status:In Grace Period\"\n",
    "                 ]"
   ]
  },
  {
   "cell_type": "code",
   "execution_count": 16,
   "metadata": {},
   "outputs": [
    {
     "data": {
      "text/html": [
       "<table>\n",
       "<thead>\n",
       "<tr><th style=\"text-align: right;\">  C1</th></tr>\n",
       "</thead>\n",
       "<tbody>\n",
       "<tr><td style=\"text-align: right;\">   0</td></tr>\n",
       "<tr><td style=\"text-align: right;\">   0</td></tr>\n",
       "<tr><td style=\"text-align: right;\">   0</td></tr>\n",
       "<tr><td style=\"text-align: right;\">   0</td></tr>\n",
       "<tr><td style=\"text-align: right;\">   1</td></tr>\n",
       "<tr><td style=\"text-align: right;\">   0</td></tr>\n",
       "<tr><td style=\"text-align: right;\">   1</td></tr>\n",
       "<tr><td style=\"text-align: right;\">   0</td></tr>\n",
       "<tr><td style=\"text-align: right;\">   0</td></tr>\n",
       "<tr><td style=\"text-align: right;\">   0</td></tr>\n",
       "</tbody>\n",
       "</table>"
      ]
     },
     "metadata": {},
     "output_type": "display_data"
    },
    {
     "data": {
      "text/plain": []
     },
     "execution_count": 16,
     "metadata": {},
     "output_type": "execute_result"
    }
   ],
   "source": [
    "## Felix\n",
    "loans[\"loan_status\"].isin(ongoing_status) ## check if isIn is a data manipulation function"
   ]
  },
  {
   "cell_type": "code",
   "execution_count": 17,
   "metadata": {},
   "outputs": [],
   "source": [
    "loans = loans[~loans[\"loan_status\"].isin(ongoing_status)]"
   ]
  },
  {
   "cell_type": "code",
   "execution_count": 18,
   "metadata": {},
   "outputs": [
    {
     "data": {
      "text/plain": [
       "[38980, 52]"
      ]
     },
     "execution_count": 18,
     "metadata": {},
     "output_type": "execute_result"
    }
   ],
   "source": [
    "loans.dim #felix"
   ]
  },
  {
   "cell_type": "code",
   "execution_count": 19,
   "metadata": {},
   "outputs": [
    {
     "data": {
      "text/plain": [
       "38980"
      ]
     },
     "execution_count": 19,
     "metadata": {},
     "output_type": "execute_result"
    }
   ],
   "source": [
    "num_filtered_loans = loans.dim[0]\n",
    "num_filtered_loans"
   ]
  },
  {
   "cell_type": "code",
   "execution_count": 20,
   "metadata": {},
   "outputs": [
    {
     "data": {
      "text/plain": [
       "3556"
      ]
     },
     "execution_count": 20,
     "metadata": {},
     "output_type": "execute_result"
    }
   ],
   "source": [
    "num_loans_filtered_out = num_unfiltered_loans - num_filtered_loans\n",
    "num_loans_filtered_out"
   ]
  },
  {
   "cell_type": "code",
   "execution_count": 21,
   "metadata": {},
   "outputs": [
    {
     "data": {
      "text/html": [
       "<table>\n",
       "<thead>\n",
       "<tr><th>loan_status                                         </th><th style=\"text-align: right;\">  Count</th></tr>\n",
       "</thead>\n",
       "<tbody>\n",
       "<tr><td>Charged Off                                         </td><td style=\"text-align: right;\">   5435</td></tr>\n",
       "<tr><td>Default                                             </td><td style=\"text-align: right;\">      7</td></tr>\n",
       "<tr><td>Does not meet the credit policy.  Status:Charged Off</td><td style=\"text-align: right;\">    761</td></tr>\n",
       "<tr><td>Does not meet the credit policy.  Status:Fully Paid </td><td style=\"text-align: right;\">   1933</td></tr>\n",
       "<tr><td>Fully Paid                                          </td><td style=\"text-align: right;\">  30843</td></tr>\n",
       "</tbody>\n",
       "</table>"
      ]
     },
     "metadata": {},
     "output_type": "display_data"
    },
    {
     "data": {
      "text/plain": []
     },
     "execution_count": 21,
     "metadata": {},
     "output_type": "execute_result"
    }
   ],
   "source": [
    "loans[\"loan_status\"].table().head(20)"
   ]
  },
  {
   "cell_type": "code",
   "execution_count": 22,
   "metadata": {},
   "outputs": [],
   "source": [
    "### CREATES A NEW COLUMN\n",
    "fully_paid = [\"Fully Paid\",\n",
    "              \"Does not meet the credit policy.  Status:Fully Paid\"\n",
    "             ]\n",
    "loans[\"bad_loan\"] = ~(loans[\"loan_status\"].isin(fully_paid))"
   ]
  },
  {
   "cell_type": "code",
   "execution_count": 23,
   "metadata": {},
   "outputs": [],
   "source": [
    "loans[\"bad_loan\"] = loans[\"bad_loan\"].asfactor()"
   ]
  },
  {
   "cell_type": "code",
   "execution_count": 25,
   "metadata": {},
   "outputs": [
    {
     "data": {
      "text/html": [
       "<table>\n",
       "<thead>\n",
       "<tr><th style=\"text-align: right;\">  bad_loan</th><th style=\"text-align: right;\">  Count</th></tr>\n",
       "</thead>\n",
       "<tbody>\n",
       "<tr><td style=\"text-align: right;\">         0</td><td style=\"text-align: right;\">  32776</td></tr>\n",
       "<tr><td style=\"text-align: right;\">         1</td><td style=\"text-align: right;\">   6204</td></tr>\n",
       "</tbody>\n",
       "</table>"
      ]
     },
     "metadata": {},
     "output_type": "display_data"
    },
    {
     "data": {
      "text/plain": []
     },
     "execution_count": 25,
     "metadata": {},
     "output_type": "execute_result"
    }
   ],
   "source": [
    "bad_loan_dist = loans[\"bad_loan\"].table()\n",
    "bad_loan_dist"
   ]
  },
  {
   "cell_type": "code",
   "execution_count": 27,
   "metadata": {},
   "outputs": [
    {
     "name": "stdout",
     "output_type": "stream",
     "text": [
      "<class 'h2o.frame.H2OFrame'>\n"
     ]
    },
    {
     "data": {
      "text/html": [
       "<table>\n",
       "<thead>\n",
       "<tr><th style=\"text-align: right;\">  bad_loan</th><th style=\"text-align: right;\">  Count</th><th style=\"text-align: right;\">  Percentage</th></tr>\n",
       "</thead>\n",
       "<tbody>\n",
       "<tr><td style=\"text-align: right;\">         0</td><td style=\"text-align: right;\">  32776</td><td style=\"text-align: right;\">          84</td></tr>\n",
       "<tr><td style=\"text-align: right;\">         1</td><td style=\"text-align: right;\">   6204</td><td style=\"text-align: right;\">          16</td></tr>\n",
       "</tbody>\n",
       "</table>"
      ]
     },
     "metadata": {},
     "output_type": "display_data"
    },
    {
     "data": {
      "text/plain": []
     },
     "execution_count": 27,
     "metadata": {},
     "output_type": "execute_result"
    }
   ],
   "source": [
    "## Felix - \n",
    "print(type(bad_loan_dist)) ### TABLE returns a h2o frame\n",
    "bad_loan_dist[\"Percentage\"] = (100 * bad_loan_dist[\"Count\"] / loans.nrow).round()\n",
    "bad_loan_dist"
   ]
  },
  {
   "cell_type": "code",
   "execution_count": 28,
   "metadata": {},
   "outputs": [
    {
     "data": {
      "text/html": [
       "<table>\n",
       "<thead>\n",
       "<tr><th>int_rate  </th><th>revol_util  </th><th>emp_length  </th></tr>\n",
       "</thead>\n",
       "<tbody>\n",
       "<tr><td>10.65%    </td><td>83.7%       </td><td>10+ years   </td></tr>\n",
       "<tr><td>15.27%    </td><td>9.4%        </td><td>< 1 year    </td></tr>\n",
       "<tr><td>15.96%    </td><td>98.5%       </td><td>10+ years   </td></tr>\n",
       "<tr><td>13.49%    </td><td>21%         </td><td>10+ years   </td></tr>\n",
       "<tr><td>7.90%     </td><td>28.3%       </td><td>3 years     </td></tr>\n",
       "<tr><td>18.64%    </td><td>87.5%       </td><td>9 years     </td></tr>\n",
       "<tr><td>21.28%    </td><td>32.6%       </td><td>4 years     </td></tr>\n",
       "<tr><td>12.69%    </td><td>36.5%       </td><td>< 1 year    </td></tr>\n",
       "<tr><td>14.65%    </td><td>20.6%       </td><td>5 years     </td></tr>\n",
       "<tr><td>12.69%    </td><td>67.1%       </td><td>10+ years   </td></tr>\n",
       "</tbody>\n",
       "</table>"
      ]
     },
     "metadata": {},
     "output_type": "display_data"
    },
    {
     "data": {
      "text/plain": []
     },
     "execution_count": 28,
     "metadata": {},
     "output_type": "execute_result"
    }
   ],
   "source": [
    "loans[[\"int_rate\", \"revol_util\", \"emp_length\"]].head()"
   ]
  },
  {
   "cell_type": "code",
   "execution_count": 29,
   "metadata": {},
   "outputs": [],
   "source": [
    "loans[\"int_rate\"] = loans[\"int_rate\"].gsub(pattern = \"%\", replacement = \"\") # strip %\n",
    "loans[\"int_rate\"] = loans[\"int_rate\"].trim() # trim whitespace\n",
    "loans[\"int_rate\"] = loans[\"int_rate\"].asnumeric() # change to numeric "
   ]
  },
  {
   "cell_type": "code",
   "execution_count": 30,
   "metadata": {},
   "outputs": [],
   "source": [
    "loans[\"revol_util\"] = loans[\"revol_util\"].gsub(pattern=\"%\", replacement=\"\") # strip %\n",
    "loans[\"revol_util\"] = loans[\"revol_util\"].trim() # trim whitespace\n",
    "loans[\"revol_util\"] = loans[\"revol_util\"].asnumeric() # change to numeric "
   ]
  },
  {
   "cell_type": "code",
   "execution_count": 31,
   "metadata": {},
   "outputs": [],
   "source": [
    "# Use gsub to remove \" year\" and \" years\"; also translate n/a to \"\" \n",
    "loans[\"emp_length\"] = loans[\"emp_length\"].gsub(pattern=\"([ ]*+[a-zA-Z].*)|(n/a)\", replacement=\"\") \n",
    "loans[\"emp_length\"] = loans[\"emp_length\"].trim() # trim whitespace\n",
    "\n",
    "loans[\"emp_length\"] = loans[\"emp_length\"].gsub(pattern=\"< 1\", replacement=\"0\") # convert \"< 1\" to 0\n",
    "loans[\"emp_length\"] = loans[\"emp_length\"].gsub(pattern=\"10\\\\+\", replacement=\"10\") # convert \"10+\" to 10\n",
    "loans[\"emp_length\"] = loans[\"emp_length\"].asnumeric() # trim whitespace"
   ]
  },
  {
   "cell_type": "code",
   "execution_count": 32,
   "metadata": {},
   "outputs": [
    {
     "data": {
      "text/html": [
       "<table>\n",
       "<thead>\n",
       "<tr><th style=\"text-align: right;\">  int_rate</th><th style=\"text-align: right;\">  revol_util</th><th style=\"text-align: right;\">  emp_length</th></tr>\n",
       "</thead>\n",
       "<tbody>\n",
       "<tr><td style=\"text-align: right;\">     10.65</td><td style=\"text-align: right;\">        83.7</td><td style=\"text-align: right;\">          10</td></tr>\n",
       "<tr><td style=\"text-align: right;\">     15.27</td><td style=\"text-align: right;\">         9.4</td><td style=\"text-align: right;\">           0</td></tr>\n",
       "<tr><td style=\"text-align: right;\">     15.96</td><td style=\"text-align: right;\">        98.5</td><td style=\"text-align: right;\">          10</td></tr>\n",
       "<tr><td style=\"text-align: right;\">     13.49</td><td style=\"text-align: right;\">        21  </td><td style=\"text-align: right;\">          10</td></tr>\n",
       "<tr><td style=\"text-align: right;\">      7.9 </td><td style=\"text-align: right;\">        28.3</td><td style=\"text-align: right;\">           3</td></tr>\n",
       "<tr><td style=\"text-align: right;\">     18.64</td><td style=\"text-align: right;\">        87.5</td><td style=\"text-align: right;\">           9</td></tr>\n",
       "<tr><td style=\"text-align: right;\">     21.28</td><td style=\"text-align: right;\">        32.6</td><td style=\"text-align: right;\">           4</td></tr>\n",
       "<tr><td style=\"text-align: right;\">     12.69</td><td style=\"text-align: right;\">        36.5</td><td style=\"text-align: right;\">           0</td></tr>\n",
       "<tr><td style=\"text-align: right;\">     14.65</td><td style=\"text-align: right;\">        20.6</td><td style=\"text-align: right;\">           5</td></tr>\n",
       "<tr><td style=\"text-align: right;\">     12.69</td><td style=\"text-align: right;\">        67.1</td><td style=\"text-align: right;\">          10</td></tr>\n",
       "</tbody>\n",
       "</table>"
      ]
     },
     "metadata": {},
     "output_type": "display_data"
    },
    {
     "data": {
      "text/plain": []
     },
     "execution_count": 32,
     "metadata": {},
     "output_type": "execute_result"
    }
   ],
   "source": [
    "loans[[\"int_rate\", \"revol_util\", \"emp_length\"]].head()"
   ]
  },
  {
   "cell_type": "code",
   "execution_count": 33,
   "metadata": {},
   "outputs": [
    {
     "name": "stdout",
     "output_type": "stream",
     "text": [
      "Bad Loans\n"
     ]
    },
    {
     "data": {
      "image/png": "[encoded data removed]",
      "text/plain": [
       "<Figure size 432x288 with 1 Axes>"
      ]
     },
     "metadata": {
      "needs_background": "light"
     },
     "output_type": "display_data"
    },
    {
     "name": "stdout",
     "output_type": "stream",
     "text": [
      "Good Loans\n"
     ]
    },
    {
     "data": {
      "image/png": "[encoded data removed]",
      "text/plain": [
       "<Figure size 432x288 with 1 Axes>"
      ]
     },
     "metadata": {
      "needs_background": "light"
     },
     "output_type": "display_data"
    }
   ],
   "source": [
    "%matplotlib inline\n",
    "\n",
    "print(\"Bad Loans\")\n",
    "loans[loans[\"bad_loan\"] == \"1\", \"int_rate\"].hist()\n",
    "\n",
    "print(\"Good Loans\")\n",
    "loans[loans[\"bad_loan\"] == \"0\", \"int_rate\"].hist()"
   ]
  },
  {
   "cell_type": "markdown",
   "metadata": {},
   "source": [
    "### As expected, the bad loan distribution contains proportionately more high interest rate loans than the distribution for good loans. Likewise, the good loan distribution contains a higher proportion of low interest rate loans than that for bad loans. It would not surprise us if interest rate were a strong predictor of loan performance.\n",
    "\n",
    "### Financial institutions typically set a borrower's interest rate based on factors like estimated risk and customer demand. If the underwriting rules are any good at all, we would expect interest rate to be one of the best predictors of default."
   ]
  },
  {
   "cell_type": "code",
   "execution_count": 34,
   "metadata": {},
   "outputs": [
    {
     "data": {
      "text/html": [
       "<table>\n",
       "<thead>\n",
       "<tr><th>verification_status     </th></tr>\n",
       "</thead>\n",
       "<tbody>\n",
       "<tr><td>VERIFIED - income       </td></tr>\n",
       "<tr><td>VERIFIED - income source</td></tr>\n",
       "<tr><td>not verified            </td></tr>\n",
       "<tr><td>VERIFIED - income source</td></tr>\n",
       "<tr><td>VERIFIED - income source</td></tr>\n",
       "<tr><td>VERIFIED - income source</td></tr>\n",
       "<tr><td>VERIFIED - income source</td></tr>\n",
       "<tr><td>VERIFIED - income       </td></tr>\n",
       "<tr><td>not verified            </td></tr>\n",
       "<tr><td>VERIFIED - income source</td></tr>\n",
       "</tbody>\n",
       "</table>"
      ]
     },
     "metadata": {},
     "output_type": "display_data"
    },
    {
     "data": {
      "text/plain": []
     },
     "execution_count": 34,
     "metadata": {},
     "output_type": "execute_result"
    }
   ],
   "source": [
    "loans[\"verification_status\"].head()"
   ]
  },
  {
   "cell_type": "code",
   "execution_count": 35,
   "metadata": {},
   "outputs": [],
   "source": [
    "loans[\"verification_status\"] = loans[\"verification_status\"].sub(pattern=\"VERIFIED - income source\", \n",
    "                                                                replacement=\"verified\")\n",
    "loans[\"verification_status\"] = loans[\"verification_status\"].sub(pattern=\"VERIFIED - income\", \n",
    "                                                                replacement=\"verified\")\n",
    "loans[\"verification_status\"] = loans[\"verification_status\"].asfactor()"
   ]
  },
  {
   "cell_type": "code",
   "execution_count": 36,
   "metadata": {},
   "outputs": [
    {
     "data": {
      "text/html": [
       "<table>\n",
       "<thead>\n",
       "<tr><th>verification_status  </th><th style=\"text-align: right;\">  Count</th></tr>\n",
       "</thead>\n",
       "<tbody>\n",
       "<tr><td>not verified         </td><td style=\"text-align: right;\">  17947</td></tr>\n",
       "<tr><td>verified             </td><td style=\"text-align: right;\">  21032</td></tr>\n",
       "</tbody>\n",
       "</table>"
      ]
     },
     "metadata": {},
     "output_type": "display_data"
    },
    {
     "data": {
      "text/plain": []
     },
     "execution_count": 36,
     "metadata": {},
     "output_type": "execute_result"
    }
   ],
   "source": [
    "loans[\"verification_status\"].table()"
   ]
  },
  {
   "cell_type": "markdown",
   "metadata": {},
   "source": [
    "# Feature Engineering"
   ]
  },
  {
   "cell_type": "code",
   "execution_count": 37,
   "metadata": {},
   "outputs": [
    {
     "data": {
      "text/html": [
       "<table>\n",
       "<thead>\n",
       "<tr><th style=\"text-align: right;\">  credit_length</th></tr>\n",
       "</thead>\n",
       "<tbody>\n",
       "<tr><td style=\"text-align: right;\">             26</td></tr>\n",
       "<tr><td style=\"text-align: right;\">             12</td></tr>\n",
       "<tr><td style=\"text-align: right;\">             10</td></tr>\n",
       "<tr><td style=\"text-align: right;\">             15</td></tr>\n",
       "<tr><td style=\"text-align: right;\">              7</td></tr>\n",
       "<tr><td style=\"text-align: right;\">              4</td></tr>\n",
       "<tr><td style=\"text-align: right;\">              7</td></tr>\n",
       "<tr><td style=\"text-align: right;\">              7</td></tr>\n",
       "<tr><td style=\"text-align: right;\">             13</td></tr>\n",
       "<tr><td style=\"text-align: right;\">             22</td></tr>\n",
       "</tbody>\n",
       "</table>"
      ]
     },
     "metadata": {},
     "output_type": "display_data"
    },
    {
     "data": {
      "text/plain": []
     },
     "execution_count": 37,
     "metadata": {},
     "output_type": "execute_result"
    }
   ],
   "source": [
    "loans[\"credit_length\"] = loans[\"issue_d\"].year() - loans[\"earliest_cr_line\"].year()\n",
    "loans[\"credit_length\"].head()"
   ]
  },
  {
   "cell_type": "code",
   "execution_count": 38,
   "metadata": {},
   "outputs": [
    {
     "data": {
      "text/html": [
       "<table>\n",
       "<thead>\n",
       "<tr><th style=\"text-align: right;\">  issue_d_year</th><th style=\"text-align: right;\">  issue_d_month</th></tr>\n",
       "</thead>\n",
       "<tbody>\n",
       "<tr><td style=\"text-align: right;\">          2011</td><td style=\"text-align: right;\">             12</td></tr>\n",
       "<tr><td style=\"text-align: right;\">          2011</td><td style=\"text-align: right;\">             12</td></tr>\n",
       "<tr><td style=\"text-align: right;\">          2011</td><td style=\"text-align: right;\">             12</td></tr>\n",
       "<tr><td style=\"text-align: right;\">          2011</td><td style=\"text-align: right;\">             12</td></tr>\n",
       "<tr><td style=\"text-align: right;\">          2011</td><td style=\"text-align: right;\">             12</td></tr>\n",
       "<tr><td style=\"text-align: right;\">          2011</td><td style=\"text-align: right;\">             12</td></tr>\n",
       "<tr><td style=\"text-align: right;\">          2011</td><td style=\"text-align: right;\">             12</td></tr>\n",
       "<tr><td style=\"text-align: right;\">          2011</td><td style=\"text-align: right;\">             12</td></tr>\n",
       "<tr><td style=\"text-align: right;\">          2011</td><td style=\"text-align: right;\">             12</td></tr>\n",
       "<tr><td style=\"text-align: right;\">          2011</td><td style=\"text-align: right;\">             12</td></tr>\n",
       "</tbody>\n",
       "</table>"
      ]
     },
     "metadata": {},
     "output_type": "display_data"
    },
    {
     "data": {
      "text/plain": []
     },
     "execution_count": 38,
     "metadata": {},
     "output_type": "execute_result"
    }
   ],
   "source": [
    "loans[\"issue_d_year\"] = loans[\"issue_d\"].year()\n",
    "loans[\"issue_d_month\"] = loans[\"issue_d\"].month().asfactor()\n",
    "\n",
    "loans[[\"issue_d_year\", \"issue_d_month\"]].head()"
   ]
  },
  {
   "cell_type": "code",
   "execution_count": 39,
   "metadata": {},
   "outputs": [
    {
     "data": {
      "text/html": [
       "<table>\n",
       "<thead>\n",
       "<tr><th>desc                                                                                                                                                                                                                                                                                                                                                                                                                                                                                                                                                                                                        </th></tr>\n",
       "</thead>\n",
       "<tbody>\n",
       "<tr><td>Borrower added on 12/22/11 > I need to upgrade my business technologies.<br>                                                                                                                                                                                                                                                                                                                                                                                                                                                                                                                                </td></tr>\n",
       "<tr><td>Borrower added on 12/22/11 > I plan to use this money to finance the motorcycle i am looking at. I plan to have it paid off as soon as possible/when i sell my old bike. I only need this money because the deal im looking at is to good to pass up.<br><br>  Borrower added on 12/22/11 > I plan to use this money to finance the motorcycle i am looking at. I plan to have it paid off as soon as possible/when i sell my old bike.I only need this money because the deal im looking at is to good to pass up. I have finished college with an associates degree in business and its takingmeplaces<br></td></tr>\n",
       "<tr><td>                                                                                                                                                                                                                                                                                                                                                                                                                                                                                                                                                                                                            </td></tr>\n",
       "<tr><td>Borrower added on 12/21/11 > to pay for property tax (borrow from friend, need to pay back) & central A/C need to be replace. I'm very sorry to let my loan expired last time.<br>                                                                                                                                                                                                                                                                                                                                                                                                                          </td></tr>\n",
       "<tr><td>                                                                                                                                                                                                                                                                                                                                                                                                                                                                                                                                                                                                            </td></tr>\n",
       "<tr><td>Borrower added on 12/16/11 > Downpayment for a car.<br>                                                                                                                                                                                                                                                                                                                                                                                                                                                                                                                                                     </td></tr>\n",
       "<tr><td>Borrower added on 12/21/11 > I own a small home-based judgment collection business. I have 5 years experience collecting debts. I am now going from a home office to a small office. I also plan to buy a small debt portfolio (eg. $10K for $1M of debt) <br>My score is not A+ because I own my home and have no mortgage.<br>                                                                                                                                                                                                                                                                            </td></tr>\n",
       "<tr><td>Borrower added on 12/16/11 > I'm trying to build up my credit history. I live with my brother and have no car payment or credit cards. I am in community college and work full time. Im going to use the money to make some repairs around the house and get some maintenance done on my car.<br><br>  Borrower added on 12/20/11 > $1000 down only $4375 to go. Thanks to everyone that invested so far, looking forward to surprising my brother with the fixes around the house.<br>                                                                                                                     </td></tr>\n",
       "<tr><td>Borrower added on 12/15/11 > I had recived a loan from Citi Financial about a year ago, I was paying 29.99 intrest, so the refinance is to cut that rate since cleaning up my credit I have been paying everything on time as shown on my credit report<br>                                                                                                                                                                                                                                                                                                                                                 </td></tr>\n",
       "<tr><td>                                                                                                                                                                                                                                                                                                                                                                                                                                                                                                                                                                                                            </td></tr>\n",
       "</tbody>\n",
       "</table>"
      ]
     },
     "metadata": {},
     "output_type": "display_data"
    },
    {
     "data": {
      "text/plain": []
     },
     "execution_count": 39,
     "metadata": {},
     "output_type": "execute_result"
    }
   ],
   "source": [
    "loans[\"desc\"].head()"
   ]
  },
  {
   "cell_type": "code",
   "execution_count": 40,
   "metadata": {},
   "outputs": [],
   "source": [
    "STOP_WORDS = [\"ax\",\"i\",\"you\",\"edu\",\"s\",\"t\",\"m\",\"subject\",\"can\",\"lines\",\"re\",\"what\",\n",
    "              \"there\",\"all\",\"we\",\"one\",\"the\",\"a\",\"an\",\"of\",\"or\",\"in\",\"for\",\"by\",\"on\",\n",
    "              \"but\",\"is\",\"in\",\"a\",\"not\",\"with\",\"as\",\"was\",\"if\",\"they\",\"are\",\"this\",\"and\",\"it\",\"have\",\n",
    "              \"from\",\"at\",\"my\",\"be\",\"by\",\"not\",\"that\",\"to\",\"from\",\"com\",\"org\",\"like\",\"likes\",\"so\"]"
   ]
  },
  {
   "cell_type": "code",
   "execution_count": 41,
   "metadata": {},
   "outputs": [],
   "source": [
    "def tokenize(sentences, stop_word = STOP_WORDS):\n",
    "    tokenized = sentences.tokenize(\"\\\\W+\")\n",
    "    tokenized_lower = tokenized.tolower()\n",
    "    tokenized_filtered = tokenized_lower[(tokenized_lower.nchar() >= 2) | (tokenized_lower.isna()),:]\n",
    "    tokenized_words = tokenized_filtered[tokenized_filtered.grep(\"[0-9]\",invert=True,output_logical=True),:]\n",
    "    tokenized_words = tokenized_words[(tokenized_words.isna()) | (~ tokenized_words.isin(STOP_WORDS)),:]\n",
    "    return tokenized_words\n",
    "\n",
    "words = tokenize(loans[\"desc\"].ascharacter())"
   ]
  },
  {
   "cell_type": "markdown",
   "metadata": {},
   "source": [
    "#### Then we train our Word2Vec model on the words extracted from our descriptions. We choose an output vector size of 100.\n",
    "\n",
    "#### What does Word2Vec do? At a high level, it is a dimensionality reduction method for numerical representations of text. But it reduces dimensionality while preserving relationships between words in the text.\n",
    "\n",
    "#### Suppose we were to create a dictionary of all the words in our descriptions, and further suppose that dictionary contained 2500 unique words. At one extreme, we could create an indicator variable for each word (i.e., one-hot encoding). This would yield 2500 new features that would certainly lead to massive overfitting of models.\n",
    "\n",
    "#### At the other extreme, suppose we had someone classify those words into different groups and create indicator variables for each group: e.g., risky_words (\"bankruptcy\", \"default\", \"forfeit\", \"lien\", etc.), angry_words (profanity, \"complaint\", etc.), and so on. This reduces dimensionality by manually grouping words, but it is extremely labor intensive.\n",
    "\n",
    "#### Word2Vec starts with the entire dictionary size  𝐾  as inputs and the selected vector size  𝑘  as the target number of outputs. Passing through the intermediate layer(s) of the Word2Vec neural net, a  𝑘 -dimensional numeric representation of each word is derived."
   ]
  },
  {
   "cell_type": "code",
   "execution_count": 42,
   "metadata": {},
   "outputs": [
    {
     "name": "stdout",
     "output_type": "stream",
     "text": [
      "word2vec Model Build progress: |██████████████████████████████████████████| 100%\n"
     ]
    }
   ],
   "source": [
    "from h2o.estimators.word2vec import H2OWord2vecEstimator\n",
    "\n",
    "w2v_model = H2OWord2vecEstimator(vec_size=100, model_id=\"w2v\")\n",
    "w2v_model.train(training_frame=words)"
   ]
  },
  {
   "cell_type": "code",
   "execution_count": 43,
   "metadata": {},
   "outputs": [
    {
     "data": {
      "text/plain": [
       "OrderedDict([('prius', 0.7381044626235962),\n",
       "             ('auto', 0.7254942655563354),\n",
       "             ('vehicle', 0.72477787733078),\n",
       "             ('camry', 0.7143995761871338),\n",
       "             ('lexus', 0.6998257040977478)])"
      ]
     },
     "execution_count": 43,
     "metadata": {},
     "output_type": "execute_result"
    }
   ],
   "source": [
    "w2v_model.find_synonyms(\"car\", count=5)"
   ]
  },
  {
   "cell_type": "code",
   "execution_count": 44,
   "metadata": {},
   "outputs": [
    {
     "data": {
      "text/html": [
       "<table>\n",
       "<thead>\n",
       "<tr><th style=\"text-align: right;\">         C1</th><th style=\"text-align: right;\">         C2</th><th style=\"text-align: right;\">         C3</th><th style=\"text-align: right;\">         C4</th><th style=\"text-align: right;\">         C5</th><th style=\"text-align: right;\">         C6</th><th style=\"text-align: right;\">        C7</th><th style=\"text-align: right;\">        C8</th><th style=\"text-align: right;\">        C9</th><th style=\"text-align: right;\">         C10</th><th style=\"text-align: right;\">         C11</th><th style=\"text-align: right;\">       C12</th><th style=\"text-align: right;\">        C13</th><th style=\"text-align: right;\">        C14</th><th style=\"text-align: right;\">        C15</th><th style=\"text-align: right;\">        C16</th><th style=\"text-align: right;\">        C17</th><th style=\"text-align: right;\">         C18</th><th style=\"text-align: right;\">       C19</th><th style=\"text-align: right;\">         C20</th><th style=\"text-align: right;\">        C21</th><th style=\"text-align: right;\">        C22</th><th style=\"text-align: right;\">        C23</th><th style=\"text-align: right;\">        C24</th><th style=\"text-align: right;\">         C25</th><th style=\"text-align: right;\">       C26</th><th style=\"text-align: right;\">        C27</th><th style=\"text-align: right;\">        C28</th><th style=\"text-align: right;\">        C29</th><th style=\"text-align: right;\">        C30</th><th style=\"text-align: right;\">        C31</th><th style=\"text-align: right;\">        C32</th><th style=\"text-align: right;\">        C33</th><th style=\"text-align: right;\">        C34</th><th style=\"text-align: right;\">        C35</th><th style=\"text-align: right;\">        C36</th><th style=\"text-align: right;\">        C37</th><th style=\"text-align: right;\">        C38</th><th style=\"text-align: right;\">        C39</th><th style=\"text-align: right;\">         C40</th><th style=\"text-align: right;\">         C41</th><th style=\"text-align: right;\">       C42</th><th style=\"text-align: right;\">        C43</th><th style=\"text-align: right;\">        C44</th><th style=\"text-align: right;\">         C45</th><th style=\"text-align: right;\">          C46</th><th style=\"text-align: right;\">         C47</th><th style=\"text-align: right;\">       C48</th><th style=\"text-align: right;\">        C49</th><th style=\"text-align: right;\">        C50</th><th style=\"text-align: right;\">        C51</th><th style=\"text-align: right;\">        C52</th><th style=\"text-align: right;\">        C53</th><th style=\"text-align: right;\">        C54</th><th style=\"text-align: right;\">        C55</th><th style=\"text-align: right;\">          C56</th><th style=\"text-align: right;\">         C57</th><th style=\"text-align: right;\">        C58</th><th style=\"text-align: right;\">        C59</th><th style=\"text-align: right;\">        C60</th><th style=\"text-align: right;\">        C61</th><th style=\"text-align: right;\">        C62</th><th style=\"text-align: right;\">         C63</th><th style=\"text-align: right;\">         C64</th><th style=\"text-align: right;\">        C65</th><th style=\"text-align: right;\">         C66</th><th style=\"text-align: right;\">         C67</th><th style=\"text-align: right;\">         C68</th><th style=\"text-align: right;\">        C69</th><th style=\"text-align: right;\">        C70</th><th style=\"text-align: right;\">         C71</th><th style=\"text-align: right;\">         C72</th><th style=\"text-align: right;\">        C73</th><th style=\"text-align: right;\">        C74</th><th style=\"text-align: right;\">         C75</th><th style=\"text-align: right;\">        C76</th><th style=\"text-align: right;\">        C77</th><th style=\"text-align: right;\">         C78</th><th style=\"text-align: right;\">         C79</th><th style=\"text-align: right;\">         C80</th><th style=\"text-align: right;\">        C81</th><th style=\"text-align: right;\">         C82</th><th style=\"text-align: right;\">         C83</th><th style=\"text-align: right;\">          C84</th><th style=\"text-align: right;\">         C85</th><th style=\"text-align: right;\">        C86</th><th style=\"text-align: right;\">       C87</th><th style=\"text-align: right;\">        C88</th><th style=\"text-align: right;\">        C89</th><th style=\"text-align: right;\">        C90</th><th style=\"text-align: right;\">        C91</th><th style=\"text-align: right;\">        C92</th><th style=\"text-align: right;\">        C93</th><th style=\"text-align: right;\">         C94</th><th style=\"text-align: right;\">        C95</th><th style=\"text-align: right;\">       C96</th><th style=\"text-align: right;\">         C97</th><th style=\"text-align: right;\">       C98</th><th style=\"text-align: right;\">         C99</th><th style=\"text-align: right;\">      C100</th></tr>\n",
       "</thead>\n",
       "<tbody>\n",
       "<tr><td style=\"text-align: right;\">  0.079154 </td><td style=\"text-align: right;\"> -0.0447813</td><td style=\"text-align: right;\">  0.0505317</td><td style=\"text-align: right;\">  0.0897037</td><td style=\"text-align: right;\">  0.124184 </td><td style=\"text-align: right;\"> -0.0250219</td><td style=\"text-align: right;\">  0.18919 </td><td style=\"text-align: right;\">  0.107293</td><td style=\"text-align: right;\">  0.246381</td><td style=\"text-align: right;\">  0.00467839</td><td style=\"text-align: right;\"> -0.0311293 </td><td style=\"text-align: right;\">  0.048149</td><td style=\"text-align: right;\">  0.0764483</td><td style=\"text-align: right;\">  0.147782 </td><td style=\"text-align: right;\"> -0.110558 </td><td style=\"text-align: right;\"> -0.180712 </td><td style=\"text-align: right;\">  0.0959883</td><td style=\"text-align: right;\">  0.0544713 </td><td style=\"text-align: right;\"> -0.202164</td><td style=\"text-align: right;\"> -0.0911254 </td><td style=\"text-align: right;\">  0.0837375</td><td style=\"text-align: right;\">  0.0382157</td><td style=\"text-align: right;\"> -0.0676286</td><td style=\"text-align: right;\"> -0.162032 </td><td style=\"text-align: right;\"> -0.0487499 </td><td style=\"text-align: right;\"> -0.190745</td><td style=\"text-align: right;\">  0.0834609</td><td style=\"text-align: right;\"> -0.142351 </td><td style=\"text-align: right;\">  0.0592805</td><td style=\"text-align: right;\">  0.105694 </td><td style=\"text-align: right;\"> -0.185222 </td><td style=\"text-align: right;\">  0.0326838</td><td style=\"text-align: right;\"> -0.0635333</td><td style=\"text-align: right;\">  0.171137 </td><td style=\"text-align: right;\">  0.103475 </td><td style=\"text-align: right;\"> -0.0705905</td><td style=\"text-align: right;\"> -0.270784 </td><td style=\"text-align: right;\"> -0.12342  </td><td style=\"text-align: right;\"> -0.0309332</td><td style=\"text-align: right;\"> -0.0362219 </td><td style=\"text-align: right;\">  0.00446411</td><td style=\"text-align: right;\"> -0.127862</td><td style=\"text-align: right;\"> -0.0130185</td><td style=\"text-align: right;\">  0.206753 </td><td style=\"text-align: right;\">  0.149106  </td><td style=\"text-align: right;\">  0.0745243  </td><td style=\"text-align: right;\"> -0.0639472 </td><td style=\"text-align: right;\">  0.293741</td><td style=\"text-align: right;\"> -0.156307 </td><td style=\"text-align: right;\"> -0.156047 </td><td style=\"text-align: right;\"> -0.0654688</td><td style=\"text-align: right;\">  0.106056 </td><td style=\"text-align: right;\">  0.164138 </td><td style=\"text-align: right;\">  0.0193068</td><td style=\"text-align: right;\"> -0.136654 </td><td style=\"text-align: right;\"> -0.00234715 </td><td style=\"text-align: right;\"> -0.0753536 </td><td style=\"text-align: right;\"> -0.112908 </td><td style=\"text-align: right;\"> -0.109102 </td><td style=\"text-align: right;\"> -0.0633953</td><td style=\"text-align: right;\">  0.0966467</td><td style=\"text-align: right;\"> -0.0325013</td><td style=\"text-align: right;\">  0.00890482</td><td style=\"text-align: right;\"> -0.0189579 </td><td style=\"text-align: right;\"> -0.093489 </td><td style=\"text-align: right;\">  0.0191134 </td><td style=\"text-align: right;\"> -0.00907771</td><td style=\"text-align: right;\"> -0.082282  </td><td style=\"text-align: right;\">  0.146438 </td><td style=\"text-align: right;\"> -0.232884 </td><td style=\"text-align: right;\"> -0.0673262 </td><td style=\"text-align: right;\">  0.0318635 </td><td style=\"text-align: right;\">  0.245974 </td><td style=\"text-align: right;\">  0.0250844</td><td style=\"text-align: right;\"> -0.00820557</td><td style=\"text-align: right;\"> -0.10959  </td><td style=\"text-align: right;\">  0.189916 </td><td style=\"text-align: right;\"> -0.0578075 </td><td style=\"text-align: right;\"> -0.0614777 </td><td style=\"text-align: right;\">  0.0683293 </td><td style=\"text-align: right;\"> -0.0184256</td><td style=\"text-align: right;\"> -0.109839  </td><td style=\"text-align: right;\"> -0.0482319 </td><td style=\"text-align: right;\"> -0.00463072 </td><td style=\"text-align: right;\">  0.00399777</td><td style=\"text-align: right;\"> -0.0882653</td><td style=\"text-align: right;\"> -0.130579</td><td style=\"text-align: right;\">  0.119297 </td><td style=\"text-align: right;\"> -0.0912742</td><td style=\"text-align: right;\">  0.179555 </td><td style=\"text-align: right;\"> -0.101205 </td><td style=\"text-align: right;\">  0.0941942</td><td style=\"text-align: right;\"> -0.222289 </td><td style=\"text-align: right;\">  0.0374214 </td><td style=\"text-align: right;\">  0.117663 </td><td style=\"text-align: right;\"> -0.327982</td><td style=\"text-align: right;\">  0.0441206 </td><td style=\"text-align: right;\"> -0.181927</td><td style=\"text-align: right;\"> -0.0840103 </td><td style=\"text-align: right;\"> -0.176265</td></tr>\n",
       "<tr><td style=\"text-align: right;\"> -0.03384  </td><td style=\"text-align: right;\"> -0.135204 </td><td style=\"text-align: right;\">  0.130151 </td><td style=\"text-align: right;\"> -0.0429125</td><td style=\"text-align: right;\">  0.0871704</td><td style=\"text-align: right;\">  0.0464006</td><td style=\"text-align: right;\">  0.198178</td><td style=\"text-align: right;\">  0.197832</td><td style=\"text-align: right;\">  0.147989</td><td style=\"text-align: right;\"> -0.00844141</td><td style=\"text-align: right;\"> -0.0335517 </td><td style=\"text-align: right;\">  0.237389</td><td style=\"text-align: right;\">  0.068229 </td><td style=\"text-align: right;\">  0.179557 </td><td style=\"text-align: right;\"> -0.214996 </td><td style=\"text-align: right;\"> -0.0152261</td><td style=\"text-align: right;\">  0.0550298</td><td style=\"text-align: right;\"> -0.00314113</td><td style=\"text-align: right;\"> -0.213111</td><td style=\"text-align: right;\"> -0.0910332 </td><td style=\"text-align: right;\">  0.079375 </td><td style=\"text-align: right;\">  0.029043 </td><td style=\"text-align: right;\"> -0.133947 </td><td style=\"text-align: right;\"> -0.0667134</td><td style=\"text-align: right;\"> -0.068088  </td><td style=\"text-align: right;\"> -0.113756</td><td style=\"text-align: right;\">  0.0604988</td><td style=\"text-align: right;\"> -0.171984 </td><td style=\"text-align: right;\"> -0.101564 </td><td style=\"text-align: right;\">  0.0806407</td><td style=\"text-align: right;\"> -0.160388 </td><td style=\"text-align: right;\">  0.177572 </td><td style=\"text-align: right;\"> -0.158337 </td><td style=\"text-align: right;\">  0.0496871</td><td style=\"text-align: right;\">  0.138072 </td><td style=\"text-align: right;\"> -0.0620984</td><td style=\"text-align: right;\"> -0.0783115</td><td style=\"text-align: right;\"> -0.143242 </td><td style=\"text-align: right;\"> -0.153024 </td><td style=\"text-align: right;\"> -0.0363256 </td><td style=\"text-align: right;\">  0.0619409 </td><td style=\"text-align: right;\"> -0.140954</td><td style=\"text-align: right;\"> -0.0830065</td><td style=\"text-align: right;\">  0.0350653</td><td style=\"text-align: right;\">  0.0261091 </td><td style=\"text-align: right;\">  0.0222007  </td><td style=\"text-align: right;\"> -0.0600137 </td><td style=\"text-align: right;\">  0.20108 </td><td style=\"text-align: right;\">  0.0562449</td><td style=\"text-align: right;\"> -0.0850424</td><td style=\"text-align: right;\"> -0.0676248</td><td style=\"text-align: right;\">  0.051771 </td><td style=\"text-align: right;\">  0.147824 </td><td style=\"text-align: right;\">  0.0885536</td><td style=\"text-align: right;\"> -0.0514161</td><td style=\"text-align: right;\">  0.0145858  </td><td style=\"text-align: right;\">  0.0402048 </td><td style=\"text-align: right;\"> -0.0746612</td><td style=\"text-align: right;\"> -0.112811 </td><td style=\"text-align: right;\"> -0.0809188</td><td style=\"text-align: right;\">  0.135375 </td><td style=\"text-align: right;\">  0.0712575</td><td style=\"text-align: right;\">  0.0727032 </td><td style=\"text-align: right;\"> -0.0323182 </td><td style=\"text-align: right;\">  0.0226432</td><td style=\"text-align: right;\">  0.0992868 </td><td style=\"text-align: right;\"> -0.0819124 </td><td style=\"text-align: right;\"> -0.0649403 </td><td style=\"text-align: right;\">  0.0159997</td><td style=\"text-align: right;\"> -0.12942  </td><td style=\"text-align: right;\">  0.0680277 </td><td style=\"text-align: right;\">  0.0156862 </td><td style=\"text-align: right;\">  0.139515 </td><td style=\"text-align: right;\">  0.0509948</td><td style=\"text-align: right;\">  0.0251681 </td><td style=\"text-align: right;\">  0.0287326</td><td style=\"text-align: right;\">  0.0294503</td><td style=\"text-align: right;\">  0.0748333 </td><td style=\"text-align: right;\"> -0.0666857 </td><td style=\"text-align: right;\"> -0.0955911 </td><td style=\"text-align: right;\">  0.0760943</td><td style=\"text-align: right;\">  0.0428429 </td><td style=\"text-align: right;\"> -0.00339202</td><td style=\"text-align: right;\"> -0.0526406  </td><td style=\"text-align: right;\">  0.00837786</td><td style=\"text-align: right;\"> -0.0962007</td><td style=\"text-align: right;\"> -0.199058</td><td style=\"text-align: right;\"> -0.0405264</td><td style=\"text-align: right;\"> -0.142862 </td><td style=\"text-align: right;\">  0.0616813</td><td style=\"text-align: right;\"> -0.134936 </td><td style=\"text-align: right;\">  0.0357432</td><td style=\"text-align: right;\"> -0.121609 </td><td style=\"text-align: right;\"> -0.00262754</td><td style=\"text-align: right;\">  0.180845 </td><td style=\"text-align: right;\"> -0.209339</td><td style=\"text-align: right;\">  0.039577  </td><td style=\"text-align: right;\"> -0.196072</td><td style=\"text-align: right;\"> -0.0561974 </td><td style=\"text-align: right;\"> -0.206696</td></tr>\n",
       "<tr><td style=\"text-align: right;\">nan        </td><td style=\"text-align: right;\">nan        </td><td style=\"text-align: right;\">nan        </td><td style=\"text-align: right;\">nan        </td><td style=\"text-align: right;\">nan        </td><td style=\"text-align: right;\">nan        </td><td style=\"text-align: right;\">nan       </td><td style=\"text-align: right;\">nan       </td><td style=\"text-align: right;\">nan       </td><td style=\"text-align: right;\">nan         </td><td style=\"text-align: right;\">nan         </td><td style=\"text-align: right;\">nan       </td><td style=\"text-align: right;\">nan        </td><td style=\"text-align: right;\">nan        </td><td style=\"text-align: right;\">nan        </td><td style=\"text-align: right;\">nan        </td><td style=\"text-align: right;\">nan        </td><td style=\"text-align: right;\">nan         </td><td style=\"text-align: right;\">nan       </td><td style=\"text-align: right;\">nan         </td><td style=\"text-align: right;\">nan        </td><td style=\"text-align: right;\">nan        </td><td style=\"text-align: right;\">nan        </td><td style=\"text-align: right;\">nan        </td><td style=\"text-align: right;\">nan         </td><td style=\"text-align: right;\">nan       </td><td style=\"text-align: right;\">nan        </td><td style=\"text-align: right;\">nan        </td><td style=\"text-align: right;\">nan        </td><td style=\"text-align: right;\">nan        </td><td style=\"text-align: right;\">nan        </td><td style=\"text-align: right;\">nan        </td><td style=\"text-align: right;\">nan        </td><td style=\"text-align: right;\">nan        </td><td style=\"text-align: right;\">nan        </td><td style=\"text-align: right;\">nan        </td><td style=\"text-align: right;\">nan        </td><td style=\"text-align: right;\">nan        </td><td style=\"text-align: right;\">nan        </td><td style=\"text-align: right;\">nan         </td><td style=\"text-align: right;\">nan         </td><td style=\"text-align: right;\">nan       </td><td style=\"text-align: right;\">nan        </td><td style=\"text-align: right;\">nan        </td><td style=\"text-align: right;\">nan         </td><td style=\"text-align: right;\">nan          </td><td style=\"text-align: right;\">nan         </td><td style=\"text-align: right;\">nan       </td><td style=\"text-align: right;\">nan        </td><td style=\"text-align: right;\">nan        </td><td style=\"text-align: right;\">nan        </td><td style=\"text-align: right;\">nan        </td><td style=\"text-align: right;\">nan        </td><td style=\"text-align: right;\">nan        </td><td style=\"text-align: right;\">nan        </td><td style=\"text-align: right;\">nan          </td><td style=\"text-align: right;\">nan         </td><td style=\"text-align: right;\">nan        </td><td style=\"text-align: right;\">nan        </td><td style=\"text-align: right;\">nan        </td><td style=\"text-align: right;\">nan        </td><td style=\"text-align: right;\">nan        </td><td style=\"text-align: right;\">nan         </td><td style=\"text-align: right;\">nan         </td><td style=\"text-align: right;\">nan        </td><td style=\"text-align: right;\">nan         </td><td style=\"text-align: right;\">nan         </td><td style=\"text-align: right;\">nan         </td><td style=\"text-align: right;\">nan        </td><td style=\"text-align: right;\">nan        </td><td style=\"text-align: right;\">nan         </td><td style=\"text-align: right;\">nan         </td><td style=\"text-align: right;\">nan        </td><td style=\"text-align: right;\">nan        </td><td style=\"text-align: right;\">nan         </td><td style=\"text-align: right;\">nan        </td><td style=\"text-align: right;\">nan        </td><td style=\"text-align: right;\">nan         </td><td style=\"text-align: right;\">nan         </td><td style=\"text-align: right;\">nan         </td><td style=\"text-align: right;\">nan        </td><td style=\"text-align: right;\">nan         </td><td style=\"text-align: right;\">nan         </td><td style=\"text-align: right;\">nan          </td><td style=\"text-align: right;\">nan         </td><td style=\"text-align: right;\">nan        </td><td style=\"text-align: right;\">nan       </td><td style=\"text-align: right;\">nan        </td><td style=\"text-align: right;\">nan        </td><td style=\"text-align: right;\">nan        </td><td style=\"text-align: right;\">nan        </td><td style=\"text-align: right;\">nan        </td><td style=\"text-align: right;\">nan        </td><td style=\"text-align: right;\">nan         </td><td style=\"text-align: right;\">nan        </td><td style=\"text-align: right;\">nan       </td><td style=\"text-align: right;\">nan         </td><td style=\"text-align: right;\">nan       </td><td style=\"text-align: right;\">nan         </td><td style=\"text-align: right;\">nan       </td></tr>\n",
       "<tr><td style=\"text-align: right;\"> -0.0237933</td><td style=\"text-align: right;\"> -0.174663 </td><td style=\"text-align: right;\">  0.11134  </td><td style=\"text-align: right;\"> -0.040949 </td><td style=\"text-align: right;\">  0.133245 </td><td style=\"text-align: right;\">  0.145327 </td><td style=\"text-align: right;\">  0.302087</td><td style=\"text-align: right;\">  0.207805</td><td style=\"text-align: right;\">  0.190606</td><td style=\"text-align: right;\">  0.0402139 </td><td style=\"text-align: right;\"> -0.0300555 </td><td style=\"text-align: right;\">  0.214352</td><td style=\"text-align: right;\">  0.0480197</td><td style=\"text-align: right;\">  0.215159 </td><td style=\"text-align: right;\"> -0.141693 </td><td style=\"text-align: right;\"> -0.0544578</td><td style=\"text-align: right;\"> -0.0352794</td><td style=\"text-align: right;\">  0.00664228</td><td style=\"text-align: right;\"> -0.147513</td><td style=\"text-align: right;\"> -0.0646562 </td><td style=\"text-align: right;\">  0.076571 </td><td style=\"text-align: right;\">  0.0137204</td><td style=\"text-align: right;\"> -0.0100215</td><td style=\"text-align: right;\"> -0.0286069</td><td style=\"text-align: right;\"> -0.0422896 </td><td style=\"text-align: right;\"> -0.134221</td><td style=\"text-align: right;\">  0.0625905</td><td style=\"text-align: right;\"> -0.0942341</td><td style=\"text-align: right;\">  0.0384124</td><td style=\"text-align: right;\"> -0.0593825</td><td style=\"text-align: right;\"> -0.194199 </td><td style=\"text-align: right;\">  0.177402 </td><td style=\"text-align: right;\"> -0.185957 </td><td style=\"text-align: right;\">  0.0244931</td><td style=\"text-align: right;\">  0.0711996</td><td style=\"text-align: right;\"> -0.0436283</td><td style=\"text-align: right;\"> -0.165557 </td><td style=\"text-align: right;\"> -0.151753 </td><td style=\"text-align: right;\"> -0.0993476</td><td style=\"text-align: right;\"> -0.0485771 </td><td style=\"text-align: right;\">  0.0175815 </td><td style=\"text-align: right;\"> -0.134968</td><td style=\"text-align: right;\"> -0.0143668</td><td style=\"text-align: right;\">  0.0873511</td><td style=\"text-align: right;\"> -0.0170219 </td><td style=\"text-align: right;\">  0.0992848  </td><td style=\"text-align: right;\"> -0.0893713 </td><td style=\"text-align: right;\">  0.169049</td><td style=\"text-align: right;\">  0.0267033</td><td style=\"text-align: right;\"> -0.0298779</td><td style=\"text-align: right;\"> -0.103102 </td><td style=\"text-align: right;\">  0.0648899</td><td style=\"text-align: right;\">  0.111092 </td><td style=\"text-align: right;\">  0.0728826</td><td style=\"text-align: right;\"> -0.0326058</td><td style=\"text-align: right;\"> -0.000974047</td><td style=\"text-align: right;\">  0.173059  </td><td style=\"text-align: right;\"> -0.0251366</td><td style=\"text-align: right;\"> -0.0963387</td><td style=\"text-align: right;\"> -0.0740858</td><td style=\"text-align: right;\">  0.0945555</td><td style=\"text-align: right;\">  0.115866 </td><td style=\"text-align: right;\">  0.0744225 </td><td style=\"text-align: right;\">  0.00154102</td><td style=\"text-align: right;\"> -0.0415205</td><td style=\"text-align: right;\">  0.0933452 </td><td style=\"text-align: right;\">  0.0216062 </td><td style=\"text-align: right;\"> -0.00614117</td><td style=\"text-align: right;\">  0.0474075</td><td style=\"text-align: right;\"> -0.148105 </td><td style=\"text-align: right;\">  0.0419297 </td><td style=\"text-align: right;\">  0.0563256 </td><td style=\"text-align: right;\">  0.136678 </td><td style=\"text-align: right;\">  0.0472417</td><td style=\"text-align: right;\">  0.00990904</td><td style=\"text-align: right;\"> -0.0126494</td><td style=\"text-align: right;\">  0.0474997</td><td style=\"text-align: right;\">  0.00510791</td><td style=\"text-align: right;\"> -0.0636005 </td><td style=\"text-align: right;\"> -0.077212  </td><td style=\"text-align: right;\">  0.0353537</td><td style=\"text-align: right;\">  0.0385423 </td><td style=\"text-align: right;\"> -0.0562366 </td><td style=\"text-align: right;\"> -0.12718    </td><td style=\"text-align: right;\">  0.0625747 </td><td style=\"text-align: right;\"> -0.0596657</td><td style=\"text-align: right;\"> -0.163752</td><td style=\"text-align: right;\">  0.0942956</td><td style=\"text-align: right;\"> -0.134014 </td><td style=\"text-align: right;\">  0.0429058</td><td style=\"text-align: right;\"> -0.0595331</td><td style=\"text-align: right;\">  0.185199 </td><td style=\"text-align: right;\"> -0.153026 </td><td style=\"text-align: right;\">  0.0863614 </td><td style=\"text-align: right;\">  0.0726354</td><td style=\"text-align: right;\"> -0.24318 </td><td style=\"text-align: right;\"> -0.0022342 </td><td style=\"text-align: right;\"> -0.313871</td><td style=\"text-align: right;\"> -0.00577697</td><td style=\"text-align: right;\"> -0.167664</td></tr>\n",
       "<tr><td style=\"text-align: right;\">nan        </td><td style=\"text-align: right;\">nan        </td><td style=\"text-align: right;\">nan        </td><td style=\"text-align: right;\">nan        </td><td style=\"text-align: right;\">nan        </td><td style=\"text-align: right;\">nan        </td><td style=\"text-align: right;\">nan       </td><td style=\"text-align: right;\">nan       </td><td style=\"text-align: right;\">nan       </td><td style=\"text-align: right;\">nan         </td><td style=\"text-align: right;\">nan         </td><td style=\"text-align: right;\">nan       </td><td style=\"text-align: right;\">nan        </td><td style=\"text-align: right;\">nan        </td><td style=\"text-align: right;\">nan        </td><td style=\"text-align: right;\">nan        </td><td style=\"text-align: right;\">nan        </td><td style=\"text-align: right;\">nan         </td><td style=\"text-align: right;\">nan       </td><td style=\"text-align: right;\">nan         </td><td style=\"text-align: right;\">nan        </td><td style=\"text-align: right;\">nan        </td><td style=\"text-align: right;\">nan        </td><td style=\"text-align: right;\">nan        </td><td style=\"text-align: right;\">nan         </td><td style=\"text-align: right;\">nan       </td><td style=\"text-align: right;\">nan        </td><td style=\"text-align: right;\">nan        </td><td style=\"text-align: right;\">nan        </td><td style=\"text-align: right;\">nan        </td><td style=\"text-align: right;\">nan        </td><td style=\"text-align: right;\">nan        </td><td style=\"text-align: right;\">nan        </td><td style=\"text-align: right;\">nan        </td><td style=\"text-align: right;\">nan        </td><td style=\"text-align: right;\">nan        </td><td style=\"text-align: right;\">nan        </td><td style=\"text-align: right;\">nan        </td><td style=\"text-align: right;\">nan        </td><td style=\"text-align: right;\">nan         </td><td style=\"text-align: right;\">nan         </td><td style=\"text-align: right;\">nan       </td><td style=\"text-align: right;\">nan        </td><td style=\"text-align: right;\">nan        </td><td style=\"text-align: right;\">nan         </td><td style=\"text-align: right;\">nan          </td><td style=\"text-align: right;\">nan         </td><td style=\"text-align: right;\">nan       </td><td style=\"text-align: right;\">nan        </td><td style=\"text-align: right;\">nan        </td><td style=\"text-align: right;\">nan        </td><td style=\"text-align: right;\">nan        </td><td style=\"text-align: right;\">nan        </td><td style=\"text-align: right;\">nan        </td><td style=\"text-align: right;\">nan        </td><td style=\"text-align: right;\">nan          </td><td style=\"text-align: right;\">nan         </td><td style=\"text-align: right;\">nan        </td><td style=\"text-align: right;\">nan        </td><td style=\"text-align: right;\">nan        </td><td style=\"text-align: right;\">nan        </td><td style=\"text-align: right;\">nan        </td><td style=\"text-align: right;\">nan         </td><td style=\"text-align: right;\">nan         </td><td style=\"text-align: right;\">nan        </td><td style=\"text-align: right;\">nan         </td><td style=\"text-align: right;\">nan         </td><td style=\"text-align: right;\">nan         </td><td style=\"text-align: right;\">nan        </td><td style=\"text-align: right;\">nan        </td><td style=\"text-align: right;\">nan         </td><td style=\"text-align: right;\">nan         </td><td style=\"text-align: right;\">nan        </td><td style=\"text-align: right;\">nan        </td><td style=\"text-align: right;\">nan         </td><td style=\"text-align: right;\">nan        </td><td style=\"text-align: right;\">nan        </td><td style=\"text-align: right;\">nan         </td><td style=\"text-align: right;\">nan         </td><td style=\"text-align: right;\">nan         </td><td style=\"text-align: right;\">nan        </td><td style=\"text-align: right;\">nan         </td><td style=\"text-align: right;\">nan         </td><td style=\"text-align: right;\">nan          </td><td style=\"text-align: right;\">nan         </td><td style=\"text-align: right;\">nan        </td><td style=\"text-align: right;\">nan       </td><td style=\"text-align: right;\">nan        </td><td style=\"text-align: right;\">nan        </td><td style=\"text-align: right;\">nan        </td><td style=\"text-align: right;\">nan        </td><td style=\"text-align: right;\">nan        </td><td style=\"text-align: right;\">nan        </td><td style=\"text-align: right;\">nan         </td><td style=\"text-align: right;\">nan        </td><td style=\"text-align: right;\">nan       </td><td style=\"text-align: right;\">nan         </td><td style=\"text-align: right;\">nan       </td><td style=\"text-align: right;\">nan         </td><td style=\"text-align: right;\">nan       </td></tr>\n",
       "<tr><td style=\"text-align: right;\">  0.157912 </td><td style=\"text-align: right;\"> -0.145457 </td><td style=\"text-align: right;\">  0.0555353</td><td style=\"text-align: right;\"> -0.0925129</td><td style=\"text-align: right;\">  0.107349 </td><td style=\"text-align: right;\">  0.191845 </td><td style=\"text-align: right;\">  0.30927 </td><td style=\"text-align: right;\">  0.171622</td><td style=\"text-align: right;\">  0.295942</td><td style=\"text-align: right;\">  0.0203161 </td><td style=\"text-align: right;\"> -0.0468767 </td><td style=\"text-align: right;\">  0.270979</td><td style=\"text-align: right;\"> -0.022193 </td><td style=\"text-align: right;\">  0.0229045</td><td style=\"text-align: right;\"> -0.0735986</td><td style=\"text-align: right;\"> -0.0702908</td><td style=\"text-align: right;\">  0.0130025</td><td style=\"text-align: right;\">  0.119765  </td><td style=\"text-align: right;\"> -0.14376 </td><td style=\"text-align: right;\"> -0.0205814 </td><td style=\"text-align: right;\">  0.0916303</td><td style=\"text-align: right;\">  0.013324 </td><td style=\"text-align: right;\"> -0.0973059</td><td style=\"text-align: right;\"> -0.146783 </td><td style=\"text-align: right;\"> -0.00448123</td><td style=\"text-align: right;\"> -0.193874</td><td style=\"text-align: right;\">  0.12392  </td><td style=\"text-align: right;\"> -0.0327969</td><td style=\"text-align: right;\"> -0.0497507</td><td style=\"text-align: right;\">  0.102587 </td><td style=\"text-align: right;\"> -0.230044 </td><td style=\"text-align: right;\">  0.086545 </td><td style=\"text-align: right;\"> -0.226988 </td><td style=\"text-align: right;\">  0.0899658</td><td style=\"text-align: right;\">  0.127699 </td><td style=\"text-align: right;\"> -0.01028  </td><td style=\"text-align: right;\"> -0.239584 </td><td style=\"text-align: right;\"> -0.203319 </td><td style=\"text-align: right;\"> -0.214304 </td><td style=\"text-align: right;\">  0.032382  </td><td style=\"text-align: right;\"> -0.00949678</td><td style=\"text-align: right;\"> -0.22675 </td><td style=\"text-align: right;\">  0.057026 </td><td style=\"text-align: right;\">  0.0476929</td><td style=\"text-align: right;\">  0.0506469 </td><td style=\"text-align: right;\">  0.28048    </td><td style=\"text-align: right;\"> -0.0765691 </td><td style=\"text-align: right;\">  0.184017</td><td style=\"text-align: right;\"> -0.0689483</td><td style=\"text-align: right;\"> -0.0895148</td><td style=\"text-align: right;\"> -0.0621391</td><td style=\"text-align: right;\">  0.106934 </td><td style=\"text-align: right;\">  0.157773 </td><td style=\"text-align: right;\"> -0.0239756</td><td style=\"text-align: right;\"> -0.0735359</td><td style=\"text-align: right;\">  0.027316   </td><td style=\"text-align: right;\">  0.0942517 </td><td style=\"text-align: right;\"> -0.105244 </td><td style=\"text-align: right;\"> -0.129253 </td><td style=\"text-align: right;\"> -0.12148  </td><td style=\"text-align: right;\">  0.0791219</td><td style=\"text-align: right;\"> -0.0479192</td><td style=\"text-align: right;\">  0.067661  </td><td style=\"text-align: right;\"> -0.117287  </td><td style=\"text-align: right;\">  0.0289321</td><td style=\"text-align: right;\">  0.0420754 </td><td style=\"text-align: right;\"> -0.0606233 </td><td style=\"text-align: right;\"> -0.162877  </td><td style=\"text-align: right;\"> -0.118746 </td><td style=\"text-align: right;\"> -0.32769  </td><td style=\"text-align: right;\"> -0.118758  </td><td style=\"text-align: right;\"> -0.00118152</td><td style=\"text-align: right;\">  0.177992 </td><td style=\"text-align: right;\">  0.0446042</td><td style=\"text-align: right;\"> -0.00234142</td><td style=\"text-align: right;\">  0.0527751</td><td style=\"text-align: right;\">  0.0719215</td><td style=\"text-align: right;\">  0.0217302 </td><td style=\"text-align: right;\"> -0.148529  </td><td style=\"text-align: right;\"> -0.111918  </td><td style=\"text-align: right;\"> -0.0110232</td><td style=\"text-align: right;\">  0.0323267 </td><td style=\"text-align: right;\"> -0.139206  </td><td style=\"text-align: right;\"> -0.203121   </td><td style=\"text-align: right;\">  0.182702  </td><td style=\"text-align: right;\"> -0.0736179</td><td style=\"text-align: right;\"> -0.192382</td><td style=\"text-align: right;\">  0.0363203</td><td style=\"text-align: right;\"> -0.157257 </td><td style=\"text-align: right;\">  0.135281 </td><td style=\"text-align: right;\"> -0.231115 </td><td style=\"text-align: right;\">  0.148706 </td><td style=\"text-align: right;\"> -0.129663 </td><td style=\"text-align: right;\"> -0.114627  </td><td style=\"text-align: right;\">  0.170766 </td><td style=\"text-align: right;\"> -0.194753</td><td style=\"text-align: right;\"> -0.0640175 </td><td style=\"text-align: right;\"> -0.315992</td><td style=\"text-align: right;\"> -0.0704854 </td><td style=\"text-align: right;\"> -0.199315</td></tr>\n",
       "<tr><td style=\"text-align: right;\">  0.0653849</td><td style=\"text-align: right;\"> -0.118303 </td><td style=\"text-align: right;\">  0.0915868</td><td style=\"text-align: right;\">  0.066738 </td><td style=\"text-align: right;\">  0.134402 </td><td style=\"text-align: right;\">  0.106564 </td><td style=\"text-align: right;\">  0.173839</td><td style=\"text-align: right;\">  0.207831</td><td style=\"text-align: right;\">  0.09299 </td><td style=\"text-align: right;\"> -0.0186358 </td><td style=\"text-align: right;\">  0.0791524 </td><td style=\"text-align: right;\">  0.159927</td><td style=\"text-align: right;\">  0.0426296</td><td style=\"text-align: right;\">  0.0603499</td><td style=\"text-align: right;\"> -0.170238 </td><td style=\"text-align: right;\"> -0.0410027</td><td style=\"text-align: right;\"> -0.0153575</td><td style=\"text-align: right;\"> -0.0850926 </td><td style=\"text-align: right;\"> -0.176614</td><td style=\"text-align: right;\"> -0.00910037</td><td style=\"text-align: right;\">  0.152784 </td><td style=\"text-align: right;\">  0.0503632</td><td style=\"text-align: right;\"> -0.124093 </td><td style=\"text-align: right;\"> -0.0460699</td><td style=\"text-align: right;\"> -0.0542405 </td><td style=\"text-align: right;\"> -0.104247</td><td style=\"text-align: right;\"> -0.0731652</td><td style=\"text-align: right;\"> -0.196205 </td><td style=\"text-align: right;\"> -0.0650746</td><td style=\"text-align: right;\">  0.011136 </td><td style=\"text-align: right;\"> -0.106484 </td><td style=\"text-align: right;\">  0.178174 </td><td style=\"text-align: right;\"> -0.144459 </td><td style=\"text-align: right;\">  0.122683 </td><td style=\"text-align: right;\">  0.0183308</td><td style=\"text-align: right;\"> -0.0395299</td><td style=\"text-align: right;\"> -0.201798 </td><td style=\"text-align: right;\"> -0.140182 </td><td style=\"text-align: right;\"> -0.129129 </td><td style=\"text-align: right;\">  0.00799117</td><td style=\"text-align: right;\"> -0.00775102</td><td style=\"text-align: right;\"> -0.216712</td><td style=\"text-align: right;\"> -0.0355427</td><td style=\"text-align: right;\">  0.0442046</td><td style=\"text-align: right;\">  0.107607  </td><td style=\"text-align: right;\">  0.0691301  </td><td style=\"text-align: right;\"> -0.00668365</td><td style=\"text-align: right;\">  0.208216</td><td style=\"text-align: right;\"> -0.0296299</td><td style=\"text-align: right;\"> -0.129363 </td><td style=\"text-align: right;\"> -0.0701757</td><td style=\"text-align: right;\">  0.0332156</td><td style=\"text-align: right;\">  0.147273 </td><td style=\"text-align: right;\">  0.0292   </td><td style=\"text-align: right;\"> -0.0438359</td><td style=\"text-align: right;\">  0.0925577  </td><td style=\"text-align: right;\"> -0.00605348</td><td style=\"text-align: right;\"> -0.0383805</td><td style=\"text-align: right;\"> -0.104779 </td><td style=\"text-align: right;\"> -0.0199469</td><td style=\"text-align: right;\">  0.0905687</td><td style=\"text-align: right;\">  0.057236 </td><td style=\"text-align: right;\"> -0.014161  </td><td style=\"text-align: right;\"> -0.0717051 </td><td style=\"text-align: right;\"> -0.126747 </td><td style=\"text-align: right;\">  0.00700677</td><td style=\"text-align: right;\"> -0.0254122 </td><td style=\"text-align: right;\"> -0.10134   </td><td style=\"text-align: right;\">  0.101845 </td><td style=\"text-align: right;\"> -0.0863949</td><td style=\"text-align: right;\">  0.0995889 </td><td style=\"text-align: right;\">  0.0100239 </td><td style=\"text-align: right;\">  0.171137 </td><td style=\"text-align: right;\">  0.120221 </td><td style=\"text-align: right;\">  0.024115  </td><td style=\"text-align: right;\"> -0.0743969</td><td style=\"text-align: right;\">  0.0218723</td><td style=\"text-align: right;\">  0.00121252</td><td style=\"text-align: right;\"> -0.0741177 </td><td style=\"text-align: right;\">  0.00465738</td><td style=\"text-align: right;\"> -0.013034 </td><td style=\"text-align: right;\"> -0.0844291 </td><td style=\"text-align: right;\">  0.0247682 </td><td style=\"text-align: right;\">  0.0904026  </td><td style=\"text-align: right;\">  0.056046  </td><td style=\"text-align: right;\"> -0.0244424</td><td style=\"text-align: right;\"> -0.177307</td><td style=\"text-align: right;\">  0.106213 </td><td style=\"text-align: right;\"> -0.0319565</td><td style=\"text-align: right;\">  0.0889767</td><td style=\"text-align: right;\"> -0.152646 </td><td style=\"text-align: right;\">  0.111835 </td><td style=\"text-align: right;\"> -0.0665227</td><td style=\"text-align: right;\">  0.0012628 </td><td style=\"text-align: right;\">  0.0919987</td><td style=\"text-align: right;\"> -0.146542</td><td style=\"text-align: right;\">  0.00127819</td><td style=\"text-align: right;\"> -0.143621</td><td style=\"text-align: right;\"> -0.0557941 </td><td style=\"text-align: right;\"> -0.194723</td></tr>\n",
       "<tr><td style=\"text-align: right;\"> -0.032056 </td><td style=\"text-align: right;\"> -0.210639 </td><td style=\"text-align: right;\">  0.0917597</td><td style=\"text-align: right;\"> -0.0543341</td><td style=\"text-align: right;\">  0.0975643</td><td style=\"text-align: right;\">  0.150997 </td><td style=\"text-align: right;\">  0.213562</td><td style=\"text-align: right;\">  0.204548</td><td style=\"text-align: right;\">  0.101056</td><td style=\"text-align: right;\">  0.0155766 </td><td style=\"text-align: right;\">  0.00331576</td><td style=\"text-align: right;\">  0.259693</td><td style=\"text-align: right;\">  0.0171034</td><td style=\"text-align: right;\">  0.144779 </td><td style=\"text-align: right;\"> -0.113796 </td><td style=\"text-align: right;\"> -0.0424357</td><td style=\"text-align: right;\">  0.0800669</td><td style=\"text-align: right;\"> -0.0997964 </td><td style=\"text-align: right;\"> -0.20345 </td><td style=\"text-align: right;\"> -0.0579393 </td><td style=\"text-align: right;\">  0.0715284</td><td style=\"text-align: right;\">  0.0343513</td><td style=\"text-align: right;\"> -0.142842 </td><td style=\"text-align: right;\"> -0.027661 </td><td style=\"text-align: right;\"> -0.0449103 </td><td style=\"text-align: right;\"> -0.11308 </td><td style=\"text-align: right;\">  0.0103288</td><td style=\"text-align: right;\"> -0.115554 </td><td style=\"text-align: right;\"> -0.0464652</td><td style=\"text-align: right;\">  0.0414389</td><td style=\"text-align: right;\"> -0.0888617</td><td style=\"text-align: right;\">  0.188429 </td><td style=\"text-align: right;\"> -0.171694 </td><td style=\"text-align: right;\">  0.0568593</td><td style=\"text-align: right;\">  0.0561855</td><td style=\"text-align: right;\"> -0.0736317</td><td style=\"text-align: right;\"> -0.154779 </td><td style=\"text-align: right;\"> -0.0982382</td><td style=\"text-align: right;\"> -0.117319 </td><td style=\"text-align: right;\"> -0.0159363 </td><td style=\"text-align: right;\">  0.0301472 </td><td style=\"text-align: right;\"> -0.166272</td><td style=\"text-align: right;\"> -0.0299078</td><td style=\"text-align: right;\">  0.10938  </td><td style=\"text-align: right;\"> -0.00276533</td><td style=\"text-align: right;\"> -0.000429983</td><td style=\"text-align: right;\"> -0.0731652 </td><td style=\"text-align: right;\">  0.182432</td><td style=\"text-align: right;\"> -0.0093499</td><td style=\"text-align: right;\"> -0.100726 </td><td style=\"text-align: right;\"> -0.0216631</td><td style=\"text-align: right;\"> -0.0484409</td><td style=\"text-align: right;\">  0.0812426</td><td style=\"text-align: right;\">  0.101333 </td><td style=\"text-align: right;\"> -0.0879257</td><td style=\"text-align: right;\">  0.0782344  </td><td style=\"text-align: right;\">  0.0595919 </td><td style=\"text-align: right;\"> -0.0708262</td><td style=\"text-align: right;\"> -0.0843526</td><td style=\"text-align: right;\"> -0.0862298</td><td style=\"text-align: right;\">  0.111926 </td><td style=\"text-align: right;\">  0.0426952</td><td style=\"text-align: right;\">  0.0531971 </td><td style=\"text-align: right;\"> -0.0506773 </td><td style=\"text-align: right;\"> -0.016928 </td><td style=\"text-align: right;\">  0.133456  </td><td style=\"text-align: right;\"> -0.0617388 </td><td style=\"text-align: right;\"> -0.109984  </td><td style=\"text-align: right;\">  0.0811828</td><td style=\"text-align: right;\"> -0.0838614</td><td style=\"text-align: right;\">  0.00985556</td><td style=\"text-align: right;\">  0.0821807 </td><td style=\"text-align: right;\">  0.0879224</td><td style=\"text-align: right;\">  0.130132 </td><td style=\"text-align: right;\">  0.0171357 </td><td style=\"text-align: right;\"> -0.0169098</td><td style=\"text-align: right;\">  0.0142501</td><td style=\"text-align: right;\">  0.10958   </td><td style=\"text-align: right;\"> -0.0255035 </td><td style=\"text-align: right;\"> -0.102212  </td><td style=\"text-align: right;\"> -0.022174 </td><td style=\"text-align: right;\"> -0.00881512</td><td style=\"text-align: right;\"> -0.0411483 </td><td style=\"text-align: right;\"> -0.0938644  </td><td style=\"text-align: right;\">  0.0993626 </td><td style=\"text-align: right;\"> -0.103194 </td><td style=\"text-align: right;\"> -0.147543</td><td style=\"text-align: right;\">  0.0692085</td><td style=\"text-align: right;\"> -0.0890914</td><td style=\"text-align: right;\">  0.0566246</td><td style=\"text-align: right;\"> -0.196676 </td><td style=\"text-align: right;\">  0.0768072</td><td style=\"text-align: right;\"> -0.143684 </td><td style=\"text-align: right;\"> -0.0754514 </td><td style=\"text-align: right;\">  0.163734 </td><td style=\"text-align: right;\"> -0.160534</td><td style=\"text-align: right;\">  0.0109382 </td><td style=\"text-align: right;\"> -0.20083 </td><td style=\"text-align: right;\"> -0.0804439 </td><td style=\"text-align: right;\"> -0.222888</td></tr>\n",
       "<tr><td style=\"text-align: right;\"> -0.0387627</td><td style=\"text-align: right;\"> -0.207068 </td><td style=\"text-align: right;\">  0.103308 </td><td style=\"text-align: right;\"> -0.116066 </td><td style=\"text-align: right;\">  0.113387 </td><td style=\"text-align: right;\">  0.160538 </td><td style=\"text-align: right;\">  0.263669</td><td style=\"text-align: right;\">  0.271032</td><td style=\"text-align: right;\">  0.196476</td><td style=\"text-align: right;\">  0.0678116 </td><td style=\"text-align: right;\">  0.0700919 </td><td style=\"text-align: right;\">  0.30723 </td><td style=\"text-align: right;\"> -0.0367513</td><td style=\"text-align: right;\">  0.243819 </td><td style=\"text-align: right;\"> -0.188849 </td><td style=\"text-align: right;\"> -0.0583235</td><td style=\"text-align: right;\"> -0.0749827</td><td style=\"text-align: right;\"> -0.0388229 </td><td style=\"text-align: right;\"> -0.152768</td><td style=\"text-align: right;\"> -0.0741118 </td><td style=\"text-align: right;\">  0.0740845</td><td style=\"text-align: right;\">  0.0551428</td><td style=\"text-align: right;\"> -0.161048 </td><td style=\"text-align: right;\"> -0.0644098</td><td style=\"text-align: right;\"> -0.0782116 </td><td style=\"text-align: right;\"> -0.1145  </td><td style=\"text-align: right;\"> -0.017375 </td><td style=\"text-align: right;\"> -0.131391 </td><td style=\"text-align: right;\"> -0.0448689</td><td style=\"text-align: right;\"> -0.0363195</td><td style=\"text-align: right;\"> -0.0822301</td><td style=\"text-align: right;\">  0.191591 </td><td style=\"text-align: right;\"> -0.0983571</td><td style=\"text-align: right;\">  0.033281 </td><td style=\"text-align: right;\">  0.0434466</td><td style=\"text-align: right;\"> -0.0496349</td><td style=\"text-align: right;\"> -0.221551 </td><td style=\"text-align: right;\"> -0.166789 </td><td style=\"text-align: right;\"> -0.121282 </td><td style=\"text-align: right;\"> -0.0441454 </td><td style=\"text-align: right;\">  0.0492045 </td><td style=\"text-align: right;\"> -0.21195 </td><td style=\"text-align: right;\"> -0.0769243</td><td style=\"text-align: right;\">  0.0730603</td><td style=\"text-align: right;\">  0.0287939 </td><td style=\"text-align: right;\"> -0.0982014  </td><td style=\"text-align: right;\">  0.0357592 </td><td style=\"text-align: right;\">  0.124365</td><td style=\"text-align: right;\"> -0.0665803</td><td style=\"text-align: right;\"> -0.049815 </td><td style=\"text-align: right;\"> -0.0316371</td><td style=\"text-align: right;\"> -0.159281 </td><td style=\"text-align: right;\">  0.0682202</td><td style=\"text-align: right;\">  0.0281745</td><td style=\"text-align: right;\"> -0.0288663</td><td style=\"text-align: right;\">  0.0118781  </td><td style=\"text-align: right;\"> -0.0160554 </td><td style=\"text-align: right;\"> -0.0595442</td><td style=\"text-align: right;\"> -0.0676415</td><td style=\"text-align: right;\"> -0.0842932</td><td style=\"text-align: right;\">  0.173329 </td><td style=\"text-align: right;\">  0.0666852</td><td style=\"text-align: right;\">  0.0208379 </td><td style=\"text-align: right;\"> -0.0375569 </td><td style=\"text-align: right;\"> -0.0758043</td><td style=\"text-align: right;\">  0.0290546 </td><td style=\"text-align: right;\"> -0.00534902</td><td style=\"text-align: right;\"> -0.0913019 </td><td style=\"text-align: right;\">  0.0285117</td><td style=\"text-align: right;\"> -0.0262734</td><td style=\"text-align: right;\">  0.0334037 </td><td style=\"text-align: right;\">  0.076195  </td><td style=\"text-align: right;\">  0.0234704</td><td style=\"text-align: right;\">  0.116131 </td><td style=\"text-align: right;\">  0.0370965 </td><td style=\"text-align: right;\">  0.0631638</td><td style=\"text-align: right;\">  0.132491 </td><td style=\"text-align: right;\">  0.0449956 </td><td style=\"text-align: right;\"> -0.00468649</td><td style=\"text-align: right;\"> -0.0853465 </td><td style=\"text-align: right;\">  0.0887288</td><td style=\"text-align: right;\"> -0.00790515</td><td style=\"text-align: right;\">  0.0693468 </td><td style=\"text-align: right;\"> -0.000137379</td><td style=\"text-align: right;\">  0.0879217 </td><td style=\"text-align: right;\"> -0.0439905</td><td style=\"text-align: right;\"> -0.205541</td><td style=\"text-align: right;\">  0.0561671</td><td style=\"text-align: right;\"> -0.110592 </td><td style=\"text-align: right;\">  0.0343494</td><td style=\"text-align: right;\"> -0.0792419</td><td style=\"text-align: right;\">  0.168223 </td><td style=\"text-align: right;\"> -0.0870868</td><td style=\"text-align: right;\">  0.0761447 </td><td style=\"text-align: right;\">  0.0581455</td><td style=\"text-align: right;\"> -0.123693</td><td style=\"text-align: right;\">  0.0537886 </td><td style=\"text-align: right;\"> -0.133046</td><td style=\"text-align: right;\"> -0.0983538 </td><td style=\"text-align: right;\"> -0.143845</td></tr>\n",
       "<tr><td style=\"text-align: right;\">nan        </td><td style=\"text-align: right;\">nan        </td><td style=\"text-align: right;\">nan        </td><td style=\"text-align: right;\">nan        </td><td style=\"text-align: right;\">nan        </td><td style=\"text-align: right;\">nan        </td><td style=\"text-align: right;\">nan       </td><td style=\"text-align: right;\">nan       </td><td style=\"text-align: right;\">nan       </td><td style=\"text-align: right;\">nan         </td><td style=\"text-align: right;\">nan         </td><td style=\"text-align: right;\">nan       </td><td style=\"text-align: right;\">nan        </td><td style=\"text-align: right;\">nan        </td><td style=\"text-align: right;\">nan        </td><td style=\"text-align: right;\">nan        </td><td style=\"text-align: right;\">nan        </td><td style=\"text-align: right;\">nan         </td><td style=\"text-align: right;\">nan       </td><td style=\"text-align: right;\">nan         </td><td style=\"text-align: right;\">nan        </td><td style=\"text-align: right;\">nan        </td><td style=\"text-align: right;\">nan        </td><td style=\"text-align: right;\">nan        </td><td style=\"text-align: right;\">nan         </td><td style=\"text-align: right;\">nan       </td><td style=\"text-align: right;\">nan        </td><td style=\"text-align: right;\">nan        </td><td style=\"text-align: right;\">nan        </td><td style=\"text-align: right;\">nan        </td><td style=\"text-align: right;\">nan        </td><td style=\"text-align: right;\">nan        </td><td style=\"text-align: right;\">nan        </td><td style=\"text-align: right;\">nan        </td><td style=\"text-align: right;\">nan        </td><td style=\"text-align: right;\">nan        </td><td style=\"text-align: right;\">nan        </td><td style=\"text-align: right;\">nan        </td><td style=\"text-align: right;\">nan        </td><td style=\"text-align: right;\">nan         </td><td style=\"text-align: right;\">nan         </td><td style=\"text-align: right;\">nan       </td><td style=\"text-align: right;\">nan        </td><td style=\"text-align: right;\">nan        </td><td style=\"text-align: right;\">nan         </td><td style=\"text-align: right;\">nan          </td><td style=\"text-align: right;\">nan         </td><td style=\"text-align: right;\">nan       </td><td style=\"text-align: right;\">nan        </td><td style=\"text-align: right;\">nan        </td><td style=\"text-align: right;\">nan        </td><td style=\"text-align: right;\">nan        </td><td style=\"text-align: right;\">nan        </td><td style=\"text-align: right;\">nan        </td><td style=\"text-align: right;\">nan        </td><td style=\"text-align: right;\">nan          </td><td style=\"text-align: right;\">nan         </td><td style=\"text-align: right;\">nan        </td><td style=\"text-align: right;\">nan        </td><td style=\"text-align: right;\">nan        </td><td style=\"text-align: right;\">nan        </td><td style=\"text-align: right;\">nan        </td><td style=\"text-align: right;\">nan         </td><td style=\"text-align: right;\">nan         </td><td style=\"text-align: right;\">nan        </td><td style=\"text-align: right;\">nan         </td><td style=\"text-align: right;\">nan         </td><td style=\"text-align: right;\">nan         </td><td style=\"text-align: right;\">nan        </td><td style=\"text-align: right;\">nan        </td><td style=\"text-align: right;\">nan         </td><td style=\"text-align: right;\">nan         </td><td style=\"text-align: right;\">nan        </td><td style=\"text-align: right;\">nan        </td><td style=\"text-align: right;\">nan         </td><td style=\"text-align: right;\">nan        </td><td style=\"text-align: right;\">nan        </td><td style=\"text-align: right;\">nan         </td><td style=\"text-align: right;\">nan         </td><td style=\"text-align: right;\">nan         </td><td style=\"text-align: right;\">nan        </td><td style=\"text-align: right;\">nan         </td><td style=\"text-align: right;\">nan         </td><td style=\"text-align: right;\">nan          </td><td style=\"text-align: right;\">nan         </td><td style=\"text-align: right;\">nan        </td><td style=\"text-align: right;\">nan       </td><td style=\"text-align: right;\">nan        </td><td style=\"text-align: right;\">nan        </td><td style=\"text-align: right;\">nan        </td><td style=\"text-align: right;\">nan        </td><td style=\"text-align: right;\">nan        </td><td style=\"text-align: right;\">nan        </td><td style=\"text-align: right;\">nan         </td><td style=\"text-align: right;\">nan        </td><td style=\"text-align: right;\">nan       </td><td style=\"text-align: right;\">nan         </td><td style=\"text-align: right;\">nan       </td><td style=\"text-align: right;\">nan         </td><td style=\"text-align: right;\">nan       </td></tr>\n",
       "</tbody>\n",
       "</table>"
      ]
     },
     "metadata": {},
     "output_type": "display_data"
    },
    {
     "data": {
      "text/plain": []
     },
     "execution_count": 44,
     "metadata": {},
     "output_type": "execute_result"
    }
   ],
   "source": [
    "desc_vecs = w2v_model.transform(words, aggregate_method=\"AVERAGE\")\n",
    "desc_vecs.head()"
   ]
  },
  {
   "cell_type": "code",
   "execution_count": 45,
   "metadata": {},
   "outputs": [],
   "source": [
    "loans = loans.cbind(desc_vecs)"
   ]
  },
  {
   "cell_type": "code",
   "execution_count": 46,
   "metadata": {},
   "outputs": [
    {
     "data": {
      "text/plain": [
       "h2o.frame.H2OFrame"
      ]
     },
     "execution_count": 46,
     "metadata": {},
     "output_type": "execute_result"
    }
   ],
   "source": [
    "type(desc_vecs)"
   ]
  },
  {
   "cell_type": "code",
   "execution_count": null,
   "metadata": {},
   "outputs": [],
   "source": []
  }
 ],
 "metadata": {
  "kernelspec": {
   "display_name": "Python 3",
   "language": "python",
   "name": "python3"
  },
  "language_info": {
   "codemirror_mode": {
    "name": "ipython",
    "version": 3
   },
   "file_extension": ".py",
   "mimetype": "text/x-python",
   "name": "python",
   "nbconvert_exporter": "python",
   "pygments_lexer": "ipython3",
   "version": "3.6.0"
  }
 },
 "nbformat": 4,
 "nbformat_minor": 2
}
