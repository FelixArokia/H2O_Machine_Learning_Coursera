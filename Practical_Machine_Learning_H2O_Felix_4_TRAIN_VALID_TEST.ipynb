{
 "cells": [
  {
   "cell_type": "code",
   "execution_count": 1,
   "metadata": {},
   "outputs": [],
   "source": [
    "import h2o"
   ]
  },
  {
   "cell_type": "code",
   "execution_count": 2,
   "metadata": {},
   "outputs": [
    {
     "name": "stdout",
     "output_type": "stream",
     "text": [
      "Checking whether there is an H2O instance running at http://localhost:54321 . connected.\n"
     ]
    },
    {
     "data": {
      "text/html": [
       "<div style=\"overflow:auto\"><table style=\"width:50%\"><tr><td>H2O cluster uptime:</td>\n",
       "<td>20 hours 41 mins</td></tr>\n",
       "<tr><td>H2O cluster timezone:</td>\n",
       "<td>Asia/Kolkata</td></tr>\n",
       "<tr><td>H2O data parsing timezone:</td>\n",
       "<td>UTC</td></tr>\n",
       "<tr><td>H2O cluster version:</td>\n",
       "<td>3.26.0.8</td></tr>\n",
       "<tr><td>H2O cluster version age:</td>\n",
       "<td>1 month and 6 days </td></tr>\n",
       "<tr><td>H2O cluster name:</td>\n",
       "<td>H2O_from_python_felix_nh59a7</td></tr>\n",
       "<tr><td>H2O cluster total nodes:</td>\n",
       "<td>1</td></tr>\n",
       "<tr><td>H2O cluster free memory:</td>\n",
       "<td>2.855 Gb</td></tr>\n",
       "<tr><td>H2O cluster total cores:</td>\n",
       "<td>16</td></tr>\n",
       "<tr><td>H2O cluster allowed cores:</td>\n",
       "<td>16</td></tr>\n",
       "<tr><td>H2O cluster status:</td>\n",
       "<td>locked, healthy</td></tr>\n",
       "<tr><td>H2O connection url:</td>\n",
       "<td>http://localhost:54321</td></tr>\n",
       "<tr><td>H2O connection proxy:</td>\n",
       "<td>{'http': None, 'https': None}</td></tr>\n",
       "<tr><td>H2O internal security:</td>\n",
       "<td>False</td></tr>\n",
       "<tr><td>H2O API Extensions:</td>\n",
       "<td>Amazon S3, XGBoost, Algos, AutoML, Core V3, TargetEncoder, Core V4</td></tr>\n",
       "<tr><td>Python version:</td>\n",
       "<td>3.6.0 final</td></tr></table></div>"
      ],
      "text/plain": [
       "--------------------------  ------------------------------------------------------------------\n",
       "H2O cluster uptime:         20 hours 41 mins\n",
       "H2O cluster timezone:       Asia/Kolkata\n",
       "H2O data parsing timezone:  UTC\n",
       "H2O cluster version:        3.26.0.8\n",
       "H2O cluster version age:    1 month and 6 days\n",
       "H2O cluster name:           H2O_from_python_felix_nh59a7\n",
       "H2O cluster total nodes:    1\n",
       "H2O cluster free memory:    2.855 Gb\n",
       "H2O cluster total cores:    16\n",
       "H2O cluster allowed cores:  16\n",
       "H2O cluster status:         locked, healthy\n",
       "H2O connection url:         http://localhost:54321\n",
       "H2O connection proxy:       {'http': None, 'https': None}\n",
       "H2O internal security:      False\n",
       "H2O API Extensions:         Amazon S3, XGBoost, Algos, AutoML, Core V3, TargetEncoder, Core V4\n",
       "Python version:             3.6.0 final\n",
       "--------------------------  ------------------------------------------------------------------"
      ]
     },
     "metadata": {},
     "output_type": "display_data"
    }
   ],
   "source": [
    "h2o.init()"
   ]
  },
  {
   "cell_type": "code",
   "execution_count": 15,
   "metadata": {},
   "outputs": [],
   "source": [
    "people = h2o.get_frame(\"people\")"
   ]
  },
  {
   "cell_type": "code",
   "execution_count": 16,
   "metadata": {},
   "outputs": [
    {
     "data": {
      "text/html": [
       "<table>\n",
       "<thead>\n",
       "<tr><th>       </th><th>id               </th><th>bloodType  </th><th>age               </th><th>healthyEating     </th><th>activeLifestyle   </th><th>income            </th></tr>\n",
       "</thead>\n",
       "<tbody>\n",
       "<tr><td>type   </td><td>int              </td><td>enum       </td><td>real              </td><td>int               </td><td>int               </td><td>int               </td></tr>\n",
       "<tr><td>mins   </td><td>1.0              </td><td>           </td><td>18.0018095958512  </td><td>0.0               </td><td>0.0               </td><td>20500.0           </td></tr>\n",
       "<tr><td>mean   </td><td>500.5            </td><td>           </td><td>41.530897816793335</td><td>4.971             </td><td>5.289999999999998 </td><td>39533.49999999995 </td></tr>\n",
       "<tr><td>maxs   </td><td>1000.0           </td><td>           </td><td>64.9508899005596  </td><td>9.0               </td><td>9.0               </td><td>65100.0           </td></tr>\n",
       "<tr><td>sigma  </td><td>288.8194360957494</td><td>           </td><td>13.74867134045404 </td><td>1.9834548376741756</td><td>1.9327792516569589</td><td>10729.831174208992</td></tr>\n",
       "<tr><td>zeros  </td><td>0                </td><td>           </td><td>0                 </td><td>18                </td><td>9                 </td><td>0                 </td></tr>\n",
       "<tr><td>missing</td><td>0                </td><td>0          </td><td>0                 </td><td>0                 </td><td>0                 </td><td>0                 </td></tr>\n",
       "<tr><td>0      </td><td>1.0              </td><td>A          </td><td>63.4590904107317  </td><td>8.0               </td><td>4.0               </td><td>59500.0           </td></tr>\n",
       "<tr><td>1      </td><td>2.0              </td><td>A          </td><td>38.5395801742561  </td><td>4.0               </td><td>6.0               </td><td>32400.0           </td></tr>\n",
       "<tr><td>2      </td><td>3.0              </td><td>O          </td><td>34.5027994732372  </td><td>8.0               </td><td>6.0               </td><td>34700.0           </td></tr>\n",
       "<tr><td>3      </td><td>4.0              </td><td>O          </td><td>62.6416905752849  </td><td>5.0               </td><td>6.0               </td><td>56600.0           </td></tr>\n",
       "<tr><td>4      </td><td>5.0              </td><td>O          </td><td>60.5844028817955  </td><td>6.0               </td><td>7.0               </td><td>54500.0           </td></tr>\n",
       "<tr><td>5      </td><td>6.0              </td><td>AB         </td><td>41.1106381688733  </td><td>8.0               </td><td>4.0               </td><td>39600.0           </td></tr>\n",
       "<tr><td>6      </td><td>7.0              </td><td>B          </td><td>25.6390311107971  </td><td>1.0               </td><td>8.0               </td><td>25900.0           </td></tr>\n",
       "<tr><td>7      </td><td>8.0              </td><td>A          </td><td>32.3887626721989  </td><td>7.0               </td><td>4.0               </td><td>32800.0           </td></tr>\n",
       "<tr><td>8      </td><td>9.0              </td><td>A          </td><td>57.176703641424   </td><td>3.0               </td><td>6.0               </td><td>48200.0           </td></tr>\n",
       "<tr><td>9      </td><td>10.0             </td><td>A          </td><td>51.5705167988781  </td><td>5.0               </td><td>5.0               </td><td>47300.0           </td></tr>\n",
       "</tbody>\n",
       "</table>"
      ]
     },
     "metadata": {},
     "output_type": "display_data"
    }
   ],
   "source": [
    "people.summary()"
   ]
  },
  {
   "cell_type": "code",
   "execution_count": 17,
   "metadata": {},
   "outputs": [
    {
     "data": {
      "text/html": [
       "<table>\n",
       "<thead>\n",
       "<tr><th style=\"text-align: right;\">  id</th><th>bloodType  </th><th style=\"text-align: right;\">    age</th><th style=\"text-align: right;\">  healthyEating</th><th style=\"text-align: right;\">  activeLifestyle</th><th style=\"text-align: right;\">  income</th></tr>\n",
       "</thead>\n",
       "<tbody>\n",
       "<tr><td style=\"text-align: right;\">   1</td><td>A          </td><td style=\"text-align: right;\">63.4591</td><td style=\"text-align: right;\">              8</td><td style=\"text-align: right;\">                4</td><td style=\"text-align: right;\">   59500</td></tr>\n",
       "<tr><td style=\"text-align: right;\">   2</td><td>A          </td><td style=\"text-align: right;\">38.5396</td><td style=\"text-align: right;\">              4</td><td style=\"text-align: right;\">                6</td><td style=\"text-align: right;\">   32400</td></tr>\n",
       "<tr><td style=\"text-align: right;\">   3</td><td>O          </td><td style=\"text-align: right;\">34.5028</td><td style=\"text-align: right;\">              8</td><td style=\"text-align: right;\">                6</td><td style=\"text-align: right;\">   34700</td></tr>\n",
       "<tr><td style=\"text-align: right;\">   4</td><td>O          </td><td style=\"text-align: right;\">62.6417</td><td style=\"text-align: right;\">              5</td><td style=\"text-align: right;\">                6</td><td style=\"text-align: right;\">   56600</td></tr>\n",
       "<tr><td style=\"text-align: right;\">   5</td><td>O          </td><td style=\"text-align: right;\">60.5844</td><td style=\"text-align: right;\">              6</td><td style=\"text-align: right;\">                7</td><td style=\"text-align: right;\">   54500</td></tr>\n",
       "<tr><td style=\"text-align: right;\">   6</td><td>AB         </td><td style=\"text-align: right;\">41.1106</td><td style=\"text-align: right;\">              8</td><td style=\"text-align: right;\">                4</td><td style=\"text-align: right;\">   39600</td></tr>\n",
       "<tr><td style=\"text-align: right;\">   7</td><td>B          </td><td style=\"text-align: right;\">25.639 </td><td style=\"text-align: right;\">              1</td><td style=\"text-align: right;\">                8</td><td style=\"text-align: right;\">   25900</td></tr>\n",
       "<tr><td style=\"text-align: right;\">   8</td><td>A          </td><td style=\"text-align: right;\">32.3888</td><td style=\"text-align: right;\">              7</td><td style=\"text-align: right;\">                4</td><td style=\"text-align: right;\">   32800</td></tr>\n",
       "<tr><td style=\"text-align: right;\">   9</td><td>A          </td><td style=\"text-align: right;\">57.1767</td><td style=\"text-align: right;\">              3</td><td style=\"text-align: right;\">                6</td><td style=\"text-align: right;\">   48200</td></tr>\n",
       "<tr><td style=\"text-align: right;\">  10</td><td>A          </td><td style=\"text-align: right;\">51.5705</td><td style=\"text-align: right;\">              5</td><td style=\"text-align: right;\">                5</td><td style=\"text-align: right;\">   47300</td></tr>\n",
       "</tbody>\n",
       "</table>"
      ]
     },
     "metadata": {},
     "output_type": "display_data"
    },
    {
     "data": {
      "text/plain": []
     },
     "execution_count": 17,
     "metadata": {},
     "output_type": "execute_result"
    }
   ],
   "source": [
    "people"
   ]
  },
  {
   "cell_type": "code",
   "execution_count": 13,
   "metadata": {},
   "outputs": [],
   "source": [
    "train, valid, test = people.split_frame(ratios = [0.8, 0.1], \n",
    "                                        destination_frames= ['people_train', 'people_valid', 'people_test'],\n",
    "                                        seed = 123)"
   ]
  },
  {
   "cell_type": "code",
   "execution_count": 14,
   "metadata": {},
   "outputs": [
    {
     "name": "stdout",
     "output_type": "stream",
     "text": [
      "788 / 118 / 94\n"
     ]
    }
   ],
   "source": [
    "print(\"%d / %d / %d\" % (train.nrows, valid.nrows, test.nrows))"
   ]
  },
  {
   "cell_type": "markdown",
   "metadata": {},
   "source": [
    "## Make a note of what you will do in regular PANDAS instead of people.split_frame"
   ]
  },
  {
   "cell_type": "code",
   "execution_count": 18,
   "metadata": {},
   "outputs": [],
   "source": [
    "train = h2o.get_frame(\"people_train\")\n",
    "valid = h2o.get_frame(\"people_valid\")\n",
    "test = h2o.get_frame(\"people_test\")"
   ]
  },
  {
   "cell_type": "markdown",
   "metadata": {},
   "source": [
    "## GBM model"
   ]
  },
  {
   "cell_type": "code",
   "execution_count": 19,
   "metadata": {},
   "outputs": [],
   "source": [
    "from h2o.estimators import H2OGradientBoostingEstimator"
   ]
  },
  {
   "cell_type": "code",
   "execution_count": 38,
   "metadata": {},
   "outputs": [],
   "source": [
    "mGBM = H2OGradientBoostingEstimator()"
   ]
  },
  {
   "cell_type": "code",
   "execution_count": 39,
   "metadata": {},
   "outputs": [
    {
     "name": "stdout",
     "output_type": "stream",
     "text": [
      "all columns are:  ['id', 'bloodType', 'age', 'healthyEating', 'activeLifestyle', 'income']\n",
      "y column is :  income\n",
      "x_columns are :  ['id', 'bloodType', 'age', 'healthyEating', 'activeLifestyle']\n",
      "<class 'list'>\n",
      "x_columns are :  ['bloodType', 'age', 'healthyEating', 'activeLifestyle']\n"
     ]
    }
   ],
   "source": [
    "all_cols = train.col_names\n",
    "print(\"all columns are: \", all_cols)\n",
    "y_col = all_cols[len(all_cols)-1]\n",
    "print(\"y column is : \", y_col)\n",
    "x_cols = all_cols[0:len(all_cols)-1]\n",
    "print(\"x_columns are : \", x_cols)\n",
    "print(type(x_cols))\n",
    "if \"id\" in x_cols: \n",
    "    x_cols.remove(\"id\")\n",
    "    \n",
    "print(\"x_columns are : \", x_cols)\n",
    "    "
   ]
  },
  {
   "cell_type": "code",
   "execution_count": 40,
   "metadata": {},
   "outputs": [
    {
     "name": "stdout",
     "output_type": "stream",
     "text": [
      "gbm Model Build progress: |███████████████████████████████████████████████| 100%\n"
     ]
    }
   ],
   "source": [
    "mGBM.train(x_cols, y_col, model_id = \"GBM_for_Artificial_Data_Python\", \n",
    "           validation_frame = valid,\n",
    "           training_frame=train)"
   ]
  },
  {
   "cell_type": "code",
   "execution_count": 41,
   "metadata": {},
   "outputs": [
    {
     "name": "stdout",
     "output_type": "stream",
     "text": [
      "\n",
      "ModelMetricsRegression: gbm\n",
      "** Reported on train data. **\n",
      "\n",
      "MSE: 1200221.245696402\n",
      "RMSE: 1095.546094738328\n",
      "MAE: 925.778612785533\n",
      "RMSLE: 0.031084367908517856\n",
      "Mean Residual Deviance: 1200221.245696402\n"
     ]
    },
    {
     "data": {
      "text/plain": []
     },
     "execution_count": 41,
     "metadata": {},
     "output_type": "execute_result"
    }
   ],
   "source": [
    "mGBM.model_performance(train = True)"
   ]
  },
  {
   "cell_type": "code",
   "execution_count": 42,
   "metadata": {},
   "outputs": [
    {
     "name": "stdout",
     "output_type": "stream",
     "text": [
      "\n",
      "ModelMetricsRegression: gbm\n",
      "** Reported on validation data. **\n",
      "\n",
      "MSE: 2791298.9401205294\n",
      "RMSE: 1670.718091157371\n",
      "MAE: 1422.2945097159359\n",
      "RMSLE: 0.048042818903929405\n",
      "Mean Residual Deviance: 2791298.9401205294\n"
     ]
    },
    {
     "data": {
      "text/plain": []
     },
     "execution_count": 42,
     "metadata": {},
     "output_type": "execute_result"
    }
   ],
   "source": [
    "mGBM.model_performance(valid = True)"
   ]
  },
  {
   "cell_type": "code",
   "execution_count": 52,
   "metadata": {},
   "outputs": [
    {
     "name": "stdout",
     "output_type": "stream",
     "text": [
      "\n",
      "ModelMetricsRegression: gbm\n",
      "** Reported on test data. **\n",
      "\n",
      "MSE: 2647142.2423868263\n",
      "RMSE: 1627.0040695667685\n",
      "MAE: 1356.1590517133443\n",
      "RMSLE: 0.042358142203433716\n",
      "Mean Residual Deviance: 2647142.2423868263\n"
     ]
    },
    {
     "data": {
      "text/plain": []
     },
     "execution_count": 52,
     "metadata": {},
     "output_type": "execute_result"
    }
   ],
   "source": [
    "perf = mGBM.model_performance(test)\n",
    "perf"
   ]
  },
  {
   "cell_type": "code",
   "execution_count": 53,
   "metadata": {},
   "outputs": [
    {
     "data": {
      "text/plain": [
       "925.778612785533"
      ]
     },
     "execution_count": 53,
     "metadata": {},
     "output_type": "execute_result"
    }
   ],
   "source": [
    "mGBM.mae(train = True)"
   ]
  },
  {
   "cell_type": "code",
   "execution_count": 54,
   "metadata": {},
   "outputs": [
    {
     "data": {
      "text/plain": [
       "1422.2945097159359"
      ]
     },
     "execution_count": 54,
     "metadata": {},
     "output_type": "execute_result"
    }
   ],
   "source": [
    "mGBM.mae(valid = True)"
   ]
  },
  {
   "cell_type": "markdown",
   "metadata": {},
   "source": [
    "## The below is wrong even when you pass test data to the function\n",
    "\n",
    "## Need to call the performace object of the test data "
   ]
  },
  {
   "cell_type": "code",
   "execution_count": 55,
   "metadata": {},
   "outputs": [
    {
     "data": {
      "text/plain": [
       "925.778612785533"
      ]
     },
     "execution_count": 55,
     "metadata": {},
     "output_type": "execute_result"
    }
   ],
   "source": [
    "mGBM.mae(test) ### SEE THIS THAT EVEN WITH TEST DATA IT DOESNT WORK"
   ]
  },
  {
   "cell_type": "code",
   "execution_count": 57,
   "metadata": {},
   "outputs": [
    {
     "data": {
      "text/plain": [
       "1356.1590517133443"
      ]
     },
     "execution_count": 57,
     "metadata": {},
     "output_type": "execute_result"
    }
   ],
   "source": [
    "perf.mae() ### THIS IS THE CORRECT ONE. TO BE GOT FROM THE PERF OBJECT OF TEST DATA"
   ]
  },
  {
   "cell_type": "markdown",
   "metadata": {},
   "source": [
    "# GBM OVERFITTED"
   ]
  },
  {
   "cell_type": "markdown",
   "metadata": {},
   "source": [
    "### model_id can be given in H2OGradientBoostingEstimator or in train function"
   ]
  },
  {
   "cell_type": "code",
   "execution_count": 63,
   "metadata": {},
   "outputs": [],
   "source": [
    "mGBM_overfit = H2OGradientBoostingEstimator(model_id=\"GBM_Overfit_For_Artificial_Data_Python\",\n",
    "                                            ntrees = 1000,\n",
    "                                            max_depth = 10)"
   ]
  },
  {
   "cell_type": "code",
   "execution_count": 65,
   "metadata": {},
   "outputs": [
    {
     "name": "stdout",
     "output_type": "stream",
     "text": [
      "gbm Model Build progress: |███████████████████████████████████████████████| 100%\n"
     ]
    }
   ],
   "source": [
    "mGBM_overfit.train(x_cols, y_col, training_frame=train, \n",
    "                   validation_frame=valid)"
   ]
  },
  {
   "cell_type": "code",
   "execution_count": 67,
   "metadata": {},
   "outputs": [
    {
     "name": "stdout",
     "output_type": "stream",
     "text": [
      "\n",
      "ModelMetricsRegression: gbm\n",
      "** Reported on train data. **\n",
      "\n",
      "MSE: 67958.18784545762\n",
      "RMSE: 260.6879127337085\n",
      "MAE: 194.21804360326777\n",
      "RMSLE: 0.007182664314744851\n",
      "Mean Residual Deviance: 67958.18784545762\n"
     ]
    },
    {
     "data": {
      "text/plain": []
     },
     "execution_count": 67,
     "metadata": {},
     "output_type": "execute_result"
    }
   ],
   "source": [
    "mGBM_overfit.model_performance(train = True)"
   ]
  },
  {
   "cell_type": "code",
   "execution_count": 68,
   "metadata": {},
   "outputs": [
    {
     "name": "stdout",
     "output_type": "stream",
     "text": [
      "\n",
      "ModelMetricsRegression: gbm\n",
      "** Reported on validation data. **\n",
      "\n",
      "MSE: 3547584.2516830196\n",
      "RMSE: 1883.5031860028853\n",
      "MAE: 1542.9803287172049\n",
      "RMSLE: 0.05501491857803932\n",
      "Mean Residual Deviance: 3547584.2516830196\n"
     ]
    },
    {
     "data": {
      "text/plain": []
     },
     "execution_count": 68,
     "metadata": {},
     "output_type": "execute_result"
    }
   ],
   "source": [
    "mGBM_overfit.model_performance(valid = True)"
   ]
  },
  {
   "cell_type": "code",
   "execution_count": 69,
   "metadata": {},
   "outputs": [
    {
     "name": "stdout",
     "output_type": "stream",
     "text": [
      "\n",
      "ModelMetricsRegression: gbm\n",
      "** Reported on test data. **\n",
      "\n",
      "MSE: 3631312.5564373736\n",
      "RMSE: 1905.600313926657\n",
      "MAE: 1562.629982376906\n",
      "RMSLE: 0.048989300746599906\n",
      "Mean Residual Deviance: 3631312.5564373736\n"
     ]
    },
    {
     "data": {
      "text/plain": []
     },
     "execution_count": 69,
     "metadata": {},
     "output_type": "execute_result"
    }
   ],
   "source": [
    "perf = mGBM_overfit.model_performance(test)\n",
    "perf"
   ]
  },
  {
   "cell_type": "markdown",
   "metadata": {},
   "source": [
    "## Cross Validation"
   ]
  },
  {
   "cell_type": "code",
   "execution_count": 82,
   "metadata": {},
   "outputs": [],
   "source": [
    "mGBM_cv = H2OGradientBoostingEstimator(model_id = \"GBM_CV_9_For_Artificial_Data_Python\", nfolds = 9)"
   ]
  },
  {
   "cell_type": "code",
   "execution_count": 83,
   "metadata": {},
   "outputs": [
    {
     "name": "stdout",
     "output_type": "stream",
     "text": [
      "gbm Model Build progress: |███████████████████████████████████████████████| 100%\n"
     ]
    }
   ],
   "source": [
    "mGBM_cv.train(x_cols, y_col, training_frame=train) ## no need for validation data"
   ]
  },
  {
   "cell_type": "code",
   "execution_count": 84,
   "metadata": {},
   "outputs": [
    {
     "name": "stdout",
     "output_type": "stream",
     "text": [
      "\n",
      "ModelMetricsRegression: gbm\n",
      "** Reported on train data. **\n",
      "\n",
      "MSE: 1200221.245696402\n",
      "RMSE: 1095.546094738328\n",
      "MAE: 925.778612785533\n",
      "RMSLE: 0.031084367908517856\n",
      "Mean Residual Deviance: 1200221.245696402\n"
     ]
    },
    {
     "data": {
      "text/plain": []
     },
     "execution_count": 84,
     "metadata": {},
     "output_type": "execute_result"
    }
   ],
   "source": [
    "mGBM_cv.model_performance(train = True)"
   ]
  },
  {
   "cell_type": "code",
   "execution_count": 85,
   "metadata": {},
   "outputs": [
    {
     "name": "stdout",
     "output_type": "stream",
     "text": [
      "\n",
      "ModelMetricsRegression: gbm\n",
      "** Reported on cross-validation data. **\n",
      "\n",
      "MSE: 2513083.389805596\n",
      "RMSE: 1585.2707623007484\n",
      "MAE: 1350.9868529604296\n",
      "RMSLE: 0.044138309662255994\n",
      "Mean Residual Deviance: 2513083.389805596\n"
     ]
    },
    {
     "data": {
      "text/plain": []
     },
     "execution_count": 85,
     "metadata": {},
     "output_type": "execute_result"
    }
   ],
   "source": [
    "mGBM_cv.model_performance(xval= True)"
   ]
  },
  {
   "cell_type": "code",
   "execution_count": 86,
   "metadata": {},
   "outputs": [
    {
     "name": "stdout",
     "output_type": "stream",
     "text": [
      "\n",
      "ModelMetricsRegression: gbm\n",
      "** Reported on test data. **\n",
      "\n",
      "MSE: 2647142.2423868263\n",
      "RMSE: 1627.0040695667685\n",
      "MAE: 1356.1590517133443\n",
      "RMSLE: 0.042358142203433716\n",
      "Mean Residual Deviance: 2647142.2423868263\n"
     ]
    },
    {
     "data": {
      "text/plain": []
     },
     "execution_count": 86,
     "metadata": {},
     "output_type": "execute_result"
    }
   ],
   "source": [
    "mGBM_cv.model_performance(test)"
   ]
  },
  {
   "cell_type": "code",
   "execution_count": 87,
   "metadata": {},
   "outputs": [],
   "source": [
    "mGBM_cv_overfit = H2OGradientBoostingEstimator(model_id = \"GBM_CV_Overfit_For_Artificial_Data_Python\",\n",
    "                                               nfolds = 9,\n",
    "                                               ntrees = 1000,\n",
    "                                               max_depth = 10)"
   ]
  },
  {
   "cell_type": "code",
   "execution_count": 88,
   "metadata": {},
   "outputs": [
    {
     "name": "stdout",
     "output_type": "stream",
     "text": [
      "gbm Model Build progress: |███████████████████████████████████████████████| 100%\n"
     ]
    }
   ],
   "source": [
    "mGBM_cv_overfit.train(x_cols, y_col, train)"
   ]
  },
  {
   "cell_type": "code",
   "execution_count": 89,
   "metadata": {},
   "outputs": [
    {
     "name": "stdout",
     "output_type": "stream",
     "text": [
      "\n",
      "ModelMetricsRegression: gbm\n",
      "** Reported on train data. **\n",
      "\n",
      "MSE: 67958.18784545762\n",
      "RMSE: 260.6879127337085\n",
      "MAE: 194.21804360326777\n",
      "RMSLE: 0.007182664314744851\n",
      "Mean Residual Deviance: 67958.18784545762\n"
     ]
    },
    {
     "data": {
      "text/plain": []
     },
     "execution_count": 89,
     "metadata": {},
     "output_type": "execute_result"
    }
   ],
   "source": [
    "mGBM_cv_overfit.model_performance(train = True)"
   ]
  },
  {
   "cell_type": "code",
   "execution_count": 90,
   "metadata": {},
   "outputs": [
    {
     "name": "stdout",
     "output_type": "stream",
     "text": [
      "\n",
      "ModelMetricsRegression: gbm\n",
      "** Reported on cross-validation data. **\n",
      "\n",
      "MSE: 3327188.714287879\n",
      "RMSE: 1824.0583089056881\n",
      "MAE: 1512.9668156416187\n",
      "RMSLE: 0.04981551505939657\n",
      "Mean Residual Deviance: 3327188.714287879\n"
     ]
    },
    {
     "data": {
      "text/plain": []
     },
     "execution_count": 90,
     "metadata": {},
     "output_type": "execute_result"
    }
   ],
   "source": [
    "mGBM_cv_overfit.model_performance(xval=True)"
   ]
  },
  {
   "cell_type": "code",
   "execution_count": 91,
   "metadata": {},
   "outputs": [
    {
     "name": "stdout",
     "output_type": "stream",
     "text": [
      "\n",
      "ModelMetricsRegression: gbm\n",
      "** Reported on test data. **\n",
      "\n",
      "MSE: 3631312.5564373736\n",
      "RMSE: 1905.600313926657\n",
      "MAE: 1562.629982376906\n",
      "RMSLE: 0.048989300746599906\n",
      "Mean Residual Deviance: 3631312.5564373736\n"
     ]
    },
    {
     "data": {
      "text/plain": []
     },
     "execution_count": 91,
     "metadata": {},
     "output_type": "execute_result"
    }
   ],
   "source": [
    "mGBM_cv_overfit.model_performance(test)"
   ]
  },
  {
   "cell_type": "markdown",
   "metadata": {},
   "source": [
    "## Go to flow and check out the following: Models - there will be 10 (K + 1)\n",
    "\n",
    "### The final model would be trained on the entire training dataset. Validation would have been done on x% (how it decides ???) of the data "
   ]
  },
  {
   "cell_type": "code",
   "execution_count": null,
   "metadata": {},
   "outputs": [],
   "source": []
  }
 ],
 "metadata": {
  "kernelspec": {
   "display_name": "Python 3",
   "language": "python",
   "name": "python3"
  },
  "language_info": {
   "codemirror_mode": {
    "name": "ipython",
    "version": 3
   },
   "file_extension": ".py",
   "mimetype": "text/x-python",
   "name": "python",
   "nbconvert_exporter": "python",
   "pygments_lexer": "ipython3",
   "version": "3.6.0"
  }
 },
 "nbformat": 4,
 "nbformat_minor": 2
}
