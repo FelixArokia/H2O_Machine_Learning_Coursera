{
 "cells": [
  {
   "cell_type": "code",
   "execution_count": 368,
   "metadata": {},
   "outputs": [
    {
     "name": "stdout",
     "output_type": "stream",
     "text": [
      "H2O session _sid_ab16 closed.\n"
     ]
    }
   ],
   "source": [
    "import h2o\n",
    "h2o.cluster().shutdown()"
   ]
  },
  {
   "cell_type": "code",
   "execution_count": 369,
   "metadata": {},
   "outputs": [],
   "source": [
    "# h2o.cluster().shutdown()"
   ]
  },
  {
   "cell_type": "code",
   "execution_count": 370,
   "metadata": {},
   "outputs": [],
   "source": [
    "import numpy as np\n",
    "import pandas as pd\n",
    "import matplotlib.pyplot as plt"
   ]
  },
  {
   "cell_type": "code",
   "execution_count": 371,
   "metadata": {},
   "outputs": [
    {
     "name": "stdout",
     "output_type": "stream",
     "text": [
      "Checking whether there is an H2O instance running at http://localhost:54321 ..... not found.\n",
      "Attempting to start a local H2O server...\n",
      "  Java Version: openjdk version \"1.8.0_232\"; OpenJDK Runtime Environment (AdoptOpenJDK)(build 1.8.0_232-b09); OpenJDK 64-Bit Server VM (AdoptOpenJDK)(build 25.232-b09, mixed mode)\n",
      "  Starting server from /Library/Frameworks/Python.framework/Versions/3.6/lib/python3.6/site-packages/h2o/backend/bin/h2o.jar\n",
      "  Ice root: /var/folders/1c/jl2kk0093xl1b1_cvk9bvp5w0000gn/T/tmpyl9ov2rg\n",
      "  JVM stdout: /var/folders/1c/jl2kk0093xl1b1_cvk9bvp5w0000gn/T/tmpyl9ov2rg/h2o_felix_started_from_python.out\n",
      "  JVM stderr: /var/folders/1c/jl2kk0093xl1b1_cvk9bvp5w0000gn/T/tmpyl9ov2rg/h2o_felix_started_from_python.err\n",
      "  Server is running at http://127.0.0.1:54321\n",
      "Connecting to H2O server at http://127.0.0.1:54321 ... successful.\n"
     ]
    },
    {
     "data": {
      "text/html": [
       "<div style=\"overflow:auto\"><table style=\"width:50%\"><tr><td>H2O cluster uptime:</td>\n",
       "<td>01 secs</td></tr>\n",
       "<tr><td>H2O cluster timezone:</td>\n",
       "<td>Asia/Kolkata</td></tr>\n",
       "<tr><td>H2O data parsing timezone:</td>\n",
       "<td>UTC</td></tr>\n",
       "<tr><td>H2O cluster version:</td>\n",
       "<td>3.26.0.8</td></tr>\n",
       "<tr><td>H2O cluster version age:</td>\n",
       "<td>1 month and 18 days </td></tr>\n",
       "<tr><td>H2O cluster name:</td>\n",
       "<td>H2O_from_python_felix_mftce9</td></tr>\n",
       "<tr><td>H2O cluster total nodes:</td>\n",
       "<td>1</td></tr>\n",
       "<tr><td>H2O cluster free memory:</td>\n",
       "<td>3.556 Gb</td></tr>\n",
       "<tr><td>H2O cluster total cores:</td>\n",
       "<td>16</td></tr>\n",
       "<tr><td>H2O cluster allowed cores:</td>\n",
       "<td>16</td></tr>\n",
       "<tr><td>H2O cluster status:</td>\n",
       "<td>accepting new members, healthy</td></tr>\n",
       "<tr><td>H2O connection url:</td>\n",
       "<td>http://127.0.0.1:54321</td></tr>\n",
       "<tr><td>H2O connection proxy:</td>\n",
       "<td>{'http': None, 'https': None}</td></tr>\n",
       "<tr><td>H2O internal security:</td>\n",
       "<td>False</td></tr>\n",
       "<tr><td>H2O API Extensions:</td>\n",
       "<td>Amazon S3, XGBoost, Algos, AutoML, Core V3, TargetEncoder, Core V4</td></tr>\n",
       "<tr><td>Python version:</td>\n",
       "<td>3.6.0 final</td></tr></table></div>"
      ],
      "text/plain": [
       "--------------------------  ------------------------------------------------------------------\n",
       "H2O cluster uptime:         01 secs\n",
       "H2O cluster timezone:       Asia/Kolkata\n",
       "H2O data parsing timezone:  UTC\n",
       "H2O cluster version:        3.26.0.8\n",
       "H2O cluster version age:    1 month and 18 days\n",
       "H2O cluster name:           H2O_from_python_felix_mftce9\n",
       "H2O cluster total nodes:    1\n",
       "H2O cluster free memory:    3.556 Gb\n",
       "H2O cluster total cores:    16\n",
       "H2O cluster allowed cores:  16\n",
       "H2O cluster status:         accepting new members, healthy\n",
       "H2O connection url:         http://127.0.0.1:54321\n",
       "H2O connection proxy:       {'http': None, 'https': None}\n",
       "H2O internal security:      False\n",
       "H2O API Extensions:         Amazon S3, XGBoost, Algos, AutoML, Core V3, TargetEncoder, Core V4\n",
       "Python version:             3.6.0 final\n",
       "--------------------------  ------------------------------------------------------------------"
      ]
     },
     "metadata": {},
     "output_type": "display_data"
    }
   ],
   "source": [
    "h2o.init()"
   ]
  },
  {
   "cell_type": "code",
   "execution_count": 372,
   "metadata": {},
   "outputs": [
    {
     "name": "stdout",
     "output_type": "stream",
     "text": [
      "Warning: Failed to set locale category LC_NUMERIC to en_IN.\n",
      "Warning: Failed to set locale category LC_TIME to en_IN.\n",
      "Warning: Failed to set locale category LC_COLLATE to en_IN.\n",
      "Warning: Failed to set locale category LC_MONETARY to en_IN.\n",
      "Warning: Failed to set locale category LC_MESSAGES to en_IN.\n",
      "--2019-12-06 21:15:36--  https://s3-us-west-2.amazonaws.com/h2o-tutorials/data/topics/lending/lending_club/LoanStats3a.csv\n",
      "Resolving s3-us-west-2.amazonaws.com (s3-us-west-2.amazonaws.com)... 52.218.237.104\n",
      "Connecting to s3-us-west-2.amazonaws.com (s3-us-west-2.amazonaws.com)|52.218.237.104|:443... connected.\n",
      "HTTP request sent, awaiting response... 200 OK\n",
      "Length: 33394214 (32M) [text/csv]\n",
      "Saving to: ‘LoanStats3a.csv.2’\n",
      "\n",
      "LoanStats3a.csv.2   100%[===================>]  31.85M  3.56MB/s    in 17s     \n",
      "\n",
      "2019-12-06 21:15:56 (1.82 MB/s) - ‘LoanStats3a.csv.2’ saved [33394214/33394214]\n",
      "\n"
     ]
    }
   ],
   "source": [
    "#!wget https://s3-us-west-2.amazonaws.com/h2o-tutorials/data/topics/lending/lending_club/LoanStats3a.csv"
   ]
  },
  {
   "cell_type": "code",
   "execution_count": 373,
   "metadata": {},
   "outputs": [
    {
     "name": "stdout",
     "output_type": "stream",
     "text": [
      "01_Data_Manipulation_Feature_Engineering_Lending Club Training_Aquarium.ipynb\r\n",
      "02_Data_Manipulation_From_H2O_Docs.ipynb\r\n",
      "Artificial_data.R\r\n",
      "ClientImport.R\r\n",
      "DataManipulation.R\r\n",
      "Intro_H2O.R\r\n",
      "LoanStats3a.csv\r\n",
      "LoanStats3a.csv.1\r\n",
      "LoanStats3a.csv.2\r\n",
      "Practical_Machine_Learning_H2O_Felix_4_TRAIN_VALID_TEST.ipynb\r\n",
      "Practical_Machine_Learning_H2O_Felix_5_LoadingSaving_Data.ipynb\r\n",
      "Practical_Machine_Learning_H2O_Felix_6_DataManipulations.ipynb\r\n",
      "Practical_Machine_Learning_Using_H2O_Felix_1_INTRO.ipynb\r\n",
      "Practical_Machine_Learning_with_H2O_Felix_2_TREE_ALGO.ipynb\r\n",
      "Practical_Machine_Learning_with_H2O_Felix_3_CLIENT_IMPORT.ipynb\r\n",
      "Tree_Algo.R\r\n",
      "Week2_Assignment.R\r\n"
     ]
    }
   ],
   "source": [
    "#!ls"
   ]
  },
  {
   "cell_type": "code",
   "execution_count": 374,
   "metadata": {},
   "outputs": [],
   "source": [
    "#input_csv = \"https://s3-us-west-2.amazonaws.com/h2o-tutorials/data/topics/lending/lending_club/LoanStats3a.csv\""
   ]
  },
  {
   "cell_type": "code",
   "execution_count": 182,
   "metadata": {},
   "outputs": [],
   "source": [
    "#loans = h2o.import_file(input_csv,\n",
    "#                       col_types = {\"int_rate\":\"string\", \n",
    "#                                     \"revol_util\":\"string\", \n",
    "#                                     \"emp_length\":\"string\", \n",
    "#                                     \"verification_status\":\"string\"})"
   ]
  },
  {
   "cell_type": "code",
   "execution_count": 375,
   "metadata": {},
   "outputs": [
    {
     "name": "stdout",
     "output_type": "stream",
     "text": [
      "Parse progress: |█████████████████████████████████████████████████████████| 100%\n"
     ]
    }
   ],
   "source": [
    "loans = h2o.import_file('LoanStats3a.csv')"
   ]
  },
  {
   "cell_type": "code",
   "execution_count": 376,
   "metadata": {},
   "outputs": [],
   "source": [
    "orig_cols = loans.col_names"
   ]
  },
  {
   "cell_type": "code",
   "execution_count": 377,
   "metadata": {},
   "outputs": [
    {
     "data": {
      "text/plain": [
       "[42536, 52]"
      ]
     },
     "execution_count": 377,
     "metadata": {},
     "output_type": "execute_result"
    }
   ],
   "source": [
    "loans.dim"
   ]
  },
  {
   "cell_type": "markdown",
   "metadata": {},
   "source": [
    "# Create a new column using numpy"
   ]
  },
  {
   "cell_type": "code",
   "execution_count": 378,
   "metadata": {},
   "outputs": [],
   "source": [
    "new_random_col = np.random.rand(42536,1)"
   ]
  },
  {
   "cell_type": "code",
   "execution_count": 379,
   "metadata": {},
   "outputs": [
    {
     "data": {
      "text/plain": [
       "array([[0.87624286],\n",
       "       [0.17553416],\n",
       "       [0.88749085],\n",
       "       ...,\n",
       "       [0.21682568],\n",
       "       [0.46318066],\n",
       "       [0.43066766]])"
      ]
     },
     "execution_count": 379,
     "metadata": {},
     "output_type": "execute_result"
    }
   ],
   "source": [
    "new_random_col"
   ]
  },
  {
   "cell_type": "code",
   "execution_count": 380,
   "metadata": {},
   "outputs": [
    {
     "data": {
      "text/plain": [
       "numpy.ndarray"
      ]
     },
     "execution_count": 380,
     "metadata": {},
     "output_type": "execute_result"
    }
   ],
   "source": [
    "type(new_random_col)"
   ]
  },
  {
   "cell_type": "code",
   "execution_count": 381,
   "metadata": {},
   "outputs": [],
   "source": [
    "#loans.cbind(new_random_col) ## throws an error since new_random_col is not a h2oframe"
   ]
  },
  {
   "cell_type": "code",
   "execution_count": 382,
   "metadata": {},
   "outputs": [
    {
     "name": "stdout",
     "output_type": "stream",
     "text": [
      "Parse progress: |█████████████████████████████████████████████████████████| 100%\n"
     ]
    }
   ],
   "source": [
    "new_random_col_h2o = h2o.H2OFrame(new_random_col) ### change the array to a h2oFrame"
   ]
  },
  {
   "cell_type": "code",
   "execution_count": 383,
   "metadata": {},
   "outputs": [
    {
     "data": {
      "text/plain": [
       "['Random_Column']"
      ]
     },
     "execution_count": 383,
     "metadata": {},
     "output_type": "execute_result"
    }
   ],
   "source": [
    "type(new_random_col_h2o)\n",
    "new_random_col_h2o.col_names\n",
    "new_random_col_h2o.col_names = ['Random_Column']\n",
    "new_random_col_h2o.col_names"
   ]
  },
  {
   "cell_type": "markdown",
   "metadata": {},
   "source": [
    "# Manipulation 1: CBIND"
   ]
  },
  {
   "cell_type": "code",
   "execution_count": 384,
   "metadata": {},
   "outputs": [],
   "source": [
    "loans = loans.cbind(new_random_col_h2o) #assigning is important"
   ]
  },
  {
   "cell_type": "markdown",
   "metadata": {},
   "source": [
    "# Create a new row"
   ]
  },
  {
   "cell_type": "code",
   "execution_count": 385,
   "metadata": {},
   "outputs": [
    {
     "name": "stdout",
     "output_type": "stream",
     "text": [
      "{'id': 'int', 'member_id': 'int', 'loan_amnt': 'int', 'funded_amnt': 'int', 'funded_amnt_inv': 'real', 'term': 'enum', 'int_rate': 'enum', 'installment': 'real', 'grade': 'enum', 'sub_grade': 'enum', 'emp_title': 'enum', 'emp_length': 'enum', 'home_ownership': 'enum', 'annual_inc': 'real', 'verification_status': 'enum', 'issue_d': 'time', 'loan_status': 'enum', 'pymnt_plan': 'enum', 'url': 'string', 'desc': 'enum', 'purpose': 'enum', 'title': 'enum', 'zip_code': 'enum', 'addr_state': 'enum', 'dti': 'real', 'delinq_2yrs': 'int', 'earliest_cr_line': 'time', 'inq_last_6mths': 'int', 'mths_since_last_delinq': 'enum', 'mths_since_last_record': 'enum', 'open_acc': 'int', 'pub_rec': 'int', 'revol_bal': 'int', 'revol_util': 'enum', 'total_acc': 'int', 'initial_list_status': 'enum', 'out_prncp': 'real', 'out_prncp_inv': 'real', 'total_pymnt': 'real', 'total_pymnt_inv': 'real', 'total_rec_prncp': 'real', 'total_rec_int': 'real', 'total_rec_late_fee': 'real', 'recoveries': 'real', 'collection_recovery_fee': 'real', 'last_pymnt_d': 'time', 'last_pymnt_amnt': 'real', 'next_pymnt_d': 'time', 'last_credit_pull_d': 'time', 'collections_12_mths_ex_med': 'int', 'mths_since_last_major_derog': 'enum', 'policy_code': 'int', 'Random_Column': 'real'}\n"
     ]
    }
   ],
   "source": [
    "new_row = loans[1,:]\n",
    "#print(new_row)\n",
    "#print(type(new_row))\n",
    "print(new_row.types)"
   ]
  },
  {
   "cell_type": "code",
   "execution_count": 386,
   "metadata": {},
   "outputs": [
    {
     "name": "stdout",
     "output_type": "stream",
     "text": [
      "{'id': 'int', 'member_id': 'int', 'loan_amnt': 'int', 'funded_amnt': 'int', 'funded_amnt_inv': 'real', 'term': 'enum', 'int_rate': 'enum', 'installment': 'real', 'grade': 'enum', 'sub_grade': 'enum', 'emp_title': 'enum', 'emp_length': 'enum', 'home_ownership': 'enum', 'annual_inc': 'real', 'verification_status': 'enum', 'issue_d': 'time', 'loan_status': 'enum', 'pymnt_plan': 'enum', 'url': 'string', 'desc': 'enum', 'purpose': 'enum', 'title': 'enum', 'zip_code': 'enum', 'addr_state': 'enum', 'dti': 'real', 'delinq_2yrs': 'int', 'earliest_cr_line': 'time', 'inq_last_6mths': 'int', 'mths_since_last_delinq': 'enum', 'mths_since_last_record': 'enum', 'open_acc': 'int', 'pub_rec': 'int', 'revol_bal': 'int', 'revol_util': 'enum', 'total_acc': 'int', 'initial_list_status': 'enum', 'out_prncp': 'real', 'out_prncp_inv': 'real', 'total_pymnt': 'real', 'total_pymnt_inv': 'real', 'total_rec_prncp': 'real', 'total_rec_int': 'real', 'total_rec_late_fee': 'real', 'recoveries': 'real', 'collection_recovery_fee': 'real', 'last_pymnt_d': 'time', 'last_pymnt_amnt': 'real', 'next_pymnt_d': 'time', 'last_credit_pull_d': 'time', 'collections_12_mths_ex_med': 'int', 'mths_since_last_major_derog': 'enum', 'policy_code': 'int', 'Random_Column': 'real'}\n"
     ]
    }
   ],
   "source": [
    "print(loans.types)"
   ]
  },
  {
   "cell_type": "code",
   "execution_count": 387,
   "metadata": {},
   "outputs": [],
   "source": [
    "new_row[:, \"funded_amnt_inv\"] = new_row[:, \"funded_amnt_inv\"].asnumeric() "
   ]
  },
  {
   "cell_type": "code",
   "execution_count": 388,
   "metadata": {},
   "outputs": [
    {
     "name": "stdout",
     "output_type": "stream",
     "text": [
      "{'id': 'int', 'member_id': 'int', 'loan_amnt': 'int', 'funded_amnt': 'int', 'funded_amnt_inv': 'real', 'term': 'enum', 'int_rate': 'enum', 'installment': 'real', 'grade': 'enum', 'sub_grade': 'enum', 'emp_title': 'enum', 'emp_length': 'enum', 'home_ownership': 'enum', 'annual_inc': 'real', 'verification_status': 'enum', 'issue_d': 'time', 'loan_status': 'enum', 'pymnt_plan': 'enum', 'url': 'string', 'desc': 'enum', 'purpose': 'enum', 'title': 'enum', 'zip_code': 'enum', 'addr_state': 'enum', 'dti': 'real', 'delinq_2yrs': 'int', 'earliest_cr_line': 'time', 'inq_last_6mths': 'int', 'mths_since_last_delinq': 'enum', 'mths_since_last_record': 'enum', 'open_acc': 'int', 'pub_rec': 'int', 'revol_bal': 'int', 'revol_util': 'enum', 'total_acc': 'int', 'initial_list_status': 'enum', 'out_prncp': 'real', 'out_prncp_inv': 'real', 'total_pymnt': 'real', 'total_pymnt_inv': 'real', 'total_rec_prncp': 'real', 'total_rec_int': 'real', 'total_rec_late_fee': 'real', 'recoveries': 'real', 'collection_recovery_fee': 'real', 'last_pymnt_d': 'time', 'last_pymnt_amnt': 'real', 'next_pymnt_d': 'time', 'last_credit_pull_d': 'time', 'collections_12_mths_ex_med': 'int', 'mths_since_last_major_derog': 'enum', 'policy_code': 'int', 'Random_Column': 'real'}\n"
     ]
    }
   ],
   "source": [
    "print(new_row.types)"
   ]
  },
  {
   "cell_type": "code",
   "execution_count": null,
   "metadata": {},
   "outputs": [],
   "source": []
  },
  {
   "cell_type": "markdown",
   "metadata": {},
   "source": [
    "# Manipulation 2: RBIND"
   ]
  },
  {
   "cell_type": "code",
   "execution_count": 389,
   "metadata": {},
   "outputs": [
    {
     "name": "stdout",
     "output_type": "stream",
     "text": [
      "[42536, 53]\n",
      "[42537, 53]\n"
     ]
    }
   ],
   "source": [
    "print(loans.dim)\n",
    "loans = loans.rbind(new_row)\n",
    "print(loans.dim)"
   ]
  },
  {
   "cell_type": "markdown",
   "metadata": {},
   "source": [
    "# Plant NA's"
   ]
  },
  {
   "cell_type": "code",
   "execution_count": 390,
   "metadata": {},
   "outputs": [],
   "source": [
    "#loans"
   ]
  },
  {
   "cell_type": "code",
   "execution_count": 391,
   "metadata": {},
   "outputs": [],
   "source": [
    "#loans.shape"
   ]
  },
  {
   "cell_type": "code",
   "execution_count": 392,
   "metadata": {},
   "outputs": [],
   "source": [
    "#loans[2, \"loan_amnt\"] = np.nan\n",
    "\n",
    "# print(loans.dim)\n",
    "# loans.head()"
   ]
  },
  {
   "cell_type": "code",
   "execution_count": 393,
   "metadata": {},
   "outputs": [],
   "source": [
    "#loans[0:10, \"loan_amnt\"].isna()"
   ]
  },
  {
   "cell_type": "code",
   "execution_count": 394,
   "metadata": {},
   "outputs": [],
   "source": [
    "#??loans.fillna"
   ]
  },
  {
   "cell_type": "code",
   "execution_count": 395,
   "metadata": {},
   "outputs": [],
   "source": [
    "#print(loans[:, \"loan_amnt\"]\n",
    "#loans[:, \"loan_amnt\"].fillna(method=\"forward\", axis = 0, maxlen = 1) # axis 0 for columnar and 1 for row wise"
   ]
  },
  {
   "cell_type": "code",
   "execution_count": 396,
   "metadata": {},
   "outputs": [],
   "source": [
    "#loans.head()"
   ]
  },
  {
   "cell_type": "markdown",
   "metadata": {},
   "source": [
    "# Manipulation 3: Group by\n",
    "\n",
    "# What is the pandas equivalent of Group by"
   ]
  },
  {
   "cell_type": "code",
   "execution_count": 397,
   "metadata": {},
   "outputs": [
    {
     "name": "stdout",
     "output_type": "stream",
     "text": [
      "Parse progress: |█████████████████████████████████████████████████████████| 100%\n"
     ]
    },
    {
     "data": {
      "text/plain": [
       "[43978, 31]"
      ]
     },
     "execution_count": 397,
     "metadata": {},
     "output_type": "execute_result"
    }
   ],
   "source": [
    "air = h2o.import_file(\"https://s3.amazonaws.com/h2o-airlines-unpacked/allyears2k.csv\")\n",
    "air.dim"
   ]
  },
  {
   "cell_type": "code",
   "execution_count": 398,
   "metadata": {},
   "outputs": [],
   "source": [
    "grade = loans.group_by(\"grade\")"
   ]
  },
  {
   "cell_type": "code",
   "execution_count": 399,
   "metadata": {},
   "outputs": [
    {
     "data": {
      "text/html": [
       "<table>\n",
       "<thead>\n",
       "<tr><th>grade  </th></tr>\n",
       "</thead>\n",
       "<tbody>\n",
       "<tr><td>       </td></tr>\n",
       "<tr><td>A      </td></tr>\n",
       "<tr><td>B      </td></tr>\n",
       "<tr><td>C      </td></tr>\n",
       "<tr><td>D      </td></tr>\n",
       "<tr><td>E      </td></tr>\n",
       "<tr><td>F      </td></tr>\n",
       "<tr><td>G      </td></tr>\n",
       "</tbody>\n",
       "</table>"
      ]
     },
     "metadata": {},
     "output_type": "display_data"
    },
    {
     "data": {
      "text/plain": []
     },
     "execution_count": 399,
     "metadata": {},
     "output_type": "execute_result"
    }
   ],
   "source": [
    "grade.get_frame()"
   ]
  },
  {
   "cell_type": "code",
   "execution_count": 400,
   "metadata": {},
   "outputs": [],
   "source": [
    "count_by_grade = loans.group_by(\"grade\").count()"
   ]
  },
  {
   "cell_type": "code",
   "execution_count": 401,
   "metadata": {},
   "outputs": [
    {
     "data": {
      "text/html": [
       "<table>\n",
       "<thead>\n",
       "<tr><th>grade  </th><th style=\"text-align: right;\">  nrow</th></tr>\n",
       "</thead>\n",
       "<tbody>\n",
       "<tr><td>       </td><td style=\"text-align: right;\">     1</td></tr>\n",
       "<tr><td>A      </td><td style=\"text-align: right;\"> 10183</td></tr>\n",
       "<tr><td>B      </td><td style=\"text-align: right;\"> 12389</td></tr>\n",
       "<tr><td>C      </td><td style=\"text-align: right;\">  8741</td></tr>\n",
       "<tr><td>D      </td><td style=\"text-align: right;\">  6016</td></tr>\n",
       "<tr><td>E      </td><td style=\"text-align: right;\">  3394</td></tr>\n",
       "<tr><td>F      </td><td style=\"text-align: right;\">  1301</td></tr>\n",
       "<tr><td>G      </td><td style=\"text-align: right;\">   512</td></tr>\n",
       "</tbody>\n",
       "</table>"
      ]
     },
     "metadata": {},
     "output_type": "display_data"
    },
    {
     "data": {
      "text/plain": []
     },
     "execution_count": 401,
     "metadata": {},
     "output_type": "execute_result"
    }
   ],
   "source": [
    "count_by_grade.get_frame()"
   ]
  },
  {
   "cell_type": "code",
   "execution_count": 402,
   "metadata": {},
   "outputs": [],
   "source": [
    "loan_sum_by_grade = loans.group_by(\"grade\").sum(\"loan_amnt\", na=\"ignore\") \n",
    "loan_sum_by_grade = loans.group_by(\"grade\").sum(\"loan_amnt\", na=\"all\")\n",
    "loan_sum_by_grade = loans.group_by(\"grade\").sum(\"loan_amnt\", na=\"rm\")# can take \"all\", \"ignore\", \"rm\""
   ]
  },
  {
   "cell_type": "markdown",
   "metadata": {},
   "source": [
    "## aggregation functions - mean, max, min, count, mode, sd, ss, sum, var"
   ]
  },
  {
   "cell_type": "code",
   "execution_count": 403,
   "metadata": {},
   "outputs": [
    {
     "data": {
      "text/html": [
       "<table>\n",
       "<thead>\n",
       "<tr><th>grade  </th><th style=\"text-align: right;\">  sum_loan_amnt</th></tr>\n",
       "</thead>\n",
       "<tbody>\n",
       "<tr><td>       </td><td style=\"text-align: right;\">    0          </td></tr>\n",
       "<tr><td>A      </td><td style=\"text-align: right;\">    8.75561e+07</td></tr>\n",
       "<tr><td>B      </td><td style=\"text-align: right;\">    1.36872e+08</td></tr>\n",
       "<tr><td>C      </td><td style=\"text-align: right;\">    9.50263e+07</td></tr>\n",
       "<tr><td>D      </td><td style=\"text-align: right;\">    7.12817e+07</td></tr>\n",
       "<tr><td>E      </td><td style=\"text-align: right;\">    4.9904e+07 </td></tr>\n",
       "<tr><td>F      </td><td style=\"text-align: right;\">    2.2313e+07 </td></tr>\n",
       "<tr><td>G      </td><td style=\"text-align: right;\">    8.75102e+06</td></tr>\n",
       "</tbody>\n",
       "</table>"
      ]
     },
     "metadata": {},
     "output_type": "display_data"
    },
    {
     "data": {
      "text/plain": []
     },
     "execution_count": 403,
     "metadata": {},
     "output_type": "execute_result"
    }
   ],
   "source": [
    "loan_sum_by_grade.get_frame()"
   ]
  },
  {
   "cell_type": "code",
   "execution_count": 404,
   "metadata": {},
   "outputs": [],
   "source": [
    "group_cols = [\"grade\", \"sub_grade\"]\n",
    "sum_cols = [\"loan_amnt\", \"funded_amnt\"]"
   ]
  },
  {
   "cell_type": "code",
   "execution_count": 405,
   "metadata": {},
   "outputs": [],
   "source": [
    "agg = loans.group_by(group_cols).sum(sum_cols, na=\"rm\")"
   ]
  },
  {
   "cell_type": "code",
   "execution_count": 406,
   "metadata": {},
   "outputs": [
    {
     "data": {
      "text/html": [
       "<table>\n",
       "<thead>\n",
       "<tr><th>grade  </th><th>sub_grade  </th><th style=\"text-align: right;\">  sum_loan_amnt</th><th style=\"text-align: right;\">  sum_funded_amnt</th></tr>\n",
       "</thead>\n",
       "<tbody>\n",
       "<tr><td>       </td><td>           </td><td style=\"text-align: right;\">    0          </td><td style=\"text-align: right;\">      0          </td></tr>\n",
       "<tr><td>A      </td><td>A1         </td><td style=\"text-align: right;\">    8.28232e+06</td><td style=\"text-align: right;\">      8.26765e+06</td></tr>\n",
       "<tr><td>A      </td><td>A2         </td><td style=\"text-align: right;\">    1.11622e+07</td><td style=\"text-align: right;\">      1.0977e+07 </td></tr>\n",
       "<tr><td>A      </td><td>A3         </td><td style=\"text-align: right;\">    1.43419e+07</td><td style=\"text-align: right;\">      1.39310e+07</td></tr>\n",
       "<tr><td>A      </td><td>A4         </td><td style=\"text-align: right;\">    2.70158e+07</td><td style=\"text-align: right;\">      2.62237e+07</td></tr>\n",
       "<tr><td>A      </td><td>A5         </td><td style=\"text-align: right;\">    2.67538e+07</td><td style=\"text-align: right;\">      2.58958e+07</td></tr>\n",
       "<tr><td>B      </td><td>B1         </td><td style=\"text-align: right;\">    1.82405e+07</td><td style=\"text-align: right;\">      1.80405e+07</td></tr>\n",
       "<tr><td>B      </td><td>B2         </td><td style=\"text-align: right;\">    2.21454e+07</td><td style=\"text-align: right;\">      2.17567e+07</td></tr>\n",
       "<tr><td>B      </td><td>B3         </td><td style=\"text-align: right;\">    3.45332e+07</td><td style=\"text-align: right;\">      3.38e+07   </td></tr>\n",
       "<tr><td>B      </td><td>B4         </td><td style=\"text-align: right;\">    2.94866e+07</td><td style=\"text-align: right;\">      2.85392e+07</td></tr>\n",
       "</tbody>\n",
       "</table>"
      ]
     },
     "metadata": {},
     "output_type": "display_data"
    },
    {
     "data": {
      "text/plain": []
     },
     "execution_count": 406,
     "metadata": {},
     "output_type": "execute_result"
    }
   ],
   "source": [
    "agg.get_frame()"
   ]
  },
  {
   "cell_type": "code",
   "execution_count": 407,
   "metadata": {},
   "outputs": [],
   "source": [
    "loans[\"int_rate\"] = loans[\"int_rate\"].gsub(pattern = \"%\", replacement = \"\") # strip %\n",
    "loans[\"int_rate\"] = loans[\"int_rate\"].trim() # trim whitespace\n",
    "loans[\"int_rate\"] = loans[\"int_rate\"].asnumeric() # change to numeric "
   ]
  },
  {
   "cell_type": "code",
   "execution_count": 408,
   "metadata": {},
   "outputs": [],
   "source": [
    "mean_interest_rate = loans.group_by(group_cols).mean(\"int_rate\", na = \"all\")"
   ]
  },
  {
   "cell_type": "code",
   "execution_count": 409,
   "metadata": {},
   "outputs": [
    {
     "data": {
      "text/html": [
       "<table>\n",
       "<thead>\n",
       "<tr><th>grade  </th><th>sub_grade  </th><th style=\"text-align: right;\">  mean_int_rate</th></tr>\n",
       "</thead>\n",
       "<tbody>\n",
       "<tr><td>       </td><td>           </td><td style=\"text-align: right;\">      nan      </td></tr>\n",
       "<tr><td>A      </td><td>A1         </td><td style=\"text-align: right;\">        2.71891</td></tr>\n",
       "<tr><td>A      </td><td>A2         </td><td style=\"text-align: right;\">        6.57632</td></tr>\n",
       "<tr><td>A      </td><td>A3         </td><td style=\"text-align: right;\">       16.4328 </td></tr>\n",
       "<tr><td>A      </td><td>A4         </td><td style=\"text-align: right;\">       23.2682 </td></tr>\n",
       "<tr><td>A      </td><td>A5         </td><td style=\"text-align: right;\">       31.096  </td></tr>\n",
       "<tr><td>B      </td><td>B1         </td><td style=\"text-align: right;\">       61.4091 </td></tr>\n",
       "<tr><td>B      </td><td>B2         </td><td style=\"text-align: right;\">       73.6361 </td></tr>\n",
       "<tr><td>B      </td><td>B3         </td><td style=\"text-align: right;\">       86.9443 </td></tr>\n",
       "<tr><td>B      </td><td>B4         </td><td style=\"text-align: right;\">       98.6023 </td></tr>\n",
       "</tbody>\n",
       "</table>"
      ]
     },
     "metadata": {},
     "output_type": "display_data"
    },
    {
     "data": {
      "text/plain": []
     },
     "execution_count": 409,
     "metadata": {},
     "output_type": "execute_result"
    }
   ],
   "source": [
    "mean_interest_rate.get_frame()"
   ]
  },
  {
   "cell_type": "code",
   "execution_count": 410,
   "metadata": {},
   "outputs": [],
   "source": [
    "median_interest_rate = loans.group_by(group_cols).median(\"int_rate\", na = \"all\")"
   ]
  },
  {
   "cell_type": "code",
   "execution_count": 411,
   "metadata": {},
   "outputs": [
    {
     "data": {
      "text/html": [
       "<table>\n",
       "<thead>\n",
       "<tr><th>grade  </th><th>sub_grade  </th><th style=\"text-align: right;\">  median_int_rate</th></tr>\n",
       "</thead>\n",
       "<tbody>\n",
       "<tr><td>       </td><td>           </td><td style=\"text-align: right;\">              nan</td></tr>\n",
       "<tr><td>A      </td><td>A1         </td><td style=\"text-align: right;\">                0</td></tr>\n",
       "<tr><td>A      </td><td>A2         </td><td style=\"text-align: right;\">                8</td></tr>\n",
       "<tr><td>A      </td><td>A3         </td><td style=\"text-align: right;\">               15</td></tr>\n",
       "<tr><td>A      </td><td>A4         </td><td style=\"text-align: right;\">               22</td></tr>\n",
       "<tr><td>A      </td><td>A5         </td><td style=\"text-align: right;\">               34</td></tr>\n",
       "<tr><td>B      </td><td>B1         </td><td style=\"text-align: right;\">               58</td></tr>\n",
       "<tr><td>B      </td><td>B2         </td><td style=\"text-align: right;\">               75</td></tr>\n",
       "<tr><td>B      </td><td>B3         </td><td style=\"text-align: right;\">               87</td></tr>\n",
       "<tr><td>B      </td><td>B4         </td><td style=\"text-align: right;\">              101</td></tr>\n",
       "</tbody>\n",
       "</table>"
      ]
     },
     "metadata": {},
     "output_type": "display_data"
    },
    {
     "data": {
      "text/plain": []
     },
     "execution_count": 411,
     "metadata": {},
     "output_type": "execute_result"
    }
   ],
   "source": [
    "median_interest_rate.get_frame()"
   ]
  },
  {
   "cell_type": "code",
   "execution_count": 412,
   "metadata": {},
   "outputs": [],
   "source": [
    "sd_interest_rate = loans.group_by(group_cols).sd(\"int_rate\", na = \"all\")"
   ]
  },
  {
   "cell_type": "code",
   "execution_count": 413,
   "metadata": {},
   "outputs": [
    {
     "data": {
      "text/html": [
       "<table>\n",
       "<thead>\n",
       "<tr><th>grade  </th><th>sub_grade  </th><th style=\"text-align: right;\">  sdev_int_rate</th></tr>\n",
       "</thead>\n",
       "<tbody>\n",
       "<tr><td>       </td><td>           </td><td style=\"text-align: right;\">      nan      </td></tr>\n",
       "<tr><td>A      </td><td>A1         </td><td style=\"text-align: right;\">        3.70905</td></tr>\n",
       "<tr><td>A      </td><td>A2         </td><td style=\"text-align: right;\">        6.57589</td></tr>\n",
       "<tr><td>A      </td><td>A3         </td><td style=\"text-align: right;\">        7.62461</td></tr>\n",
       "<tr><td>A      </td><td>A4         </td><td style=\"text-align: right;\">        9.18291</td></tr>\n",
       "<tr><td>A      </td><td>A5         </td><td style=\"text-align: right;\">       10.576  </td></tr>\n",
       "<tr><td>B      </td><td>B1         </td><td style=\"text-align: right;\">       14.469  </td></tr>\n",
       "<tr><td>B      </td><td>B2         </td><td style=\"text-align: right;\">       14.3269 </td></tr>\n",
       "<tr><td>B      </td><td>B3         </td><td style=\"text-align: right;\">       17.6358 </td></tr>\n",
       "<tr><td>B      </td><td>B4         </td><td style=\"text-align: right;\">       20.7452 </td></tr>\n",
       "</tbody>\n",
       "</table>"
      ]
     },
     "metadata": {},
     "output_type": "display_data"
    },
    {
     "data": {
      "text/plain": []
     },
     "execution_count": 413,
     "metadata": {},
     "output_type": "execute_result"
    }
   ],
   "source": [
    "sd_interest_rate.get_frame()"
   ]
  },
  {
   "cell_type": "code",
   "execution_count": 414,
   "metadata": {},
   "outputs": [],
   "source": [
    "grouped_df = loans.group_by(group_cols)"
   ]
  },
  {
   "cell_type": "code",
   "execution_count": 415,
   "metadata": {},
   "outputs": [
    {
     "name": "stdout",
     "output_type": "stream",
     "text": [
      "GroupBy: \n",
      "  Frame: py_445_sid_9968; by=[8, 9]\n",
      "  Aggregates: dict_keys(['max_id', 'max_member_id', 'max_loan_amnt', 'max_funded_amnt', 'max_funded_amnt_inv', 'max_term', 'max_int_rate', 'max_installment', 'max_emp_title', 'max_emp_length', 'max_home_ownership', 'max_annual_inc', 'max_verification_status', 'max_issue_d', 'max_loan_status', 'max_pymnt_plan', 'max_url', 'max_desc', 'max_purpose', 'max_title', 'max_zip_code', 'max_addr_state', 'max_dti', 'max_delinq_2yrs', 'max_earliest_cr_line', 'max_inq_last_6mths', 'max_mths_since_last_delinq', 'max_mths_since_last_record', 'max_open_acc', 'max_pub_rec', 'max_revol_bal', 'max_revol_util', 'max_total_acc', 'max_initial_list_status', 'max_out_prncp', 'max_out_prncp_inv', 'max_total_pymnt', 'max_total_pymnt_inv', 'max_total_rec_prncp', 'max_total_rec_int', 'max_total_rec_late_fee', 'max_recoveries', 'max_collection_recovery_fee', 'max_last_pymnt_d', 'max_last_pymnt_amnt', 'max_next_pymnt_d', 'max_last_credit_pull_d', 'max_collections_12_mths_ex_med', 'max_mths_since_last_major_derog', 'max_policy_code', 'max_Random_Column'])\n",
      "*** Use get_frame() to get groupby frame ***\n"
     ]
    },
    {
     "data": {
      "text/plain": []
     },
     "execution_count": 415,
     "metadata": {},
     "output_type": "execute_result"
    }
   ],
   "source": [
    "grouped_df.max(na = \"rm\")"
   ]
  },
  {
   "cell_type": "code",
   "execution_count": 416,
   "metadata": {},
   "outputs": [
    {
     "name": "stderr",
     "output_type": "stream",
     "text": [
      "/Library/Frameworks/Python.framework/Versions/3.6/lib/python3.6/site-packages/h2o/group_by.py:277: UserWarning: Column url is a string column.  No groupby operation will be performed on it.\n",
      "  warnings.warn(\"Column {0} is a string column.  No groupby operation will be performed on it.\".format(self._fr.names[colIndex]))\n"
     ]
    },
    {
     "data": {
      "text/html": [
       "<table>\n",
       "<thead>\n",
       "<tr><th>grade  </th><th>sub_grade  </th><th style=\"text-align: right;\">       max_id</th><th style=\"text-align: right;\">  max_member_id</th><th style=\"text-align: right;\">   max_loan_amnt</th><th style=\"text-align: right;\">  max_funded_amnt</th><th style=\"text-align: right;\">  max_funded_amnt_inv</th><th style=\"text-align: right;\">     max_term</th><th style=\"text-align: right;\">  max_int_rate</th><th style=\"text-align: right;\">  max_installment</th><th style=\"text-align: right;\">   max_emp_title</th><th style=\"text-align: right;\">  max_emp_length</th><th style=\"text-align: right;\">  max_home_ownership</th><th style=\"text-align: right;\">   max_annual_inc</th><th style=\"text-align: right;\">  max_verification_status</th><th style=\"text-align: right;\">  max_issue_d</th><th style=\"text-align: right;\">  max_loan_status</th><th style=\"text-align: right;\">  max_pymnt_plan</th><th style=\"text-align: right;\">        max_desc</th><th style=\"text-align: right;\">  max_purpose</th><th style=\"text-align: right;\">       max_title</th><th style=\"text-align: right;\">  max_zip_code</th><th style=\"text-align: right;\">  max_addr_state</th><th style=\"text-align: right;\">      max_dti</th><th style=\"text-align: right;\">  max_delinq_2yrs</th><th style=\"text-align: right;\">  max_earliest_cr_line</th><th style=\"text-align: right;\">  max_inq_last_6mths</th><th style=\"text-align: right;\">  max_mths_since_last_delinq</th><th style=\"text-align: right;\">  max_mths_since_last_record</th><th style=\"text-align: right;\">  max_open_acc</th><th style=\"text-align: right;\">  max_pub_rec</th><th style=\"text-align: right;\">    max_revol_bal</th><th style=\"text-align: right;\">  max_revol_util</th><th style=\"text-align: right;\">  max_total_acc</th><th style=\"text-align: right;\">  max_initial_list_status</th><th style=\"text-align: right;\">   max_out_prncp</th><th style=\"text-align: right;\">  max_out_prncp_inv</th><th style=\"text-align: right;\">  max_total_pymnt</th><th style=\"text-align: right;\">  max_total_pymnt_inv</th><th style=\"text-align: right;\">  max_total_rec_prncp</th><th style=\"text-align: right;\">  max_total_rec_int</th><th style=\"text-align: right;\">  max_total_rec_late_fee</th><th style=\"text-align: right;\">  max_recoveries</th><th style=\"text-align: right;\">  max_collection_recovery_fee</th><th style=\"text-align: right;\">  max_last_pymnt_d</th><th style=\"text-align: right;\">  max_last_pymnt_amnt</th><th style=\"text-align: right;\">  max_next_pymnt_d</th><th style=\"text-align: right;\">  max_last_credit_pull_d</th><th style=\"text-align: right;\">  max_collections_12_mths_ex_med</th><th style=\"text-align: right;\">  max_mths_since_last_major_derog</th><th style=\"text-align: right;\">  max_policy_code</th><th style=\"text-align: right;\">  max_Random_Column</th></tr>\n",
       "</thead>\n",
       "<tbody>\n",
       "<tr><td>       </td><td>           </td><td style=\"text-align: right;\">-1.79769e+308</td><td style=\"text-align: right;\">  -1.79769e+308</td><td style=\"text-align: right;\">   -1.79769e+308</td><td style=\"text-align: right;\">    -1.79769e+308</td><td style=\"text-align: right;\">        -1.79769e+308</td><td style=\"text-align: right;\">-1.79769e+308</td><td style=\"text-align: right;\"> -1.79769e+308</td><td style=\"text-align: right;\">    -1.79769e+308</td><td style=\"text-align: right;\">   -1.79769e+308</td><td style=\"text-align: right;\">   -1.79769e+308</td><td style=\"text-align: right;\">       -1.79769e+308</td><td style=\"text-align: right;\">    -1.79769e+308</td><td style=\"text-align: right;\">            -1.79769e+308</td><td style=\"text-align: right;\">-1.79769e+308</td><td style=\"text-align: right;\">    -1.79769e+308</td><td style=\"text-align: right;\">   -1.79769e+308</td><td style=\"text-align: right;\">   -1.79769e+308</td><td style=\"text-align: right;\">-1.79769e+308</td><td style=\"text-align: right;\">   -1.79769e+308</td><td style=\"text-align: right;\"> -1.79769e+308</td><td style=\"text-align: right;\">   -1.79769e+308</td><td style=\"text-align: right;\">-1.79769e+308</td><td style=\"text-align: right;\">    -1.79769e+308</td><td style=\"text-align: right;\">         -1.79769e+308</td><td style=\"text-align: right;\">       -1.79769e+308</td><td style=\"text-align: right;\">               -1.79769e+308</td><td style=\"text-align: right;\">               -1.79769e+308</td><td style=\"text-align: right;\"> -1.79769e+308</td><td style=\"text-align: right;\">-1.79769e+308</td><td style=\"text-align: right;\">    -1.79769e+308</td><td style=\"text-align: right;\">   -1.79769e+308</td><td style=\"text-align: right;\">  -1.79769e+308</td><td style=\"text-align: right;\">            -1.79769e+308</td><td style=\"text-align: right;\">   -1.79769e+308</td><td style=\"text-align: right;\">      -1.79769e+308</td><td style=\"text-align: right;\">    -1.79769e+308</td><td style=\"text-align: right;\">        -1.79769e+308</td><td style=\"text-align: right;\">        -1.79769e+308</td><td style=\"text-align: right;\">      -1.79769e+308</td><td style=\"text-align: right;\">           -1.79769e+308</td><td style=\"text-align: right;\">   -1.79769e+308</td><td style=\"text-align: right;\">                -1.79769e+308</td><td style=\"text-align: right;\">     -1.79769e+308</td><td style=\"text-align: right;\">        -1.79769e+308</td><td style=\"text-align: right;\">     -1.79769e+308</td><td style=\"text-align: right;\">           -1.79769e+308</td><td style=\"text-align: right;\">                   -1.79769e+308</td><td style=\"text-align: right;\">                    -1.79769e+308</td><td style=\"text-align: right;\">    -1.79769e+308</td><td style=\"text-align: right;\">           0.50782 </td></tr>\n",
       "<tr><td>A      </td><td>A1         </td><td style=\"text-align: right;\"> 1.06997e+06 </td><td style=\"text-align: right;\">   1.30488e+06 </td><td style=\"text-align: right;\">19000           </td><td style=\"text-align: right;\"> 19000           </td><td style=\"text-align: right;\">     19000           </td><td style=\"text-align: right;\"> 0           </td><td style=\"text-align: right;\"> 17           </td><td style=\"text-align: right;\">   587.1         </td><td style=\"text-align: right;\">30653           </td><td style=\"text-align: right;\">   11           </td><td style=\"text-align: right;\">        4           </td><td style=\"text-align: right;\">480000           </td><td style=\"text-align: right;\">             2           </td><td style=\"text-align: right;\"> 1.3227e+12  </td><td style=\"text-align: right;\">     7           </td><td style=\"text-align: right;\">    0           </td><td style=\"text-align: right;\">28945           </td><td style=\"text-align: right;\">13           </td><td style=\"text-align: right;\">21212           </td><td style=\"text-align: right;\">833           </td><td style=\"text-align: right;\">   49           </td><td style=\"text-align: right;\">29.92        </td><td style=\"text-align: right;\">     2           </td><td style=\"text-align: right;\">          1.16761e+12 </td><td style=\"text-align: right;\">        4           </td><td style=\"text-align: right;\">               92           </td><td style=\"text-align: right;\">               77           </td><td style=\"text-align: right;\"> 21           </td><td style=\"text-align: right;\"> 1           </td><td style=\"text-align: right;\">150786           </td><td style=\"text-align: right;\"> 1018           </td><td style=\"text-align: right;\">  61           </td><td style=\"text-align: right;\">             0           </td><td style=\"text-align: right;\">    0           </td><td style=\"text-align: right;\">       0           </td><td style=\"text-align: right;\"> 19407.2         </td><td style=\"text-align: right;\">     19046.8         </td><td style=\"text-align: right;\">     17500           </td><td style=\"text-align: right;\">    1973.28        </td><td style=\"text-align: right;\">           44.9582      </td><td style=\"text-align: right;\"> 7051.87        </td><td style=\"text-align: right;\">              1192.87        </td><td style=\"text-align: right;\">      1.42007e+12 </td><td style=\"text-align: right;\">     14450.8         </td><td style=\"text-align: right;\">      1.33851e+12 </td><td style=\"text-align: right;\">            1.43312e+12 </td><td style=\"text-align: right;\">                    0           </td><td style=\"text-align: right;\">                     0           </td><td style=\"text-align: right;\">     1           </td><td style=\"text-align: right;\">           0.999237</td></tr>\n",
       "<tr><td>A      </td><td>A2         </td><td style=\"text-align: right;\"> 1.06945e+06 </td><td style=\"text-align: right;\">   1.3037e+06  </td><td style=\"text-align: right;\">32000           </td><td style=\"text-align: right;\"> 32000           </td><td style=\"text-align: right;\">     32000           </td><td style=\"text-align: right;\"> 1           </td><td style=\"text-align: right;\"> 24           </td><td style=\"text-align: right;\">   982.52        </td><td style=\"text-align: right;\">30642           </td><td style=\"text-align: right;\">   11           </td><td style=\"text-align: right;\">        4           </td><td style=\"text-align: right;\">     1.44e+06    </td><td style=\"text-align: right;\">             2           </td><td style=\"text-align: right;\"> 1.3227e+12  </td><td style=\"text-align: right;\">     7           </td><td style=\"text-align: right;\">    0           </td><td style=\"text-align: right;\">28943           </td><td style=\"text-align: right;\">13           </td><td style=\"text-align: right;\">21262           </td><td style=\"text-align: right;\">834           </td><td style=\"text-align: right;\">   49           </td><td style=\"text-align: right;\">29.92        </td><td style=\"text-align: right;\">     2           </td><td style=\"text-align: right;\">          1.17029e+12 </td><td style=\"text-align: right;\">        5           </td><td style=\"text-align: right;\">               92           </td><td style=\"text-align: right;\">              106           </td><td style=\"text-align: right;\"> 42           </td><td style=\"text-align: right;\"> 1           </td><td style=\"text-align: right;\">167381           </td><td style=\"text-align: right;\"> 1018           </td><td style=\"text-align: right;\">  79           </td><td style=\"text-align: right;\">             0           </td><td style=\"text-align: right;\"> 1364.27        </td><td style=\"text-align: right;\">    1364.27        </td><td style=\"text-align: right;\"> 35369.3         </td><td style=\"text-align: right;\">     35369.3         </td><td style=\"text-align: right;\">     32000           </td><td style=\"text-align: right;\">    3369.3         </td><td style=\"text-align: right;\">           60.5824      </td><td style=\"text-align: right;\"> 2778.5         </td><td style=\"text-align: right;\">               972.856       </td><td style=\"text-align: right;\">      1.43312e+12 </td><td style=\"text-align: right;\">     19193.1         </td><td style=\"text-align: right;\">      1.43571e+12 </td><td style=\"text-align: right;\">            1.43312e+12 </td><td style=\"text-align: right;\">                    0           </td><td style=\"text-align: right;\">                     0           </td><td style=\"text-align: right;\">     1           </td><td style=\"text-align: right;\">           0.999015</td></tr>\n",
       "<tr><td>A      </td><td>A3         </td><td style=\"text-align: right;\"> 1.06816e+06 </td><td style=\"text-align: right;\">   1.30255e+06 </td><td style=\"text-align: right;\">30000           </td><td style=\"text-align: right;\"> 30000           </td><td style=\"text-align: right;\">     30000           </td><td style=\"text-align: right;\"> 1           </td><td style=\"text-align: right;\"> 30           </td><td style=\"text-align: right;\">   933.33        </td><td style=\"text-align: right;\">30611           </td><td style=\"text-align: right;\">   11           </td><td style=\"text-align: right;\">        4           </td><td style=\"text-align: right;\">     1.9e+06     </td><td style=\"text-align: right;\">             2           </td><td style=\"text-align: right;\"> 1.3227e+12  </td><td style=\"text-align: right;\">     7           </td><td style=\"text-align: right;\">    0           </td><td style=\"text-align: right;\">28940           </td><td style=\"text-align: right;\">13           </td><td style=\"text-align: right;\">21257           </td><td style=\"text-align: right;\">833           </td><td style=\"text-align: right;\">   49           </td><td style=\"text-align: right;\">29.88        </td><td style=\"text-align: right;\">     2           </td><td style=\"text-align: right;\">          1.17539e+12 </td><td style=\"text-align: right;\">        7           </td><td style=\"text-align: right;\">               92           </td><td style=\"text-align: right;\">              109           </td><td style=\"text-align: right;\"> 24           </td><td style=\"text-align: right;\"> 1           </td><td style=\"text-align: right;\">212878           </td><td style=\"text-align: right;\"> 1019           </td><td style=\"text-align: right;\">  76           </td><td style=\"text-align: right;\">             0           </td><td style=\"text-align: right;\"> 1201.04        </td><td style=\"text-align: right;\">    1201.04        </td><td style=\"text-align: right;\"> 33597.2         </td><td style=\"text-align: right;\">     33597.2         </td><td style=\"text-align: right;\">     30000           </td><td style=\"text-align: right;\">    3597.22        </td><td style=\"text-align: right;\">           59.9577      </td><td style=\"text-align: right;\"> 8025.21        </td><td style=\"text-align: right;\">              2692.6         </td><td style=\"text-align: right;\">      1.43312e+12 </td><td style=\"text-align: right;\">     23553.7         </td><td style=\"text-align: right;\">      1.43571e+12 </td><td style=\"text-align: right;\">            1.43312e+12 </td><td style=\"text-align: right;\">                    0           </td><td style=\"text-align: right;\">                     0           </td><td style=\"text-align: right;\">     1           </td><td style=\"text-align: right;\">           0.999796</td></tr>\n",
       "<tr><td>A      </td><td>A4         </td><td style=\"text-align: right;\"> 1.07527e+06 </td><td style=\"text-align: right;\">   1.31144e+06 </td><td style=\"text-align: right;\">35000           </td><td style=\"text-align: right;\"> 35000           </td><td style=\"text-align: right;\">     35000           </td><td style=\"text-align: right;\"> 1           </td><td style=\"text-align: right;\"> 45           </td><td style=\"text-align: right;\">  1095.16        </td><td style=\"text-align: right;\">30620           </td><td style=\"text-align: right;\">   11           </td><td style=\"text-align: right;\">        4           </td><td style=\"text-align: right;\">     1.2e+06     </td><td style=\"text-align: right;\">             2           </td><td style=\"text-align: right;\"> 1.3227e+12  </td><td style=\"text-align: right;\">     7           </td><td style=\"text-align: right;\">    0           </td><td style=\"text-align: right;\">28959           </td><td style=\"text-align: right;\">13           </td><td style=\"text-align: right;\">21238           </td><td style=\"text-align: right;\">834           </td><td style=\"text-align: right;\">   49           </td><td style=\"text-align: right;\">29.93        </td><td style=\"text-align: right;\">     3           </td><td style=\"text-align: right;\">          1.19388e+12 </td><td style=\"text-align: right;\">        6           </td><td style=\"text-align: right;\">               92           </td><td style=\"text-align: right;\">              113           </td><td style=\"text-align: right;\"> 35           </td><td style=\"text-align: right;\"> 1           </td><td style=\"text-align: right;\">269726           </td><td style=\"text-align: right;\"> 1069           </td><td style=\"text-align: right;\">  64           </td><td style=\"text-align: right;\">             0           </td><td style=\"text-align: right;\"> 6012.89        </td><td style=\"text-align: right;\">    6004.23        </td><td style=\"text-align: right;\"> 39425.5         </td><td style=\"text-align: right;\">     39425.5         </td><td style=\"text-align: right;\">     35000           </td><td style=\"text-align: right;\">    4425.49        </td><td style=\"text-align: right;\">           59.9081      </td><td style=\"text-align: right;\"> 4147.31        </td><td style=\"text-align: right;\">               803.86        </td><td style=\"text-align: right;\">      1.43312e+12 </td><td style=\"text-align: right;\">     29453.9         </td><td style=\"text-align: right;\">      1.43571e+12 </td><td style=\"text-align: right;\">            1.43312e+12 </td><td style=\"text-align: right;\">                    0           </td><td style=\"text-align: right;\">                     0           </td><td style=\"text-align: right;\">     1           </td><td style=\"text-align: right;\">           0.999579</td></tr>\n",
       "<tr><td>A      </td><td>A5         </td><td style=\"text-align: right;\"> 1.06959e+06 </td><td style=\"text-align: right;\">   1.30452e+06 </td><td style=\"text-align: right;\">35000           </td><td style=\"text-align: right;\"> 35000           </td><td style=\"text-align: right;\">     35000           </td><td style=\"text-align: right;\"> 1           </td><td style=\"text-align: right;\"> 51           </td><td style=\"text-align: right;\">  1111.37        </td><td style=\"text-align: right;\">30659           </td><td style=\"text-align: right;\">   11           </td><td style=\"text-align: right;\">        4           </td><td style=\"text-align: right;\">     1.08e+06    </td><td style=\"text-align: right;\">             2           </td><td style=\"text-align: right;\"> 1.3227e+12  </td><td style=\"text-align: right;\">     7           </td><td style=\"text-align: right;\">    0           </td><td style=\"text-align: right;\">28964           </td><td style=\"text-align: right;\">13           </td><td style=\"text-align: right;\">21264           </td><td style=\"text-align: right;\">835           </td><td style=\"text-align: right;\">   49           </td><td style=\"text-align: right;\">29.99        </td><td style=\"text-align: right;\">     4           </td><td style=\"text-align: right;\">          1.19915e+12 </td><td style=\"text-align: right;\">       10           </td><td style=\"text-align: right;\">               92           </td><td style=\"text-align: right;\">              113           </td><td style=\"text-align: right;\"> 24           </td><td style=\"text-align: right;\"> 2           </td><td style=\"text-align: right;\">255805           </td><td style=\"text-align: right;\"> 1095           </td><td style=\"text-align: right;\">  66           </td><td style=\"text-align: right;\">             0           </td><td style=\"text-align: right;\"> 4963.09        </td><td style=\"text-align: right;\">    4963.09        </td><td style=\"text-align: right;\"> 40007.8         </td><td style=\"text-align: right;\">     40007.6         </td><td style=\"text-align: right;\">     35000           </td><td style=\"text-align: right;\">    5007.83        </td><td style=\"text-align: right;\">           94.8051      </td><td style=\"text-align: right;\">16502.7         </td><td style=\"text-align: right;\">              5774.8         </td><td style=\"text-align: right;\">      1.43312e+12 </td><td style=\"text-align: right;\">     27308.5         </td><td style=\"text-align: right;\">      1.43571e+12 </td><td style=\"text-align: right;\">            1.43312e+12 </td><td style=\"text-align: right;\">                    0           </td><td style=\"text-align: right;\">                     0           </td><td style=\"text-align: right;\">     1           </td><td style=\"text-align: right;\">           0.999326</td></tr>\n",
       "<tr><td>B      </td><td>B1         </td><td style=\"text-align: right;\"> 1.06987e+06 </td><td style=\"text-align: right;\">   1.30496e+06 </td><td style=\"text-align: right;\">35000           </td><td style=\"text-align: right;\"> 35000           </td><td style=\"text-align: right;\">     35000           </td><td style=\"text-align: right;\"> 1           </td><td style=\"text-align: right;\"> 92           </td><td style=\"text-align: right;\">  1129.19        </td><td style=\"text-align: right;\">30630           </td><td style=\"text-align: right;\">   11           </td><td style=\"text-align: right;\">        4           </td><td style=\"text-align: right;\">900000           </td><td style=\"text-align: right;\">             2           </td><td style=\"text-align: right;\"> 1.3227e+12  </td><td style=\"text-align: right;\">    10           </td><td style=\"text-align: right;\">    0           </td><td style=\"text-align: right;\">28953           </td><td style=\"text-align: right;\">13           </td><td style=\"text-align: right;\">21242           </td><td style=\"text-align: right;\">832           </td><td style=\"text-align: right;\">   49           </td><td style=\"text-align: right;\">29.79        </td><td style=\"text-align: right;\">     6           </td><td style=\"text-align: right;\">          1.20701e+12 </td><td style=\"text-align: right;\">       17           </td><td style=\"text-align: right;\">               92           </td><td style=\"text-align: right;\">              113           </td><td style=\"text-align: right;\"> 31           </td><td style=\"text-align: right;\"> 3           </td><td style=\"text-align: right;\">224090           </td><td style=\"text-align: right;\"> 1092           </td><td style=\"text-align: right;\">  90           </td><td style=\"text-align: right;\">             0           </td><td style=\"text-align: right;\">10598.8         </td><td style=\"text-align: right;\">   10598.8         </td><td style=\"text-align: right;\"> 39787.4         </td><td style=\"text-align: right;\">     39787.4         </td><td style=\"text-align: right;\">     35000           </td><td style=\"text-align: right;\">    7484.43        </td><td style=\"text-align: right;\">           87           </td><td style=\"text-align: right;\"> 3333.53        </td><td style=\"text-align: right;\">              1166.47        </td><td style=\"text-align: right;\">      1.43312e+12 </td><td style=\"text-align: right;\">     35283.1         </td><td style=\"text-align: right;\">      1.43571e+12 </td><td style=\"text-align: right;\">            1.43312e+12 </td><td style=\"text-align: right;\">                    0           </td><td style=\"text-align: right;\">                     0           </td><td style=\"text-align: right;\">     1           </td><td style=\"text-align: right;\">           0.999973</td></tr>\n",
       "<tr><td>B      </td><td>B2         </td><td style=\"text-align: right;\"> 1.0775e+06  </td><td style=\"text-align: right;\">   1.30459e+06 </td><td style=\"text-align: right;\">35000           </td><td style=\"text-align: right;\"> 35000           </td><td style=\"text-align: right;\">     35000           </td><td style=\"text-align: right;\"> 1           </td><td style=\"text-align: right;\">100           </td><td style=\"text-align: right;\">  1140.07        </td><td style=\"text-align: right;\">30654           </td><td style=\"text-align: right;\">   11           </td><td style=\"text-align: right;\">        4           </td><td style=\"text-align: right;\">780000           </td><td style=\"text-align: right;\">             2           </td><td style=\"text-align: right;\"> 1.3227e+12  </td><td style=\"text-align: right;\">    10           </td><td style=\"text-align: right;\">    0           </td><td style=\"text-align: right;\">28961           </td><td style=\"text-align: right;\">13           </td><td style=\"text-align: right;\">21259           </td><td style=\"text-align: right;\">833           </td><td style=\"text-align: right;\">   49           </td><td style=\"text-align: right;\">29.93        </td><td style=\"text-align: right;\">     4           </td><td style=\"text-align: right;\">          1.20701e+12 </td><td style=\"text-align: right;\">        8           </td><td style=\"text-align: right;\">               92           </td><td style=\"text-align: right;\">              113           </td><td style=\"text-align: right;\"> 25           </td><td style=\"text-align: right;\"> 2           </td><td style=\"text-align: right;\">338935           </td><td style=\"text-align: right;\"> 1110           </td><td style=\"text-align: right;\">  72           </td><td style=\"text-align: right;\">             0           </td><td style=\"text-align: right;\">10450.5         </td><td style=\"text-align: right;\">   10325.1         </td><td style=\"text-align: right;\"> 41038.5         </td><td style=\"text-align: right;\">     41038.5         </td><td style=\"text-align: right;\">     35000           </td><td style=\"text-align: right;\">    8064.5         </td><td style=\"text-align: right;\">           98.7738      </td><td style=\"text-align: right;\"> 4769.42        </td><td style=\"text-align: right;\">              1668.62        </td><td style=\"text-align: right;\">      1.43312e+12 </td><td style=\"text-align: right;\">     28101.2         </td><td style=\"text-align: right;\">      1.43571e+12 </td><td style=\"text-align: right;\">            1.43312e+12 </td><td style=\"text-align: right;\">                    0           </td><td style=\"text-align: right;\">                     0           </td><td style=\"text-align: right;\">     1           </td><td style=\"text-align: right;\">           0.999732</td></tr>\n",
       "<tr><td>B      </td><td>B3         </td><td style=\"text-align: right;\"> 1.0698e+06  </td><td style=\"text-align: right;\">   1.30482e+06 </td><td style=\"text-align: right;\">35000           </td><td style=\"text-align: right;\"> 35000           </td><td style=\"text-align: right;\">     35000           </td><td style=\"text-align: right;\"> 1           </td><td style=\"text-align: right;\">110           </td><td style=\"text-align: right;\">  1157.66        </td><td style=\"text-align: right;\">30641           </td><td style=\"text-align: right;\">   11           </td><td style=\"text-align: right;\">        4           </td><td style=\"text-align: right;\">     3.9e+06     </td><td style=\"text-align: right;\">             2           </td><td style=\"text-align: right;\"> 1.3227e+12  </td><td style=\"text-align: right;\">    10           </td><td style=\"text-align: right;\">    1           </td><td style=\"text-align: right;\">28962           </td><td style=\"text-align: right;\">13           </td><td style=\"text-align: right;\">21260           </td><td style=\"text-align: right;\">835           </td><td style=\"text-align: right;\">   49           </td><td style=\"text-align: right;\">29.77        </td><td style=\"text-align: right;\">     5           </td><td style=\"text-align: right;\">          1.2096e+12  </td><td style=\"text-align: right;\">       16           </td><td style=\"text-align: right;\">               92           </td><td style=\"text-align: right;\">              113           </td><td style=\"text-align: right;\"> 32           </td><td style=\"text-align: right;\"> 3           </td><td style=\"text-align: right;\">487589           </td><td style=\"text-align: right;\"> 1111           </td><td style=\"text-align: right;\">  63           </td><td style=\"text-align: right;\">             0           </td><td style=\"text-align: right;\">12724           </td><td style=\"text-align: right;\">   12711.1         </td><td style=\"text-align: right;\"> 44995.7         </td><td style=\"text-align: right;\">     44417.1         </td><td style=\"text-align: right;\">     35000           </td><td style=\"text-align: right;\">   10431.7         </td><td style=\"text-align: right;\">          165.65        </td><td style=\"text-align: right;\">14165.1         </td><td style=\"text-align: right;\">              4821.78        </td><td style=\"text-align: right;\">      1.43312e+12 </td><td style=\"text-align: right;\">     35323           </td><td style=\"text-align: right;\">      1.43839e+12 </td><td style=\"text-align: right;\">            1.43571e+12 </td><td style=\"text-align: right;\">                    0           </td><td style=\"text-align: right;\">                     0           </td><td style=\"text-align: right;\">     1           </td><td style=\"text-align: right;\">           0.99997 </td></tr>\n",
       "<tr><td>B      </td><td>B4         </td><td style=\"text-align: right;\"> 1.06936e+06 </td><td style=\"text-align: right;\">   1.30425e+06 </td><td style=\"text-align: right;\">35000           </td><td style=\"text-align: right;\"> 35000           </td><td style=\"text-align: right;\">     35000           </td><td style=\"text-align: right;\"> 1           </td><td style=\"text-align: right;\">127           </td><td style=\"text-align: right;\">  1169.54        </td><td style=\"text-align: right;\">30651           </td><td style=\"text-align: right;\">   11           </td><td style=\"text-align: right;\">        4           </td><td style=\"text-align: right;\">948000           </td><td style=\"text-align: right;\">             2           </td><td style=\"text-align: right;\"> 1.3227e+12  </td><td style=\"text-align: right;\">     8           </td><td style=\"text-align: right;\">    0           </td><td style=\"text-align: right;\">28963           </td><td style=\"text-align: right;\">13           </td><td style=\"text-align: right;\">21255           </td><td style=\"text-align: right;\">835           </td><td style=\"text-align: right;\">   49           </td><td style=\"text-align: right;\">29.82        </td><td style=\"text-align: right;\">    11           </td><td style=\"text-align: right;\">          1.20701e+12 </td><td style=\"text-align: right;\">       15           </td><td style=\"text-align: right;\">               92           </td><td style=\"text-align: right;\">              112           </td><td style=\"text-align: right;\"> 33           </td><td style=\"text-align: right;\"> 4           </td><td style=\"text-align: right;\">255001           </td><td style=\"text-align: right;\"> 1118           </td><td style=\"text-align: right;\">  66           </td><td style=\"text-align: right;\">             0           </td><td style=\"text-align: right;\">12857.8         </td><td style=\"text-align: right;\">   12844.7         </td><td style=\"text-align: right;\"> 45975.1         </td><td style=\"text-align: right;\">     45876.6         </td><td style=\"text-align: right;\">     35000           </td><td style=\"text-align: right;\">   11114.9         </td><td style=\"text-align: right;\">           87.6147      </td><td style=\"text-align: right;\">29623.3         </td><td style=\"text-align: right;\">              2759.79        </td><td style=\"text-align: right;\">      1.43312e+12 </td><td style=\"text-align: right;\">     35339.1         </td><td style=\"text-align: right;\">      1.43839e+12 </td><td style=\"text-align: right;\">            1.43312e+12 </td><td style=\"text-align: right;\">                    0           </td><td style=\"text-align: right;\">                     0           </td><td style=\"text-align: right;\">     1           </td><td style=\"text-align: right;\">           0.999983</td></tr>\n",
       "</tbody>\n",
       "</table>"
      ]
     },
     "metadata": {},
     "output_type": "display_data"
    },
    {
     "data": {
      "text/plain": []
     },
     "execution_count": 416,
     "metadata": {},
     "output_type": "execute_result"
    }
   ],
   "source": [
    "grouped_df.get_frame() #gives warning for some string cols but max value for some enum data types. How does it decide that ?"
   ]
  },
  {
   "cell_type": "code",
   "execution_count": 417,
   "metadata": {},
   "outputs": [
    {
     "data": {
      "text/plain": [
       "{'id': 'int',\n",
       " 'member_id': 'int',\n",
       " 'loan_amnt': 'int',\n",
       " 'funded_amnt': 'int',\n",
       " 'funded_amnt_inv': 'real',\n",
       " 'term': 'enum',\n",
       " 'int_rate': 'real',\n",
       " 'installment': 'real',\n",
       " 'grade': 'enum',\n",
       " 'sub_grade': 'enum',\n",
       " 'emp_title': 'enum',\n",
       " 'emp_length': 'enum',\n",
       " 'home_ownership': 'enum',\n",
       " 'annual_inc': 'real',\n",
       " 'verification_status': 'enum',\n",
       " 'issue_d': 'time',\n",
       " 'loan_status': 'enum',\n",
       " 'pymnt_plan': 'enum',\n",
       " 'url': 'string',\n",
       " 'desc': 'enum',\n",
       " 'purpose': 'enum',\n",
       " 'title': 'enum',\n",
       " 'zip_code': 'enum',\n",
       " 'addr_state': 'enum',\n",
       " 'dti': 'real',\n",
       " 'delinq_2yrs': 'int',\n",
       " 'earliest_cr_line': 'time',\n",
       " 'inq_last_6mths': 'int',\n",
       " 'mths_since_last_delinq': 'enum',\n",
       " 'mths_since_last_record': 'enum',\n",
       " 'open_acc': 'int',\n",
       " 'pub_rec': 'int',\n",
       " 'revol_bal': 'int',\n",
       " 'revol_util': 'enum',\n",
       " 'total_acc': 'int',\n",
       " 'initial_list_status': 'enum',\n",
       " 'out_prncp': 'real',\n",
       " 'out_prncp_inv': 'real',\n",
       " 'total_pymnt': 'real',\n",
       " 'total_pymnt_inv': 'real',\n",
       " 'total_rec_prncp': 'real',\n",
       " 'total_rec_int': 'real',\n",
       " 'total_rec_late_fee': 'real',\n",
       " 'recoveries': 'real',\n",
       " 'collection_recovery_fee': 'real',\n",
       " 'last_pymnt_d': 'time',\n",
       " 'last_pymnt_amnt': 'real',\n",
       " 'next_pymnt_d': 'time',\n",
       " 'last_credit_pull_d': 'time',\n",
       " 'collections_12_mths_ex_med': 'int',\n",
       " 'mths_since_last_major_derog': 'enum',\n",
       " 'policy_code': 'int',\n",
       " 'Random_Column': 'real'}"
      ]
     },
     "execution_count": 417,
     "metadata": {},
     "output_type": "execute_result"
    }
   ],
   "source": [
    "loans.types"
   ]
  },
  {
   "cell_type": "code",
   "execution_count": 418,
   "metadata": {},
   "outputs": [
    {
     "data": {
      "text/html": [
       "<table>\n",
       "<thead>\n",
       "<tr><th style=\"text-align: right;\">         id</th><th style=\"text-align: right;\">  member_id</th><th style=\"text-align: right;\">  loan_amnt</th><th style=\"text-align: right;\">  funded_amnt</th><th style=\"text-align: right;\">  funded_amnt_inv</th><th>term     </th><th style=\"text-align: right;\">  int_rate</th><th style=\"text-align: right;\">  installment</th><th>grade  </th><th>sub_grade  </th><th>emp_title                </th><th>emp_length  </th><th>home_ownership  </th><th style=\"text-align: right;\">  annual_inc</th><th>verification_status     </th><th>issue_d            </th><th>loan_status  </th><th>pymnt_plan  </th><th>url                                                                 </th><th>desc                                                                                                                                                                                                                                                                                                                                                                                                                                                                                                                                                                                                        </th><th>purpose           </th><th>title                                </th><th>zip_code  </th><th>addr_state  </th><th style=\"text-align: right;\">  dti</th><th style=\"text-align: right;\">  delinq_2yrs</th><th>earliest_cr_line   </th><th style=\"text-align: right;\">  inq_last_6mths</th><th>mths_since_last_delinq  </th><th>mths_since_last_record  </th><th style=\"text-align: right;\">  open_acc</th><th style=\"text-align: right;\">  pub_rec</th><th style=\"text-align: right;\">  revol_bal</th><th>revol_util  </th><th style=\"text-align: right;\">  total_acc</th><th>initial_list_status  </th><th style=\"text-align: right;\">  out_prncp</th><th style=\"text-align: right;\">  out_prncp_inv</th><th style=\"text-align: right;\">  total_pymnt</th><th style=\"text-align: right;\">  total_pymnt_inv</th><th style=\"text-align: right;\">  total_rec_prncp</th><th style=\"text-align: right;\">  total_rec_int</th><th style=\"text-align: right;\">  total_rec_late_fee</th><th style=\"text-align: right;\">  recoveries</th><th style=\"text-align: right;\">  collection_recovery_fee</th><th>last_pymnt_d       </th><th style=\"text-align: right;\">  last_pymnt_amnt</th><th>next_pymnt_d       </th><th>last_credit_pull_d  </th><th style=\"text-align: right;\">  collections_12_mths_ex_med</th><th>mths_since_last_major_derog  </th><th style=\"text-align: right;\">  policy_code</th><th style=\"text-align: right;\">  Random_Column</th></tr>\n",
       "</thead>\n",
       "<tbody>\n",
       "<tr><td style=\"text-align: right;\">1.0775e+06 </td><td style=\"text-align: right;\">1.2966e+06 </td><td style=\"text-align: right;\">       5000</td><td style=\"text-align: right;\">         5000</td><td style=\"text-align: right;\">             4975</td><td>36 months</td><td style=\"text-align: right;\">        78</td><td style=\"text-align: right;\">       162.87</td><td>B      </td><td>B2         </td><td>                         </td><td>10+ years   </td><td>RENT            </td><td style=\"text-align: right;\">       24000</td><td>VERIFIED - income       </td><td>2011-12-01 00:00:00</td><td>Fully Paid   </td><td>n           </td><td>https://www.lendingclub.com/browse/loanDetail.action?loan_id=1077501</td><td>Borrower added on 12/22/11 > I need to upgrade my business technologies.<br>                                                                                                                                                                                                                                                                                                                                                                                                                                                                                                                                </td><td>credit_card       </td><td>Computer                             </td><td>860xx     </td><td>AZ          </td><td style=\"text-align: right;\">27.65</td><td style=\"text-align: right;\">            0</td><td>1985-01-01 00:00:00</td><td style=\"text-align: right;\">               1</td><td>                        </td><td>                        </td><td style=\"text-align: right;\">         3</td><td style=\"text-align: right;\">        0</td><td style=\"text-align: right;\">      13648</td><td>83.7%       </td><td style=\"text-align: right;\">          9</td><td>f                    </td><td style=\"text-align: right;\">       0   </td><td style=\"text-align: right;\">           0   </td><td style=\"text-align: right;\">      5861.07</td><td style=\"text-align: right;\">          5831.78</td><td style=\"text-align: right;\">          5000   </td><td style=\"text-align: right;\">         861.07</td><td style=\"text-align: right;\">                0   </td><td style=\"text-align: right;\">        0   </td><td style=\"text-align: right;\">                     0   </td><td>2015-01-01 00:00:00</td><td style=\"text-align: right;\">           171.62</td><td>                   </td><td>2015-01-01 00:00:00 </td><td style=\"text-align: right;\">                           0</td><td>                             </td><td style=\"text-align: right;\">            1</td><td style=\"text-align: right;\">       0.876243</td></tr>\n",
       "<tr><td style=\"text-align: right;\">1.07743e+06</td><td style=\"text-align: right;\">1.31417e+06</td><td style=\"text-align: right;\">       2500</td><td style=\"text-align: right;\">         2500</td><td style=\"text-align: right;\">             2500</td><td>60 months</td><td style=\"text-align: right;\">       221</td><td style=\"text-align: right;\">        59.83</td><td>C      </td><td>C4         </td><td>Ryder                    </td><td>< 1 year    </td><td>RENT            </td><td style=\"text-align: right;\">       30000</td><td>VERIFIED - income source</td><td>2011-12-01 00:00:00</td><td>Charged Off  </td><td>n           </td><td>https://www.lendingclub.com/browse/loanDetail.action?loan_id=1077430</td><td>Borrower added on 12/22/11 > I plan to use this money to finance the motorcycle i am looking at. I plan to have it paid off as soon as possible/when i sell my old bike. I only need this money because the deal im looking at is to good to pass up.<br><br>  Borrower added on 12/22/11 > I plan to use this money to finance the motorcycle i am looking at. I plan to have it paid off as soon as possible/when i sell my old bike.I only need this money because the deal im looking at is to good to pass up. I have finished college with an associates degree in business and its takingmeplaces<br></td><td>car               </td><td>bike                                 </td><td>309xx     </td><td>GA          </td><td style=\"text-align: right;\"> 1   </td><td style=\"text-align: right;\">            0</td><td>1999-04-01 00:00:00</td><td style=\"text-align: right;\">               5</td><td>                        </td><td>                        </td><td style=\"text-align: right;\">         3</td><td style=\"text-align: right;\">        0</td><td style=\"text-align: right;\">       1687</td><td>9.4%        </td><td style=\"text-align: right;\">          4</td><td>f                    </td><td style=\"text-align: right;\">       0   </td><td style=\"text-align: right;\">           0   </td><td style=\"text-align: right;\">      1008.71</td><td style=\"text-align: right;\">          1008.71</td><td style=\"text-align: right;\">           456.46</td><td style=\"text-align: right;\">         435.17</td><td style=\"text-align: right;\">                0   </td><td style=\"text-align: right;\">      117.08</td><td style=\"text-align: right;\">                     1.11</td><td>2013-04-01 00:00:00</td><td style=\"text-align: right;\">           119.66</td><td>                   </td><td>2013-09-01 00:00:00 </td><td style=\"text-align: right;\">                           0</td><td>                             </td><td style=\"text-align: right;\">            1</td><td style=\"text-align: right;\">       0.175534</td></tr>\n",
       "<tr><td style=\"text-align: right;\">1.07718e+06</td><td style=\"text-align: right;\">1.31352e+06</td><td style=\"text-align: right;\">       2400</td><td style=\"text-align: right;\">         2400</td><td style=\"text-align: right;\">             2400</td><td>36 months</td><td style=\"text-align: right;\">       239</td><td style=\"text-align: right;\">        84.33</td><td>C      </td><td>C5         </td><td>                         </td><td>10+ years   </td><td>RENT            </td><td style=\"text-align: right;\">       12252</td><td>not verified            </td><td>2011-12-01 00:00:00</td><td>Fully Paid   </td><td>n           </td><td>https://www.lendingclub.com/browse/loanDetail.action?loan_id=1077175</td><td>                                                                                                                                                                                                                                                                                                                                                                                                                                                                                                                                                                                                            </td><td>small_business    </td><td>real estate business                 </td><td>606xx     </td><td>IL          </td><td style=\"text-align: right;\"> 8.72</td><td style=\"text-align: right;\">            0</td><td>2001-11-01 00:00:00</td><td style=\"text-align: right;\">               2</td><td>                        </td><td>                        </td><td style=\"text-align: right;\">         2</td><td style=\"text-align: right;\">        0</td><td style=\"text-align: right;\">       2956</td><td>98.5%       </td><td style=\"text-align: right;\">         10</td><td>f                    </td><td style=\"text-align: right;\">       0   </td><td style=\"text-align: right;\">           0   </td><td style=\"text-align: right;\">      3003.65</td><td style=\"text-align: right;\">          3003.65</td><td style=\"text-align: right;\">          2400   </td><td style=\"text-align: right;\">         603.65</td><td style=\"text-align: right;\">                0   </td><td style=\"text-align: right;\">        0   </td><td style=\"text-align: right;\">                     0   </td><td>2014-06-01 00:00:00</td><td style=\"text-align: right;\">           649.91</td><td>                   </td><td>2015-06-01 00:00:00 </td><td style=\"text-align: right;\">                           0</td><td>                             </td><td style=\"text-align: right;\">            1</td><td style=\"text-align: right;\">       0.887491</td></tr>\n",
       "<tr><td style=\"text-align: right;\">1.07686e+06</td><td style=\"text-align: right;\">1.27718e+06</td><td style=\"text-align: right;\">      10000</td><td style=\"text-align: right;\">        10000</td><td style=\"text-align: right;\">            10000</td><td>36 months</td><td style=\"text-align: right;\">       160</td><td style=\"text-align: right;\">       339.31</td><td>C      </td><td>C1         </td><td>AIR RESOURCES BOARD      </td><td>10+ years   </td><td>RENT            </td><td style=\"text-align: right;\">       49200</td><td>VERIFIED - income source</td><td>2011-12-01 00:00:00</td><td>Fully Paid   </td><td>n           </td><td>https://www.lendingclub.com/browse/loanDetail.action?loan_id=1076863</td><td>Borrower added on 12/21/11 > to pay for property tax (borrow from friend, need to pay back) & central A/C need to be replace. I'm very sorry to let my loan expired last time.<br>                                                                                                                                                                                                                                                                                                                                                                                                                          </td><td>other             </td><td>personel                             </td><td>917xx     </td><td>CA          </td><td style=\"text-align: right;\">20   </td><td style=\"text-align: right;\">            0</td><td>1996-02-01 00:00:00</td><td style=\"text-align: right;\">               1</td><td>35                      </td><td>                        </td><td style=\"text-align: right;\">        10</td><td style=\"text-align: right;\">        0</td><td style=\"text-align: right;\">       5598</td><td>21%         </td><td style=\"text-align: right;\">         37</td><td>f                    </td><td style=\"text-align: right;\">       0   </td><td style=\"text-align: right;\">           0   </td><td style=\"text-align: right;\">     12226.3 </td><td style=\"text-align: right;\">         12226.3 </td><td style=\"text-align: right;\">         10000   </td><td style=\"text-align: right;\">        2209.33</td><td style=\"text-align: right;\">               16.97</td><td style=\"text-align: right;\">        0   </td><td style=\"text-align: right;\">                     0   </td><td>2015-01-01 00:00:00</td><td style=\"text-align: right;\">           357.48</td><td>                   </td><td>2015-01-01 00:00:00 </td><td style=\"text-align: right;\">                           0</td><td>                             </td><td style=\"text-align: right;\">            1</td><td style=\"text-align: right;\">       0.512778</td></tr>\n",
       "<tr><td style=\"text-align: right;\">1.07536e+06</td><td style=\"text-align: right;\">1.31175e+06</td><td style=\"text-align: right;\">       3000</td><td style=\"text-align: right;\">         3000</td><td style=\"text-align: right;\">             3000</td><td>60 months</td><td style=\"text-align: right;\">       135</td><td style=\"text-align: right;\">        67.79</td><td>B      </td><td>B5         </td><td>University Medical Group </td><td>1 year      </td><td>RENT            </td><td style=\"text-align: right;\">       80000</td><td>VERIFIED - income source</td><td>2011-12-01 00:00:00</td><td>Current      </td><td>n           </td><td>https://www.lendingclub.com/browse/loanDetail.action?loan_id=1075358</td><td>Borrower added on 12/21/11 > I plan on combining three large interest bills together and freeing up some extra each month to pay toward other bills.  I've always been a good payor but have found myself needing to make adjustments to my budget due to a medical scare. My job is very stable, I love it.<br>                                                                                                                                                                                                                                                                                            </td><td>other             </td><td>Personal                             </td><td>972xx     </td><td>OR          </td><td style=\"text-align: right;\">17.94</td><td style=\"text-align: right;\">            0</td><td>1996-01-01 00:00:00</td><td style=\"text-align: right;\">               0</td><td>38                      </td><td>                        </td><td style=\"text-align: right;\">        15</td><td style=\"text-align: right;\">        0</td><td style=\"text-align: right;\">      27783</td><td>53.9%       </td><td style=\"text-align: right;\">         38</td><td>f                    </td><td style=\"text-align: right;\">    1168.04</td><td style=\"text-align: right;\">        1168.04</td><td style=\"text-align: right;\">      2767.64</td><td style=\"text-align: right;\">          2767.64</td><td style=\"text-align: right;\">          1831.96</td><td style=\"text-align: right;\">         935.68</td><td style=\"text-align: right;\">                0   </td><td style=\"text-align: right;\">        0   </td><td style=\"text-align: right;\">                     0   </td><td>2015-06-01 00:00:00</td><td style=\"text-align: right;\">            67.79</td><td>2015-07-01 00:00:00</td><td>2015-06-01 00:00:00 </td><td style=\"text-align: right;\">                           0</td><td>                             </td><td style=\"text-align: right;\">            1</td><td style=\"text-align: right;\">       0.306893</td></tr>\n",
       "<tr><td style=\"text-align: right;\">1.07527e+06</td><td style=\"text-align: right;\">1.31144e+06</td><td style=\"text-align: right;\">       5000</td><td style=\"text-align: right;\">         5000</td><td style=\"text-align: right;\">             5000</td><td>36 months</td><td style=\"text-align: right;\">        28</td><td style=\"text-align: right;\">       156.46</td><td>A      </td><td>A4         </td><td>Veolia Transportaton     </td><td>3 years     </td><td>RENT            </td><td style=\"text-align: right;\">       36000</td><td>VERIFIED - income source</td><td>2011-12-01 00:00:00</td><td>Fully Paid   </td><td>n           </td><td>https://www.lendingclub.com/browse/loanDetail.action?loan_id=1075269</td><td>                                                                                                                                                                                                                                                                                                                                                                                                                                                                                                                                                                                                            </td><td>wedding           </td><td>My wedding loan I promise to pay back</td><td>852xx     </td><td>AZ          </td><td style=\"text-align: right;\">11.2 </td><td style=\"text-align: right;\">            0</td><td>2004-11-01 00:00:00</td><td style=\"text-align: right;\">               3</td><td>                        </td><td>                        </td><td style=\"text-align: right;\">         9</td><td style=\"text-align: right;\">        0</td><td style=\"text-align: right;\">       7963</td><td>28.3%       </td><td style=\"text-align: right;\">         12</td><td>f                    </td><td style=\"text-align: right;\">       0   </td><td style=\"text-align: right;\">           0   </td><td style=\"text-align: right;\">      5631.38</td><td style=\"text-align: right;\">          5631.38</td><td style=\"text-align: right;\">          5000   </td><td style=\"text-align: right;\">         631.38</td><td style=\"text-align: right;\">                0   </td><td style=\"text-align: right;\">        0   </td><td style=\"text-align: right;\">                     0   </td><td>2015-01-01 00:00:00</td><td style=\"text-align: right;\">           161.03</td><td>                   </td><td>2015-06-01 00:00:00 </td><td style=\"text-align: right;\">                           0</td><td>                             </td><td style=\"text-align: right;\">            1</td><td style=\"text-align: right;\">       0.844711</td></tr>\n",
       "<tr><td style=\"text-align: right;\">1.06964e+06</td><td style=\"text-align: right;\">1.30474e+06</td><td style=\"text-align: right;\">       7000</td><td style=\"text-align: right;\">         7000</td><td style=\"text-align: right;\">             7000</td><td>60 months</td><td style=\"text-align: right;\">       239</td><td style=\"text-align: right;\">       170.08</td><td>C      </td><td>C5         </td><td>Southern Star Photography</td><td>8 years     </td><td>RENT            </td><td style=\"text-align: right;\">       47004</td><td>not verified            </td><td>2011-12-01 00:00:00</td><td>Current      </td><td>n           </td><td>https://www.lendingclub.com/browse/loanDetail.action?loan_id=1069639</td><td>Borrower added on 12/18/11 > I am planning on using the funds to pay off two retail credit cards with 24.99% interest rates, as well as a major bank credit card with a 18.99% rate.  I pay all my bills on time, looking for a lower combined payment and lower monthly payment.<br>                                                                                                                                                                                                                                                                                                                       </td><td>debt_consolidation</td><td>Loan                                 </td><td>280xx     </td><td>NC          </td><td style=\"text-align: right;\">23.51</td><td style=\"text-align: right;\">            0</td><td>2005-07-01 00:00:00</td><td style=\"text-align: right;\">               1</td><td>                        </td><td>                        </td><td style=\"text-align: right;\">         7</td><td style=\"text-align: right;\">        0</td><td style=\"text-align: right;\">      17726</td><td>85.6%       </td><td style=\"text-align: right;\">         11</td><td>f                    </td><td style=\"text-align: right;\">    2853.21</td><td style=\"text-align: right;\">        2853.21</td><td style=\"text-align: right;\">      6946.28</td><td style=\"text-align: right;\">          6946.28</td><td style=\"text-align: right;\">          4146.8 </td><td style=\"text-align: right;\">        2799.48</td><td style=\"text-align: right;\">                0   </td><td style=\"text-align: right;\">        0   </td><td style=\"text-align: right;\">                     0   </td><td>2015-06-01 00:00:00</td><td style=\"text-align: right;\">           170.08</td><td>2015-08-01 00:00:00</td><td>2015-06-01 00:00:00 </td><td style=\"text-align: right;\">                           0</td><td>                             </td><td style=\"text-align: right;\">            1</td><td style=\"text-align: right;\">       0.107419</td></tr>\n",
       "<tr><td style=\"text-align: right;\">1.07205e+06</td><td style=\"text-align: right;\">1.28869e+06</td><td style=\"text-align: right;\">       3000</td><td style=\"text-align: right;\">         3000</td><td style=\"text-align: right;\">             3000</td><td>36 months</td><td style=\"text-align: right;\">       322</td><td style=\"text-align: right;\">       109.43</td><td>E      </td><td>E1         </td><td>MKC Accounting           </td><td>9 years     </td><td>RENT            </td><td style=\"text-align: right;\">       48000</td><td>VERIFIED - income source</td><td>2011-12-01 00:00:00</td><td>Fully Paid   </td><td>n           </td><td>https://www.lendingclub.com/browse/loanDetail.action?loan_id=1072053</td><td>Borrower added on 12/16/11 > Downpayment for a car.<br>                                                                                                                                                                                                                                                                                                                                                                                                                                                                                                                                                     </td><td>car               </td><td>Car Downpayment                      </td><td>900xx     </td><td>CA          </td><td style=\"text-align: right;\"> 5.35</td><td style=\"text-align: right;\">            0</td><td>2007-01-01 00:00:00</td><td style=\"text-align: right;\">               2</td><td>                        </td><td>                        </td><td style=\"text-align: right;\">         4</td><td style=\"text-align: right;\">        0</td><td style=\"text-align: right;\">       8221</td><td>87.5%       </td><td style=\"text-align: right;\">          4</td><td>f                    </td><td style=\"text-align: right;\">       0   </td><td style=\"text-align: right;\">           0   </td><td style=\"text-align: right;\">      3938.14</td><td style=\"text-align: right;\">          3938.14</td><td style=\"text-align: right;\">          3000   </td><td style=\"text-align: right;\">         938.14</td><td style=\"text-align: right;\">                0   </td><td style=\"text-align: right;\">        0   </td><td style=\"text-align: right;\">                     0   </td><td>2015-01-01 00:00:00</td><td style=\"text-align: right;\">           111.34</td><td>                   </td><td>2014-12-01 00:00:00 </td><td style=\"text-align: right;\">                           0</td><td>                             </td><td style=\"text-align: right;\">            1</td><td style=\"text-align: right;\">       0.791627</td></tr>\n",
       "<tr><td style=\"text-align: right;\">1.0718e+06 </td><td style=\"text-align: right;\">1.30696e+06</td><td style=\"text-align: right;\">       5600</td><td style=\"text-align: right;\">         5600</td><td style=\"text-align: right;\">             5600</td><td>60 months</td><td style=\"text-align: right;\">       370</td><td style=\"text-align: right;\">       152.39</td><td>F      </td><td>F2         </td><td>                         </td><td>4 years     </td><td>OWN             </td><td style=\"text-align: right;\">       40000</td><td>VERIFIED - income source</td><td>2011-12-01 00:00:00</td><td>Charged Off  </td><td>n           </td><td>https://www.lendingclub.com/browse/loanDetail.action?loan_id=1071795</td><td>Borrower added on 12/21/11 > I own a small home-based judgment collection business. I have 5 years experience collecting debts. I am now going from a home office to a small office. I also plan to buy a small debt portfolio (eg. $10K for $1M of debt) <br>My score is not A+ because I own my home and have no mortgage.<br>                                                                                                                                                                                                                                                                            </td><td>small_business    </td><td>Expand Business & Buy Debt Portfolio </td><td>958xx     </td><td>CA          </td><td style=\"text-align: right;\"> 5.55</td><td style=\"text-align: right;\">            0</td><td>2004-04-01 00:00:00</td><td style=\"text-align: right;\">               2</td><td>                        </td><td>                        </td><td style=\"text-align: right;\">        11</td><td style=\"text-align: right;\">        0</td><td style=\"text-align: right;\">       5210</td><td>32.6%       </td><td style=\"text-align: right;\">         13</td><td>f                    </td><td style=\"text-align: right;\">       0   </td><td style=\"text-align: right;\">           0   </td><td style=\"text-align: right;\">       646.02</td><td style=\"text-align: right;\">           646.02</td><td style=\"text-align: right;\">           162.02</td><td style=\"text-align: right;\">         294.94</td><td style=\"text-align: right;\">                0   </td><td style=\"text-align: right;\">      189.06</td><td style=\"text-align: right;\">                     2.09</td><td>2012-04-01 00:00:00</td><td style=\"text-align: right;\">           152.39</td><td>                   </td><td>2012-08-01 00:00:00 </td><td style=\"text-align: right;\">                           0</td><td>                             </td><td style=\"text-align: right;\">            1</td><td style=\"text-align: right;\">       0.963892</td></tr>\n",
       "<tr><td style=\"text-align: right;\">1.07157e+06</td><td style=\"text-align: right;\">1.30672e+06</td><td style=\"text-align: right;\">       5375</td><td style=\"text-align: right;\">         5375</td><td style=\"text-align: right;\">             5350</td><td>60 months</td><td style=\"text-align: right;\">       135</td><td style=\"text-align: right;\">       121.45</td><td>B      </td><td>B5         </td><td>Starbucks                </td><td>< 1 year    </td><td>RENT            </td><td style=\"text-align: right;\">       15000</td><td>VERIFIED - income       </td><td>2011-12-01 00:00:00</td><td>Charged Off  </td><td>n           </td><td>https://www.lendingclub.com/browse/loanDetail.action?loan_id=1071570</td><td>Borrower added on 12/16/11 > I'm trying to build up my credit history. I live with my brother and have no car payment or credit cards. I am in community college and work full time. Im going to use the money to make some repairs around the house and get some maintenance done on my car.<br><br>  Borrower added on 12/20/11 > $1000 down only $4375 to go. Thanks to everyone that invested so far, looking forward to surprising my brother with the fixes around the house.<br>                                                                                                                     </td><td>other             </td><td>Building my credit history.          </td><td>774xx     </td><td>TX          </td><td style=\"text-align: right;\">18.08</td><td style=\"text-align: right;\">            0</td><td>2004-09-01 00:00:00</td><td style=\"text-align: right;\">               0</td><td>                        </td><td>                        </td><td style=\"text-align: right;\">         2</td><td style=\"text-align: right;\">        0</td><td style=\"text-align: right;\">       9279</td><td>36.5%       </td><td style=\"text-align: right;\">          3</td><td>f                    </td><td style=\"text-align: right;\">       0   </td><td style=\"text-align: right;\">           0   </td><td style=\"text-align: right;\">      1476.19</td><td style=\"text-align: right;\">          1469.34</td><td style=\"text-align: right;\">           673.48</td><td style=\"text-align: right;\">         533.42</td><td style=\"text-align: right;\">                0   </td><td style=\"text-align: right;\">      269.29</td><td style=\"text-align: right;\">                     2.52</td><td>2012-11-01 00:00:00</td><td style=\"text-align: right;\">           121.45</td><td>                   </td><td>2013-03-01 00:00:00 </td><td style=\"text-align: right;\">                           0</td><td>                             </td><td style=\"text-align: right;\">            1</td><td style=\"text-align: right;\">       0.418482</td></tr>\n",
       "</tbody>\n",
       "</table>"
      ]
     },
     "metadata": {},
     "output_type": "display_data"
    },
    {
     "data": {
      "text/plain": []
     },
     "execution_count": 418,
     "metadata": {},
     "output_type": "execute_result"
    }
   ],
   "source": [
    "loans.head()"
   ]
  },
  {
   "cell_type": "markdown",
   "metadata": {},
   "source": [
    "## Loan default or not by grade"
   ]
  },
  {
   "cell_type": "code",
   "execution_count": 419,
   "metadata": {},
   "outputs": [
    {
     "data": {
      "text/html": [
       "<table>\n",
       "<thead>\n",
       "<tr><th>C1                                                      </th></tr>\n",
       "</thead>\n",
       "<tbody>\n",
       "<tr><td>Charged Off                                             </td></tr>\n",
       "<tr><td>Current                                                 </td></tr>\n",
       "<tr><td>Default                                                 </td></tr>\n",
       "<tr><td>Does not meet the credit policy.  Status:Charged Off    </td></tr>\n",
       "<tr><td>Does not meet the credit policy.  Status:Current        </td></tr>\n",
       "<tr><td>Does not meet the credit policy.  Status:Fully Paid     </td></tr>\n",
       "<tr><td>Does not meet the credit policy.  Status:In Grace Period</td></tr>\n",
       "<tr><td>Fully Paid                                              </td></tr>\n",
       "<tr><td>In Grace Period                                         </td></tr>\n",
       "<tr><td>Late (16-30 days)                                       </td></tr>\n",
       "</tbody>\n",
       "</table>"
      ]
     },
     "metadata": {},
     "output_type": "display_data"
    },
    {
     "data": {
      "text/plain": []
     },
     "execution_count": 419,
     "metadata": {},
     "output_type": "execute_result"
    }
   ],
   "source": [
    "loans[:,\"loan_status\"].unique()"
   ]
  },
  {
   "cell_type": "code",
   "execution_count": 420,
   "metadata": {},
   "outputs": [],
   "source": [
    "ongoing_status = [\"Current\",\n",
    "                  \"In Grace Period\",\n",
    "                  \"Late (16-30 days)\",\n",
    "                  \"Late (31-120 days)\",\n",
    "                  \"Does not meet the credit policy.  Status:Current\",\n",
    "                  \"Does not meet the credit policy.  Status:In Grace Period\"\n",
    "                 ]\n",
    "\n",
    "fully_paid = [\"Fully Paid\",\n",
    "              \"Does not meet the credit policy.  Status:Fully Paid\"\n",
    "             ]"
   ]
  },
  {
   "cell_type": "code",
   "execution_count": 421,
   "metadata": {},
   "outputs": [
    {
     "data": {
      "text/html": [
       "<table>\n",
       "<thead>\n",
       "<tr><th>C1                                                  </th></tr>\n",
       "</thead>\n",
       "<tbody>\n",
       "<tr><td>Charged Off                                         </td></tr>\n",
       "<tr><td>Default                                             </td></tr>\n",
       "<tr><td>Does not meet the credit policy.  Status:Charged Off</td></tr>\n",
       "<tr><td>Does not meet the credit policy.  Status:Fully Paid </td></tr>\n",
       "<tr><td>Fully Paid                                          </td></tr>\n",
       "<tr><td>Ongoing                                             </td></tr>\n",
       "</tbody>\n",
       "</table>"
      ]
     },
     "metadata": {},
     "output_type": "display_data"
    },
    {
     "name": "stdout",
     "output_type": "stream",
     "text": [
      "\n"
     ]
    },
    {
     "data": {
      "text/html": [
       "<table>\n",
       "<thead>\n",
       "<tr><th>C1                                                  </th></tr>\n",
       "</thead>\n",
       "<tbody>\n",
       "<tr><td>Charged Off                                         </td></tr>\n",
       "<tr><td>Default                                             </td></tr>\n",
       "<tr><td>Does not meet the credit policy.  Status:Charged Off</td></tr>\n",
       "<tr><td>Fully Paid                                          </td></tr>\n",
       "<tr><td>Ongoing                                             </td></tr>\n",
       "</tbody>\n",
       "</table>"
      ]
     },
     "metadata": {},
     "output_type": "display_data"
    },
    {
     "name": "stdout",
     "output_type": "stream",
     "text": [
      "\n"
     ]
    },
    {
     "data": {
      "text/html": [
       "<table>\n",
       "<thead>\n",
       "<tr><th>loan_status_der                                     </th><th style=\"text-align: right;\">  Count</th></tr>\n",
       "</thead>\n",
       "<tbody>\n",
       "<tr><td>Charged Off                                         </td><td style=\"text-align: right;\">   5436</td></tr>\n",
       "<tr><td>Default                                             </td><td style=\"text-align: right;\">      7</td></tr>\n",
       "<tr><td>Does not meet the credit policy.  Status:Charged Off</td><td style=\"text-align: right;\">    761</td></tr>\n",
       "<tr><td>Fully Paid                                          </td><td style=\"text-align: right;\">  32776</td></tr>\n",
       "<tr><td>Ongoing                                             </td><td style=\"text-align: right;\">   3556</td></tr>\n",
       "</tbody>\n",
       "</table>"
      ]
     },
     "metadata": {},
     "output_type": "display_data"
    },
    {
     "name": "stdout",
     "output_type": "stream",
     "text": [
      "\n"
     ]
    }
   ],
   "source": [
    "# loans[:, \"loan_status\"].isin(ongoing_status)\n",
    "# Replace using ifelse. Similar to the previous example, this replaces values less than 4.6 with 4.6.\n",
    "loans[\"loan_status_der\"] = (loans[\"loan_status\"].isin(ongoing_status)).ifelse(\"Ongoing\", loans[\"loan_status\"])\n",
    "print(loans[\"loan_status_der\"].unique())\n",
    "\n",
    "loans[\"loan_status_der\"] = (loans[\"loan_status_der\"].isin(fully_paid)).ifelse(\"Fully Paid\", loans[\"loan_status_der\"])\n",
    "print(loans[\"loan_status_der\"].unique())\n",
    "\n",
    "print(loans[:, \"loan_status_der\"].table())\n"
   ]
  },
  {
   "cell_type": "code",
   "execution_count": 422,
   "metadata": {},
   "outputs": [
    {
     "data": {
      "text/html": [
       "<table>\n",
       "<thead>\n",
       "<tr><th>C1  </th></tr>\n",
       "</thead>\n",
       "<tbody>\n",
       "<tr><td>no  </td></tr>\n",
       "<tr><td>yes </td></tr>\n",
       "<tr><td>no  </td></tr>\n",
       "<tr><td>no  </td></tr>\n",
       "<tr><td>no  </td></tr>\n",
       "<tr><td>no  </td></tr>\n",
       "<tr><td>no  </td></tr>\n",
       "<tr><td>no  </td></tr>\n",
       "<tr><td>yes </td></tr>\n",
       "<tr><td>yes </td></tr>\n",
       "</tbody>\n",
       "</table>"
      ]
     },
     "metadata": {},
     "output_type": "display_data"
    },
    {
     "data": {
      "text/plain": []
     },
     "execution_count": 422,
     "metadata": {},
     "output_type": "execute_result"
    }
   ],
   "source": [
    "(~loans[\"loan_status_der\"].isin([\"Ongoing\", \"Fully Paid\"])).ifelse(\"yes\", \"no\")"
   ]
  },
  {
   "cell_type": "code",
   "execution_count": 423,
   "metadata": {},
   "outputs": [
    {
     "data": {
      "text/html": [
       "<table>\n",
       "<thead>\n",
       "<tr><th>loan_status_der  </th><th style=\"text-align: right;\">  Count</th></tr>\n",
       "</thead>\n",
       "<tbody>\n",
       "<tr><td>Default          </td><td style=\"text-align: right;\">   6205</td></tr>\n",
       "<tr><td>Fully Paid       </td><td style=\"text-align: right;\">  32776</td></tr>\n",
       "<tr><td>Ongoing          </td><td style=\"text-align: right;\">   3556</td></tr>\n",
       "</tbody>\n",
       "</table>"
      ]
     },
     "metadata": {},
     "output_type": "display_data"
    },
    {
     "data": {
      "text/plain": []
     },
     "execution_count": 423,
     "metadata": {},
     "output_type": "execute_result"
    }
   ],
   "source": [
    "loans[\"loan_status_der\"] = (~loans[\"loan_status_der\"].isin([\"Ongoing\", \"Fully Paid\"])).ifelse(\"Default\", loans[\"loan_status_der\"])\n",
    "\n",
    "loans[\"loan_status_der\"].table()"
   ]
  },
  {
   "cell_type": "markdown",
   "metadata": {},
   "source": [
    "# Drop a column"
   ]
  },
  {
   "cell_type": "code",
   "execution_count": 424,
   "metadata": {},
   "outputs": [
    {
     "data": {
      "text/html": [
       "<table>\n",
       "<thead>\n",
       "<tr><th>loan_status  </th></tr>\n",
       "</thead>\n",
       "<tbody>\n",
       "<tr><td>Fully Paid   </td></tr>\n",
       "<tr><td>Charged Off  </td></tr>\n",
       "<tr><td>Fully Paid   </td></tr>\n",
       "<tr><td>Fully Paid   </td></tr>\n",
       "<tr><td>Current      </td></tr>\n",
       "<tr><td>Fully Paid   </td></tr>\n",
       "<tr><td>Current      </td></tr>\n",
       "<tr><td>Fully Paid   </td></tr>\n",
       "<tr><td>Charged Off  </td></tr>\n",
       "<tr><td>Charged Off  </td></tr>\n",
       "</tbody>\n",
       "</table>"
      ]
     },
     "metadata": {},
     "output_type": "display_data"
    },
    {
     "name": "stdout",
     "output_type": "stream",
     "text": [
      "\n"
     ]
    }
   ],
   "source": [
    "print(loans[\"loan_status\"].head())\n",
    "loans = loans.drop(\"loan_status\")"
   ]
  },
  {
   "cell_type": "code",
   "execution_count": 425,
   "metadata": {},
   "outputs": [
    {
     "data": {
      "text/plain": [
       "[42537, 53]"
      ]
     },
     "execution_count": 425,
     "metadata": {},
     "output_type": "execute_result"
    }
   ],
   "source": [
    "# loans[\"loan_status\"] ### throws an error\n",
    "\n",
    "loans.dim"
   ]
  },
  {
   "cell_type": "code",
   "execution_count": 426,
   "metadata": {},
   "outputs": [
    {
     "data": {
      "text/html": [
       "<table>\n",
       "<thead>\n",
       "<tr><th>loan_status_der  </th><th style=\"text-align: right;\">  Count</th></tr>\n",
       "</thead>\n",
       "<tbody>\n",
       "<tr><td>Default          </td><td style=\"text-align: right;\">   6205</td></tr>\n",
       "<tr><td>Fully Paid       </td><td style=\"text-align: right;\">  32776</td></tr>\n",
       "<tr><td>Ongoing          </td><td style=\"text-align: right;\">   3556</td></tr>\n",
       "</tbody>\n",
       "</table>"
      ]
     },
     "metadata": {},
     "output_type": "display_data"
    },
    {
     "data": {
      "text/plain": []
     },
     "execution_count": 426,
     "metadata": {},
     "output_type": "execute_result"
    }
   ],
   "source": [
    "loans[\"loan_status_der\"].table()"
   ]
  },
  {
   "cell_type": "code",
   "execution_count": 427,
   "metadata": {},
   "outputs": [
    {
     "data": {
      "text/html": [
       "<table>\n",
       "<thead>\n",
       "<tr><th>loan_status_der  </th><th>grade  </th><th style=\"text-align: right;\">  nrow</th></tr>\n",
       "</thead>\n",
       "<tbody>\n",
       "<tr><td>Default          </td><td>       </td><td style=\"text-align: right;\">     0</td></tr>\n",
       "<tr><td>Default          </td><td>A      </td><td style=\"text-align: right;\">   609</td></tr>\n",
       "<tr><td>Default          </td><td>B      </td><td style=\"text-align: right;\">  1475</td></tr>\n",
       "<tr><td>Default          </td><td>C      </td><td style=\"text-align: right;\">  1447</td></tr>\n",
       "<tr><td>Default          </td><td>D      </td><td style=\"text-align: right;\">  1270</td></tr>\n",
       "<tr><td>Default          </td><td>E      </td><td style=\"text-align: right;\">   833</td></tr>\n",
       "<tr><td>Default          </td><td>F      </td><td style=\"text-align: right;\">   398</td></tr>\n",
       "<tr><td>Default          </td><td>G      </td><td style=\"text-align: right;\">   172</td></tr>\n",
       "<tr><td>Fully Paid       </td><td>A      </td><td style=\"text-align: right;\">  9420</td></tr>\n",
       "<tr><td>Fully Paid       </td><td>B      </td><td style=\"text-align: right;\">  9930</td></tr>\n",
       "</tbody>\n",
       "</table>"
      ]
     },
     "metadata": {},
     "output_type": "display_data"
    },
    {
     "data": {
      "text/plain": []
     },
     "execution_count": 427,
     "metadata": {},
     "output_type": "execute_result"
    }
   ],
   "source": [
    "loan_status_w_grade = loans.group_by([\"loan_status_der\", \"grade\"]).count(na = \"rm\").get_frame()\n",
    "loan_status_w_grade"
   ]
  },
  {
   "cell_type": "code",
   "execution_count": 428,
   "metadata": {},
   "outputs": [
    {
     "data": {
      "text/plain": [
       "['loan_status_der', 'grade', 'nrow']"
      ]
     },
     "execution_count": 428,
     "metadata": {},
     "output_type": "execute_result"
    }
   ],
   "source": [
    "loan_status_w_grade.columns"
   ]
  },
  {
   "cell_type": "code",
   "execution_count": 429,
   "metadata": {},
   "outputs": [
    {
     "data": {
      "text/html": [
       "<table>\n",
       "<thead>\n",
       "<tr><th>grade  </th><th style=\"text-align: right;\">  nrow</th></tr>\n",
       "</thead>\n",
       "<tbody>\n",
       "<tr><td>       </td><td style=\"text-align: right;\">     1</td></tr>\n",
       "<tr><td>A      </td><td style=\"text-align: right;\"> 10183</td></tr>\n",
       "<tr><td>B      </td><td style=\"text-align: right;\"> 12389</td></tr>\n",
       "<tr><td>C      </td><td style=\"text-align: right;\">  8741</td></tr>\n",
       "<tr><td>D      </td><td style=\"text-align: right;\">  6016</td></tr>\n",
       "<tr><td>E      </td><td style=\"text-align: right;\">  3394</td></tr>\n",
       "<tr><td>F      </td><td style=\"text-align: right;\">  1301</td></tr>\n",
       "<tr><td>G      </td><td style=\"text-align: right;\">   512</td></tr>\n",
       "</tbody>\n",
       "</table>"
      ]
     },
     "metadata": {},
     "output_type": "display_data"
    },
    {
     "data": {
      "text/plain": []
     },
     "execution_count": 429,
     "metadata": {},
     "output_type": "execute_result"
    }
   ],
   "source": [
    "grade_wise_loans = loans.group_by(\"grade\").count().get_frame()\n",
    "grade_wise_loans"
   ]
  },
  {
   "cell_type": "markdown",
   "metadata": {},
   "source": [
    "# Data Manipulation 4: Merge"
   ]
  },
  {
   "cell_type": "code",
   "execution_count": 430,
   "metadata": {},
   "outputs": [
    {
     "data": {
      "text/plain": [
       "['loan_status_der', 'grade', 'nrow']"
      ]
     },
     "execution_count": 430,
     "metadata": {},
     "output_type": "execute_result"
    }
   ],
   "source": [
    "loan_status_w_grade.columns"
   ]
  },
  {
   "cell_type": "code",
   "execution_count": 431,
   "metadata": {},
   "outputs": [
    {
     "data": {
      "text/plain": [
       "['grade', 'nrow']"
      ]
     },
     "execution_count": 431,
     "metadata": {},
     "output_type": "execute_result"
    }
   ],
   "source": [
    "grade_wise_loans.columns"
   ]
  },
  {
   "cell_type": "code",
   "execution_count": 432,
   "metadata": {},
   "outputs": [
    {
     "name": "stdout",
     "output_type": "stream",
     "text": [
      "This H2OFrame is empty.\n"
     ]
    },
    {
     "data": {
      "text/plain": []
     },
     "execution_count": 432,
     "metadata": {},
     "output_type": "execute_result"
    }
   ],
   "source": [
    "loan_status_w_grade.merge(grade_wise_loans)"
   ]
  },
  {
   "cell_type": "markdown",
   "metadata": {},
   "source": [
    "## The below is empty because it tries to merge on common columns which are grade and nrow"
   ]
  },
  {
   "cell_type": "code",
   "execution_count": 433,
   "metadata": {},
   "outputs": [
    {
     "data": {
      "text/html": [
       "<table>\n",
       "<thead>\n",
       "<tr><th>loan_status_der  </th><th>grade  </th><th style=\"text-align: right;\">  nrow</th></tr>\n",
       "</thead>\n",
       "<tbody>\n",
       "<tr><td>Default          </td><td>       </td><td style=\"text-align: right;\">     0</td></tr>\n",
       "<tr><td>Default          </td><td>A      </td><td style=\"text-align: right;\">   609</td></tr>\n",
       "<tr><td>Default          </td><td>B      </td><td style=\"text-align: right;\">  1475</td></tr>\n",
       "<tr><td>Default          </td><td>C      </td><td style=\"text-align: right;\">  1447</td></tr>\n",
       "<tr><td>Default          </td><td>D      </td><td style=\"text-align: right;\">  1270</td></tr>\n",
       "<tr><td>Default          </td><td>E      </td><td style=\"text-align: right;\">   833</td></tr>\n",
       "<tr><td>Default          </td><td>F      </td><td style=\"text-align: right;\">   398</td></tr>\n",
       "<tr><td>Default          </td><td>G      </td><td style=\"text-align: right;\">   172</td></tr>\n",
       "<tr><td>Fully Paid       </td><td>A      </td><td style=\"text-align: right;\">  9420</td></tr>\n",
       "<tr><td>Fully Paid       </td><td>B      </td><td style=\"text-align: right;\">  9930</td></tr>\n",
       "</tbody>\n",
       "</table>"
      ]
     },
     "metadata": {},
     "output_type": "display_data"
    }
   ],
   "source": [
    "??loan_status_w_grade.merge"
   ]
  },
  {
   "cell_type": "code",
   "execution_count": 434,
   "metadata": {},
   "outputs": [],
   "source": [
    "# Two options. \n",
    "\n",
    "#Rename one of the column \n",
    "\n",
    "#Include by_x and by_y\n",
    "\n",
    "# Doing both"
   ]
  },
  {
   "cell_type": "code",
   "execution_count": 435,
   "metadata": {},
   "outputs": [
    {
     "data": {
      "text/html": [
       "<table>\n",
       "<thead>\n",
       "<tr><th>grade  </th><th>loan_status_der  </th><th style=\"text-align: right;\">  nrow</th></tr>\n",
       "</thead>\n",
       "<tbody>\n",
       "<tr><td>       </td><td>Default          </td><td style=\"text-align: right;\">   nan</td></tr>\n",
       "<tr><td>A      </td><td>Default          </td><td style=\"text-align: right;\"> 10183</td></tr>\n",
       "<tr><td>A      </td><td>Fully Paid       </td><td style=\"text-align: right;\"> 10183</td></tr>\n",
       "<tr><td>A      </td><td>Ongoing          </td><td style=\"text-align: right;\"> 10183</td></tr>\n",
       "<tr><td>B      </td><td>Default          </td><td style=\"text-align: right;\"> 12389</td></tr>\n",
       "<tr><td>B      </td><td>Fully Paid       </td><td style=\"text-align: right;\"> 12389</td></tr>\n",
       "<tr><td>B      </td><td>Ongoing          </td><td style=\"text-align: right;\"> 12389</td></tr>\n",
       "<tr><td>C      </td><td>Default          </td><td style=\"text-align: right;\">  8741</td></tr>\n",
       "<tr><td>C      </td><td>Fully Paid       </td><td style=\"text-align: right;\">  8741</td></tr>\n",
       "<tr><td>C      </td><td>Ongoing          </td><td style=\"text-align: right;\">  8741</td></tr>\n",
       "</tbody>\n",
       "</table>"
      ]
     },
     "metadata": {},
     "output_type": "display_data"
    },
    {
     "data": {
      "text/plain": []
     },
     "execution_count": 435,
     "metadata": {},
     "output_type": "execute_result"
    }
   ],
   "source": [
    "loan_status_w_grade.merge(grade_wise_loans, by_x=[\"grade\"], by_y = [\"grade\"], all_x=True)\n",
    "\n",
    "## This removes nrow from loan_status_w_grade"
   ]
  },
  {
   "cell_type": "code",
   "execution_count": 436,
   "metadata": {},
   "outputs": [
    {
     "data": {
      "text/html": [
       "<table>\n",
       "<thead>\n",
       "<tr><th>loan_status_der  </th><th>grade  </th><th style=\"text-align: right;\">  Number_by_loan_status</th></tr>\n",
       "</thead>\n",
       "<tbody>\n",
       "<tr><td>Default          </td><td>       </td><td style=\"text-align: right;\">                      0</td></tr>\n",
       "<tr><td>Default          </td><td>A      </td><td style=\"text-align: right;\">                    609</td></tr>\n",
       "<tr><td>Default          </td><td>B      </td><td style=\"text-align: right;\">                   1475</td></tr>\n",
       "<tr><td>Default          </td><td>C      </td><td style=\"text-align: right;\">                   1447</td></tr>\n",
       "<tr><td>Default          </td><td>D      </td><td style=\"text-align: right;\">                   1270</td></tr>\n",
       "<tr><td>Default          </td><td>E      </td><td style=\"text-align: right;\">                    833</td></tr>\n",
       "<tr><td>Default          </td><td>F      </td><td style=\"text-align: right;\">                    398</td></tr>\n",
       "<tr><td>Default          </td><td>G      </td><td style=\"text-align: right;\">                    172</td></tr>\n",
       "<tr><td>Fully Paid       </td><td>A      </td><td style=\"text-align: right;\">                   9420</td></tr>\n",
       "<tr><td>Fully Paid       </td><td>B      </td><td style=\"text-align: right;\">                   9930</td></tr>\n",
       "</tbody>\n",
       "</table>"
      ]
     },
     "metadata": {},
     "output_type": "display_data"
    },
    {
     "data": {
      "text/plain": []
     },
     "execution_count": 436,
     "metadata": {},
     "output_type": "execute_result"
    }
   ],
   "source": [
    "loan_status_w_grade.rename(columns= {\"nrow\" : \"Number_by_loan_status\"})"
   ]
  },
  {
   "cell_type": "code",
   "execution_count": 437,
   "metadata": {},
   "outputs": [
    {
     "data": {
      "text/html": [
       "<table>\n",
       "<thead>\n",
       "<tr><th>grade  </th><th>loan_status_der  </th><th style=\"text-align: right;\">  Number_by_loan_status</th><th style=\"text-align: right;\">  nrow</th></tr>\n",
       "</thead>\n",
       "<tbody>\n",
       "<tr><td>       </td><td>Default          </td><td style=\"text-align: right;\">                      0</td><td style=\"text-align: right;\">   nan</td></tr>\n",
       "<tr><td>A      </td><td>Default          </td><td style=\"text-align: right;\">                    609</td><td style=\"text-align: right;\"> 10183</td></tr>\n",
       "<tr><td>A      </td><td>Fully Paid       </td><td style=\"text-align: right;\">                   9420</td><td style=\"text-align: right;\"> 10183</td></tr>\n",
       "<tr><td>A      </td><td>Ongoing          </td><td style=\"text-align: right;\">                    154</td><td style=\"text-align: right;\"> 10183</td></tr>\n",
       "<tr><td>B      </td><td>Default          </td><td style=\"text-align: right;\">                   1475</td><td style=\"text-align: right;\"> 12389</td></tr>\n",
       "<tr><td>B      </td><td>Fully Paid       </td><td style=\"text-align: right;\">                   9930</td><td style=\"text-align: right;\"> 12389</td></tr>\n",
       "<tr><td>B      </td><td>Ongoing          </td><td style=\"text-align: right;\">                    984</td><td style=\"text-align: right;\"> 12389</td></tr>\n",
       "<tr><td>C      </td><td>Default          </td><td style=\"text-align: right;\">                   1447</td><td style=\"text-align: right;\">  8741</td></tr>\n",
       "<tr><td>C      </td><td>Fully Paid       </td><td style=\"text-align: right;\">                   6465</td><td style=\"text-align: right;\">  8741</td></tr>\n",
       "<tr><td>C      </td><td>Ongoing          </td><td style=\"text-align: right;\">                    829</td><td style=\"text-align: right;\">  8741</td></tr>\n",
       "</tbody>\n",
       "</table>"
      ]
     },
     "metadata": {},
     "output_type": "display_data"
    },
    {
     "data": {
      "text/plain": []
     },
     "execution_count": 437,
     "metadata": {},
     "output_type": "execute_result"
    }
   ],
   "source": [
    "merged_df = loan_status_w_grade.merge(grade_wise_loans, by_x=[\"grade\"], by_y = [\"grade\"], all_x=True)\n",
    "merged_df"
   ]
  },
  {
   "cell_type": "code",
   "execution_count": 438,
   "metadata": {},
   "outputs": [
    {
     "data": {
      "text/html": [
       "<div>\n",
       "<style scoped>\n",
       "    .dataframe tbody tr th:only-of-type {\n",
       "        vertical-align: middle;\n",
       "    }\n",
       "\n",
       "    .dataframe tbody tr th {\n",
       "        vertical-align: top;\n",
       "    }\n",
       "\n",
       "    .dataframe thead th {\n",
       "        text-align: right;\n",
       "    }\n",
       "</style>\n",
       "<table border=\"1\" class=\"dataframe\">\n",
       "  <thead>\n",
       "    <tr style=\"text-align: right;\">\n",
       "      <th></th>\n",
       "      <th>grade</th>\n",
       "      <th>loan_status_der</th>\n",
       "      <th>Number_by_loan_status</th>\n",
       "      <th>nrow</th>\n",
       "      <th>loan_perc</th>\n",
       "    </tr>\n",
       "  </thead>\n",
       "  <tbody>\n",
       "    <tr>\n",
       "      <th>0</th>\n",
       "      <td>NaN</td>\n",
       "      <td>Default</td>\n",
       "      <td>0</td>\n",
       "      <td>NaN</td>\n",
       "      <td>NaN</td>\n",
       "    </tr>\n",
       "    <tr>\n",
       "      <th>1</th>\n",
       "      <td>A</td>\n",
       "      <td>Default</td>\n",
       "      <td>609</td>\n",
       "      <td>10183.0</td>\n",
       "      <td>5.980556</td>\n",
       "    </tr>\n",
       "    <tr>\n",
       "      <th>2</th>\n",
       "      <td>A</td>\n",
       "      <td>Fully Paid</td>\n",
       "      <td>9420</td>\n",
       "      <td>10183.0</td>\n",
       "      <td>92.507120</td>\n",
       "    </tr>\n",
       "    <tr>\n",
       "      <th>3</th>\n",
       "      <td>A</td>\n",
       "      <td>Ongoing</td>\n",
       "      <td>154</td>\n",
       "      <td>10183.0</td>\n",
       "      <td>1.512324</td>\n",
       "    </tr>\n",
       "    <tr>\n",
       "      <th>4</th>\n",
       "      <td>B</td>\n",
       "      <td>Default</td>\n",
       "      <td>1475</td>\n",
       "      <td>12389.0</td>\n",
       "      <td>11.905723</td>\n",
       "    </tr>\n",
       "    <tr>\n",
       "      <th>5</th>\n",
       "      <td>B</td>\n",
       "      <td>Fully Paid</td>\n",
       "      <td>9930</td>\n",
       "      <td>12389.0</td>\n",
       "      <td>80.151748</td>\n",
       "    </tr>\n",
       "    <tr>\n",
       "      <th>6</th>\n",
       "      <td>B</td>\n",
       "      <td>Ongoing</td>\n",
       "      <td>984</td>\n",
       "      <td>12389.0</td>\n",
       "      <td>7.942530</td>\n",
       "    </tr>\n",
       "    <tr>\n",
       "      <th>7</th>\n",
       "      <td>C</td>\n",
       "      <td>Default</td>\n",
       "      <td>1447</td>\n",
       "      <td>8741.0</td>\n",
       "      <td>16.554170</td>\n",
       "    </tr>\n",
       "    <tr>\n",
       "      <th>8</th>\n",
       "      <td>C</td>\n",
       "      <td>Fully Paid</td>\n",
       "      <td>6465</td>\n",
       "      <td>8741.0</td>\n",
       "      <td>73.961789</td>\n",
       "    </tr>\n",
       "    <tr>\n",
       "      <th>9</th>\n",
       "      <td>C</td>\n",
       "      <td>Ongoing</td>\n",
       "      <td>829</td>\n",
       "      <td>8741.0</td>\n",
       "      <td>9.484041</td>\n",
       "    </tr>\n",
       "    <tr>\n",
       "      <th>10</th>\n",
       "      <td>D</td>\n",
       "      <td>Default</td>\n",
       "      <td>1270</td>\n",
       "      <td>6016.0</td>\n",
       "      <td>21.110372</td>\n",
       "    </tr>\n",
       "    <tr>\n",
       "      <th>11</th>\n",
       "      <td>D</td>\n",
       "      <td>Fully Paid</td>\n",
       "      <td>4064</td>\n",
       "      <td>6016.0</td>\n",
       "      <td>67.553191</td>\n",
       "    </tr>\n",
       "    <tr>\n",
       "      <th>12</th>\n",
       "      <td>D</td>\n",
       "      <td>Ongoing</td>\n",
       "      <td>682</td>\n",
       "      <td>6016.0</td>\n",
       "      <td>11.336436</td>\n",
       "    </tr>\n",
       "    <tr>\n",
       "      <th>13</th>\n",
       "      <td>E</td>\n",
       "      <td>Default</td>\n",
       "      <td>833</td>\n",
       "      <td>3394.0</td>\n",
       "      <td>24.543312</td>\n",
       "    </tr>\n",
       "    <tr>\n",
       "      <th>14</th>\n",
       "      <td>E</td>\n",
       "      <td>Fully Paid</td>\n",
       "      <td>1958</td>\n",
       "      <td>3394.0</td>\n",
       "      <td>57.690041</td>\n",
       "    </tr>\n",
       "    <tr>\n",
       "      <th>15</th>\n",
       "      <td>E</td>\n",
       "      <td>Ongoing</td>\n",
       "      <td>603</td>\n",
       "      <td>3394.0</td>\n",
       "      <td>17.766647</td>\n",
       "    </tr>\n",
       "    <tr>\n",
       "      <th>16</th>\n",
       "      <td>F</td>\n",
       "      <td>Default</td>\n",
       "      <td>398</td>\n",
       "      <td>1301.0</td>\n",
       "      <td>30.591852</td>\n",
       "    </tr>\n",
       "    <tr>\n",
       "      <th>17</th>\n",
       "      <td>F</td>\n",
       "      <td>Fully Paid</td>\n",
       "      <td>661</td>\n",
       "      <td>1301.0</td>\n",
       "      <td>50.807071</td>\n",
       "    </tr>\n",
       "    <tr>\n",
       "      <th>18</th>\n",
       "      <td>F</td>\n",
       "      <td>Ongoing</td>\n",
       "      <td>242</td>\n",
       "      <td>1301.0</td>\n",
       "      <td>18.601076</td>\n",
       "    </tr>\n",
       "    <tr>\n",
       "      <th>19</th>\n",
       "      <td>G</td>\n",
       "      <td>Default</td>\n",
       "      <td>172</td>\n",
       "      <td>512.0</td>\n",
       "      <td>33.593750</td>\n",
       "    </tr>\n",
       "    <tr>\n",
       "      <th>20</th>\n",
       "      <td>G</td>\n",
       "      <td>Fully Paid</td>\n",
       "      <td>278</td>\n",
       "      <td>512.0</td>\n",
       "      <td>54.296875</td>\n",
       "    </tr>\n",
       "    <tr>\n",
       "      <th>21</th>\n",
       "      <td>G</td>\n",
       "      <td>Ongoing</td>\n",
       "      <td>62</td>\n",
       "      <td>512.0</td>\n",
       "      <td>12.109375</td>\n",
       "    </tr>\n",
       "  </tbody>\n",
       "</table>\n",
       "</div>"
      ],
      "text/plain": [
       "   grade loan_status_der  Number_by_loan_status     nrow  loan_perc\n",
       "0    NaN         Default                      0      NaN        NaN\n",
       "1      A         Default                    609  10183.0   5.980556\n",
       "2      A      Fully Paid                   9420  10183.0  92.507120\n",
       "3      A         Ongoing                    154  10183.0   1.512324\n",
       "4      B         Default                   1475  12389.0  11.905723\n",
       "5      B      Fully Paid                   9930  12389.0  80.151748\n",
       "6      B         Ongoing                    984  12389.0   7.942530\n",
       "7      C         Default                   1447   8741.0  16.554170\n",
       "8      C      Fully Paid                   6465   8741.0  73.961789\n",
       "9      C         Ongoing                    829   8741.0   9.484041\n",
       "10     D         Default                   1270   6016.0  21.110372\n",
       "11     D      Fully Paid                   4064   6016.0  67.553191\n",
       "12     D         Ongoing                    682   6016.0  11.336436\n",
       "13     E         Default                    833   3394.0  24.543312\n",
       "14     E      Fully Paid                   1958   3394.0  57.690041\n",
       "15     E         Ongoing                    603   3394.0  17.766647\n",
       "16     F         Default                    398   1301.0  30.591852\n",
       "17     F      Fully Paid                    661   1301.0  50.807071\n",
       "18     F         Ongoing                    242   1301.0  18.601076\n",
       "19     G         Default                    172    512.0  33.593750\n",
       "20     G      Fully Paid                    278    512.0  54.296875\n",
       "21     G         Ongoing                     62    512.0  12.109375"
      ]
     },
     "execution_count": 438,
     "metadata": {},
     "output_type": "execute_result"
    }
   ],
   "source": [
    "merged_df[:, \"loan_perc\"] = merged_df[:, \"Number_by_loan_status\"] / merged_df[:, \"nrow\"] * 100\n",
    "merged_df.as_data_frame()"
   ]
  },
  {
   "cell_type": "markdown",
   "metadata": {},
   "source": [
    "# Sorting"
   ]
  },
  {
   "cell_type": "code",
   "execution_count": 439,
   "metadata": {},
   "outputs": [
    {
     "data": {
      "text/html": [
       "<table>\n",
       "<thead>\n",
       "<tr><th>grade  </th><th>loan_status_der  </th><th style=\"text-align: right;\">  Number_by_loan_status</th><th style=\"text-align: right;\">  nrow</th><th style=\"text-align: right;\">  loan_perc</th></tr>\n",
       "</thead>\n",
       "<tbody>\n",
       "<tr><td>       </td><td>Default          </td><td style=\"text-align: right;\">                      0</td><td style=\"text-align: right;\">   nan</td><td style=\"text-align: right;\">  nan      </td></tr>\n",
       "<tr><td>A      </td><td>Default          </td><td style=\"text-align: right;\">                    609</td><td style=\"text-align: right;\"> 10183</td><td style=\"text-align: right;\">    5.98056</td></tr>\n",
       "<tr><td>A      </td><td>Fully Paid       </td><td style=\"text-align: right;\">                   9420</td><td style=\"text-align: right;\"> 10183</td><td style=\"text-align: right;\">   92.5071 </td></tr>\n",
       "<tr><td>A      </td><td>Ongoing          </td><td style=\"text-align: right;\">                    154</td><td style=\"text-align: right;\"> 10183</td><td style=\"text-align: right;\">    1.51232</td></tr>\n",
       "<tr><td>B      </td><td>Default          </td><td style=\"text-align: right;\">                   1475</td><td style=\"text-align: right;\"> 12389</td><td style=\"text-align: right;\">   11.9057 </td></tr>\n",
       "<tr><td>B      </td><td>Fully Paid       </td><td style=\"text-align: right;\">                   9930</td><td style=\"text-align: right;\"> 12389</td><td style=\"text-align: right;\">   80.1517 </td></tr>\n",
       "<tr><td>B      </td><td>Ongoing          </td><td style=\"text-align: right;\">                    984</td><td style=\"text-align: right;\"> 12389</td><td style=\"text-align: right;\">    7.94253</td></tr>\n",
       "<tr><td>C      </td><td>Default          </td><td style=\"text-align: right;\">                   1447</td><td style=\"text-align: right;\">  8741</td><td style=\"text-align: right;\">   16.5542 </td></tr>\n",
       "<tr><td>C      </td><td>Fully Paid       </td><td style=\"text-align: right;\">                   6465</td><td style=\"text-align: right;\">  8741</td><td style=\"text-align: right;\">   73.9618 </td></tr>\n",
       "<tr><td>C      </td><td>Ongoing          </td><td style=\"text-align: right;\">                    829</td><td style=\"text-align: right;\">  8741</td><td style=\"text-align: right;\">    9.48404</td></tr>\n",
       "</tbody>\n",
       "</table>"
      ]
     },
     "metadata": {},
     "output_type": "display_data"
    }
   ],
   "source": [
    "??merged_df.sort"
   ]
  },
  {
   "cell_type": "code",
   "execution_count": 440,
   "metadata": {},
   "outputs": [
    {
     "data": {
      "text/html": [
       "<div>\n",
       "<style scoped>\n",
       "    .dataframe tbody tr th:only-of-type {\n",
       "        vertical-align: middle;\n",
       "    }\n",
       "\n",
       "    .dataframe tbody tr th {\n",
       "        vertical-align: top;\n",
       "    }\n",
       "\n",
       "    .dataframe thead th {\n",
       "        text-align: right;\n",
       "    }\n",
       "</style>\n",
       "<table border=\"1\" class=\"dataframe\">\n",
       "  <thead>\n",
       "    <tr style=\"text-align: right;\">\n",
       "      <th></th>\n",
       "      <th>grade</th>\n",
       "      <th>loan_status_der</th>\n",
       "      <th>Number_by_loan_status</th>\n",
       "      <th>nrow</th>\n",
       "      <th>loan_perc</th>\n",
       "    </tr>\n",
       "  </thead>\n",
       "  <tbody>\n",
       "    <tr>\n",
       "      <th>0</th>\n",
       "      <td>NaN</td>\n",
       "      <td>Default</td>\n",
       "      <td>0</td>\n",
       "      <td>NaN</td>\n",
       "      <td>NaN</td>\n",
       "    </tr>\n",
       "    <tr>\n",
       "      <th>1</th>\n",
       "      <td>A</td>\n",
       "      <td>Default</td>\n",
       "      <td>609</td>\n",
       "      <td>10183.0</td>\n",
       "      <td>5.980556</td>\n",
       "    </tr>\n",
       "    <tr>\n",
       "      <th>2</th>\n",
       "      <td>A</td>\n",
       "      <td>Fully Paid</td>\n",
       "      <td>9420</td>\n",
       "      <td>10183.0</td>\n",
       "      <td>92.507120</td>\n",
       "    </tr>\n",
       "    <tr>\n",
       "      <th>3</th>\n",
       "      <td>A</td>\n",
       "      <td>Ongoing</td>\n",
       "      <td>154</td>\n",
       "      <td>10183.0</td>\n",
       "      <td>1.512324</td>\n",
       "    </tr>\n",
       "    <tr>\n",
       "      <th>4</th>\n",
       "      <td>B</td>\n",
       "      <td>Default</td>\n",
       "      <td>1475</td>\n",
       "      <td>12389.0</td>\n",
       "      <td>11.905723</td>\n",
       "    </tr>\n",
       "    <tr>\n",
       "      <th>5</th>\n",
       "      <td>B</td>\n",
       "      <td>Fully Paid</td>\n",
       "      <td>9930</td>\n",
       "      <td>12389.0</td>\n",
       "      <td>80.151748</td>\n",
       "    </tr>\n",
       "    <tr>\n",
       "      <th>6</th>\n",
       "      <td>B</td>\n",
       "      <td>Ongoing</td>\n",
       "      <td>984</td>\n",
       "      <td>12389.0</td>\n",
       "      <td>7.942530</td>\n",
       "    </tr>\n",
       "    <tr>\n",
       "      <th>7</th>\n",
       "      <td>C</td>\n",
       "      <td>Default</td>\n",
       "      <td>1447</td>\n",
       "      <td>8741.0</td>\n",
       "      <td>16.554170</td>\n",
       "    </tr>\n",
       "    <tr>\n",
       "      <th>8</th>\n",
       "      <td>C</td>\n",
       "      <td>Fully Paid</td>\n",
       "      <td>6465</td>\n",
       "      <td>8741.0</td>\n",
       "      <td>73.961789</td>\n",
       "    </tr>\n",
       "    <tr>\n",
       "      <th>9</th>\n",
       "      <td>C</td>\n",
       "      <td>Ongoing</td>\n",
       "      <td>829</td>\n",
       "      <td>8741.0</td>\n",
       "      <td>9.484041</td>\n",
       "    </tr>\n",
       "    <tr>\n",
       "      <th>10</th>\n",
       "      <td>D</td>\n",
       "      <td>Default</td>\n",
       "      <td>1270</td>\n",
       "      <td>6016.0</td>\n",
       "      <td>21.110372</td>\n",
       "    </tr>\n",
       "    <tr>\n",
       "      <th>11</th>\n",
       "      <td>D</td>\n",
       "      <td>Fully Paid</td>\n",
       "      <td>4064</td>\n",
       "      <td>6016.0</td>\n",
       "      <td>67.553191</td>\n",
       "    </tr>\n",
       "    <tr>\n",
       "      <th>12</th>\n",
       "      <td>D</td>\n",
       "      <td>Ongoing</td>\n",
       "      <td>682</td>\n",
       "      <td>6016.0</td>\n",
       "      <td>11.336436</td>\n",
       "    </tr>\n",
       "    <tr>\n",
       "      <th>13</th>\n",
       "      <td>E</td>\n",
       "      <td>Default</td>\n",
       "      <td>833</td>\n",
       "      <td>3394.0</td>\n",
       "      <td>24.543312</td>\n",
       "    </tr>\n",
       "    <tr>\n",
       "      <th>14</th>\n",
       "      <td>E</td>\n",
       "      <td>Fully Paid</td>\n",
       "      <td>1958</td>\n",
       "      <td>3394.0</td>\n",
       "      <td>57.690041</td>\n",
       "    </tr>\n",
       "    <tr>\n",
       "      <th>15</th>\n",
       "      <td>E</td>\n",
       "      <td>Ongoing</td>\n",
       "      <td>603</td>\n",
       "      <td>3394.0</td>\n",
       "      <td>17.766647</td>\n",
       "    </tr>\n",
       "    <tr>\n",
       "      <th>16</th>\n",
       "      <td>F</td>\n",
       "      <td>Default</td>\n",
       "      <td>398</td>\n",
       "      <td>1301.0</td>\n",
       "      <td>30.591852</td>\n",
       "    </tr>\n",
       "    <tr>\n",
       "      <th>17</th>\n",
       "      <td>F</td>\n",
       "      <td>Fully Paid</td>\n",
       "      <td>661</td>\n",
       "      <td>1301.0</td>\n",
       "      <td>50.807071</td>\n",
       "    </tr>\n",
       "    <tr>\n",
       "      <th>18</th>\n",
       "      <td>F</td>\n",
       "      <td>Ongoing</td>\n",
       "      <td>242</td>\n",
       "      <td>1301.0</td>\n",
       "      <td>18.601076</td>\n",
       "    </tr>\n",
       "    <tr>\n",
       "      <th>19</th>\n",
       "      <td>G</td>\n",
       "      <td>Default</td>\n",
       "      <td>172</td>\n",
       "      <td>512.0</td>\n",
       "      <td>33.593750</td>\n",
       "    </tr>\n",
       "    <tr>\n",
       "      <th>20</th>\n",
       "      <td>G</td>\n",
       "      <td>Fully Paid</td>\n",
       "      <td>278</td>\n",
       "      <td>512.0</td>\n",
       "      <td>54.296875</td>\n",
       "    </tr>\n",
       "    <tr>\n",
       "      <th>21</th>\n",
       "      <td>G</td>\n",
       "      <td>Ongoing</td>\n",
       "      <td>62</td>\n",
       "      <td>512.0</td>\n",
       "      <td>12.109375</td>\n",
       "    </tr>\n",
       "  </tbody>\n",
       "</table>\n",
       "</div>"
      ],
      "text/plain": [
       "   grade loan_status_der  Number_by_loan_status     nrow  loan_perc\n",
       "0    NaN         Default                      0      NaN        NaN\n",
       "1      A         Default                    609  10183.0   5.980556\n",
       "2      A      Fully Paid                   9420  10183.0  92.507120\n",
       "3      A         Ongoing                    154  10183.0   1.512324\n",
       "4      B         Default                   1475  12389.0  11.905723\n",
       "5      B      Fully Paid                   9930  12389.0  80.151748\n",
       "6      B         Ongoing                    984  12389.0   7.942530\n",
       "7      C         Default                   1447   8741.0  16.554170\n",
       "8      C      Fully Paid                   6465   8741.0  73.961789\n",
       "9      C         Ongoing                    829   8741.0   9.484041\n",
       "10     D         Default                   1270   6016.0  21.110372\n",
       "11     D      Fully Paid                   4064   6016.0  67.553191\n",
       "12     D         Ongoing                    682   6016.0  11.336436\n",
       "13     E         Default                    833   3394.0  24.543312\n",
       "14     E      Fully Paid                   1958   3394.0  57.690041\n",
       "15     E         Ongoing                    603   3394.0  17.766647\n",
       "16     F         Default                    398   1301.0  30.591852\n",
       "17     F      Fully Paid                    661   1301.0  50.807071\n",
       "18     F         Ongoing                    242   1301.0  18.601076\n",
       "19     G         Default                    172    512.0  33.593750\n",
       "20     G      Fully Paid                    278    512.0  54.296875\n",
       "21     G         Ongoing                     62    512.0  12.109375"
      ]
     },
     "execution_count": 440,
     "metadata": {},
     "output_type": "execute_result"
    }
   ],
   "source": [
    "merged_df.sort(by = [\"grade\"]).as_data_frame()"
   ]
  },
  {
   "cell_type": "code",
   "execution_count": 441,
   "metadata": {},
   "outputs": [],
   "source": [
    "import matplotlib.pyplot as plt"
   ]
  },
  {
   "cell_type": "code",
   "execution_count": 442,
   "metadata": {},
   "outputs": [
    {
     "data": {
      "text/plain": [
       "h2o.frame.H2OFrame"
      ]
     },
     "execution_count": 442,
     "metadata": {},
     "output_type": "execute_result"
    }
   ],
   "source": [
    "type(merged_df)"
   ]
  },
  {
   "cell_type": "markdown",
   "metadata": {},
   "source": [
    "# Logical Summary - all and any and also logical negation. It is equal to ~"
   ]
  },
  {
   "cell_type": "code",
   "execution_count": 443,
   "metadata": {},
   "outputs": [
    {
     "data": {
      "text/html": [
       "<table>\n",
       "<thead>\n",
       "<tr><th style=\"text-align: right;\">  not(loan_status_der)</th></tr>\n",
       "</thead>\n",
       "<tbody>\n",
       "<tr><td style=\"text-align: right;\">                     1</td></tr>\n",
       "<tr><td style=\"text-align: right;\">                     1</td></tr>\n",
       "<tr><td style=\"text-align: right;\">                     1</td></tr>\n",
       "<tr><td style=\"text-align: right;\">                     1</td></tr>\n",
       "<tr><td style=\"text-align: right;\">                     0</td></tr>\n",
       "<tr><td style=\"text-align: right;\">                     1</td></tr>\n",
       "<tr><td style=\"text-align: right;\">                     0</td></tr>\n",
       "<tr><td style=\"text-align: right;\">                     1</td></tr>\n",
       "<tr><td style=\"text-align: right;\">                     1</td></tr>\n",
       "<tr><td style=\"text-align: right;\">                     1</td></tr>\n",
       "</tbody>\n",
       "</table>"
      ]
     },
     "metadata": {},
     "output_type": "display_data"
    },
    {
     "data": {
      "text/plain": []
     },
     "execution_count": 443,
     "metadata": {},
     "output_type": "execute_result"
    }
   ],
   "source": [
    "(loans[\"loan_status_der\"] == \"Ongoing\").logical_negation()"
   ]
  },
  {
   "cell_type": "code",
   "execution_count": 444,
   "metadata": {},
   "outputs": [
    {
     "name": "stdout",
     "output_type": "stream",
     "text": [
      "True\n",
      "False\n"
     ]
    }
   ],
   "source": [
    "print((loans[\"loan_status_der\"] == \"Ongoing\").any())\n",
    "print((loans[\"loan_status_der\"] == \"Ongoing\").all())"
   ]
  },
  {
   "cell_type": "markdown",
   "metadata": {},
   "source": [
    "# Categorical Encoding"
   ]
  },
  {
   "cell_type": "code",
   "execution_count": 529,
   "metadata": {},
   "outputs": [
    {
     "data": {
      "text/html": [
       "<table>\n",
       "<thead>\n",
       "<tr><th>addr_state  </th></tr>\n",
       "</thead>\n",
       "<tbody>\n",
       "<tr><td>AZ          </td></tr>\n",
       "<tr><td>GA          </td></tr>\n",
       "<tr><td>IL          </td></tr>\n",
       "<tr><td>CA          </td></tr>\n",
       "<tr><td>OR          </td></tr>\n",
       "<tr><td>AZ          </td></tr>\n",
       "<tr><td>NC          </td></tr>\n",
       "<tr><td>CA          </td></tr>\n",
       "<tr><td>CA          </td></tr>\n",
       "<tr><td>TX          </td></tr>\n",
       "</tbody>\n",
       "</table>"
      ]
     },
     "metadata": {},
     "output_type": "display_data"
    },
    {
     "data": {
      "text/plain": []
     },
     "execution_count": 529,
     "metadata": {},
     "output_type": "execute_result"
    }
   ],
   "source": [
    "loans[\"addr_state\"].head()"
   ]
  },
  {
   "cell_type": "code",
   "execution_count": 530,
   "metadata": {},
   "outputs": [],
   "source": [
    "predictor = \"addr_state\"\n",
    "response  = \"loan_status_der\""
   ]
  },
  {
   "cell_type": "code",
   "execution_count": 531,
   "metadata": {},
   "outputs": [],
   "source": [
    "\n",
    "from h2o.targetencoder import TargetEncoder\n",
    "target_encoder = TargetEncoder(x=predictor, y=response,\n",
    "                               fold_column=\"fold\",\n",
    "                               blended_avg= True,\n",
    "                               inflection_point = 3,\n",
    "                               smoothing = 1,\n",
    "                               seed=1234)"
   ]
  },
  {
   "cell_type": "code",
   "execution_count": 532,
   "metadata": {},
   "outputs": [],
   "source": [
    "train, test= loans.split_frame(ratios= [0.7])"
   ]
  },
  {
   "cell_type": "code",
   "execution_count": 533,
   "metadata": {},
   "outputs": [
    {
     "ename": "H2OServerError",
     "evalue": "HTTP 500 Server Error:\nServer error java.lang.IllegalStateException:\n  Error: `target` must be a binary vector. We do not support multi-class target case for now\n  Request: None\n",
     "output_type": "error",
     "traceback": [
      "\u001b[0;31m---------------------------------------------------------------------------\u001b[0m",
      "\u001b[0;31mH2OServerError\u001b[0m                            Traceback (most recent call last)",
      "\u001b[0;32m<ipython-input-533-f0afbbbf5d65>\u001b[0m in \u001b[0;36m<module>\u001b[0;34m\u001b[0m\n\u001b[0;32m----> 1\u001b[0;31m \u001b[0mtarget_encoder\u001b[0m\u001b[0;34m.\u001b[0m\u001b[0mfit\u001b[0m\u001b[0;34m(\u001b[0m\u001b[0mtrain\u001b[0m\u001b[0;34m)\u001b[0m \u001b[0;31m#DOES NOT WORK FOR MULTI CLASS VARIABLE\u001b[0m\u001b[0;34m\u001b[0m\u001b[0m\n\u001b[0m",
      "\u001b[0;32m/Library/Frameworks/Python.framework/Versions/3.6/lib/python3.6/site-packages/h2o/targetencoder.py\u001b[0m in \u001b[0;36mfit\u001b[0;34m(self, frame)\u001b[0m\n\u001b[1;32m     99\u001b[0m \u001b[0;34m\u001b[0m\u001b[0m\n\u001b[1;32m    100\u001b[0m         self._encodingMap = ExprNode(\"target.encoder.fit\", frame, self._teColumns, self._responseColumnName,\n\u001b[0;32m--> 101\u001b[0;31m                                      self._foldColumnName)._eager_map_frame()\n\u001b[0m\u001b[1;32m    102\u001b[0m \u001b[0;34m\u001b[0m\u001b[0m\n\u001b[1;32m    103\u001b[0m         \u001b[0;32mreturn\u001b[0m \u001b[0mself\u001b[0m\u001b[0;34m.\u001b[0m\u001b[0m_encodingMap\u001b[0m\u001b[0;34m\u001b[0m\u001b[0m\n",
      "\u001b[0;32m/Library/Frameworks/Python.framework/Versions/3.6/lib/python3.6/site-packages/h2o/expr.py\u001b[0m in \u001b[0;36m_eager_map_frame\u001b[0;34m(self)\u001b[0m\n\u001b[1;32m    106\u001b[0m \u001b[0;34m\u001b[0m\u001b[0m\n\u001b[1;32m    107\u001b[0m     \u001b[0;32mdef\u001b[0m \u001b[0m_eager_map_frame\u001b[0m\u001b[0;34m(\u001b[0m\u001b[0mself\u001b[0m\u001b[0;34m)\u001b[0m\u001b[0;34m:\u001b[0m  \u001b[0;31m# returns a scalar (or a list of scalars)\u001b[0m\u001b[0;34m\u001b[0m\u001b[0m\n\u001b[0;32m--> 108\u001b[0;31m         \u001b[0mself\u001b[0m\u001b[0;34m.\u001b[0m\u001b[0m_eval_driver\u001b[0m\u001b[0;34m(\u001b[0m\u001b[0;32mFalse\u001b[0m\u001b[0;34m)\u001b[0m\u001b[0;34m\u001b[0m\u001b[0m\n\u001b[0m\u001b[1;32m    109\u001b[0m         \u001b[0;32mreturn\u001b[0m \u001b[0mself\u001b[0m\u001b[0;34m.\u001b[0m\u001b[0m_cache\u001b[0m\u001b[0;34m\u001b[0m\u001b[0m\n\u001b[1;32m    110\u001b[0m \u001b[0;34m\u001b[0m\u001b[0m\n",
      "\u001b[0;32m/Library/Frameworks/Python.framework/Versions/3.6/lib/python3.6/site-packages/h2o/expr.py\u001b[0m in \u001b[0;36m_eval_driver\u001b[0;34m(self, top)\u001b[0m\n\u001b[1;32m    111\u001b[0m     \u001b[0;32mdef\u001b[0m \u001b[0m_eval_driver\u001b[0m\u001b[0;34m(\u001b[0m\u001b[0mself\u001b[0m\u001b[0;34m,\u001b[0m \u001b[0mtop\u001b[0m\u001b[0;34m)\u001b[0m\u001b[0;34m:\u001b[0m\u001b[0;34m\u001b[0m\u001b[0m\n\u001b[1;32m    112\u001b[0m         \u001b[0mexec_str\u001b[0m \u001b[0;34m=\u001b[0m \u001b[0mself\u001b[0m\u001b[0;34m.\u001b[0m\u001b[0m_get_ast_str\u001b[0m\u001b[0;34m(\u001b[0m\u001b[0mtop\u001b[0m\u001b[0;34m)\u001b[0m\u001b[0;34m\u001b[0m\u001b[0m\n\u001b[0;32m--> 113\u001b[0;31m         \u001b[0mres\u001b[0m \u001b[0;34m=\u001b[0m \u001b[0mExprNode\u001b[0m\u001b[0;34m.\u001b[0m\u001b[0mrapids\u001b[0m\u001b[0;34m(\u001b[0m\u001b[0mexec_str\u001b[0m\u001b[0;34m)\u001b[0m\u001b[0;34m\u001b[0m\u001b[0m\n\u001b[0m\u001b[1;32m    114\u001b[0m         \u001b[0;32mif\u001b[0m \u001b[0;34m'scalar'\u001b[0m \u001b[0;32min\u001b[0m \u001b[0mres\u001b[0m\u001b[0;34m:\u001b[0m\u001b[0;34m\u001b[0m\u001b[0m\n\u001b[1;32m    115\u001b[0m             \u001b[0;32mif\u001b[0m \u001b[0misinstance\u001b[0m\u001b[0;34m(\u001b[0m\u001b[0mres\u001b[0m\u001b[0;34m[\u001b[0m\u001b[0;34m'scalar'\u001b[0m\u001b[0;34m]\u001b[0m\u001b[0;34m,\u001b[0m \u001b[0mlist\u001b[0m\u001b[0;34m)\u001b[0m\u001b[0;34m:\u001b[0m\u001b[0;34m\u001b[0m\u001b[0m\n",
      "\u001b[0;32m/Library/Frameworks/Python.framework/Versions/3.6/lib/python3.6/site-packages/h2o/expr.py\u001b[0m in \u001b[0;36mrapids\u001b[0;34m(expr)\u001b[0m\n\u001b[1;32m    239\u001b[0m         \u001b[0;34m:\u001b[0m\u001b[0mreturns\u001b[0m\u001b[0;34m:\u001b[0m \u001b[0mThe\u001b[0m \u001b[0mJSON\u001b[0m \u001b[0mresponse\u001b[0m \u001b[0;34m(\u001b[0m\u001b[0;32mas\u001b[0m \u001b[0ma\u001b[0m \u001b[0mpython\u001b[0m \u001b[0mdictionary\u001b[0m\u001b[0;34m)\u001b[0m \u001b[0mof\u001b[0m \u001b[0mthe\u001b[0m \u001b[0mRapids\u001b[0m \u001b[0mexecution\u001b[0m\u001b[0;34m\u001b[0m\u001b[0m\n\u001b[1;32m    240\u001b[0m         \"\"\"\n\u001b[0;32m--> 241\u001b[0;31m         \u001b[0;32mreturn\u001b[0m \u001b[0mh2o\u001b[0m\u001b[0;34m.\u001b[0m\u001b[0mapi\u001b[0m\u001b[0;34m(\u001b[0m\u001b[0;34m\"POST /99/Rapids\"\u001b[0m\u001b[0;34m,\u001b[0m \u001b[0mdata\u001b[0m\u001b[0;34m=\u001b[0m\u001b[0;34m{\u001b[0m\u001b[0;34m\"ast\"\u001b[0m\u001b[0;34m:\u001b[0m \u001b[0mexpr\u001b[0m\u001b[0;34m,\u001b[0m \u001b[0;34m\"session_id\"\u001b[0m\u001b[0;34m:\u001b[0m \u001b[0mh2o\u001b[0m\u001b[0;34m.\u001b[0m\u001b[0mconnection\u001b[0m\u001b[0;34m(\u001b[0m\u001b[0;34m)\u001b[0m\u001b[0;34m.\u001b[0m\u001b[0msession_id\u001b[0m\u001b[0;34m}\u001b[0m\u001b[0;34m)\u001b[0m\u001b[0;34m\u001b[0m\u001b[0m\n\u001b[0m\u001b[1;32m    242\u001b[0m \u001b[0;34m\u001b[0m\u001b[0m\n\u001b[1;32m    243\u001b[0m \u001b[0;34m\u001b[0m\u001b[0m\n",
      "\u001b[0;32m/Library/Frameworks/Python.framework/Versions/3.6/lib/python3.6/site-packages/h2o/h2o.py\u001b[0m in \u001b[0;36mapi\u001b[0;34m(endpoint, data, json, filename, save_to)\u001b[0m\n\u001b[1;32m    102\u001b[0m     \u001b[0;31m# type checks are performed in H2OConnection class\u001b[0m\u001b[0;34m\u001b[0m\u001b[0;34m\u001b[0m\u001b[0m\n\u001b[1;32m    103\u001b[0m     \u001b[0m_check_connection\u001b[0m\u001b[0;34m(\u001b[0m\u001b[0;34m)\u001b[0m\u001b[0;34m\u001b[0m\u001b[0m\n\u001b[0;32m--> 104\u001b[0;31m     \u001b[0;32mreturn\u001b[0m \u001b[0mh2oconn\u001b[0m\u001b[0;34m.\u001b[0m\u001b[0mrequest\u001b[0m\u001b[0;34m(\u001b[0m\u001b[0mendpoint\u001b[0m\u001b[0;34m,\u001b[0m \u001b[0mdata\u001b[0m\u001b[0;34m=\u001b[0m\u001b[0mdata\u001b[0m\u001b[0;34m,\u001b[0m \u001b[0mjson\u001b[0m\u001b[0;34m=\u001b[0m\u001b[0mjson\u001b[0m\u001b[0;34m,\u001b[0m \u001b[0mfilename\u001b[0m\u001b[0;34m=\u001b[0m\u001b[0mfilename\u001b[0m\u001b[0;34m,\u001b[0m \u001b[0msave_to\u001b[0m\u001b[0;34m=\u001b[0m\u001b[0msave_to\u001b[0m\u001b[0;34m)\u001b[0m\u001b[0;34m\u001b[0m\u001b[0m\n\u001b[0m\u001b[1;32m    105\u001b[0m \u001b[0;34m\u001b[0m\u001b[0m\n\u001b[1;32m    106\u001b[0m \u001b[0;34m\u001b[0m\u001b[0m\n",
      "\u001b[0;32m/Library/Frameworks/Python.framework/Versions/3.6/lib/python3.6/site-packages/h2o/backend/connection.py\u001b[0m in \u001b[0;36mrequest\u001b[0;34m(self, endpoint, data, json, filename, save_to)\u001b[0m\n\u001b[1;32m    431\u001b[0m                 \u001b[0msave_to\u001b[0m \u001b[0;34m=\u001b[0m \u001b[0msave_to\u001b[0m\u001b[0;34m(\u001b[0m\u001b[0mresp\u001b[0m\u001b[0;34m)\u001b[0m\u001b[0;34m\u001b[0m\u001b[0m\n\u001b[1;32m    432\u001b[0m             \u001b[0mself\u001b[0m\u001b[0;34m.\u001b[0m\u001b[0m_log_end_transaction\u001b[0m\u001b[0;34m(\u001b[0m\u001b[0mstart_time\u001b[0m\u001b[0;34m,\u001b[0m \u001b[0mresp\u001b[0m\u001b[0;34m)\u001b[0m\u001b[0;34m\u001b[0m\u001b[0m\n\u001b[0;32m--> 433\u001b[0;31m             \u001b[0;32mreturn\u001b[0m \u001b[0mself\u001b[0m\u001b[0;34m.\u001b[0m\u001b[0m_process_response\u001b[0m\u001b[0;34m(\u001b[0m\u001b[0mresp\u001b[0m\u001b[0;34m,\u001b[0m \u001b[0msave_to\u001b[0m\u001b[0;34m)\u001b[0m\u001b[0;34m\u001b[0m\u001b[0m\n\u001b[0m\u001b[1;32m    434\u001b[0m \u001b[0;34m\u001b[0m\u001b[0m\n\u001b[1;32m    435\u001b[0m         \u001b[0;32mexcept\u001b[0m \u001b[0;34m(\u001b[0m\u001b[0mrequests\u001b[0m\u001b[0;34m.\u001b[0m\u001b[0mexceptions\u001b[0m\u001b[0;34m.\u001b[0m\u001b[0mConnectionError\u001b[0m\u001b[0;34m,\u001b[0m \u001b[0mrequests\u001b[0m\u001b[0;34m.\u001b[0m\u001b[0mexceptions\u001b[0m\u001b[0;34m.\u001b[0m\u001b[0mHTTPError\u001b[0m\u001b[0;34m)\u001b[0m \u001b[0;32mas\u001b[0m \u001b[0me\u001b[0m\u001b[0;34m:\u001b[0m\u001b[0;34m\u001b[0m\u001b[0m\n",
      "\u001b[0;32m/Library/Frameworks/Python.framework/Versions/3.6/lib/python3.6/site-packages/h2o/backend/connection.py\u001b[0m in \u001b[0;36m_process_response\u001b[0;34m(response, save_to)\u001b[0m\n\u001b[1;32m    778\u001b[0m         \u001b[0;31m# Note that it is possible to receive valid H2OErrorV3 object in this case, however it merely means the server\u001b[0m\u001b[0;34m\u001b[0m\u001b[0;34m\u001b[0m\u001b[0m\n\u001b[1;32m    779\u001b[0m         \u001b[0;31m# did not provide the correct status code.\u001b[0m\u001b[0;34m\u001b[0m\u001b[0;34m\u001b[0m\u001b[0m\n\u001b[0;32m--> 780\u001b[0;31m         \u001b[0;32mraise\u001b[0m \u001b[0mH2OServerError\u001b[0m\u001b[0;34m(\u001b[0m\u001b[0;34m\"HTTP %d %s:\\n%r\"\u001b[0m \u001b[0;34m%\u001b[0m \u001b[0;34m(\u001b[0m\u001b[0mstatus_code\u001b[0m\u001b[0;34m,\u001b[0m \u001b[0mresponse\u001b[0m\u001b[0;34m.\u001b[0m\u001b[0mreason\u001b[0m\u001b[0;34m,\u001b[0m \u001b[0mdata\u001b[0m\u001b[0;34m)\u001b[0m\u001b[0;34m)\u001b[0m\u001b[0;34m\u001b[0m\u001b[0m\n\u001b[0m\u001b[1;32m    781\u001b[0m \u001b[0;34m\u001b[0m\u001b[0m\n\u001b[1;32m    782\u001b[0m \u001b[0;34m\u001b[0m\u001b[0m\n",
      "\u001b[0;31mH2OServerError\u001b[0m: HTTP 500 Server Error:\nServer error java.lang.IllegalStateException:\n  Error: `target` must be a binary vector. We do not support multi-class target case for now\n  Request: None\n"
     ]
    }
   ],
   "source": [
    "target_encoder.fit(train) #DOES NOT WORK FOR MULTI CLASS VARIABLE"
   ]
  },
  {
   "cell_type": "code",
   "execution_count": 534,
   "metadata": {},
   "outputs": [
    {
     "data": {
      "text/html": [
       "<table>\n",
       "<thead>\n",
       "<tr><th>C1        </th></tr>\n",
       "</thead>\n",
       "<tbody>\n",
       "<tr><td>Default   </td></tr>\n",
       "<tr><td>Fully Paid</td></tr>\n",
       "<tr><td>Ongoing   </td></tr>\n",
       "</tbody>\n",
       "</table>"
      ]
     },
     "metadata": {},
     "output_type": "display_data"
    },
    {
     "name": "stdout",
     "output_type": "stream",
     "text": [
      "\n"
     ]
    },
    {
     "data": {
      "text/html": [
       "<table>\n",
       "<thead>\n",
       "<tr><th>loan_status_der  </th><th style=\"text-align: right;\">  Count</th></tr>\n",
       "</thead>\n",
       "<tbody>\n",
       "<tr><td>Default          </td><td style=\"text-align: right;\">   6205</td></tr>\n",
       "<tr><td>Fully Paid       </td><td style=\"text-align: right;\">  32776</td></tr>\n",
       "<tr><td>Ongoing          </td><td style=\"text-align: right;\">   3556</td></tr>\n",
       "</tbody>\n",
       "</table>"
      ]
     },
     "metadata": {},
     "output_type": "display_data"
    },
    {
     "name": "stdout",
     "output_type": "stream",
     "text": [
      "\n"
     ]
    }
   ],
   "source": [
    "print(loans[:, \"loan_status_der\"].unique())\n",
    "print(loans[\"loan_status_der\"].table())\n",
    "loan_update = loans[\"loan_status_der\"].isin([\"Fully Paid\", \"Default\"])"
   ]
  },
  {
   "cell_type": "code",
   "execution_count": 535,
   "metadata": {},
   "outputs": [
    {
     "data": {
      "text/html": [
       "<table>\n",
       "<thead>\n",
       "<tr><th>loan_status_der  </th></tr>\n",
       "</thead>\n",
       "<tbody>\n",
       "<tr><td>Fully Paid       </td></tr>\n",
       "<tr><td>Default          </td></tr>\n",
       "<tr><td>Fully Paid       </td></tr>\n",
       "<tr><td>Fully Paid       </td></tr>\n",
       "<tr><td>Ongoing          </td></tr>\n",
       "<tr><td>Fully Paid       </td></tr>\n",
       "<tr><td>Ongoing          </td></tr>\n",
       "<tr><td>Fully Paid       </td></tr>\n",
       "<tr><td>Default          </td></tr>\n",
       "<tr><td>Default          </td></tr>\n",
       "</tbody>\n",
       "</table>"
      ]
     },
     "metadata": {},
     "output_type": "display_data"
    },
    {
     "name": "stdout",
     "output_type": "stream",
     "text": [
      "\n"
     ]
    },
    {
     "data": {
      "text/html": [
       "<table>\n",
       "<thead>\n",
       "<tr><th style=\"text-align: right;\">  C1</th></tr>\n",
       "</thead>\n",
       "<tbody>\n",
       "<tr><td style=\"text-align: right;\">   1</td></tr>\n",
       "<tr><td style=\"text-align: right;\">   1</td></tr>\n",
       "<tr><td style=\"text-align: right;\">   1</td></tr>\n",
       "<tr><td style=\"text-align: right;\">   1</td></tr>\n",
       "<tr><td style=\"text-align: right;\">   0</td></tr>\n",
       "<tr><td style=\"text-align: right;\">   1</td></tr>\n",
       "<tr><td style=\"text-align: right;\">   0</td></tr>\n",
       "<tr><td style=\"text-align: right;\">   1</td></tr>\n",
       "<tr><td style=\"text-align: right;\">   1</td></tr>\n",
       "<tr><td style=\"text-align: right;\">   1</td></tr>\n",
       "</tbody>\n",
       "</table>"
      ]
     },
     "metadata": {},
     "output_type": "display_data"
    },
    {
     "name": "stdout",
     "output_type": "stream",
     "text": [
      "\n"
     ]
    }
   ],
   "source": [
    "print(loans[\"loan_status_der\"])\n",
    "print(loan_update)"
   ]
  },
  {
   "cell_type": "code",
   "execution_count": 536,
   "metadata": {},
   "outputs": [
    {
     "name": "stdout",
     "output_type": "stream",
     "text": [
      "[42537, 53]\n",
      "[42537, 1]\n",
      "['C1']\n",
      "38981.0\n",
      "3556.0\n"
     ]
    }
   ],
   "source": [
    "print(loans.dim)\n",
    "print(loan_update.dim)\n",
    "print(loan_update.col_names)\n",
    "print(loan_update[\"C1\"].sum())\n",
    "print(loans.dim[0] - loan_update[\"C1\"].sum())"
   ]
  },
  {
   "cell_type": "code",
   "execution_count": 537,
   "metadata": {},
   "outputs": [
    {
     "name": "stdout",
     "output_type": "stream",
     "text": [
      "[38981, 53]\n",
      "<class 'h2o.frame.H2OFrame'>\n",
      "['id', 'member_id', 'loan_amnt', 'funded_amnt', 'funded_amnt_inv', 'term', 'int_rate', 'installment', 'grade', 'sub_grade', 'emp_title', 'emp_length', 'home_ownership', 'annual_inc', 'verification_status', 'issue_d', 'pymnt_plan', 'url', 'desc', 'purpose', 'title', 'zip_code', 'addr_state', 'dti', 'delinq_2yrs', 'earliest_cr_line', 'inq_last_6mths', 'mths_since_last_delinq', 'mths_since_last_record', 'open_acc', 'pub_rec', 'revol_bal', 'revol_util', 'total_acc', 'initial_list_status', 'out_prncp', 'out_prncp_inv', 'total_pymnt', 'total_pymnt_inv', 'total_rec_prncp', 'total_rec_int', 'total_rec_late_fee', 'recoveries', 'collection_recovery_fee', 'last_pymnt_d', 'last_pymnt_amnt', 'next_pymnt_d', 'last_credit_pull_d', 'collections_12_mths_ex_med', 'mths_since_last_major_derog', 'policy_code', 'Random_Column', 'loan_status_der']\n"
     ]
    },
    {
     "data": {
      "text/html": [
       "<table>\n",
       "<thead>\n",
       "<tr><th>C1        </th></tr>\n",
       "</thead>\n",
       "<tbody>\n",
       "<tr><td>Default   </td></tr>\n",
       "<tr><td>Fully Paid</td></tr>\n",
       "<tr><td>Ongoing   </td></tr>\n",
       "</tbody>\n",
       "</table>"
      ]
     },
     "metadata": {},
     "output_type": "display_data"
    },
    {
     "name": "stdout",
     "output_type": "stream",
     "text": [
      "\n"
     ]
    },
    {
     "data": {
      "text/html": [
       "<table>\n",
       "<thead>\n",
       "<tr><th>loan_status_der  </th><th style=\"text-align: right;\">  Count</th></tr>\n",
       "</thead>\n",
       "<tbody>\n",
       "<tr><td>Default          </td><td style=\"text-align: right;\">   6205</td></tr>\n",
       "<tr><td>Fully Paid       </td><td style=\"text-align: right;\">  32776</td></tr>\n",
       "</tbody>\n",
       "</table>"
      ]
     },
     "metadata": {},
     "output_type": "display_data"
    },
    {
     "name": "stdout",
     "output_type": "stream",
     "text": [
      "\n",
      "{'id': 'int', 'member_id': 'int', 'loan_amnt': 'int', 'funded_amnt': 'int', 'funded_amnt_inv': 'real', 'term': 'enum', 'int_rate': 'int', 'installment': 'real', 'grade': 'enum', 'sub_grade': 'enum', 'emp_title': 'enum', 'emp_length': 'enum', 'home_ownership': 'enum', 'annual_inc': 'real', 'verification_status': 'enum', 'issue_d': 'time', 'pymnt_plan': 'enum', 'url': 'string', 'desc': 'enum', 'purpose': 'enum', 'title': 'enum', 'zip_code': 'enum', 'addr_state': 'enum', 'dti': 'real', 'delinq_2yrs': 'int', 'earliest_cr_line': 'time', 'inq_last_6mths': 'int', 'mths_since_last_delinq': 'enum', 'mths_since_last_record': 'enum', 'open_acc': 'int', 'pub_rec': 'int', 'revol_bal': 'int', 'revol_util': 'enum', 'total_acc': 'int', 'initial_list_status': 'enum', 'out_prncp': 'real', 'out_prncp_inv': 'real', 'total_pymnt': 'real', 'total_pymnt_inv': 'real', 'total_rec_prncp': 'real', 'total_rec_int': 'real', 'total_rec_late_fee': 'real', 'recoveries': 'real', 'collection_recovery_fee': 'real', 'last_pymnt_d': 'time', 'last_pymnt_amnt': 'real', 'next_pymnt_d': 'time', 'last_credit_pull_d': 'time', 'collections_12_mths_ex_med': 'int', 'mths_since_last_major_derog': 'enum', 'policy_code': 'int', 'Random_Column': 'real', 'loan_status_der': 'enum'}\n"
     ]
    },
    {
     "data": {
      "text/html": [
       "<table>\n",
       "<thead>\n",
       "<tr><th>C1        </th></tr>\n",
       "</thead>\n",
       "<tbody>\n",
       "<tr><td>Default   </td></tr>\n",
       "<tr><td>Fully Paid</td></tr>\n",
       "<tr><td>Ongoing   </td></tr>\n",
       "</tbody>\n",
       "</table>"
      ]
     },
     "metadata": {},
     "output_type": "display_data"
    },
    {
     "name": "stdout",
     "output_type": "stream",
     "text": [
      "\n"
     ]
    }
   ],
   "source": [
    "loans_updated = loans[loan_update]\n",
    "print(loans_updated.dim)\n",
    "print(type(loans_updated))\n",
    "print(loans_updated.col_names)\n",
    "print(loans_updated[\"loan_status_der\"].unique())\n",
    "print(loans_updated[\"loan_status_der\"].table())\n",
    "print(loans_updated.types)\n",
    "print(loans_updated[\"loan_status_der\"].unique())\n"
   ]
  },
  {
   "cell_type": "code",
   "execution_count": 562,
   "metadata": {},
   "outputs": [
    {
     "name": "stdout",
     "output_type": "stream",
     "text": [
      "[42537, 53]\n"
     ]
    },
    {
     "data": {
      "text/html": [
       "<table>\n",
       "<thead>\n",
       "<tr><th>loan_status_der  </th><th style=\"text-align: right;\">  Count</th></tr>\n",
       "</thead>\n",
       "<tbody>\n",
       "<tr><td>Default          </td><td style=\"text-align: right;\">   6205</td></tr>\n",
       "<tr><td>Fully Paid       </td><td style=\"text-align: right;\">  32776</td></tr>\n",
       "<tr><td>Ongoing          </td><td style=\"text-align: right;\">   3556</td></tr>\n",
       "</tbody>\n",
       "</table>"
      ]
     },
     "metadata": {},
     "output_type": "display_data"
    },
    {
     "data": {
      "text/plain": []
     },
     "execution_count": 562,
     "metadata": {},
     "output_type": "execute_result"
    }
   ],
   "source": [
    "loans_updated_1 = loans\n",
    "print(loans_updated_1.dim)\n",
    "loans_updated_1[\"loan_status_der\"].table()"
   ]
  },
  {
   "cell_type": "code",
   "execution_count": 563,
   "metadata": {},
   "outputs": [],
   "source": [
    "loans_updated_1 = loans_updated_1[~(loans_updated_1[\"loan_status_der\"].isin([\"Fully Paid\", \"Default\"]))]"
   ]
  },
  {
   "cell_type": "code",
   "execution_count": 564,
   "metadata": {},
   "outputs": [
    {
     "data": {
      "text/plain": [
       "[3556, 1]"
      ]
     },
     "execution_count": 564,
     "metadata": {},
     "output_type": "execute_result"
    }
   ],
   "source": [
    "loans_updated_1[\"loan_status_der\"].dim"
   ]
  },
  {
   "cell_type": "code",
   "execution_count": null,
   "metadata": {},
   "outputs": [],
   "source": []
  },
  {
   "cell_type": "code",
   "execution_count": null,
   "metadata": {},
   "outputs": [],
   "source": []
  },
  {
   "cell_type": "code",
   "execution_count": 565,
   "metadata": {},
   "outputs": [
    {
     "name": "stdout",
     "output_type": "stream",
     "text": [
      "(38981, 1)\n",
      "(3556, 1)\n"
     ]
    }
   ],
   "source": [
    "print(loans_updated[\"loan_status_der\"].shape)\n",
    "print(loans_updated_1[\"loan_status_der\"].shape)"
   ]
  },
  {
   "cell_type": "code",
   "execution_count": 566,
   "metadata": {},
   "outputs": [
    {
     "data": {
      "text/html": [
       "<table>\n",
       "<thead>\n",
       "<tr><th>C1        </th></tr>\n",
       "</thead>\n",
       "<tbody>\n",
       "<tr><td>Default   </td></tr>\n",
       "<tr><td>Fully Paid</td></tr>\n",
       "<tr><td>Ongoing   </td></tr>\n",
       "</tbody>\n",
       "</table>"
      ]
     },
     "metadata": {},
     "output_type": "display_data"
    },
    {
     "name": "stdout",
     "output_type": "stream",
     "text": [
      "\n"
     ]
    },
    {
     "data": {
      "text/html": [
       "<table>\n",
       "<thead>\n",
       "<tr><th>C1        </th></tr>\n",
       "</thead>\n",
       "<tbody>\n",
       "<tr><td>Default   </td></tr>\n",
       "<tr><td>Fully Paid</td></tr>\n",
       "<tr><td>Ongoing   </td></tr>\n",
       "</tbody>\n",
       "</table>"
      ]
     },
     "metadata": {},
     "output_type": "display_data"
    },
    {
     "name": "stdout",
     "output_type": "stream",
     "text": [
      "\n"
     ]
    }
   ],
   "source": [
    "print(loans_updated[\"loan_status_der\"].unique())### THIS IS A BUG\n",
    "print(loans_updated_1[\"loan_status_der\"].unique())"
   ]
  },
  {
   "cell_type": "code",
   "execution_count": 548,
   "metadata": {},
   "outputs": [
    {
     "data": {
      "text/html": [
       "<table>\n",
       "<thead>\n",
       "<tr><th>loan_status_der  </th><th style=\"text-align: right;\">  Count</th></tr>\n",
       "</thead>\n",
       "<tbody>\n",
       "<tr><td>Default          </td><td style=\"text-align: right;\">   6205</td></tr>\n",
       "<tr><td>Fully Paid       </td><td style=\"text-align: right;\">  32776</td></tr>\n",
       "</tbody>\n",
       "</table>"
      ]
     },
     "metadata": {},
     "output_type": "display_data"
    },
    {
     "name": "stdout",
     "output_type": "stream",
     "text": [
      "\n"
     ]
    },
    {
     "data": {
      "text/html": [
       "<table>\n",
       "<thead>\n",
       "<tr><th>loan_status_der  </th><th style=\"text-align: right;\">  Count</th></tr>\n",
       "</thead>\n",
       "<tbody>\n",
       "<tr><td>Default          </td><td style=\"text-align: right;\">   6205</td></tr>\n",
       "<tr><td>Fully Paid       </td><td style=\"text-align: right;\">  32776</td></tr>\n",
       "</tbody>\n",
       "</table>"
      ]
     },
     "metadata": {},
     "output_type": "display_data"
    },
    {
     "name": "stdout",
     "output_type": "stream",
     "text": [
      "\n"
     ]
    }
   ],
   "source": [
    "print(loans_updated[\"loan_status_der\"].table())\n",
    "print(loans_updated_2[\"loan_status_der\"].table())"
   ]
  },
  {
   "cell_type": "code",
   "execution_count": 367,
   "metadata": {},
   "outputs": [
    {
     "data": {
      "text/plain": [
       "0.0"
      ]
     },
     "execution_count": 367,
     "metadata": {},
     "output_type": "execute_result"
    }
   ],
   "source": [
    "(loans_updated[\"loan_status_der\"] == \"Ongoing\").sum()"
   ]
  },
  {
   "cell_type": "code",
   "execution_count": 485,
   "metadata": {},
   "outputs": [
    {
     "data": {
      "text/html": [
       "<table>\n",
       "<thead>\n",
       "<tr><th>loan_status_der  </th></tr>\n",
       "</thead>\n",
       "<tbody>\n",
       "<tr><td>Fully Paid       </td></tr>\n",
       "<tr><td>Default          </td></tr>\n",
       "<tr><td>Fully Paid       </td></tr>\n",
       "<tr><td>Fully Paid       </td></tr>\n",
       "<tr><td>Fully Paid       </td></tr>\n",
       "<tr><td>Fully Paid       </td></tr>\n",
       "<tr><td>Default          </td></tr>\n",
       "<tr><td>Default          </td></tr>\n",
       "<tr><td>Fully Paid       </td></tr>\n",
       "<tr><td>Fully Paid       </td></tr>\n",
       "</tbody>\n",
       "</table>"
      ]
     },
     "metadata": {},
     "output_type": "display_data"
    },
    {
     "data": {
      "text/plain": []
     },
     "execution_count": 485,
     "metadata": {},
     "output_type": "execute_result"
    }
   ],
   "source": [
    "loans_updated[\"loan_status_der\"].nrows\n",
    "loans_updated[\"loan_status_der\"].asfactor()"
   ]
  },
  {
   "cell_type": "code",
   "execution_count": 512,
   "metadata": {},
   "outputs": [],
   "source": [
    "predictor = [\"addr_state\"]\n",
    "response  = [\"loan_status_der\"]"
   ]
  },
  {
   "cell_type": "code",
   "execution_count": 513,
   "metadata": {},
   "outputs": [],
   "source": [
    "from h2o.targetencoder import TargetEncoder\n",
    "target_encoder = TargetEncoder(x=predictor, y=response,\n",
    "                               fold_column=\"fold\",\n",
    "                               blended_avg= True,\n",
    "                               inflection_point = 3,\n",
    "                               smoothing = 1,\n",
    "                               seed=1234)"
   ]
  },
  {
   "cell_type": "code",
   "execution_count": 514,
   "metadata": {},
   "outputs": [
    {
     "data": {
      "text/html": [
       "<table>\n",
       "<thead>\n",
       "<tr><th>loan_status_der  </th><th style=\"text-align: right;\">  Count</th></tr>\n",
       "</thead>\n",
       "<tbody>\n",
       "<tr><td>Default          </td><td style=\"text-align: right;\">   4358</td></tr>\n",
       "<tr><td>Fully Paid       </td><td style=\"text-align: right;\">  22859</td></tr>\n",
       "<tr><td>Ongoing          </td><td style=\"text-align: right;\">   2496</td></tr>\n",
       "</tbody>\n",
       "</table>"
      ]
     },
     "metadata": {},
     "output_type": "display_data"
    },
    {
     "data": {
      "text/plain": []
     },
     "execution_count": 514,
     "metadata": {},
     "output_type": "execute_result"
    }
   ],
   "source": [
    "train, test= loans_updated.split_frame(ratios= [0.7])\n",
    "train[\"loan_status_der\"].table()\n"
   ]
  },
  {
   "cell_type": "code",
   "execution_count": 489,
   "metadata": {},
   "outputs": [
    {
     "ename": "H2OServerError",
     "evalue": "HTTP 500 Server Error:\nServer error java.lang.IllegalStateException:\n  Error: `target` must be a binary vector. We do not support multi-class target case for now\n  Request: None\n",
     "output_type": "error",
     "traceback": [
      "\u001b[0;31m---------------------------------------------------------------------------\u001b[0m",
      "\u001b[0;31mH2OServerError\u001b[0m                            Traceback (most recent call last)",
      "\u001b[0;32m<ipython-input-489-e30ac1991aa4>\u001b[0m in \u001b[0;36m<module>\u001b[0;34m\u001b[0m\n\u001b[0;32m----> 1\u001b[0;31m \u001b[0mtarget_encoder\u001b[0m\u001b[0;34m.\u001b[0m\u001b[0mfit\u001b[0m\u001b[0;34m(\u001b[0m\u001b[0mtrain\u001b[0m\u001b[0;34m)\u001b[0m\u001b[0;34m\u001b[0m\u001b[0m\n\u001b[0m",
      "\u001b[0;32m/Library/Frameworks/Python.framework/Versions/3.6/lib/python3.6/site-packages/h2o/targetencoder.py\u001b[0m in \u001b[0;36mfit\u001b[0;34m(self, frame)\u001b[0m\n\u001b[1;32m     99\u001b[0m \u001b[0;34m\u001b[0m\u001b[0m\n\u001b[1;32m    100\u001b[0m         self._encodingMap = ExprNode(\"target.encoder.fit\", frame, self._teColumns, self._responseColumnName,\n\u001b[0;32m--> 101\u001b[0;31m                                      self._foldColumnName)._eager_map_frame()\n\u001b[0m\u001b[1;32m    102\u001b[0m \u001b[0;34m\u001b[0m\u001b[0m\n\u001b[1;32m    103\u001b[0m         \u001b[0;32mreturn\u001b[0m \u001b[0mself\u001b[0m\u001b[0;34m.\u001b[0m\u001b[0m_encodingMap\u001b[0m\u001b[0;34m\u001b[0m\u001b[0m\n",
      "\u001b[0;32m/Library/Frameworks/Python.framework/Versions/3.6/lib/python3.6/site-packages/h2o/expr.py\u001b[0m in \u001b[0;36m_eager_map_frame\u001b[0;34m(self)\u001b[0m\n\u001b[1;32m    106\u001b[0m \u001b[0;34m\u001b[0m\u001b[0m\n\u001b[1;32m    107\u001b[0m     \u001b[0;32mdef\u001b[0m \u001b[0m_eager_map_frame\u001b[0m\u001b[0;34m(\u001b[0m\u001b[0mself\u001b[0m\u001b[0;34m)\u001b[0m\u001b[0;34m:\u001b[0m  \u001b[0;31m# returns a scalar (or a list of scalars)\u001b[0m\u001b[0;34m\u001b[0m\u001b[0m\n\u001b[0;32m--> 108\u001b[0;31m         \u001b[0mself\u001b[0m\u001b[0;34m.\u001b[0m\u001b[0m_eval_driver\u001b[0m\u001b[0;34m(\u001b[0m\u001b[0;32mFalse\u001b[0m\u001b[0;34m)\u001b[0m\u001b[0;34m\u001b[0m\u001b[0m\n\u001b[0m\u001b[1;32m    109\u001b[0m         \u001b[0;32mreturn\u001b[0m \u001b[0mself\u001b[0m\u001b[0;34m.\u001b[0m\u001b[0m_cache\u001b[0m\u001b[0;34m\u001b[0m\u001b[0m\n\u001b[1;32m    110\u001b[0m \u001b[0;34m\u001b[0m\u001b[0m\n",
      "\u001b[0;32m/Library/Frameworks/Python.framework/Versions/3.6/lib/python3.6/site-packages/h2o/expr.py\u001b[0m in \u001b[0;36m_eval_driver\u001b[0;34m(self, top)\u001b[0m\n\u001b[1;32m    111\u001b[0m     \u001b[0;32mdef\u001b[0m \u001b[0m_eval_driver\u001b[0m\u001b[0;34m(\u001b[0m\u001b[0mself\u001b[0m\u001b[0;34m,\u001b[0m \u001b[0mtop\u001b[0m\u001b[0;34m)\u001b[0m\u001b[0;34m:\u001b[0m\u001b[0;34m\u001b[0m\u001b[0m\n\u001b[1;32m    112\u001b[0m         \u001b[0mexec_str\u001b[0m \u001b[0;34m=\u001b[0m \u001b[0mself\u001b[0m\u001b[0;34m.\u001b[0m\u001b[0m_get_ast_str\u001b[0m\u001b[0;34m(\u001b[0m\u001b[0mtop\u001b[0m\u001b[0;34m)\u001b[0m\u001b[0;34m\u001b[0m\u001b[0m\n\u001b[0;32m--> 113\u001b[0;31m         \u001b[0mres\u001b[0m \u001b[0;34m=\u001b[0m \u001b[0mExprNode\u001b[0m\u001b[0;34m.\u001b[0m\u001b[0mrapids\u001b[0m\u001b[0;34m(\u001b[0m\u001b[0mexec_str\u001b[0m\u001b[0;34m)\u001b[0m\u001b[0;34m\u001b[0m\u001b[0m\n\u001b[0m\u001b[1;32m    114\u001b[0m         \u001b[0;32mif\u001b[0m \u001b[0;34m'scalar'\u001b[0m \u001b[0;32min\u001b[0m \u001b[0mres\u001b[0m\u001b[0;34m:\u001b[0m\u001b[0;34m\u001b[0m\u001b[0m\n\u001b[1;32m    115\u001b[0m             \u001b[0;32mif\u001b[0m \u001b[0misinstance\u001b[0m\u001b[0;34m(\u001b[0m\u001b[0mres\u001b[0m\u001b[0;34m[\u001b[0m\u001b[0;34m'scalar'\u001b[0m\u001b[0;34m]\u001b[0m\u001b[0;34m,\u001b[0m \u001b[0mlist\u001b[0m\u001b[0;34m)\u001b[0m\u001b[0;34m:\u001b[0m\u001b[0;34m\u001b[0m\u001b[0m\n",
      "\u001b[0;32m/Library/Frameworks/Python.framework/Versions/3.6/lib/python3.6/site-packages/h2o/expr.py\u001b[0m in \u001b[0;36mrapids\u001b[0;34m(expr)\u001b[0m\n\u001b[1;32m    239\u001b[0m         \u001b[0;34m:\u001b[0m\u001b[0mreturns\u001b[0m\u001b[0;34m:\u001b[0m \u001b[0mThe\u001b[0m \u001b[0mJSON\u001b[0m \u001b[0mresponse\u001b[0m \u001b[0;34m(\u001b[0m\u001b[0;32mas\u001b[0m \u001b[0ma\u001b[0m \u001b[0mpython\u001b[0m \u001b[0mdictionary\u001b[0m\u001b[0;34m)\u001b[0m \u001b[0mof\u001b[0m \u001b[0mthe\u001b[0m \u001b[0mRapids\u001b[0m \u001b[0mexecution\u001b[0m\u001b[0;34m\u001b[0m\u001b[0m\n\u001b[1;32m    240\u001b[0m         \"\"\"\n\u001b[0;32m--> 241\u001b[0;31m         \u001b[0;32mreturn\u001b[0m \u001b[0mh2o\u001b[0m\u001b[0;34m.\u001b[0m\u001b[0mapi\u001b[0m\u001b[0;34m(\u001b[0m\u001b[0;34m\"POST /99/Rapids\"\u001b[0m\u001b[0;34m,\u001b[0m \u001b[0mdata\u001b[0m\u001b[0;34m=\u001b[0m\u001b[0;34m{\u001b[0m\u001b[0;34m\"ast\"\u001b[0m\u001b[0;34m:\u001b[0m \u001b[0mexpr\u001b[0m\u001b[0;34m,\u001b[0m \u001b[0;34m\"session_id\"\u001b[0m\u001b[0;34m:\u001b[0m \u001b[0mh2o\u001b[0m\u001b[0;34m.\u001b[0m\u001b[0mconnection\u001b[0m\u001b[0;34m(\u001b[0m\u001b[0;34m)\u001b[0m\u001b[0;34m.\u001b[0m\u001b[0msession_id\u001b[0m\u001b[0;34m}\u001b[0m\u001b[0;34m)\u001b[0m\u001b[0;34m\u001b[0m\u001b[0m\n\u001b[0m\u001b[1;32m    242\u001b[0m \u001b[0;34m\u001b[0m\u001b[0m\n\u001b[1;32m    243\u001b[0m \u001b[0;34m\u001b[0m\u001b[0m\n",
      "\u001b[0;32m/Library/Frameworks/Python.framework/Versions/3.6/lib/python3.6/site-packages/h2o/h2o.py\u001b[0m in \u001b[0;36mapi\u001b[0;34m(endpoint, data, json, filename, save_to)\u001b[0m\n\u001b[1;32m    102\u001b[0m     \u001b[0;31m# type checks are performed in H2OConnection class\u001b[0m\u001b[0;34m\u001b[0m\u001b[0;34m\u001b[0m\u001b[0m\n\u001b[1;32m    103\u001b[0m     \u001b[0m_check_connection\u001b[0m\u001b[0;34m(\u001b[0m\u001b[0;34m)\u001b[0m\u001b[0;34m\u001b[0m\u001b[0m\n\u001b[0;32m--> 104\u001b[0;31m     \u001b[0;32mreturn\u001b[0m \u001b[0mh2oconn\u001b[0m\u001b[0;34m.\u001b[0m\u001b[0mrequest\u001b[0m\u001b[0;34m(\u001b[0m\u001b[0mendpoint\u001b[0m\u001b[0;34m,\u001b[0m \u001b[0mdata\u001b[0m\u001b[0;34m=\u001b[0m\u001b[0mdata\u001b[0m\u001b[0;34m,\u001b[0m \u001b[0mjson\u001b[0m\u001b[0;34m=\u001b[0m\u001b[0mjson\u001b[0m\u001b[0;34m,\u001b[0m \u001b[0mfilename\u001b[0m\u001b[0;34m=\u001b[0m\u001b[0mfilename\u001b[0m\u001b[0;34m,\u001b[0m \u001b[0msave_to\u001b[0m\u001b[0;34m=\u001b[0m\u001b[0msave_to\u001b[0m\u001b[0;34m)\u001b[0m\u001b[0;34m\u001b[0m\u001b[0m\n\u001b[0m\u001b[1;32m    105\u001b[0m \u001b[0;34m\u001b[0m\u001b[0m\n\u001b[1;32m    106\u001b[0m \u001b[0;34m\u001b[0m\u001b[0m\n",
      "\u001b[0;32m/Library/Frameworks/Python.framework/Versions/3.6/lib/python3.6/site-packages/h2o/backend/connection.py\u001b[0m in \u001b[0;36mrequest\u001b[0;34m(self, endpoint, data, json, filename, save_to)\u001b[0m\n\u001b[1;32m    431\u001b[0m                 \u001b[0msave_to\u001b[0m \u001b[0;34m=\u001b[0m \u001b[0msave_to\u001b[0m\u001b[0;34m(\u001b[0m\u001b[0mresp\u001b[0m\u001b[0;34m)\u001b[0m\u001b[0;34m\u001b[0m\u001b[0m\n\u001b[1;32m    432\u001b[0m             \u001b[0mself\u001b[0m\u001b[0;34m.\u001b[0m\u001b[0m_log_end_transaction\u001b[0m\u001b[0;34m(\u001b[0m\u001b[0mstart_time\u001b[0m\u001b[0;34m,\u001b[0m \u001b[0mresp\u001b[0m\u001b[0;34m)\u001b[0m\u001b[0;34m\u001b[0m\u001b[0m\n\u001b[0;32m--> 433\u001b[0;31m             \u001b[0;32mreturn\u001b[0m \u001b[0mself\u001b[0m\u001b[0;34m.\u001b[0m\u001b[0m_process_response\u001b[0m\u001b[0;34m(\u001b[0m\u001b[0mresp\u001b[0m\u001b[0;34m,\u001b[0m \u001b[0msave_to\u001b[0m\u001b[0;34m)\u001b[0m\u001b[0;34m\u001b[0m\u001b[0m\n\u001b[0m\u001b[1;32m    434\u001b[0m \u001b[0;34m\u001b[0m\u001b[0m\n\u001b[1;32m    435\u001b[0m         \u001b[0;32mexcept\u001b[0m \u001b[0;34m(\u001b[0m\u001b[0mrequests\u001b[0m\u001b[0;34m.\u001b[0m\u001b[0mexceptions\u001b[0m\u001b[0;34m.\u001b[0m\u001b[0mConnectionError\u001b[0m\u001b[0;34m,\u001b[0m \u001b[0mrequests\u001b[0m\u001b[0;34m.\u001b[0m\u001b[0mexceptions\u001b[0m\u001b[0;34m.\u001b[0m\u001b[0mHTTPError\u001b[0m\u001b[0;34m)\u001b[0m \u001b[0;32mas\u001b[0m \u001b[0me\u001b[0m\u001b[0;34m:\u001b[0m\u001b[0;34m\u001b[0m\u001b[0m\n",
      "\u001b[0;32m/Library/Frameworks/Python.framework/Versions/3.6/lib/python3.6/site-packages/h2o/backend/connection.py\u001b[0m in \u001b[0;36m_process_response\u001b[0;34m(response, save_to)\u001b[0m\n\u001b[1;32m    778\u001b[0m         \u001b[0;31m# Note that it is possible to receive valid H2OErrorV3 object in this case, however it merely means the server\u001b[0m\u001b[0;34m\u001b[0m\u001b[0;34m\u001b[0m\u001b[0m\n\u001b[1;32m    779\u001b[0m         \u001b[0;31m# did not provide the correct status code.\u001b[0m\u001b[0;34m\u001b[0m\u001b[0;34m\u001b[0m\u001b[0m\n\u001b[0;32m--> 780\u001b[0;31m         \u001b[0;32mraise\u001b[0m \u001b[0mH2OServerError\u001b[0m\u001b[0;34m(\u001b[0m\u001b[0;34m\"HTTP %d %s:\\n%r\"\u001b[0m \u001b[0;34m%\u001b[0m \u001b[0;34m(\u001b[0m\u001b[0mstatus_code\u001b[0m\u001b[0;34m,\u001b[0m \u001b[0mresponse\u001b[0m\u001b[0;34m.\u001b[0m\u001b[0mreason\u001b[0m\u001b[0;34m,\u001b[0m \u001b[0mdata\u001b[0m\u001b[0;34m)\u001b[0m\u001b[0;34m)\u001b[0m\u001b[0;34m\u001b[0m\u001b[0m\n\u001b[0m\u001b[1;32m    781\u001b[0m \u001b[0;34m\u001b[0m\u001b[0m\n\u001b[1;32m    782\u001b[0m \u001b[0;34m\u001b[0m\u001b[0m\n",
      "\u001b[0;31mH2OServerError\u001b[0m: HTTP 500 Server Error:\nServer error java.lang.IllegalStateException:\n  Error: `target` must be a binary vector. We do not support multi-class target case for now\n  Request: None\n"
     ]
    }
   ],
   "source": [
    "target_encoder.fit(train)"
   ]
  },
  {
   "cell_type": "code",
   "execution_count": null,
   "metadata": {},
   "outputs": [],
   "source": []
  }
 ],
 "metadata": {
  "kernelspec": {
   "display_name": "Python 3",
   "language": "python",
   "name": "python3"
  },
  "language_info": {
   "codemirror_mode": {
    "name": "ipython",
    "version": 3
   },
   "file_extension": ".py",
   "mimetype": "text/x-python",
   "name": "python",
   "nbconvert_exporter": "python",
   "pygments_lexer": "ipython3",
   "version": "3.6.0"
  }
 },
 "nbformat": 4,
 "nbformat_minor": 2
}
